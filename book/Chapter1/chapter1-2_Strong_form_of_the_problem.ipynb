{
 "cells": [
  {
   "cell_type": "markdown",
   "metadata": {},
   "source": [
    "# Strong form of the problem\n",
    "\n",
    "One of the key aspects of the FE method is that we express the set of governing equations in a [*weak form*](./chapter1-3_Weak_form_of_the_problem.md), also known as the *variational* form. Before deriving the *weak form* of the problem we need to state the set of governing equations (PDEs) with appropriate boundary and initial conditions that describe the physics of the solution. This is what we understand as the *strong form*. Solving the strong form of the problem leads to the exact solution of the continuous system.\n",
    "\n",
    "At this point, let's take as an example the one dimensional Poisson equation to illustrate at first the so-called strong form of the problem:\n",
    "\n",
    "$$\n",
    "-\\frac{\\partial}{\\partial x} \\left(\\nu \\frac{\\partial u(x)}{{\\partial x}}\\right) = f(x)\n",
    "$$ (1Dpoissonequation)\n",
    "\n",
    "where $\\nu(x)$ is a material property, $u(x)$ the solution and $f(x)$ a source, all of which can depend on the coordinate $x$. To simplify notation we will ommit the $x$-dependence and write $\\nu$, $u$ and $f$ in what follows.\n",
    "\n",
    "Equation {eq}`1Dpoissonequation` can be used to express various physical phenomena such as steady-state heat conduction, elastic deformation of a rod or flow in a permeable media (such as Darcy’s law).\n",
    "\n",
    "In a general form, the Poisson equation can be written as follows: \n",
    "\n",
    "$$ \n",
    "−(∇ \\cdot q) + f = 0 \n",
    "$$ (generalpoisson)\n",
    "\n",
    "where $(\\nabla \\cdot )$ is the divergence operator and $q$ is a flux vector, of which the definition depends on the problem at hand. In the case of heat conductivity, $q$ is the heat flux vector, while in Darcy’s law, $q$ is the flow rate. The typical constitutive relationship between the flux $q$ and the unkown solution $u$ is given by:\n",
    "\n",
    "$$ \n",
    "q= - \\kappa  ∇ u \n",
    "$$ (consitutive)\n",
    "\n",
    "Note that the solution $u$ can either be a scalar function, such as heat, or a vector function. In the case of linear heat conduction, for instance, the scalar $u$ in the above equation is the temperature. In the case of a structural problem, $u$ can also be the displacement. For Darcy’s law, $u$ is the hydraulic head. \n",
    "\n",
    "Keep in mind that the constitutive relationship always depends on the problem being solved and $ \\kappa $ can take different meanings. for the heat equation, $\\kappa$ is the thermal conductivity while for Darcy’s law $ \\kappa $ is known as the hydraulic conductivity. In a general form, $ \\kappa $ is an anisotropic tensor, therefore, using an index notation the general form of flux is:\n",
    "\n",
    "$$\n",
    "q_i= - \\kappa_{i,j}  u_{,j}\n",
    "$$ (flux)\n",
    "\n",
    "where the notation $u_{,j}$ denotes the derivative of $u$ along the $j$-th coordinate. For an isotropic medium,\n",
    "\n",
    "$$\n",
    "\\kappa = k I\n",
    "$$ (kappaforisotropy)\n",
    "\n",
    "## The strong form of the linear elastic rod\n",
    "Now, let's consider an example of a one-dimensional bar to apply the Poisson equation. \n",
    "\n",
    "```{figure} .././images/Chapter1/1_5_1.png\n",
    "---\n",
    "height: 200px\n",
    "name: 1_5_1\n",
    "---\n",
    "One dimensional bar\n",
    "```\n",
    "\n",
    "An application of the Poisson equation is the extension of one-dimensional structural elements. Let us consider a horizontal steel bar with a stiffness $EA = 1.0 \\cdot 10^3$ kN with a load applied at the right side of $10$ kN and a length of $5$ m and a distributed load along its length $q(x)$. This equilibrium problem can be described with the following differential equation:\n",
    "\n",
    "\n",
    "$$\n",
    "-EA \\frac{\\partial^{2} u}{{\\partial x}^{2}} = q(x)\n",
    "$$ (1dpoisson)\n",
    "\n",
    "where $u$ is the displacement of the bar as function of location $x$. \n",
    "\n",
    "As can be seen, the form of this equation is exactly the same as the 1D Poisson equation shown above. The only difference is in the physical interpretation of $u$ and $q$ and that instead of the constant $\\nu$ we use the constant $EA$ (Young's modulus $E$ times cross section area $A$) to describe the stiffness.  \n"
   ]
  },
  {
   "cell_type": "markdown",
   "metadata": {},
   "source": []
  }
 ],
 "metadata": {
  "kernelspec": {
   "display_name": "Python 3",
   "language": "python",
   "name": "python3"
  },
  "language_info": {
   "codemirror_mode": {
    "name": "ipython",
    "version": 3
   },
   "file_extension": ".py",
   "mimetype": "text/x-python",
   "name": "python",
   "nbconvert_exporter": "python",
   "pygments_lexer": "ipython3",
   "version": "3.11.1"
  },
  "orig_nbformat": 4
 },
 "nbformat": 4,
 "nbformat_minor": 2
}
