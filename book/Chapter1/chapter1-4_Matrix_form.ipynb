{
 "cells": [
  {
   "cell_type": "markdown",
   "metadata": {},
   "source": [
    "# Matrix form \n",
    "\n",
    "In equations {eq}(global_integral_matrix) and {eq}(global_integral_vector) we still had a global integral and the product of all shape functions $N_i$ with all other shape functions $N_j$. However, we can make use of the fact that every individual shape function (and hence its derivatives) is equal to zero for the largest part of the domain, only different from zero at the set of elements attach to the corresponding node. Moreover, we can always split the integral in a sum of integrals over subdomains. Then, since the pice-wise polynomials are defined on each element $\\Omega_k$, it is useful to select these subdomains as the **elements** of the mesh.\n",
    "\n",
    "## Elemental matrix and vector\n",
    " \n",
    "We can then define the element stiffness matrix considering only those shape functions that are active in the element. \n",
    "\n",
    "```{figure} .././images/Chapter1/1_4_4.png\n",
    "---\n",
    "height: 200px\n",
    "name: 1_4_4\n",
    "---\n",
    "Linear two-node element\n",
    "```\n",
    "\n",
    "Using piece-wise linear shape functions, we have that for a given element $k$, the shape functions associated to nodes $a$ and $b$ are:\n",
    "\n",
    "$$ N_a(x) = \\frac{x_b-x}{x_b-x_a}=\\frac{x_b-x}{\\Delta x}, \\quad N_b(x)=\\frac{x-x_a}{x_b-x_a}=\\frac{x-x_a}{\\Delta x},\n",
    "$$\n",
    "\n",
    "where $x_a$ and $x_b$ are the $x$-coordinates of the two nodes of the element. \n",
    "\n",
    "This elemental shape function matrix $\\mathbf{N}=\\left[N_a\\ \\ N_b\\right]$ can be defined as a python function. It can be convenient to work with local coordinates, which can be generalized to the concept of iso-parametric mapping, see [Appendix 1.1](./Appendices/appendix1-1_Isoparametric_element_in_1D.md). Here, we work with local coordinates $x_\\text{local} = x-x_a$:"
   ]
  },
  {
   "cell_type": "code",
   "execution_count": null,
   "metadata": {
    "tags": [
     "remove-cell"
    ]
   },
   "outputs": [],
   "source": [
    "import numpy as np\n",
    "import matplotlib.pyplot as plt"
   ]
  },
  {
   "cell_type": "code",
   "execution_count": null,
   "metadata": {
    "tags": [
     "hide-output"
    ]
   },
   "outputs": [],
   "source": [
    "# Returns the evaluated N matrix\n",
    "# - The local coordinate of evaluation \"x_local\"\n",
    "# - The element size \"dx\"\n",
    "def evaluate_N(x_local, dx):\n",
    "    return np.array([[1-x_local/dx, x_local/dx]])"
   ]
  },
  {
   "cell_type": "markdown",
   "metadata": {},
   "source": [
    "We can also define the shape functions derivative, which for piece-wise linear functions is:\n",
    "\n",
    "$$\\frac{\\partial N_a}{\\partial x}(x)=\\frac{-1}{\\Delta x},\\quad \\frac{\\partial N_b}{\\partial x}(x)=\\frac{1}{\\Delta x}.\n",
    "$$\n",
    "\n",
    "If we introduce the $\\mathbf{B}$ matrix (size $1\\times 2$) to collect the derivatives of the shape functions in the element, we can write the element stiffness matrix as:\n",
    "\n",
    "$$ \\mathbf{K}_e = \\int_{x_a}^{x_b} \\mathbf{B}^T EA \\mathbf{B} \\,dx. $$\n",
    "\n",
    "For the 1D element with linear shape functions, $\\mathbf{B}$ is defined as: \n",
    "\n",
    "$$\\mathbf{B} = \\left[\\begin{matrix}\\frac{-1}{\\Delta x} & \\frac{1}{\\Delta x}\\end{matrix}\\right]$$\n",
    "\n",
    "with $\\Delta x = x_b-x_a$. Note that for the linear shape functions, $\\mathbf{B}$ is constant over the element. In general, that is not always the case."
   ]
  },
  {
   "cell_type": "code",
   "execution_count": null,
   "metadata": {},
   "outputs": [],
   "source": [
    "# Returns the evaluated B vector\n",
    "# - The local coordinate of evaluation \"x_local\"\n",
    "# - The element size \"dx\"\n",
    "def evaluate_B(x_local, dx):\n",
    "    return np.array([[-1/dx, 1/dx]])"
   ]
  },
  {
   "cell_type": "markdown",
   "metadata": {},
   "source": [
    "Assuming a constant $EA$, evaluating the integrand over the element domain results in:\n",
    "\n",
    "$$ \\mathbf{K}_e = \\frac{EA}{\\Delta x}\\left[\\begin{matrix}1 & -1 \\\\ -1 & 1\\end{matrix}\\right].$$ (element_matrix)\n",
    "\n",
    "We can also define a python function to compute the elemental stiffness matrix. Here we make use of numerical integration, see [Appendix 1.2](./Appendices/appendix1-2_Numerical_Integration.md). For this specific case numerical integration is not necessary because we integrate a constant. However, for more complex shape functions, this is the most efficient approach."
   ]
  },
  {
   "cell_type": "code",
   "execution_count": null,
   "metadata": {
    "tags": [
     "hide-output"
    ]
   },
   "outputs": [],
   "source": [
    "# Returning the stiffness matrix of a single element\n",
    "# - The stiffness of the bar \"EA\"\n",
    "# - The length of an element \"dx\"\n",
    "def get_element_matrix(EA, dx):\n",
    "    \n",
    "    # Defining integration locations and weights\n",
    "    integration_locations = [(dx - dx/(3**0.5))/2, (dx + dx/(3**0.5))/2]\n",
    "    integration_weights = [dx/2, dx/2]\n",
    "    n_ip = len(integration_weights)\n",
    "\n",
    "    \n",
    "    # Setting up the local element stiffness matrix\n",
    "    n_node = 2\n",
    "    K_loc = np.zeros((n_node,n_node))\n",
    "\n",
    "    # Evaluation of the stiffness matrix in a loop over integration points\n",
    "    for x_ip, w_ip in zip(integration_locations, integration_weights):\n",
    "        B = evaluate_B(x_ip, dx)\n",
    "        K_loc += EA*np.dot(np.transpose(B), B)*w_ip\n",
    "\n",
    "    return K_loc"
   ]
  },
  {
   "cell_type": "markdown",
   "metadata": {},
   "source": [
    "Similarly, for an element not attached to the boundary nodes, the elemental force vector is\n",
    "\n",
    "$$ \\mathbf{f}_e = \\int_{x_a}^{x_b} \\mathbf{N}^T q \\,dx. $$\n"
   ]
  },
  {
   "cell_type": "code",
   "execution_count": null,
   "metadata": {},
   "outputs": [],
   "source": [
    "# Returning the force vector of a single element (distrubted load only)\n",
    "# - The magnitude of the distributed load \"q\"\n",
    "# - The length of the element \"dx\"\n",
    "def get_element_force(q, dx):\n",
    "    # Creating a matrix with the required size\n",
    "    n_node = 2\n",
    "    N = np.zeros((1,n_node))    # Defining in 2 dimensions is nessecary for transpose\n",
    "    \n",
    "    # Defining integration locations and weights\n",
    "    integration_locations = [(dx - dx/(3**0.5))/2, (dx + dx/(3**0.5))/2]\n",
    "    integration_weights = [dx/2, dx/2]\n",
    "    \n",
    "    # Setting up the local element force vector\n",
    "    f_loc = np.zeros((n_node,1))\n",
    "    \n",
    "    for x_ip, w_ip in zip(integration_locations, integration_weights):\n",
    "        N = evaluate_N(x_ip,dx)\n",
    "        f_loc += np.transpose(N)*q*w_ip\n",
    "\n",
    "    return f_loc"
   ]
  },
  {
   "cell_type": "markdown",
   "metadata": {},
   "source": [
    "## Global matrix and vector\n",
    "\n",
    "Once each elemental matrix is defined, we need to assemble the elemental contributions to the corresponding entries of the final system matrix. \n",
    "\n",
    "To showcase this step we discretize the rod with three equal elements of $1$ meter. To stay organized we give each element and node a number. As you can see in the figure below, there are 4 nodes, numbered $n_0$ to $n_3$ and 3 elements numbered $e_0$ to $e_2$.\n",
    "\n",
    "```{figure} .././images/Chapter1/1_2_2.png\n",
    "---\n",
    "height: 200px\n",
    "name: 1_2_2\n",
    "---\n",
    "One dimensional multielement bar\n",
    "```\n",
    "\n",
    "In the physical interpretation of solving mechanical equilibrium in a bar, we can interpret the result of the product $\\mathbf{K}_e\\mathbf{u}$ as forces coming from the element. Using the \"local\" stiffness formulation as shown above we can acquire the forces exerted on a node by an element as a function of the displacement. We will in this example have four nodes and therefore four unknowns. Let us consider the forces excerted by the second element ($e2$):\n",
    "\n",
    "$$\n",
    "\\left[\\begin{matrix}f_1^{e2} \\\\ f_2^{e2} \\\\ f_3^{e2} \\\\ f_4^{e2}\\end{matrix}\\right] = \\frac{EA}{\\Delta x}\\left[\\begin{matrix}0 & 0 & 0 & 0 \\\\ 0 & 1 & -1 & 0 \\\\ 0 & -1 & 1 & 0 \\\\ 0 & 0 & 0 & 0 \\end{matrix}\\right] \\left[\\begin{matrix}u_1 \\\\ u_2 \\\\ u_3 \\\\ u_4\\end{matrix}\\right]\n",
    "$$ (element2)\n",
    "\n",
    "It follows logically that the other elements also excert forces on the nodes. By a simple addition of the influences of each element we can find the total stiffness matrix:\n",
    "\n",
    "\n",
    "$$\n",
    "\\left[\\begin{matrix}f_1 \\\\ f_2 \\\\ f_3 \\\\ f_4\\end{matrix}\\right] = \\left[\\begin{matrix}f_1^{e1} \\\\ f_2^{e1} \\\\ f_3^{e1} \\\\ f_4^{e1}\\end{matrix}\\right] + \\left[\\begin{matrix}f_1^{e2} \\\\ f_2^{e2} \\\\ f_3^{e2} \\\\ f_4^{e2}\\end{matrix}\\right] + \\left[\\begin{matrix}f_1^{e3} \\\\ f_2^{e3} \\\\ f_3^{e3} \\\\ f_4^{e3}\\end{matrix}\\right] = \\frac{EA}{\\Delta x} \\left(\\left[\\begin{matrix}1 & -1 & 0 & 0 \\\\ -1 & 1 & 0 & 0 \\\\ 0 & 0 & 0 & 0 \\\\ 0 & 0 & 0 & 0 \\end{matrix}\\right] + \\left[\\begin{matrix}0 & 0 & 0 & 0 \\\\ 0 & 1 & -1 & 0 \\\\ 0 & -1 & 1 & 0 \\\\ 0 & 0 & 0 & 0 \\end{matrix}\\right] + \\left[\\begin{matrix}0 & 0 & 0 & 0 \\\\ 0 & 0 & 0 & 0 \\\\ 0 & 0 & 1 & -1 \\\\ 0 & 0 & -1 & 1 \\end{matrix}\\right] \\right) \\left[\\begin{matrix}u_1 \\\\ u_2 \\\\ u_3 \\\\ u_4\\end{matrix}\\right]\n",
    "$$ (assembly)\n",
    "\n",
    "After assembly of all the local matrices, we have the global stiffness matrix:\n",
    "\n",
    "$$\n",
    "\\mathbf{K} = \\frac{EA}{\\Delta x}\\left[\\begin{matrix}1 & -1 & 0 & 0 \\\\ -1 & 2 & -1 & 0 \\\\ 0 & -1 & 2 & -1 \\\\ 0 & 0 & -1 & 1 \\end{matrix}\\right] \n",
    "$$ (sumofmatrixes)\n"
   ]
  },
  {
   "cell_type": "markdown",
   "metadata": {},
   "source": [
    "In practice it is very inefficient to compute the element matrices at the same size as the global stiffness matrices. You can see in the operation above quite some zeros are added every time an element matrix is added. It is better to evaluate smaller element matrices that only contain the nonzero values and then put in the right position in an assembly operation. Some bookkeeping is needed to know which nodes (or degrees of freedom) belong to which elements. For our 1D mesh, this is very simple, as reflected by the function below."
   ]
  },
  {
   "cell_type": "code",
   "execution_count": null,
   "metadata": {},
   "outputs": [],
   "source": [
    "def get_nodes_for_element(ie):\n",
    "    return np.array([ie,ie+1])"
   ]
  },
  {
   "cell_type": "markdown",
   "metadata": {},
   "source": [
    "For putting the element matrix in the right position, we make use of the `numpy.ix_` function. A naive implementation of the assembly operation would be to do:\n",
    "\n",
    "```Python\n",
    "        K_local = get_element_matrix(EA, dx)\n",
    "        for k in range(2):\n",
    "            for l in range(2):\n",
    "                K_global[elnodes[k], elnodes[l]] += K_local[k, l]\n",
    "```\n",
    "However, this double loop can be vectorized with the `numpy` function `ix_`, where the function `ix_` is used to access the relevant submatrix from the global stiffness matrix:\n",
    "```Python\n",
    "        K_global[np.ix_(elnodes, elnodes)] += get_element_matrix(EA, dx)\n",
    "```"
   ]
  },
  {
   "cell_type": "code",
   "execution_count": null,
   "metadata": {
    "tags": [
     "hide-output"
    ]
   },
   "outputs": [],
   "source": [
    "# - The length of the bar \"bar_length\"\n",
    "# - The number of elements \"n_el\"\n",
    "# - The stiffness of the bar \"EA\"\n",
    "def assemble_global_K_bar(bar_length, n_el, EA):\n",
    "    n_DOF = n_el+1\n",
    "    dx = bar_length/n_el\n",
    "    K_global = np.zeros((n_DOF, n_DOF))\n",
    "    \n",
    "    for i in range(n_el):\n",
    "        elnodes = get_nodes_for_element(i)\n",
    "        K_global[np.ix_(elnodes,elnodes)] += get_element_matrix(EA, dx)\n",
    "    \n",
    "    return K_global"
   ]
  },
  {
   "cell_type": "markdown",
   "metadata": {},
   "source": [
    "To solve for global equilibrium, we need to equate the product $\\mathbf{Ku}$ to a vector with external forces. Point loads on a node can directly be inserted on the right hand side vector of the equation $\\mathbf{Ku}=\\mathbf{f}$, while a distributed load $f$ is translated to a load vector with the expression from the derivation:\n",
    "\n",
    "$$\n",
    "\\mathbf{f}=\\int_0^L\\mathbf{N}^Tf\\,dx\n",
    "$$ (distributedload)\n",
    "\n",
    "For this example we define a constant distributed load $f(x)=q$, which leads to an elemental vector of $\\mathbf{f}^e=[\\frac{q\\Delta x}{2}\\ \\ \\frac{q\\Delta x}{2}]^T$. With this elemental force, we can again assemble to a global vector as done in the following function."
   ]
  },
  {
   "cell_type": "code",
   "execution_count": null,
   "metadata": {
    "tags": [
     "hide-output"
    ]
   },
   "outputs": [],
   "source": [
    "# Returns the global f vector with continuous forces on a bar\n",
    "# - The length of the bar \"bar_length\"\n",
    "# - The number of elements \"n_el\"\n",
    "# - The force on the bar \"EA\"\n",
    "def assemble_global_f_bar(bar_length, n_el, q):\n",
    "    n_DOF = n_el+1\n",
    "    dx = bar_length/n_el\n",
    "    f_global = np.zeros((n_DOF,1))\n",
    "    \n",
    "    for i in range(n_el):\n",
    "        elnodes = get_nodes_for_element(i) \n",
    "        f_global[elnodes] += get_element_force(q, dx)\n",
    "        \n",
    "    return np.squeeze(f_global)"
   ]
  },
  {
   "cell_type": "markdown",
   "metadata": {},
   "source": [
    "\n",
    "## Boundary conditions\n",
    "\n",
    "We derived a way to express the relation between $\\mathbf{u}$ and $\\mathbf{f}$ through a matrix $\\mathbf{K}$. However, when we try to solve the equation $\\mathbf{K u} = \\mathbf{f}$, we will run into a problem. On the left hand side one of the values for $u$ is already known, the displacement of the left node ($n_0$) will be zero. The corresponding force $f_1$ is as of yet unknown. Since there is unknowns on either side of the equation we cannot solve it by inverting K and bringing it to the other side.\n",
    "\n",
    "$$\n",
    "\\frac{EA}{\\Delta x}\\left[\\begin{matrix}1 & -1 & 0 & 0 \\\\ -1 & 2 & -1 & 0 \\\\ 0 & -1 & 2 & -1 \\\\ 0 & 0 & -1 & 1 \\end{matrix}\\right] \\left[\\begin{matrix}0 \\\\ u_2? \\\\ u_3? \\\\ u_4?\\end{matrix}\\right] = \\left[\\begin{matrix}f_1? \\\\ \\frac{q}{\\Delta x} \\\\ \\frac{q}{\\Delta x} \\\\ \\frac{q}{2\\Delta x}+10\\end{matrix}\\right]\n",
    "$$ (totalmatrix)\n",
    "\n",
    "A way to overcome this problem is to leave out equations belonging to nodes for which the solution is known. As long as the fixed degrees of freedom are prescribed at a value of 0 (i.e. homogeneous Dirichlet conditions), we can do this by simply removing the corresponding columns and rows out of our system. Doing that for node 0 in our example, we get:\n",
    "\n",
    "$$\n",
    "\\frac{EA}{\\Delta x}\\left[\\begin{matrix} 2 & -1 & 0 \\\\ -1 & 2 & -1 \\\\ 0 & -1 & 1 \\end{matrix}\\right] \\left[\\begin{matrix}u_2? \\\\ u_3? \\\\ u_4?\\end{matrix}\\right] = \\left[\\begin{matrix} \\frac{q}{\\Delta x} \\\\ \\frac{q}{\\Delta x} \\\\ \\frac{q}{2\\Delta x}+10\\end{matrix}\\right]\n",
    "$$ (totalmatrix_afterbcs)\n",
    "\n",
    "This system can solved, by inverting $\\mathbf{K}$, or more efficiently by using an appropriate linear solver. It is important to note that for nonzero Dirichlet conditions, additional steps need to be taken.\n",
    "\n",
    "Solving the system of equations above will finally result in a vector with values for the nodal displacements $\\mathbf{u}$. Note that with the shape functions, we also have an interpolation between the nodes, so a continuous approximate solution $u^h(x)$ can be obtained with:\n",
    "\n",
    "$$\n",
    "u^h(x) = \\mathbf{N}\\mathbf{u}\n",
    "$$ (continuoussolution)\n",
    "\n",
    "Moreover, the reaction force $f_1$ can be computed by multiplying the complete $4\\times4$-matrix with the nodal displacement vector.\n",
    "\n",
    "The function `simulate` returns the solution of the problem given the number of discrete elements."
   ]
  },
  {
   "cell_type": "code",
   "execution_count": null,
   "metadata": {},
   "outputs": [],
   "source": [
    "def simulate(n_element):\n",
    "    length = 3              # Length\n",
    "    EA = 1e3                # Stiffness EA\n",
    "    n_node = n_element + 1  # Number of nodes\n",
    "    F_right = 10            # Load applied at the right boundary\n",
    "    u_left = 0              # Displacement at the left boundary\n",
    "    q_load = -10            # Distibuted load\n",
    "\n",
    "    dx = length/n_element\n",
    "    x = np.linspace(0,length,n_node)\n",
    "\n",
    "    # Assmemble K for the bar problem\n",
    "    K = assemble_global_K_bar(length, n_element, EA)\n",
    "\n",
    "    # Assemble f first with distributed load only\n",
    "    f = assemble_global_f_bar(length, n_element, q_load)\n",
    "\n",
    "    # Add boundary conditions to f\n",
    "    f[n_node-1] += F_right\n",
    "\n",
    "    # Initialize vector u with displacements\n",
    "    u = np.zeros(n_node)\n",
    "\n",
    "    # Solve the system for unknown displacements\n",
    "    K_inv = np.linalg.inv(K[1:n_node, 1:n_node])\n",
    "    u[1:n_node] = np.dot(K_inv, f[1:n_node])\n",
    "\n",
    "    return x, u"
   ]
  },
  {
   "cell_type": "markdown",
   "metadata": {},
   "source": [
    "Finally, we can run the simulation and inspect the resutls:"
   ]
  },
  {
   "cell_type": "code",
   "execution_count": null,
   "metadata": {
    "tags": [
     "hide-output"
    ]
   },
   "outputs": [],
   "source": [
    "x, u = simulate(3)\n",
    "plt.figure()\n",
    "plt.plot(x,u)"
   ]
  },
  {
   "cell_type": "markdown",
   "metadata": {},
   "source": [
    "In the following widget you can see how the solution converges to the analytical solution when we increase the number of elements."
   ]
  },
  {
   "cell_type": "code",
   "execution_count": null,
   "metadata": {
    "tags": [
     "remove-cell"
    ]
   },
   "outputs": [],
   "source": [
    "%matplotlib widget\n",
    "\n",
    "import matplotlib.pyplot as plt\n",
    "import plotly.subplots as sp\n",
    "import plotly.graph_objects as go\n",
    "\n",
    "plt.figure()\n",
    "plt.rcParams.update({'font.size': 12, 'lines.linewidth': 2})"
   ]
  },
  {
   "cell_type": "code",
   "execution_count": null,
   "metadata": {
    "tags": [
     "remove-input"
    ]
   },
   "outputs": [],
   "source": [
    "# def elastic_rod(total_length, EA, num_nodes, force):\n",
    "\n",
    "#     # Define element length\n",
    "#     element_length = total_length / (num_nodes - 1)\n",
    "\n",
    "#     # Assemble local stiffness matrix\n",
    "#     k_local = (EA / element_length) * np.array([[1, -1], [-1, 1]])\n",
    "\n",
    "#     # Assemble global stiffness matrix (for simplicity, assume one element)\n",
    "#     K_global = np.zeros((num_nodes, num_nodes))\n",
    "\n",
    "#     for i in range(num_nodes - 1):\n",
    "#         K_global[i:i+2, i:i+2] += k_local\n",
    "\n",
    "#     # Define boundary conditions (left side set to zero displacement)\n",
    "#     bc_nodes = [0]\n",
    "\n",
    "#     # Apply boundary conditions\n",
    "#     for i in bc_nodes:\n",
    "#         K_global[i, :] = 0\n",
    "#         K_global[:, i] = 0\n",
    "#         K_global[i, i] = 1\n",
    "\n",
    "#     # Define external forces (for example, f[3] = 10)\n",
    "#     external_forces = np.zeros(num_nodes)\n",
    "#     external_forces[-1] = force\n",
    "\n",
    "#     # Solve the system of equations Ku = f\n",
    "#     u = np.linalg.solve(K_global, external_forces)\n",
    "#     return u\n",
    "\n",
    "# ds = elastic_rod(total_length = 3.0, EA = 1.0, num_nodes = 20, force = 20)\n",
    "# import numpy as np\n",
    "# \n",
    "\n",
    "import plotly.graph_objects as go\n",
    "import numpy as np\n",
    "import matplotlib.pyplot as plt\n",
    "\n",
    "# Colors\n",
    "grey = '#eeeeee' # light grey fill\n",
    "\n",
    "## Prepare all the graphs that are to be plotted\n",
    "# Define the range of densities to plot\n",
    "range_elements = np.arange(1, 9, 1)\n",
    "\n",
    "## Create plot\n",
    "fig = go.Figure()\n",
    "\n",
    "base_traces = 0 # Number of traces that are always visible\n",
    "\n",
    "length = 3              # Length\n",
    "EA = 1e3                # Stiffness EA\n",
    "F_right = 10            # Load applied at the right boundary\n",
    "u_left = 0              # Displacement at the left boundary\n",
    "q_load = -10            # Distibuted load\n",
    "\n",
    "x_analytical = np.linspace(0, length, 1000)\n",
    "u_analytical = -(q_load * ((x_analytical - length)**2 - length**2)) / (2 * EA) + (F_right / EA) * x_analytical\n",
    "\n",
    "# Add traces, one for each slider step\n",
    "for a in range_elements: \n",
    "    x, u  = simulate(a)\n",
    "    fig.add_trace(  \n",
    "        go.Scatter(\n",
    "            visible=False,\n",
    "            x=x_analytical,\n",
    "            y=u_analytical,\n",
    "            line=dict(color='#FFA500'),\n",
    "            mode='lines',\n",
    "            name='Exact solution'))\n",
    "    fig.add_trace(        \n",
    "        go.Scatter(\n",
    "            visible=False,\n",
    "            x=x,\n",
    "            y=u,\n",
    "            line=dict(color='#6a8ba4'),\n",
    "            mode='lines',\n",
    "            name='Numerical solution'))\n",
    "\n",
    "traces_per_step = 2 # Number of traces per value of a\n",
    "\n",
    "# Show the traces for one value of a when loading the plot (initial setup)\n",
    "active_a_index = 1\n",
    "for i in range(traces_per_step):\n",
    "    curr_idx = int(base_traces + active_a_index*traces_per_step + i)\n",
    "    fig.data[curr_idx].visible = True\n",
    "\n",
    "# Create and add slider\n",
    "steps = []\n",
    "for i in range(0, range_elements.shape[0]):\n",
    "    visarray = [False] * len(fig.data)\n",
    "    visarray[0:base_traces] = [True] * base_traces\n",
    "    curr_idx = int(base_traces + i * traces_per_step)\n",
    "    next_idx = int(base_traces + (i+1) * traces_per_step)\n",
    "    visarray[curr_idx:next_idx] = [True] * traces_per_step\n",
    "    step = dict(\n",
    "        method=\"update\",\n",
    "        args=[{\"visible\": visarray}],\n",
    "        label=str(round(range_elements[i], 1))\n",
    "    )\n",
    "    steps.append(step)\n",
    "\n",
    "sliders = [dict(\n",
    "    active=active_a_index,\n",
    "    currentvalue={\"prefix\": r\"Number of elements: \"},\n",
    "    steps=steps\n",
    ")]\n",
    "\n",
    "fig.update_layout(\n",
    "    sliders=sliders,\n",
    "    legend_title=\"Legend\",\n",
    ")\n",
    "\n",
    "fig.update_xaxes(title_text='x (m)', range=[-0.1, 3.1])\n",
    "\n",
    "# Update yaxis properties\n",
    "fig.update_yaxes(title_text='u (m)', range=[-0.025, 0.005])\n",
    "\n",
    "fig.update_layout(\n",
    "    title=\"Displacement of axially loaded rod\",\n",
    "    sliders=sliders,\n",
    "    legend_title=\"Legend\"\n",
    ")\n",
    "\n",
    "fig"
   ]
  },
  {
   "cell_type": "markdown",
   "metadata": {},
   "source": [
    ":::{card} Quiz question\n",
    "<iframe src=\"https://tudelft.h5p.com/content/1292102826908930637/embed\" aria-label=\"Changing the mesh\" width=\"1088\" height=\"637\" frameborder=\"0\" allowfullscreen=\"allowfullscreen\" allow=\"autoplay *; geolocation *; microphone *; camera *; midi *; encrypted-media *\"></iframe><script src=\"https://tudelft.h5p.com/js/h5p-resizer.js\" charset=\"UTF-8\"></script>\n",
    ":::\n",
    "\n",
    ":::{card} Exercise\n",
    "\n",
    "In which functions is the numerical integration procedure implemented? (Hint: there are two)\n",
    "\n",
    "```{admonition} Solution\n",
    ":class: tip, dropdown\n",
    "In the functions `get_element_force` and `get_element_matrix`\n",
    "```\n",
    "\n",
    "In these functions, which variables contain information on the integration scheme?\n",
    "\n",
    "```{admonition} Solution\n",
    ":class: tip, dropdown\n",
    "The variables `integration_locations` and `integration_weights`\n",
    "```\n",
    "\n",
    "How many integration points are employed in these functions?\n",
    "\n",
    "```{admonition} Solution\n",
    ":class: tip, dropdown\n",
    "Two integration points (per element)\n",
    "```\n",
    "\n",
    "\n",
    "For going to an integration scheme with a single integration point per element, how would you define these two variables?\n",
    "\n",
    "```{admonition} Solution\n",
    ":class: tip, dropdown\n",
    "For 1 point Gauss integration, the integration point needs to be at the center of the element and the integration weight needs to equate the length of the element:\n",
    "\n",
    "`integration_locations = [ dx/2 ]`\n",
    " \n",
    "`integration_weights = [ dx ]`\n",
    "```\n",
    "\n",
    ":::"
   ]
  },
  {
   "cell_type": "code",
   "execution_count": null,
   "metadata": {},
   "outputs": [],
   "source": []
  }
 ],
 "metadata": {
  "kernelspec": {
   "display_name": "Python 3 (ipykernel)",
   "language": "python",
   "name": "python3"
  },
  "language_info": {
   "codemirror_mode": {
    "name": "ipython",
    "version": 3
   },
   "file_extension": ".py",
   "mimetype": "text/x-python",
   "name": "python",
   "nbconvert_exporter": "python",
   "pygments_lexer": "ipython3",
   "version": "3.10.12"
  }
 },
 "nbformat": 4,
 "nbformat_minor": 4
}
