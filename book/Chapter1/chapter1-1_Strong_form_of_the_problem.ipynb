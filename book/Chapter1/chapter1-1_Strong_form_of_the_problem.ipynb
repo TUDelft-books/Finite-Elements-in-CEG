{
 "cells": [
  {
   "cell_type": "markdown",
   "metadata": {},
   "source": [
    "# Strong form of the problem\n",
    "\n",
    "The *strong from* of the problem is a Partial Differential Equation (PDE), or a set of PDEs, describing the physics of the phenomena at hand, supplemented with appropriate boundary and initial conditions. Solving the strong form of the problem leads to the exact solution of the continuous system. However, for many engineering problems, it is not possible to obtain the exact solution, and numerical methods need to be employed to find an approximate solution. The Finite Element (FE) method is one approach to find approximate solutions that is applicable to a wide range of different problems. One of the key aspects of the FE method is that we express the set of governing equations in a [*weak form*](./chapter1-3_Weak_form_of_the_problem.md), also known as the *variational* form, we will see how to derive it in the following section.  \n",
    "\n",
    "\n",
    "##  1D Poisson equation\n",
    "At this point, let's take as an example the one dimensional Poisson equation to illustrate at first the so-called strong form of the problem:\n",
    "\n",
    "$$\n",
    "-\\frac{\\partial}{\\partial x} \\left(\\nu(x) \\frac{\\partial u(x)}{{\\partial x}}\\right) = f(x)\n",
    "$$ (1Dpoissonequation)\n",
    "\n",
    "where $\\nu(x)$ is a material property, $u(x)$ the solution and $f(x)$ a source, all of which can depend on the coordinate $x$. To simplify notation we will omit the $x$-dependence and write $\\nu$, $u$ and $f$ in what follows.\n",
    "\n",
    "Equation {eq}`1Dpoissonequation` can be used to express various physical phenomena such as steady-state heat conduction, elastic deformation of a rod or flow in a permeable media (such as Darcy’s law).\n",
    "\n",
    "Alternatively, the Poisson equation can be written as: \n",
    "\n",
    "$$ \n",
    "−\\frac{\\partial}{\\partial x} q + f = 0 \n",
    "$$ (generalpoisson)\n",
    "\n",
    "where $q$ is a flux term, of which the interpretation depends on the problem at hand. In the case of heat conductivity, $q$ is the heat flux, while in Darcy’s law, $q$ is the flow rate, and in extension of a rod, $q$ is the stress. The typical constitutive relationship between the flux $q$ and the unknown solution $u$ is given by:\n",
    "\n",
    "$$ \n",
    "q=-\\nu \\frac{\\partial u}{\\partial x}\n",
    "$$ (constitutive)\n",
    "\n",
    "In the case of heat conduction, for instance, $u$ in the above equation is the temperature. In the case of a structural problem, $u$ would be the displacement. For Darcy’s law, $u$ is the hydraulic head. \n",
    "\n",
    "Keep in mind that the constitutive relationship always depends on the problem being solved and $ \\nu $ can take different meanings. For the heat equation, $\\nu$ is the thermal conductivity while for Darcy’s law $ \\nu $ is the hydraulic conductivity and for extension of a rod $\\nu$ is a measure for the stiffness. \n",
    "\n",
    "## The strong form of a linear elastic rod\n",
    "```{figure} .././images/Chapter1/barDefinition-1.png\n",
    "---\n",
    "height: 150px\n",
    "name: barDefinition\n",
    "---\n",
    "One dimensional bar with distributed load\n",
    "```\n",
    "\n",
    "An application of the Poisson equation is the extension of one-dimensional structural elements. Let us consider a horizontal steel rod with a stiffness $EA = 1.0 \\cdot 10^3$ kN with a load applied at the right side of $10$ kN and a length of $3$ m and a distributed load along its length $f(x)$. This equilibrium problem can be described with the following differential equation:\n",
    "\n",
    "\n",
    "$$\n",
    "-EA \\frac{\\partial^{2} u}{{\\partial x}^{2}} = f(x)\n",
    "$$ (1drod)\n",
    "\n",
    "where $u$ is the displacement of the bar as function of location $x$. We also consider the following **boundary conditions**:\n",
    "\n",
    "$$\n",
    "u = 0, \\quad \\text{at} \\quad x = 0 \\\\\n",
    "EA\\frac{\\partial u}{{\\partial x}} = 10, \\quad \\text{at} \\quad x = 3.\n",
    "$$ (1drodBCs)\n",
    "\n",
    "As can be seen, the form of equation {eq}`1drod` is exactly the same as the 1D Poisson equation shown above. The only difference is in the physical interpretation of $u$ and $f$ and that instead of the constant $\\nu$ we use the constant $EA$ (Young's modulus $E$ times cross section area $A$) to describe the stiffness. The exact same mathematical problem could be interpreted as a heat conduction problem. \n"
   ]
  },
  {
   "cell_type": "markdown",
   "metadata": {
    "jp-MarkdownHeadingCollapsed": true,
    "tags": []
   },
   "source": [
    ":::{card} Quiz question\n",
    "<iframe src=\"https://tudelft.h5p.com/content/1292102761306552137/embed\" aria-label=\"Boundary conditions for heat equation\" width=\"1088\" height=\"637\" frameborder=\"0\" allowfullscreen=\"allowfullscreen\" allow=\"autoplay *; geolocation *; microphone *; camera *; midi *; encrypted-media *\"></iframe><script src=\"https://tudelft.h5p.com/js/h5p-resizer.js\" charset=\"UTF-8\"></script>\n",
    ":::"
   ]
  },
  {
   "cell_type": "code",
   "execution_count": null,
   "metadata": {},
   "outputs": [],
   "source": []
  }
 ],
 "metadata": {
  "kernelspec": {
   "display_name": "Python 3 (ipykernel)",
   "language": "python",
   "name": "python3"
  },
  "language_info": {
   "codemirror_mode": {
    "name": "ipython",
    "version": 3
   },
   "file_extension": ".py",
   "mimetype": "text/x-python",
   "name": "python",
   "nbconvert_exporter": "python",
   "pygments_lexer": "ipython3",
   "version": "3.10.12"
  }
 },
 "nbformat": 4,
 "nbformat_minor": 4
}
