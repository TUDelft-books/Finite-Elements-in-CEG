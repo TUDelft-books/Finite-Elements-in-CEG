{
 "cells": [
  {
   "cell_type": "markdown",
   "id": "2bda7907-1edd-4e28-aa57-e6d947f9bf98",
   "metadata": {},
   "source": [
    "# PyJive workshop: material nonlinearity"
   ]
  },
  {
   "cell_type": "code",
   "execution_count": null,
   "id": "54a25f14-bfdd-494e-b3e0-57c134adde42",
   "metadata": {},
   "outputs": [],
   "source": [
    "import matplotlib.pyplot as plt\n",
    "import numpy as np\n",
    "\n",
    "import os\n",
    "import sys\n",
    "\n",
    "pyjivepath = '../../../pyjive/'\n",
    "sys.path.append(pyjivepath)\n",
    "\n",
    "if not os.path.isfile(pyjivepath + 'utils/proputils.py'):\n",
    "    print('\\n\\n**pyjive cannot be found, adapt \"pyjivepath\" above or move notebook to appropriate folder**\\n\\n')\n",
    "    raise Exception('pyjive not found')\n",
    "\n",
    "from utils import proputils as pu\n",
    "import main\n",
    "from names import GlobNames as gn\n",
    "\n",
    "%matplotlib widget"
   ]
  },
  {
   "cell_type": "code",
   "execution_count": null,
   "id": "7dbafaa4-4d9b-43fc-8302-3f6b86bae728",
   "metadata": {},
   "outputs": [],
   "source": [
    "# download additional files (if necessary)\n",
    "\n",
    "import contextlib\n",
    "from urllib.request import urlretrieve\n",
    "\n",
    "def findfile(fname):\n",
    "    url = \"https://gitlab.tudelft.nl/cm/public/drive/-/raw/main/material/\" + fname + \"?inline=false\"\n",
    "    if not os.path.isfile(fname):\n",
    "        print(f\"Downloading {fname}...\")\n",
    "        urlretrieve(url, fname)\n",
    "        \n",
    "findfile(\"plasticity.pro\")\n",
    "findfile(\"voids.msh\")"
   ]
  },
  {
   "cell_type": "markdown",
   "id": "94516414-8597-4986-943d-7594f958845c",
   "metadata": {},
   "source": [
    "## Plasticity model on a non-trivial 2D domain\n",
    "\n",
    "In this workshop, we look at the following geometry:\n",
    "\n",
    "<center><img src=\"https://raw.githubusercontent.com/ibcmrocha/public/main/multihole.png\" alt=\"mesh\" width=\"300\"/></center>\n",
    "\n",
    "with Dirichlet boundary conditions that represent a state of global uniaxial tension, i.e. we pull this square-shaped domain on the right edge while keeping the left edge fixed horizontally and the bottom edge fixed vertically. The main model is a `SolidModel` and it is combined with a `NonlinModule` to perform nonlinear analysis, where the nonlinearity comes from the material model. A first version for this model in `plasticity.pro`. We run a displacement-controlled simulation for $40$ time steps with `props['model']['dispcontrol']['timeSignal'] = 't'`, which means the displacement at the right edge of the model is **monotonically increasing**. That will be adapted later on to explore more complex loading scenarios.\n",
    "\n",
    "<div style=\"background-color:#AABAB2; color: black; vertical-align: middle; padding:15px; margin: 10px; border-radius: 10px\">\n",
    "<p>\n",
    "<b>Task 1a: Run the model as is and look at the resulting force-displacement diagram. </b>   \n",
    "    \n",
    "- The plasticity model has perfect plasticity (i.e. a constant yield stress), nevertheless, the load-displacement diagram displays a more gradual hardening behavior. Why does the finite element response not exactly mirror the material behavior for this case?\n",
    "</p>\n",
    "</div>"
   ]
  },
  {
   "cell_type": "code",
   "execution_count": null,
   "id": "b2b4c0fb-fd9b-4250-90fb-b807c08895a1",
   "metadata": {},
   "outputs": [],
   "source": [
    "props = pu.parse_file('plasticity.pro')\n",
    "\n",
    "globdat = main.jive(props)"
   ]
  },
  {
   "cell_type": "markdown",
   "id": "63ba98bd-5b34-4cd1-baad-45a61a442869",
   "metadata": {},
   "source": [
    "The material model has a history variable $\\kappa$, which is a measure for accumulated plastic strain:\n",
    "\n",
    "    $$\\kappa(t)=\\displaystyle\\int_0^t\\sqrt{\\frac{2}{3}\\dot{\\boldsymbol{\\varepsilon}}^\\mathrm{p}(t):\\dot{\\boldsymbol{\\varepsilon}}^\\mathrm{p}(t)}\\,dt$$\n",
    "\n",
    "<div style=\"background-color:#AABAB2; color: black; vertical-align: middle; padding:15px; margin: 10px; border-radius: 10px\">\n",
    "<p>\n",
    "<b>Task 1b: Postprocessing </b>   \n",
    "    \n",
    "Analyze the results with the tools included in the cell below.\n",
    "    \n",
    "1. It is possible to show the evolution of displacements with the `ViewModule`. This can module can be constructed in the notebook. How can you see from the evolution of the displacements that the material behavior is nonlinear?\n",
    "2. From `J2Material`, we store in `globdat` the maximum value of the history variable $\\kappa$ throughout the whole domain $\\Omega$ after every time step. We can then plot this to see how $\\kappa$ is evolving in time. Do the results make sense?\n",
    "   \n",
    "</p>\n",
    "</div>"
   ]
  },
  {
   "cell_type": "code",
   "execution_count": null,
   "id": "f5f466e7-7a68-4bb4-acb5-bd3c34d78455",
   "metadata": {},
   "outputs": [],
   "source": [
    "# visualize displacements\n",
    "view = globdat[gn.MODULEFACTORY].get_module('View','view')\n",
    "\n",
    "props['view'] = {}\n",
    "props['view']['plot'] = 'solution[dx]'\n",
    "props['view']['deform'] = 1\n",
    "props['view']['ncolors'] = 100\n",
    "props['view']['interactive'] = 'True'\n",
    "props['view']['colorMap'] = 'plasma_r'\n",
    "\n",
    "view.init(props, globdat)\n",
    "status = view.shutdown(globdat)\n",
    "\n",
    "# plot history variable as function of time\n",
    "plt.figure()\n",
    "plt.xlabel('Time step')\n",
    "plt.ylabel('$\\max_\\Omega(\\kappa)$')\n",
    "plt.plot(range(len(globdat['maxkappa'])),globdat['maxkappa'])"
   ]
  },
  {
   "cell_type": "markdown",
   "id": "7bc95992-abd2-466d-a170-4b4bd7447df2",
   "metadata": {},
   "source": [
    "## Unloading behavior\n",
    "\n",
    "Let us now run the same model, but change `props['model']['dispcontrol']['timeSignal']` to include loading/unloading/reloading branches. More specifically, try to make the time signal reflect the following plot:\n",
    "\n",
    "<center><img src=\"https://raw.githubusercontent.com/ibcmrocha/public/main/pwlinearsignal.png\" alt=\"mesh\" width=\"500\"/></center>\n",
    "\n",
    "To do that, you can use the `min()` and `max()` functions. For instance, to create a single loading/unloading branch we could write\n",
    "\n",
    "`props['model']['dispcontrol']['timeSignal'] = 'min(t, 40-t)'`\n",
    "\n",
    "where `t1` is the switching point. You can read this as being equivalent to:\n",
    "\n",
    "```\n",
    "if t < 40-t\n",
    "    signal = t\n",
    "else:\n",
    "    signal = 40-t\n",
    "```\n",
    "\n",
    "<div style=\"background-color:#AABAB2; color: black; vertical-align: middle; padding:15px; margin: 10px; border-radius: 10px\">\n",
    "<p>\n",
    "<b>Task 2: Loading/unloading behavior </b>   \n",
    "\n",
    "Set up a case with unloading and reloading. For that you will need a nested expression with a combination of `min` and a `max`\n",
    "- Formulate a linear relation of for each three of the branches of the time signal visualized above\n",
    "- Define the time signal as a nested expression using `min` and `max`\n",
    "- Run the code, and check from the force displacement curve whether the boundary conditions work as intended\n",
    "- Perform further postprocessing of the displacement field and the maximum value of $\\kappa$\n",
    "- Inspect the convergence data from the nonlinear solver. Most time steps need multiple iterations, but some time steps converge in one iteration. What is the reason for this?\n",
    "   \n",
    "</p>\n",
    "</div>"
   ]
  },
  {
   "cell_type": "code",
   "execution_count": null,
   "id": "0b86128b-ebb5-4df2-9c37-01809113868f",
   "metadata": {},
   "outputs": [],
   "source": [
    "props = pu.parse_file('plasticity.pro')\n",
    "\n",
    "props['model']['dispcontrol']['timeSignal'] = '??'\n",
    "props['nonlin']['nsteps'] = 70\n",
    "\n",
    "globdat = main.jive(props)"
   ]
  }
 ],
 "metadata": {
  "kernelspec": {
   "display_name": "Python 3 (ipykernel)",
   "language": "python",
   "name": "python3"
  },
  "language_info": {
   "codemirror_mode": {
    "name": "ipython",
    "version": 3
   },
   "file_extension": ".py",
   "mimetype": "text/x-python",
   "name": "python",
   "nbconvert_exporter": "python",
   "pygments_lexer": "ipython3",
   "version": "3.10.12"
  }
 },
 "nbformat": 4,
 "nbformat_minor": 5
}
