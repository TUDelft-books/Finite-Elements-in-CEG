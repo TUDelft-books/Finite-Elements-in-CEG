{
 "cells": [
  {
   "cell_type": "markdown",
   "id": "2bda7907-1edd-4e28-aa57-e6d947f9bf98",
   "metadata": {},
   "source": [
    "<figure>\n",
    "  <IMG SRC=\"https://raw.githubusercontent.com/fmeer/public-files/main/TUlogo.png\" WIDTH=200 ALIGN=\"right\">\n",
    "</figure>\n",
    "\n",
    "# CIEM1110-1 Workshop 4: Nonlinear FEM with plasticity (notebook 3)"
   ]
  },
  {
   "cell_type": "code",
   "execution_count": null,
   "id": "54a25f14-bfdd-494e-b3e0-57c134adde42",
   "metadata": {},
   "outputs": [],
   "source": [
    "import sys\n",
    "sys.path.append('../../')\n",
    "\n",
    "import numpy as np\n",
    "import matplotlib.pyplot as plt\n",
    "import contextlib\n",
    "\n",
    "from utils import proputils as pu\n",
    "from names import GlobNames as gn\n",
    "import main\n",
    "import declare\n",
    "\n",
    "%matplotlib widget"
   ]
  },
  {
   "cell_type": "markdown",
   "id": "94516414-8597-4986-943d-7594f958845c",
   "metadata": {},
   "source": [
    "## Plasticity for a more complex 2D domain\n",
    "\n",
    "In this final demonstration, we look at the following geometry:\n",
    "\n",
    "<center><img src=\"https://raw.githubusercontent.com/ibcmrocha/public/main/multihole.png\" alt=\"mesh\" width=\"300\"/></center>\n",
    "\n",
    "with Dirichlet BCs similar to the ones from the previous notebook, i.e. we pull this square-shaped domain on the right edge while keeping the left edge fixed horizontally and the bottom edge fixed vertically.\n",
    "\n",
    "We set up a first version for this model in `voids.pro`. We run a displacement-controlled simulation for $40$ time steps with `props['model']['dispcontrol']['timeSignal'] = 't'`, which means the displacement at the right edge of the model is **monotonically increasing**. Run the simulation below as it is:"
   ]
  },
  {
   "cell_type": "code",
   "execution_count": null,
   "id": "b2b4c0fb-fd9b-4250-90fb-b807c08895a1",
   "metadata": {},
   "outputs": [],
   "source": [
    "props = pu.parse_file('voids.pro')\n",
    "\n",
    "globdat = main.jive(props)"
   ]
  },
  {
   "cell_type": "markdown",
   "id": "63ba98bd-5b34-4cd1-baad-45a61a442869",
   "metadata": {},
   "source": [
    "From `J2Material`, we store in `globdat` the maximum value of $\\kappa$ throughout the whole domain $\\Omega$ after every time step. We can then plot this to see how $\\kappa$ is evolving in time:"
   ]
  },
  {
   "cell_type": "code",
   "execution_count": null,
   "id": "f5f466e7-7a68-4bb4-acb5-bd3c34d78455",
   "metadata": {},
   "outputs": [],
   "source": [
    "plt.figure()\n",
    "plt.xlabel('Time step')\n",
    "plt.ylabel('$\\max_\\Omega(\\kappa)$')\n",
    "plt.plot(range(len(globdat['maxkappa'])),globdat['maxkappa'])"
   ]
  },
  {
   "cell_type": "markdown",
   "id": "e4533452-fddd-4676-970a-0a8d3a43aea6",
   "metadata": {},
   "source": [
    "For this model, $\\kappa$ is an accumulated measure of plastic strain given by:\n",
    "\n",
    "$$\\kappa(t)=\\displaystyle\\int_0^t\\sqrt{\\frac{2}{3}\\dot{\\boldsymbol{\\varepsilon}}^\\mathrm{p}(t):\\dot{\\boldsymbol{\\varepsilon}}^\\mathrm{p}(t)}\\,dt$$\n",
    "\n",
    "With this in mind, do the results above make sense?\n",
    "\n",
    "Finally, we can look at the displacement field evolution for this model:"
   ]
  },
  {
   "cell_type": "code",
   "execution_count": null,
   "id": "79c9bb80-4511-474c-bc62-5fc833d37e23",
   "metadata": {},
   "outputs": [],
   "source": [
    "view = globdat[gn.MODULEFACTORY].get_module('View','view')\n",
    "\n",
    "props['view'] = {}\n",
    "props['view']['plot'] = 'solution[dx]'\n",
    "props['view']['deform'] = 1\n",
    "props['view']['ncolors'] = 100\n",
    "props['view']['interactive'] = 'True'\n",
    "props['view']['colorMap'] = 'plasma_r'\n",
    "\n",
    "view.init(props, globdat)\n",
    "status = view.shutdown(globdat)"
   ]
  },
  {
   "cell_type": "markdown",
   "id": "7bc95992-abd2-466d-a170-4b4bd7447df2",
   "metadata": {},
   "source": [
    "## Unloading behavior\n",
    "\n",
    "Let us now run the same model, but change `props['model']['dispcontrol']['timeSignal']` to include loading/unloading/reloading branches. More specifically, try to make the time signal reflect the following plot:\n",
    "\n",
    "<center><img src=\"https://raw.githubusercontent.com/ibcmrocha/public/main/pwlinearsignal.png\" alt=\"mesh\" width=\"500\"/></center>\n",
    "\n",
    "To do that, you can use the `np.where()` function. For instance, to create a single loading/unloading branch we could write\n",
    "\n",
    "`props['model']['dispcontrol']['timeSignal'] = 'np.where(t<t1, t, 2*t1-t)'`\n",
    "\n",
    "where `t1` is the switching point. You can read this `np.where()` call as being equivalent to:\n",
    "\n",
    "```\n",
    "if t < t1:\n",
    "    signal = t\n",
    "else:\n",
    "    signal = 2.*t1 - t\n",
    "```\n",
    "\n",
    "Now try to reproduce the curve above. For that you will need to <span style=\"color:red\">nest a second `np.where()` call inside the first one</span>."
   ]
  },
  {
   "cell_type": "code",
   "execution_count": null,
   "id": "0b86128b-ebb5-4df2-9c37-01809113868f",
   "metadata": {},
   "outputs": [],
   "source": [
    "props = pu.parse_file('voids.pro')\n",
    "\n",
    "# props['model']['dispcontrol']['timeSignal'] = '???'\n",
    "props['nonlin']['nsteps'] = 70\n",
    "\n",
    "globdat = main.jive(props)"
   ]
  },
  {
   "cell_type": "markdown",
   "id": "3e1cd402-0608-4c2b-bc69-5bafd3690e0e",
   "metadata": {},
   "source": [
    "Now let us look at the evolution of $\\kappa$ again:"
   ]
  },
  {
   "cell_type": "code",
   "execution_count": null,
   "id": "7e3baafb-88a9-45e2-aa02-323a63d597a4",
   "metadata": {},
   "outputs": [],
   "source": [
    "plt.figure()\n",
    "plt.xlabel('Time step')\n",
    "plt.ylabel('$\\max_\\Omega(\\kappa)$')\n",
    "plt.plot(range(len(globdat['maxkappa'])),globdat['maxkappa'])"
   ]
  },
  {
   "cell_type": "markdown",
   "id": "db472015-b964-48fc-bae1-599731880216",
   "metadata": {},
   "source": [
    "Can you make sense of what you see?"
   ]
  },
  {
   "cell_type": "markdown",
   "id": "27b18bfd-54aa-4adc-8e03-86f52b5ca615",
   "metadata": {},
   "source": [
    "## More complex time signals\n",
    "\n",
    "As one final example, we run the model for the following more complex Dirichlet BC time signal:\n",
    "\n",
    "<center><img src=\"https://raw.githubusercontent.com/ibcmrocha/public/main/sinesignal.png\" alt=\"mesh\" width=\"500\"/></center>\n",
    "\n",
    "given by the following expression:\n",
    "\n",
    "$$\\mathrm{signal} = 0.8t-0.2t\\sin\\left(\\frac{2\\pi t}{10}\\right)$$\n",
    "\n",
    "and now we run the simulation for $100$ steps and reduce the time step size to guarantee stable convergence. Run the model below:"
   ]
  },
  {
   "cell_type": "code",
   "execution_count": null,
   "id": "d3cbfe67-4133-46f1-a074-c004edff0b1a",
   "metadata": {},
   "outputs": [],
   "source": [
    "props = pu.parse_file('voids.pro')\n",
    "\n",
    "# props['model']['dispcontrol']['timeSignal'] = '???'\n",
    "props['model']['dispcontrol']['deltaTime'] = 0.5\n",
    "props['nonlin']['nsteps'] = 100\n",
    "\n",
    "globdat = main.jive(props)"
   ]
  },
  {
   "cell_type": "markdown",
   "id": "1e6f6521-4221-4f8a-9223-fa82e91ac4bd",
   "metadata": {},
   "source": [
    "We can then take a look at how $\\kappa$ evolves:"
   ]
  },
  {
   "cell_type": "code",
   "execution_count": null,
   "id": "43d8a6ee-f5b5-48f3-a391-d4444786e375",
   "metadata": {},
   "outputs": [],
   "source": [
    "plt.figure()\n",
    "plt.xlabel('Time step')\n",
    "plt.ylabel('$\\max_\\Omega(\\kappa)$')\n",
    "plt.plot(range(len(globdat['maxkappa'])),globdat['maxkappa'])"
   ]
  },
  {
   "cell_type": "markdown",
   "id": "66ffd916-340e-469a-8f28-329b8b31ddbb",
   "metadata": {},
   "source": [
    "And also plot the deformations with an interactive plot:"
   ]
  },
  {
   "cell_type": "code",
   "execution_count": null,
   "id": "7dc6d38f-5222-423f-92ec-4c631b5b9d45",
   "metadata": {},
   "outputs": [],
   "source": [
    "view = globdat[gn.MODULEFACTORY].get_module('View','view')\n",
    "\n",
    "props['view'] = {}\n",
    "props['view']['plot'] = 'solution[dx]'\n",
    "props['view']['deform'] = 1\n",
    "props['view']['ncolors'] = 100\n",
    "props['view']['interactive'] = 'True'\n",
    "props['view']['colorMap'] = 'plasma_r'\n",
    "\n",
    "view.init(props, globdat)\n",
    "status = view.shutdown(globdat)"
   ]
  }
 ],
 "metadata": {
  "kernelspec": {
   "display_name": "Python 3 (ipykernel)",
   "language": "python",
   "name": "python3"
  },
  "language_info": {
   "codemirror_mode": {
    "name": "ipython",
    "version": 3
   },
   "file_extension": ".py",
   "mimetype": "text/x-python",
   "name": "python",
   "nbconvert_exporter": "python",
   "pygments_lexer": "ipython3",
   "version": "3.9.10"
  }
 },
 "nbformat": 4,
 "nbformat_minor": 5
}
