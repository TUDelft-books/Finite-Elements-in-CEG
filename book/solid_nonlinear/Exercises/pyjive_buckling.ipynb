{
 "cells": [
  {
   "cell_type": "markdown",
   "id": "2bda7907-1edd-4e28-aa57-e6d947f9bf98",
   "metadata": {},
   "source": [
    "# PyJive workshop: buckling\n",
    "This workshop is about analysis of buckling problems with `pyjive`. Two different modules are applied, the `LinBuckModule` for linear buckling analysis and the `NonlinModule` for incrementally-iterative geometrically nonlinear analysis. The main model that is used is the `FrameModel`. "
   ]
  },
  {
   "cell_type": "code",
   "execution_count": 1,
   "id": "54a25f14-bfdd-494e-b3e0-57c134adde42",
   "metadata": {},
   "outputs": [],
   "source": [
    "import matplotlib.pyplot as plt\n",
    "import numpy as np\n",
    "\n",
    "import os\n",
    "import sys\n",
    "\n",
    "pyjivepath = '../../../pyjive/'\n",
    "sys.path.append(pyjivepath)\n",
    "\n",
    "if not os.path.isfile(pyjivepath + 'utils/proputils.py'):\n",
    "    print('\\n\\n**pyjive cannot be found, adapt \"pyjivepath\" above or move notebook to appropriate folder**\\n\\n')\n",
    "    raise Exception('pyjive not found')\n",
    "\n",
    "from utils import proputils as pu\n",
    "import main\n",
    "from names import GlobNames as gn\n",
    "\n",
    "%matplotlib widget"
   ]
  },
  {
   "cell_type": "code",
   "execution_count": 2,
   "id": "7dbafaa4-4d9b-43fc-8302-3f6b86bae728",
   "metadata": {},
   "outputs": [],
   "source": [
    "# download additional files (if necessary)\n",
    "\n",
    "import contextlib\n",
    "from urllib.request import urlretrieve\n",
    "\n",
    "def findfile(fname):\n",
    "    url = \"https://gitlab.tudelft.nl/cm/public/drive/-/raw/main/buckling/\" + fname + \"?inline=false\"\n",
    "    if not os.path.isfile(fname):\n",
    "        print(f\"Downloading {fname}...\")\n",
    "        urlretrieve(url, fname)"
   ]
  },
  {
   "cell_type": "markdown",
   "id": "66743332-4fe8-41cc-9fb7-2f8f3600445b",
   "metadata": {},
   "source": [
    "## 1. Euler Beam\n",
    "As a first example, Euler buckling is considered. \n",
    "\n",
    "<center><img src=\"https://raw.githubusercontent.com/fmeer/public-files/main/ciem5110/eulerBeam.png\" alt=\"Euler beam\" width=\"400\"/></center>\n",
    "\n"
   ]
  },
  {
   "cell_type": "code",
   "execution_count": null,
   "id": "6b57a28e-fb9d-4fb3-bdb5-5ac1bb0619f5",
   "metadata": {},
   "outputs": [],
   "source": [
    "findfile(\"beam.geom\")\n",
    "findfile(\"eulerLB.pro\")\n",
    "findfile(\"eulerLoadControl.pro\")\n",
    "findfile(\"eulerDispControl.pro\")"
   ]
  },
  {
   "cell_type": "markdown",
   "id": "ec1bdb75-4b4b-4b2b-a29c-4c75e9640b8e",
   "metadata": {},
   "source": [
    "<div style=\"background-color:#AABAB2; color: black; vertical-align: middle; padding:15px; margin: 10px; border-radius: 10px\">\n",
    "<p>\n",
    "<b>Task 1a: Perform linear buckling analysis </b>   \n",
    "    \n",
    "1. Which action is used for the matrix assembly? \n",
    "2. Print the first 5 buckling values (they are stored in a sorted array in `globdat` with the key `gn.LBFACTORS`)\n",
    "3. Compare the obtained values to the analytical solution $F=n^2\\pi^2EI/L^2$. What can be done to bring the results closer to the theoretical ones? \n",
    "   \n",
    "</p>\n",
    "</div>"
   ]
  },
  {
   "cell_type": "markdown",
   "id": "8df77632-dbdd-42d7-84f9-40681654bdcc",
   "metadata": {},
   "source": [
    "## 2. Frame buckling"
   ]
  },
  {
   "cell_type": "markdown",
   "id": "0ff3f951-9f08-499b-a6ac-2c261f39fa1f",
   "metadata": {},
   "source": [
    "## 3. Imperfection sensitivity"
   ]
  },
  {
   "cell_type": "code",
   "execution_count": null,
   "id": "b2b4c0fb-fd9b-4250-90fb-b807c08895a1",
   "metadata": {},
   "outputs": [],
   "source": [
    "props = pu.parse_file('plasticity.pro')\n",
    "\n",
    "globdat = main.jive(props)"
   ]
  },
  {
   "cell_type": "markdown",
   "id": "63ba98bd-5b34-4cd1-baad-45a61a442869",
   "metadata": {},
   "source": [
    "The material model has a history variable $\\kappa$, which is a measure for accumulated plastic strain:\n",
    "\n",
    "    $$\\kappa(t)=\\displaystyle\\int_0^t\\sqrt{\\frac{2}{3}\\dot{\\boldsymbol{\\varepsilon}}^\\mathrm{p}(t):\\dot{\\boldsymbol{\\varepsilon}}^\\mathrm{p}(t)}\\,dt$$\n",
    "\n",
    "<div style=\"background-color:#AABAB2; color: black; vertical-align: middle; padding:15px; margin: 10px; border-radius: 10px\">\n",
    "<p>\n",
    "<b>Task 1b: Postprocessing </b>   \n",
    "    \n",
    "Analyze the results with the tools included in the cell below.\n",
    "    \n",
    "1. It is possible to show the evolution of displacements with the `ViewModule`. This can module can be constructed in the notebook. How can you see from the evolution of the displacements that the material behavior is nonlinear?\n",
    "2. From `J2Material`, we store in `globdat` the maximum value of the history variable $\\kappa$ throughout the whole domain $\\Omega$ after every time step. We can then plot this to see how $\\kappa$ is evolving in time. Do the results make sense?\n",
    "   \n",
    "</p>\n",
    "</div>"
   ]
  },
  {
   "cell_type": "code",
   "execution_count": null,
   "id": "f5f466e7-7a68-4bb4-acb5-bd3c34d78455",
   "metadata": {},
   "outputs": [],
   "source": [
    "# visualize displacements\n",
    "view = globdat[gn.MODULEFACTORY].get_module('View','view')\n",
    "\n",
    "props['view'] = {}\n",
    "props['view']['plot'] = 'solution[dx]'\n",
    "props['view']['deform'] = 1\n",
    "props['view']['ncolors'] = 100\n",
    "props['view']['interactive'] = 'True'\n",
    "props['view']['colorMap'] = 'plasma_r'\n",
    "\n",
    "view.init(props, globdat)\n",
    "status = view.shutdown(globdat)\n",
    "\n",
    "# plot history variable as function of time\n",
    "plt.figure()\n",
    "plt.xlabel('Time step')\n",
    "plt.ylabel('$\\max_\\Omega(\\kappa)$')\n",
    "plt.plot(range(len(globdat['maxkappa'])),globdat['maxkappa'])"
   ]
  }
 ],
 "metadata": {
  "kernelspec": {
   "display_name": "Python 3 (ipykernel)",
   "language": "python",
   "name": "python3"
  },
  "language_info": {
   "codemirror_mode": {
    "name": "ipython",
    "version": 3
   },
   "file_extension": ".py",
   "mimetype": "text/x-python",
   "name": "python",
   "nbconvert_exporter": "python",
   "pygments_lexer": "ipython3",
   "version": "3.10.12"
  }
 },
 "nbformat": 4,
 "nbformat_minor": 5
}
