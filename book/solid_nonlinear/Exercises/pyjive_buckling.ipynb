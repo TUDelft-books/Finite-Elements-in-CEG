{
 "cells": [
  {
   "cell_type": "markdown",
   "id": "2bda7907-1edd-4e28-aa57-e6d947f9bf98",
   "metadata": {},
   "source": [
    "# PyJive workshop: buckling\n",
    "This workshop is about analysis of buckling problems with `pyjive`. Two different modules are applied, the `LinBuckModule` for linear buckling analysis and the `NonlinModule` for incrementally-iterative geometrically nonlinear analysis. The main model that is used is the `FrameModel`. "
   ]
  },
  {
   "cell_type": "code",
   "execution_count": null,
   "id": "54a25f14-bfdd-494e-b3e0-57c134adde42",
   "metadata": {},
   "outputs": [],
   "source": [
    "import matplotlib.pyplot as plt\n",
    "import numpy as np\n",
    "\n",
    "import os\n",
    "import sys\n",
    "\n",
    "pyjivepath = '../../../pyjive/'\n",
    "sys.path.append(pyjivepath)\n",
    "\n",
    "if not os.path.isfile(pyjivepath + 'utils/proputils.py'):\n",
    "    print('\\n\\n**pyjive cannot be found, adapt \"pyjivepath\" above or move notebook to appropriate folder**\\n\\n')\n",
    "    raise Exception('pyjive not found')\n",
    "\n",
    "from utils import proputils as pu\n",
    "import main\n",
    "from names import GlobNames as gn\n",
    "\n",
    "%matplotlib widget"
   ]
  },
  {
   "cell_type": "code",
   "execution_count": null,
   "id": "7dbafaa4-4d9b-43fc-8302-3f6b86bae728",
   "metadata": {},
   "outputs": [],
   "source": [
    "import contextlib\n",
    "from urllib.request import urlretrieve\n",
    "\n",
    "def findfile(fname):\n",
    "    url = \"https://gitlab.tudelft.nl/cm/public/drive/-/raw/main/buckling/\" + fname + \"?inline=false\"\n",
    "    if not os.path.isfile(fname):\n",
    "        print(f\"Downloading {fname}...\")\n",
    "        urlretrieve(url, fname)"
   ]
  },
  {
   "cell_type": "markdown",
   "id": "66743332-4fe8-41cc-9fb7-2f8f3600445b",
   "metadata": {},
   "source": [
    "## 1. Euler Beam\n",
    "As a first example, Euler buckling is considered. \n",
    "\n",
    "<center><img src=\"https://raw.githubusercontent.com/fmeer/public-files/main/ciem5110/eulerBeam.png\" alt=\"Euler beam\" width=\"400\"/></center>\n",
    "\n"
   ]
  },
  {
   "cell_type": "code",
   "execution_count": null,
   "id": "6b57a28e-fb9d-4fb3-bdb5-5ac1bb0619f5",
   "metadata": {},
   "outputs": [],
   "source": [
    "findfile(\"beam.geom\")\n",
    "findfile(\"eulerLB.pro\")\n",
    "findfile(\"eulerNonlin.pro\")"
   ]
  },
  {
   "cell_type": "markdown",
   "id": "ec1bdb75-4b4b-4b2b-a29c-4c75e9640b8e",
   "metadata": {},
   "source": [
    "<div style=\"background-color:#AABAB2; color: black; vertical-align: middle; padding:15px; margin: 10px; border-radius: 10px\">\n",
    "<p>\n",
    "<b>Task 1a: Linear buckling analysis </b>\n",
    "    \n",
    "1. Look in the code to find out how the `LinBuckModule` and the `FrameModel` interact. Two `scipy` linear algebra functions are used, `spsolve` and `eig`. What is the function of each of these? \n",
    "2. Run linear buckling analysis with the cell below. Print the first 5 buckling values (they are stored in a sorted array in `globdat` with the key `gn.LBFACTORS`).\n",
    "3. Compare the obtained values to the analytical solution $F=n^2\\pi^2EI/L^2$. What can be done to bring the results closer to the theoretical ones? \n",
    "   \n",
    "</p>\n",
    "</div>"
   ]
  },
  {
   "cell_type": "code",
   "execution_count": null,
   "id": "318da0eb-e345-439c-ae1f-0dc7360851e5",
   "metadata": {},
   "outputs": [],
   "source": [
    "props = pu.parse_file('eulerLB.pro')\n",
    "globdat = main.jive(props)\n"
   ]
  },
  {
   "cell_type": "markdown",
   "id": "acb3ec67-9240-4d46-939a-f653dc79ba31",
   "metadata": {},
   "source": [
    "<div style=\"background-color:#AABAB2; color: black; vertical-align: middle; padding:15px; margin: 10px; border-radius: 10px\">\n",
    "<p>\n",
    "<b>Task 1b: Geometrically nonlinear analysis </b>\n",
    "    \n",
    "Run the cell below, and inspect the results. \n",
    "1. What is the difference between the inputs for the two `main.jive` calls? How does this affect the model results?\n",
    "2. Is the analysis performed in load control or in displacement control?\n",
    "   \n",
    "</p>\n",
    "</div>"
   ]
  },
  {
   "cell_type": "code",
   "execution_count": null,
   "id": "c53929f8-4442-46f6-8b21-174d7e3230f2",
   "metadata": {},
   "outputs": [],
   "source": [
    "props = pu.parse_file('eulerNonlin.pro')\n",
    "globdat = main.jive(props)\n",
    "\n",
    "props['model']['neum']['values'] = '[ 0.001 ]'\n",
    "\n",
    "globdat = main.jive(props)\n"
   ]
  },
  {
   "cell_type": "markdown",
   "id": "8df77632-dbdd-42d7-84f9-40681654bdcc",
   "metadata": {},
   "source": [
    "## 2. Frame buckling\n",
    "\n",
    "As a next example, the buckling behavior of a simple frame is analyzed. \n",
    "\n",
    "<center><img src=\"https://raw.githubusercontent.com/fmeer/public-files/main/ciem5110/frameA.png\" alt=\"Simple frame\" width=\"250\"/></center>\n"
   ]
  },
  {
   "cell_type": "code",
   "execution_count": null,
   "id": "7a3fb033-1027-40e0-b0fb-3606af9b247c",
   "metadata": {},
   "outputs": [],
   "source": [
    "findfile(\"frame.geom\")\n",
    "findfile(\"frameLB.pro\")\n",
    "findfile(\"frameNonlin.pro\")"
   ]
  },
  {
   "cell_type": "markdown",
   "id": "222bbccb-6dc4-4f7d-bfc0-2e2ed6b84adb",
   "metadata": {},
   "source": [
    "<div style=\"background-color:#AABAB2; color: black; vertical-align: middle; padding:15px; margin: 10px; border-radius: 10px\">\n",
    "<p>\n",
    "<b>Task 2: Frame buckling </b>\n",
    "    \n",
    "Run the two analyses types by executing the two cells below. \n",
    "1. How well from the different analyses agree?\n",
    "2. Why does the nonlinear analysis not require an imperfection this time to find buckling behavior? \n",
    "   \n",
    "</p>\n",
    "</div>"
   ]
  },
  {
   "cell_type": "code",
   "execution_count": null,
   "id": "77dbfe94-174f-4742-8198-efaf529bf8ac",
   "metadata": {},
   "outputs": [],
   "source": [
    "props = pu.parse_file('frameLB.pro')\n",
    "globdat = main.jive(props)\n",
    "print(globdat[gn.LBFACTORS][0:5])\n"
   ]
  },
  {
   "cell_type": "code",
   "execution_count": null,
   "id": "e52392bf-9fd5-495b-bdaa-65fcb8652486",
   "metadata": {},
   "outputs": [],
   "source": [
    "props = pu.parse_file('frameNonlin.pro')\n",
    "globdat = main.jive(props)"
   ]
  },
  {
   "cell_type": "markdown",
   "id": "0ff3f951-9f08-499b-a6ac-2c261f39fa1f",
   "metadata": {
    "tags": []
   },
   "source": [
    "## 3. Imperfection sensitivity\n",
    "\n",
    "The final case concerns analysis of a column that is supported by an inclined elastic spring.\n",
    "\n",
    "<center><img src=\"https://raw.githubusercontent.com/fmeer/public-files/main/ciem5110/inclined.png\" alt=\"Column supported with inclined spring\" width=\"150\"/></center>\n",
    "\n",
    "An input file is provided where the spring is modeled with a separate FrameModel, with $EI=GA=0$ and a value for $EA$ that ensures $k=1$. "
   ]
  },
  {
   "cell_type": "code",
   "execution_count": null,
   "id": "97b7dab2-c40d-4f4e-b9f1-dd7d4579233d",
   "metadata": {},
   "outputs": [],
   "source": [
    "findfile(\"inclined.geom\")\n",
    "findfile(\"inclined.pro\")"
   ]
  },
  {
   "cell_type": "markdown",
   "id": "ea64ab71-a327-4170-8ed6-f64123d04fbc",
   "metadata": {},
   "source": [
    "<div style=\"background-color:#AABAB2; color: black; vertical-align: middle; padding:15px; margin: 10px; border-radius: 10px\">\n",
    "<p>\n",
    "<b>Task 2: Imperfection sensitivity </b>\n",
    "    \n",
    "1. Inspect the input file `inclined.pro`. Can you figure out how different properties are assigned to different parts of the model? \n",
    "2. Check the influence of moving the top node with an imperfection of $\\Delta=L/100$ to the right. How does this affect the maximum load carrying capacity? \n",
    "3. What happens if the imperfection is introduced by moving the top node the same distance to the left? \n",
    "</p>\n",
    "</div>"
   ]
  },
  {
   "cell_type": "code",
   "execution_count": null,
   "id": "682bc492-7ef6-4107-b117-d4ce0bd6927a",
   "metadata": {},
   "outputs": [],
   "source": [
    "props = pu.parse_file('inclined.pro')\n",
    "globdat = main.jive(props)\n"
   ]
  }
 ],
 "metadata": {
  "kernelspec": {
   "display_name": "Python 3 (ipykernel)",
   "language": "python",
   "name": "python3"
  },
  "language_info": {
   "codemirror_mode": {
    "name": "ipython",
    "version": 3
   },
   "file_extension": ".py",
   "mimetype": "text/x-python",
   "name": "python",
   "nbconvert_exporter": "python",
   "pygments_lexer": "ipython3",
   "version": "3.10.12"
  }
 },
 "nbformat": 4,
 "nbformat_minor": 5
}
