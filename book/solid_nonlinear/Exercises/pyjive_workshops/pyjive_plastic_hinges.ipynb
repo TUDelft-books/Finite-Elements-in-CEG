{
 "cells": [
  {
   "cell_type": "markdown",
   "id": "2bda7907-1edd-4e28-aa57-e6d947f9bf98",
   "metadata": {},
   "source": [
    "# PyJive workshop: plastic hinges\n",
    "This workshop is about analysis of plastic frame problems with `pyjive`. The main model that is used is the `FrameModel`. Instead of the `NonlinModule`, the incremental-iterative procedure is performed with the `ArclenModule` to allow for capturing post-peak response with proportional loading. "
   ]
  },
  {
   "cell_type": "code",
   "execution_count": null,
   "id": "54a25f14-bfdd-494e-b3e0-57c134adde42",
   "metadata": {},
   "outputs": [],
   "source": [
    "import matplotlib.pyplot as plt\n",
    "import numpy as np\n",
    "\n",
    "import contextlib\n",
    "import os\n",
    "import sys\n",
    "\n",
    "pyjivepath = '../../../pyjive/'\n",
    "sys.path.append(pyjivepath)\n",
    "\n",
    "if not os.path.isfile(pyjivepath + 'utils/proputils.py'):\n",
    "    print('\\n\\n**pyjive cannot be found, adapt \"pyjivepath\" above or move notebook to appropriate folder**\\n\\n')\n",
    "    raise Exception('pyjive not found')\n",
    "\n",
    "from utils import proputils as pu\n",
    "import main\n",
    "from names import GlobNames as gn\n",
    "\n",
    "%matplotlib widget"
   ]
  },
  {
   "cell_type": "code",
   "execution_count": null,
   "id": "7dbafaa4-4d9b-43fc-8302-3f6b86bae728",
   "metadata": {},
   "outputs": [],
   "source": [
    "from urllib.request import urlretrieve\n",
    "\n",
    "def findfile(fname):\n",
    "    url = \"https://gitlab.tudelft.nl/cm/public/drive/-/raw/main/plastic-frame/\" + fname + \"?inline=false\"\n",
    "    if not os.path.isfile(fname):\n",
    "        print(f\"Downloading {fname}...\")\n",
    "        urlretrieve(url, fname)\n",
    "        \n",
    "findfile('beam.pro')\n",
    "findfile('beam.geom')\n",
    "findfile('frame.pro')\n",
    "findfile('frame.geom')"
   ]
  },
  {
   "cell_type": "markdown",
   "id": "686a54ba-dbfa-4cd8-add6-89124ef0c20a",
   "metadata": {
    "tags": []
   },
   "source": [
    "## 1. Beam with axial and lateral load\n",
    "In this notebook we consider the geometrically nonlinear behavior of a simply supported beam with two point loads and a plastic hinge. The ratio between the point loads is controlled by the parameter $\\alpha$.\n",
    "\n",
    "<center><img src=\"https://raw.githubusercontent.com/fmeer/public-files/main/ciem5110/plasticBeam.png\" alt=\"Euler beam\" width=\"700\"/></center>\n",
    "\n"
   ]
  },
  {
   "cell_type": "markdown",
   "id": "cf79a563-5f0c-4fc2-8290-8252710874be",
   "metadata": {},
   "source": [
    "### 1.1 Geometrically nonlinear elastic analysis\n",
    "Starting point is a geometrically nonlinear elastic analysis, with small $\\alpha$ such that the problem is like a perturbed elastic buckling problem.\n"
   ]
  },
  {
   "cell_type": "code",
   "execution_count": null,
   "id": "f01f82dd-feb9-4865-a49d-f199bfc27805",
   "metadata": {},
   "outputs": [],
   "source": [
    "plt.close('all')\n",
    "props = pu.parse_file('beam.pro')\n",
    "globdat = main.jive(props)\n",
    "\n",
    "def plotFu(globdat):\n",
    "    # make a customized force-displacement plot\n",
    "    Ftot = globdat['loaddisp']['left']['load']['dx'] + globdat['loaddisp']['mid']['load']['dy']\n",
    "    umid = globdat['loaddisp']['mid']['disp']['dy']\n",
    "    plt.figure()\n",
    "    plt.plot(umid,Ftot,marker='.')\n",
    "    plt.xlabel('u')\n",
    "    plt.ylabel('F')\n",
    "    plt.show()\n",
    "    \n",
    "plotFu(globdat)\n"
   ]
  },
  {
   "cell_type": "markdown",
   "id": "2dafaa49-aea0-4b91-8767-695164bfed50",
   "metadata": {},
   "source": [
    "### 1.2 Analysis with plastic hinges\n",
    "To add plastic hinges, the `plastic` flag in the `FrameModel` input is set to `True` and an additional input parameter is specified, the plastic moment capacity of the cross-section $M_\\mathrm{p}$"
   ]
  },
  {
   "cell_type": "code",
   "execution_count": null,
   "id": "4cdbc0b1-d600-4a48-a8f4-b09468a6d228",
   "metadata": {
    "scrolled": true
   },
   "outputs": [],
   "source": [
    "props = pu.parse_file('beam.pro')\n",
    "props['model']['frame']['plastic'] = 'True'\n",
    "props['model']['frame']['Mp'] = '0.4'\n",
    "\n",
    "plt.close('all')\n",
    "globdat = main.jive(props)\n",
    "plotFu(globdat)"
   ]
  },
  {
   "cell_type": "markdown",
   "id": "868bb236-a8a6-4d96-8afb-464397cc7053",
   "metadata": {},
   "source": [
    "### 1.3 Analysis with lower value for $\\alpha$\n",
    "By changing $\\alpha$, the type of response changes. Previously, the solution was that of a buckling problem with material nonlinearity during post-buckling. With $\\alpha=0.5$ it becomes a bending dominated problem. "
   ]
  },
  {
   "cell_type": "code",
   "execution_count": null,
   "id": "532c2356-51e4-4a40-8dbd-bfc4e59fc7ed",
   "metadata": {},
   "outputs": [],
   "source": [
    "alpha = 0.5\n",
    "plt.close('all')\n",
    "props['model']['neum']['loadIncr'] = str([1-alpha,alpha])\n",
    "globdat = main.jive(props)\n",
    "plotFu(globdat)"
   ]
  },
  {
   "cell_type": "markdown",
   "id": "90bc72f4-b1fe-4902-9089-2f1a55698361",
   "metadata": {},
   "source": [
    "### 1.4 Different values of $\\alpha$\n",
    "Finally, the analysis is repeated with a range of different values for $\\alpha$. Note we use `contextlib.redirect_stdout` here to suppress the output written by pyjive."
   ]
  },
  {
   "cell_type": "code",
   "execution_count": null,
   "id": "c758976c-0026-4045-b62c-116774e7149e",
   "metadata": {},
   "outputs": [],
   "source": [
    "# function that runs analysis for given load case\n",
    "def run_analysis(alpha,props):\n",
    "    props['model']['neum']['loadIncr'] = str([1-alpha,alpha])\n",
    "    with contextlib.redirect_stdout(open(os.devnull, \"w\")):\n",
    "        globdat = main.jive(props)\n",
    "    F = globdat['loaddisp']['left']['load']['dx'] + globdat['loaddisp']['mid']['load']['dy']\n",
    "    u = globdat['loaddisp']['mid']['disp']['dy']\n",
    "    print('done with analysis with alpha ' + str(alpha))\n",
    "    return F, u\n",
    "\n",
    "# switch off frameviewmodule\n",
    "if 'frameview' in props: \n",
    "    del props['frameview']    \n",
    "\n",
    "# run analysis for a number of different alphas\n",
    "plt.close('all')\n",
    "for alpha in [0.001,0.01,0.02,0.05,0.1,0.2,0.5,1,1.5]:\n",
    "    F,u = run_analysis(alpha,props)\n",
    "    plt.plot(u,F)\n",
    "plt.show()\n"
   ]
  },
  {
   "cell_type": "markdown",
   "id": "520bd23e-30ac-4b97-b785-255d0bb398dd",
   "metadata": {
    "tags": []
   },
   "source": [
    "## 2. Frame with lateral loading\n",
    "Secondly, the plastic collapse of a frame is analysed. The geometry visualized below is used, in combination with  $L=2$, $EI=10$, $EA=20000$, $GA=10000$.\n",
    "\n",
    "<center><img src=\"https://raw.githubusercontent.com/fmeer/public-files/main/ciem5110/frameB.png\" alt=\"Simple frame with lateral load\" width=\"300\"/></center>\n",
    "\n"
   ]
  },
  {
   "cell_type": "markdown",
   "id": "4e784f7c-7b89-4d81-a07e-905445f30a84",
   "metadata": {},
   "source": [
    "### 2.1 Geometrically nonlinear analysis"
   ]
  },
  {
   "cell_type": "markdown",
   "id": "6f5332d0-23df-43f2-8fb1-d0a09e47c745",
   "metadata": {},
   "source": [
    "Starting point is geometrically nonlinear elastic analysis. Load-displacement data is stored to allow for a comparison between results from different analyses later on."
   ]
  },
  {
   "cell_type": "code",
   "execution_count": null,
   "id": "7a76e734-c9a7-4147-a594-7ea5d8561657",
   "metadata": {
    "scrolled": true,
    "tags": []
   },
   "outputs": [],
   "source": [
    "props = pu.parse_file('frame.pro')\n",
    "globdat = main.jive(props)\n",
    "\n",
    "def getFu(globdat):\n",
    "    F = globdat['loaddisp']['topleft']['load']['dx']\n",
    "    u = globdat['loaddisp']['topleft']['disp']['dx']\n",
    "    return np.vstack((u,F))\n",
    "\n",
    "FuPlasNL = getFu(globdat)"
   ]
  },
  {
   "cell_type": "markdown",
   "id": "c39b113d-c1c0-4c58-8428-1042e6c35cbe",
   "metadata": {},
   "source": [
    "To further inspect the mechanical response, we can create a new `FrameViewModule` in the notebook."
   ]
  },
  {
   "cell_type": "code",
   "execution_count": null,
   "id": "73a37009-c90f-4f40-bcee-e7ca28733115",
   "metadata": {},
   "outputs": [],
   "source": [
    "\n",
    "\n",
    "fv = globdat[gn.MODULEFACTORY].get_module('FrameView','fv')\n",
    "\n",
    "props['fv'] = {}\n",
    "props['fv']['plotStress'] = 'M'\n",
    "props['fv']['deform'] = '1'\n",
    "props['fv']['interactive'] = 'True'\n",
    "props['fv']['plotNeumann'] = 'False'\n",
    "props['fv']['step0'] = 100\n",
    "\n",
    "plt.close('all')\n",
    "fv.init(props, globdat)\n",
    "status = fv.run(globdat)\n",
    "fv.shutdown(globdat)\n",
    "\n"
   ]
  },
  {
   "cell_type": "markdown",
   "id": "ce2d0e1f-b526-45d7-8ac7-6cb93ea1542a",
   "metadata": {},
   "source": [
    "### 2.2 Geometrically linear version"
   ]
  },
  {
   "cell_type": "markdown",
   "id": "83e7c70b-13e5-491f-bb95-b9fb3569b41b",
   "metadata": {},
   "source": [
    "The `FrameModel` has the ability to do geometrically linear analysis as well. This is achieved by setting the `subtype` to `linear`. From the immediate convergence and from the shape of the load-displacement curve, it can be observed that the analysis is indeed linear (except for discrete events when the plastic hinges are added). Do you notice the difference in displacements compared to the nonlinear analysis?"
   ]
  },
  {
   "cell_type": "code",
   "execution_count": null,
   "id": "88c06748-7fb5-4586-b8af-c585995fbeb2",
   "metadata": {
    "tags": []
   },
   "outputs": [],
   "source": [
    "plt.close('all')\n",
    "props = pu.parse_file('frame.pro')\n",
    "props['model']['frame']['subtype'] = 'linear';\n",
    "globdat = main.jive(props)\n",
    "\n",
    "FuPlasLin = getFu(globdat)"
   ]
  },
  {
   "cell_type": "markdown",
   "id": "6f77177d-adf5-4464-956c-57720c7e33a9",
   "metadata": {},
   "source": [
    "A comparison with an analytical solution for the second order rigid-plastic response of this frame is possible. The analytical solution, gives the following relation between force and displacement for the structure after development of the plastic mechanism:\n",
    "\n",
    "$$ \n",
    "u = \\frac{3M_\\mathrm{p}}{L}\\left(1-\\frac{43u}{3L}\\right)\n",
    "$$"
   ]
  },
  {
   "cell_type": "code",
   "execution_count": null,
   "id": "58f0f2a5-1607-4963-92c5-923f0777d53f",
   "metadata": {},
   "outputs": [],
   "source": [
    "Mp = float(props['model']['frame']['Mp'])\n",
    "L = 2\n",
    "uanalytical = np.linspace(0,0.3,100)\n",
    "Fanalytical = 3*Mp/L*(1-43/3*uanalytical/L)"
   ]
  },
  {
   "cell_type": "code",
   "execution_count": null,
   "id": "cf9120e5-f13e-48d8-ab44-ba69fc33e6d0",
   "metadata": {},
   "outputs": [],
   "source": [
    "plt.close('all')\n",
    "plt.plot(FuPlasNL[0],FuPlasNL[1])\n",
    "plt.plot(FuPlasLin[0],FuPlasLin[1])\n",
    "plt.plot(uanalytical,Fanalytical,'--')\n",
    "plt.plot(uanalytical,Fanalytical[0]*np.ones(uanalytical.shape),'--')\n",
    "plt.ylim(0,0.7)\n",
    "plt.show()"
   ]
  },
  {
   "cell_type": "markdown",
   "id": "765b1cab-3706-4eaa-b775-892181a78b46",
   "metadata": {},
   "source": [
    "It is a bit hard to judge the level of agreement between rigid-plastic and nonlinear finite element solution. This is due to the fact that displacements are already significant when the mechanism develops in the finite element simulation. Therefore, the second order approximation in the rigid-plastic solution is not realistic in the region where the two can be compared. \n",
    "\n",
    "To check the analytical result, we can let the finite element solution behave more in agreement with the rigid-plastic assumptions. This is done by increasing the stiffnesses."
   ]
  },
  {
   "cell_type": "code",
   "execution_count": null,
   "id": "ce38322f-3b6d-41c2-bab7-07db9a6f4691",
   "metadata": {},
   "outputs": [],
   "source": [
    "props = pu.parse_file('frame.pro')\n",
    "props['model']['frame']['EI'] = '2.e3'\n",
    "props['model']['frame']['GA'] = '1.e6'\n",
    "props['model']['frame']['EA'] = '2.e6'\n",
    "globdat = main.jive(props)\n",
    "\n",
    "def getFu(globdat):\n",
    "    F = globdat['loaddisp']['topleft']['load']['dx']\n",
    "    u = globdat['loaddisp']['topleft']['disp']['dx']\n",
    "    return np.vstack((u,F))\n",
    "\n",
    "FuRigPlas = getFu(globdat)"
   ]
  },
  {
   "cell_type": "code",
   "execution_count": null,
   "id": "c6868506-23b2-4408-b473-b70ea11e504d",
   "metadata": {},
   "outputs": [],
   "source": [
    "plt.close('all')\n",
    "plt.plot(FuPlasNL[0],FuPlasNL[1],label='nonlinear elastic/plastic')\n",
    "plt.plot(FuPlasLin[0],FuPlasLin[1],label='linear elastic/plastic')\n",
    "plt.plot(FuRigPlas[0],FuRigPlas[1],label='nonlinear rigid/plastic')\n",
    "plt.plot(uanalytical,Fanalytical,'--',label='analytical 2nd order')\n",
    "plt.plot(uanalytical,Fanalytical[0]*np.ones(uanalytical.shape),'--',label='analytical 1st order')\n",
    "plt.xlabel('u')\n",
    "plt.ylabel('F')\n",
    "plt.ylim(0,0.7)\n",
    "plt.legend()\n",
    "plt.show()"
   ]
  },
  {
   "cell_type": "markdown",
   "id": "a0c9944d-dcef-4484-b08f-8ae27519cf49",
   "metadata": {},
   "source": [
    "Now, we can see that the analytical second order approximation indeed gives an accurate representation of the initial slope of the force-displacement relation in the plastic mechanism."
   ]
  },
  {
   "cell_type": "markdown",
   "id": "94af2521-8929-4a3c-b828-029a31e93b89",
   "metadata": {},
   "source": [
    "The comparison above indicates that the buckling load is of the same order of magnitude as the plastic collapse load, because the maximum load from complete nonlinear analysis including both plasticity and geometric nonlinearity is significantly lower than the plastic collapse load from linear analysis. With linear buckling analysis we can assert whether this is indeed the case. We remove the `ArclenModule` from the `props` and add a `LinBuckModule`"
   ]
  },
  {
   "cell_type": "code",
   "execution_count": null,
   "id": "4397534d-4cdb-4578-a14f-fe36c8950746",
   "metadata": {},
   "outputs": [],
   "source": [
    "plt.close('all')\n",
    "props = pu.parse_file('frame.pro')\n",
    "del props['nonlin']\n",
    "del props['loaddisp']\n",
    "del props['graph']\n",
    "\n",
    "props['model']['neum']['values'] = props['model']['neum']['loadIncr']\n",
    "props['linbuck'] = {}\n",
    "props['linbuck']['type'] = 'LinBuck'\n",
    "globdat = main.jive(props)\n"
   ]
  },
  {
   "cell_type": "markdown",
   "id": "9ae92669-4bf9-4167-ab43-04eb87eb1393",
   "metadata": {},
   "source": [
    "Finally, we can check the accuracy of Merchant's formula for predicting the maximum load $F_\\mathrm{max}$ from the linear plastic collapse load $F_\\mathrm{p}$ and the linear buckling load $F_\\mathrm{b}$ through\n",
    "\n",
    "$$\\frac{1}{F_\\mathrm{max}} = \\frac{1}{F_\\mathrm{p}} + \\frac{1}{F_\\mathrm{b}}$$"
   ]
  },
  {
   "cell_type": "code",
   "execution_count": null,
   "id": "5767eed3-eb32-4f54-b3b5-fc79e29ccee7",
   "metadata": {},
   "outputs": [],
   "source": [
    "Fp = Fanalytical[0]\n",
    "Fb = globdat[gn.LBFACTORS][0].real\n",
    "Fmerchant = 1/(1/Fp+1/Fb)\n",
    "FmaxFEM = max(FuPlasNL[1])\n",
    "print('Fp        =', Fp)\n",
    "print('Fb        =', Fb)\n",
    "print('Fmerchant =', Fmerchant)\n",
    "print('FmaxFEM   =', FmaxFEM)"
   ]
  },
  {
   "cell_type": "code",
   "execution_count": null,
   "id": "50f43978-9d56-49cb-b3c4-b4808c5fcc4f",
   "metadata": {},
   "outputs": [],
   "source": []
  }
 ],
 "metadata": {
  "kernelspec": {
   "display_name": "Python 3 (ipykernel)",
   "language": "python",
   "name": "python3"
  },
  "language_info": {
   "codemirror_mode": {
    "name": "ipython",
    "version": 3
   },
   "file_extension": ".py",
   "mimetype": "text/x-python",
   "name": "python",
   "nbconvert_exporter": "python",
   "pygments_lexer": "ipython3",
   "version": "3.10.12"
  }
 },
 "nbformat": 4,
 "nbformat_minor": 5
}
