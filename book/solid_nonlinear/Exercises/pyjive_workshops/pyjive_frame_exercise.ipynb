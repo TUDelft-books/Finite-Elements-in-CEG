{
 "cells": [
  {
   "cell_type": "markdown",
   "id": "734a34b9-128e-446c-9fe3-2ca1784d9251",
   "metadata": {},
   "source": [
    "# PyJive workshop: stability of a house-shaped frame"
   ]
  },
  {
   "cell_type": "markdown",
   "id": "6924d9be-df05-4bb7-81f7-4d34a7a785da",
   "metadata": {},
   "source": [
    "## Case definition\n",
    "In this workshop, you are asked to set up your own problem and analyse it from different angles, using the `FrameModel` and different modules from pyJive as discussed in previous workshops. The case that is studied is the one illustrated below. \n",
    "\n",
    "<center><img src=\"https://raw.githubusercontent.com/fmeer/public-files/main/ciem5110/formativeFrame.png\" alt=\"Simple frame\" width=\"300\"/></center>\n",
    "\n"
   ]
  },
  {
   "cell_type": "code",
   "execution_count": null,
   "id": "2e95ee22-111e-4405-97a0-89e7cd35ed9f",
   "metadata": {},
   "outputs": [],
   "source": [
    "import matplotlib.pyplot as plt\n",
    "import numpy as np\n",
    "\n",
    "import os\n",
    "import sys\n",
    "\n",
    "pyjivepath = '../../../pyjive/'\n",
    "sys.path.append(pyjivepath)\n",
    "\n",
    "if not os.path.isfile(pyjivepath + 'utils/proputils.py'):\n",
    "    print('\\n\\n**pyjive cannot be found, adapt \"pyjivepath\" above or move notebook to appropriate folder**\\n\\n')\n",
    "    raise Exception('pyjive not found')\n",
    "\n",
    "from utils import proputils as pu\n",
    "import main\n",
    "from names import GlobNames as gn\n",
    "\n",
    "%matplotlib widget"
   ]
  },
  {
   "cell_type": "markdown",
   "id": "301119da-5235-4e48-8c02-aa5fc4fdefae",
   "metadata": {},
   "source": [
    "## Linear elastic analysis\n",
    "Define your own pair of geometry file and input file and perform a linear elastic analysis. A good starting point could be the `frameNonlin.pro` input file from the workhop on buckling. Make sure you switch off nonlinearity. "
   ]
  },
  {
   "cell_type": "code",
   "execution_count": null,
   "id": "3565a207-1684-4522-b8d6-df77bccc7bcc",
   "metadata": {},
   "outputs": [],
   "source": [
    "props = pu.parse_file('house-linear.pro')\n",
    "globdat = main.jive(props)"
   ]
  },
  {
   "cell_type": "markdown",
   "id": "b21001e5-122b-4914-a835-3eb209d9d45c",
   "metadata": {},
   "source": [
    "#### Storing results\n",
    "Below, a function is defined to looks up load-displacement data from globdat. The function is then called to store the data from the linear elastic analysis. This can later be used to compare the results from different analyses in a single diagram.\n",
    "\n",
    "You need to modify the function to get relevant load/displacement data. Note that in order to record data for a particular node group, you need to specify this group in the `loaddisp` part of the `.pro`-file. \n",
    "\n"
   ]
  },
  {
   "cell_type": "code",
   "execution_count": null,
   "id": "6b8208b3-fdb4-40e6-9e61-65f64fe20889",
   "metadata": {},
   "outputs": [],
   "source": [
    "def getFu(globdat):\n",
    "    F = abs(globdat['loaddisp']['top']['load']['dy'])\n",
    "    u = abs(globdat['loaddisp']['top']['disp']['dy'])\n",
    "    return np.vstack((u,F))\n",
    "\n",
    "lin_elas = getFu(globdat)\n",
    "\n",
    "# pad with zeros because linear elastic gives only one force-displacement point\n",
    "lin_elas = np.hstack((np.zeros((2,1)), lin_elas))"
   ]
  },
  {
   "cell_type": "markdown",
   "id": "4b54b27f-3a84-4cb6-9e77-f48126f5a279",
   "metadata": {
    "tags": []
   },
   "source": [
    "## Linear buckling analysis\n",
    "Now perform linear buckling analysis. You are recommended to make a new input file because quite several modifications need to be made. Again, you can take one from the buckling workshop as starting point. "
   ]
  },
  {
   "cell_type": "code",
   "execution_count": null,
   "id": "5bbd5ab1-7853-4b92-b1b0-19e75e5058aa",
   "metadata": {},
   "outputs": [],
   "source": [
    "props = pu.parse_file('house-lb.pro')\n",
    "globdat = main.jive(props)\n",
    "bucklingLoad = globdat[gn.LBFACTORS][0]"
   ]
  },
  {
   "cell_type": "markdown",
   "id": "26295bc0-dd69-4099-8c20-57dfc389ffa7",
   "metadata": {},
   "source": [
    "## Geometrically nonlinear elastic analysis\n",
    "The next step is to perform geometrically nonlinear elastic anlaysis. You can take the input file from the linear-elastic analysis and overwrite one of the entries in the notebook. How do the results compare to the results from linear buckling analysis (in terms of buckling load and buckling mode)?"
   ]
  },
  {
   "cell_type": "code",
   "execution_count": null,
   "id": "metallic-backing",
   "metadata": {},
   "outputs": [],
   "source": [
    "props = pu.parse_file('house-nonlin.pro')\n",
    "globdat = main.jive(props)"
   ]
  },
  {
   "cell_type": "markdown",
   "id": "7e565bc6-376f-452e-966c-47fa5696bc03",
   "metadata": {},
   "source": [
    "## Geometrically linear elastic/plastic analysis\n",
    "Next, perform a geometrically linear analysis with plastic hinges. Again, take the previous input file as starting point."
   ]
  },
  {
   "cell_type": "code",
   "execution_count": null,
   "id": "99e3959b-8faa-44e0-8f1c-893649ef1ca4",
   "metadata": {},
   "outputs": [],
   "source": []
  },
  {
   "cell_type": "markdown",
   "id": "d9f15424-8bc5-4231-8d3b-a40e0fab0b30",
   "metadata": {},
   "source": [
    "## Geometrically nonlinear elastic/plastic analysis\n",
    "As last analysis, perform a complete nonlinear finite element simulation with geometric nonlinearity and plastic hinges. "
   ]
  },
  {
   "cell_type": "code",
   "execution_count": null,
   "id": "28a1b96a-028a-4f74-a92c-86ae6b583cc6",
   "metadata": {},
   "outputs": [],
   "source": []
  },
  {
   "cell_type": "markdown",
   "id": "c4d0cf6a-aedb-4fb7-a6f4-13d999b4d3df",
   "metadata": {
    "tags": []
   },
   "source": [
    "### Comparison with results\n",
    "Finally, compare the results from different analysis. \n",
    "Also include the rigid-plastic 2nd order analysis result (see [pdf](https://gitlab.tudelft.nl/cm/public/drive/-/raw/main/frame-assignment/CIEM5110_U1_assignmentA_solution.pdf) for background):\n",
    "\n",
    "$$ \n",
    "F \\approx \\frac{6M_\\mathrm{p}}{L}\\left(1-2\\textstyle\\frac13\\theta\\right)\n",
    "$$\n",
    "\n",
    "Suppose you want to check this analytical solution, what can you change to the model inputs to get more definite insight in its validity? "
   ]
  },
  {
   "cell_type": "code",
   "execution_count": null,
   "id": "2d1cd065-a160-4829-a990-91fda3f7121d",
   "metadata": {},
   "outputs": [],
   "source": []
  }
 ],
 "metadata": {
  "kernelspec": {
   "display_name": "Python 3 (ipykernel)",
   "language": "python",
   "name": "python3"
  },
  "language_info": {
   "codemirror_mode": {
    "name": "ipython",
    "version": 3
   },
   "file_extension": ".py",
   "mimetype": "text/x-python",
   "name": "python",
   "nbconvert_exporter": "python",
   "pygments_lexer": "ipython3",
   "version": "3.10.12"
  }
 },
 "nbformat": 4,
 "nbformat_minor": 5
}
