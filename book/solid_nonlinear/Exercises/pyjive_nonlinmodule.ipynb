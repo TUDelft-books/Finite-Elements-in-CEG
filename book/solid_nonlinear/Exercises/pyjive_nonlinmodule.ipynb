{
 "cells": [
  {
   "cell_type": "markdown",
   "id": "845cba14-3a52-459c-aa38-bb10347a810a",
   "metadata": {},
   "source": [
    "# Pyjive workshop: Nonlinmodule"
   ]
  },
  {
   "cell_type": "markdown",
   "id": "0ef203ff-1cff-4423-b8a0-7fd5b0f3312f",
   "metadata": {},
   "source": [
    "## Preliminaries"
   ]
  },
  {
   "cell_type": "code",
   "execution_count": null,
   "id": "b90017ca-7ba9-4e8e-b394-52bc1803f433",
   "metadata": {},
   "outputs": [],
   "source": [
    "%load_ext autoreload\n",
    "%autoreload 2\n",
    "\n",
    "import matplotlib.pyplot as plt\n",
    "import numpy as np\n",
    "\n",
    "import os\n",
    "import sys\n",
    "\n",
    "pyjivepath = '../../../pyjive/'\n",
    "sys.path.append(pyjivepath)\n",
    "\n",
    "if not os.path.isfile(pyjivepath + 'utils/proputils.py'):\n",
    "    print('\\n\\n**pyjive cannot be found, adapt \"pyjivepath\" above or move notebook to appropriate folder**\\n\\n')\n",
    "    raise Exception('pyjive not found')\n",
    "\n",
    "from utils import proputils as pu\n",
    "import main\n",
    "from names import GlobNames as gn\n"
   ]
  },
  {
   "cell_type": "code",
   "execution_count": null,
   "id": "ebe4f1e6-8feb-4e25-a0ec-48de4e60e8dd",
   "metadata": {},
   "outputs": [],
   "source": [
    "# download additional files (if necessary)\n",
    "\n",
    "import contextlib\n",
    "from urllib.request import urlretrieve\n",
    "\n",
    "def findfile(fname):\n",
    "    url = \"https://gitlab.tudelft.nl/cm/public/drive/-/raw/main/nonlinmodule/\" + fname + \"?inline=false\"\n",
    "    if not os.path.isfile(fname):\n",
    "        print(f\"Downloading {fname}...\")\n",
    "        urlretrieve(url, fname)"
   ]
  },
  {
   "cell_type": "markdown",
   "id": "15bf6e94-1525-47cb-af34-f10de4cebef9",
   "metadata": {},
   "source": [
    "## $J_2$ plasticity for a 2D square-shaped domain\n",
    "\n",
    "We now work with the following simple 4-element model in 2D:\n",
    "\n",
    "<center><img src=\"https://raw.githubusercontent.com/ibcmrocha/public/main/square.png\" alt=\"mesh\" width=\"400\"/></center>\n",
    "\n",
    "We again use a plasticity model and go back to a consistent tangent formulation. For this two-dimensional model, we plot average displacements and forces at the right edge due to an applied load or displacement.\n",
    "\n",
    "Starting with a Neumann BC on the right, run the model below:"
   ]
  },
  {
   "cell_type": "markdown",
   "id": "61a59f46-1607-4564-a10c-4980adf0bbd7",
   "metadata": {},
   "source": [
    "<div style=\"background-color:#AABAB2; color: black; vertical-align: middle; padding:15px; margin: 10px; border-radius: 10px\">\n",
    "<p>\n",
    "<b>Task 1: Do something </b>   \n",
    "\n",
    "- Use \n",
    "    \n",
    "</p>\n",
    "</div>"
   ]
  },
  {
   "cell_type": "code",
   "execution_count": null,
   "id": "58304e22-6d0b-458d-817b-b1fa9afee322",
   "metadata": {},
   "outputs": [],
   "source": [
    "props = pu.parse_file('square.pro')\n",
    "\n",
    "globdat = main.jive(props)"
   ]
  },
  {
   "cell_type": "markdown",
   "id": "02aa8331-a061-4aea-b700-02aa04c2ba5c",
   "metadata": {},
   "source": [
    "## Exponential hardening\n",
    "\n",
    "As you can see, the material had linear hardening for the model above. Now let us try exponential hardening:\n",
    "\n",
    "- Open `square.pro` and edit `yield` to set $\\sigma_\\mathrm{y} = 64.8 - 33.6\\exp\\left(-\\frac{\\kappa}{0.003407}\\right)$. Alternatively, you can do it directly after reading the properties in the block below;\n",
    "- Run the model again and try to make sense of what happened;\n",
    "- Try to decrease time step size to see if that helps."
   ]
  },
  {
   "cell_type": "code",
   "execution_count": null,
   "id": "a7b0a267-32af-4e91-9633-9e7e2a7eef48",
   "metadata": {},
   "outputs": [],
   "source": [
    "props = pu.parse_file('square.pro')\n",
    "\n",
    "#props['model']['solid']['material']['yield'] = ???\n",
    "\n",
    "globdat = main.jive(props)"
   ]
  },
  {
   "cell_type": "markdown",
   "id": "ea9945fa-6d78-4642-8999-6f4df352da40",
   "metadata": {},
   "source": [
    "## Switching to displacement control\n",
    "\n",
    "Now try the same as above, but change `props['model']['models']` to contain only `[solid, dispcontrol]`. This will disable the original Neumann BC and switch to a displacement control strategy. Run the simulation again and see how far you can trace the equilibrium path now."
   ]
  },
  {
   "cell_type": "code",
   "execution_count": null,
   "id": "601ed0b5-7d01-4740-b56d-988c07c65107",
   "metadata": {},
   "outputs": [],
   "source": [
    "props = pu.parse_file('square.pro')\n",
    "\n",
    "# code\n",
    "\n",
    "globdat = main.jive(props)"
   ]
  },
  {
   "cell_type": "markdown",
   "id": "6bb41011-536b-4d33-999d-afacf4803c20",
   "metadata": {},
   "source": [
    "## Try with Modified Newton-Raphson\n",
    "\n",
    "<div style=\"background-color:#AABAB2; color: black; vertical-align: middle; padding:15px; margin: 10px; border-radius: 10px\">\n",
    "<p>\n",
    "<b>Task x: Adapt the NonlinModule to perform modified Newton-Raphson </b>   \n",
    "\n",
    "- Open `nonlinmodule.py` and adapt it such that the stiffness matrix is computed only once per time step\n",
    "- What happens to the convergence?\n",
    "    \n",
    "**Tips**: \n",
    "- the `run` function is called once per time step\n",
    "- the action `GETMATRIX0` is used to compute both $K$ and $\\mathbf{f}_\\mathrm{int}, don't remove the action, because $\\mathbf{f}_\\mathrm{int}$ still needs to be computed in every iteration.\n",
    "    \n",
    "</p>\n",
    "</div>\n",
    "From the last example, you can try a Modified Newton-Raphson approach by setting to `True`. How does that affect convergence?"
   ]
  },
  {
   "cell_type": "code",
   "execution_count": null,
   "id": "84f027ed-55cd-4433-bc8b-9e30775d11a5",
   "metadata": {},
   "outputs": [],
   "source": [
    "props = pu.parse_file('square.pro')\n",
    "\n",
    "# code\n",
    "\n",
    "globdat = main.jive(props)"
   ]
  }
 ],
 "metadata": {
  "kernelspec": {
   "display_name": "Python 3 (ipykernel)",
   "language": "python",
   "name": "python3"
  },
  "language_info": {
   "codemirror_mode": {
    "name": "ipython",
    "version": 3
   },
   "file_extension": ".py",
   "mimetype": "text/x-python",
   "name": "python",
   "nbconvert_exporter": "python",
   "pygments_lexer": "ipython3",
   "version": "3.10.12"
  }
 },
 "nbformat": 4,
 "nbformat_minor": 5
}
