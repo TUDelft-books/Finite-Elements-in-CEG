{
 "cells": [
  {
   "cell_type": "markdown",
   "id": "845cba14-3a52-459c-aa38-bb10347a810a",
   "metadata": {},
   "source": [
    "# Pyjive workshop: NonlinModule\n",
    "\n",
    "In this workshop, we explore the functionality of the pyJive's NonlinModule for nonlinear finite element simulations. We will explore the difference between force control and dicplacement control, look into the implementation of the incremental-iterative procedure in `pyJive` and see the influence of consistent linearization on convergence."
   ]
  },
  {
   "cell_type": "markdown",
   "id": "0ef203ff-1cff-4423-b8a0-7fd5b0f3312f",
   "metadata": {},
   "source": [
    "## Preliminaries"
   ]
  },
  {
   "cell_type": "code",
   "execution_count": null,
   "id": "b90017ca-7ba9-4e8e-b394-52bc1803f433",
   "metadata": {},
   "outputs": [],
   "source": [
    "%load_ext autoreload\n",
    "%autoreload 2\n",
    "\n",
    "import matplotlib.pyplot as plt\n",
    "import numpy as np\n",
    "\n",
    "import os\n",
    "import sys\n",
    "\n",
    "pyjivepath = '../../../pyjive/'\n",
    "sys.path.append(pyjivepath)\n",
    "\n",
    "if not os.path.isfile(pyjivepath + 'utils/proputils.py'):\n",
    "    print('\\n\\n**pyjive cannot be found, adapt \"pyjivepath\" above or move notebook to appropriate folder**\\n\\n')\n",
    "    raise Exception('pyjive not found')\n",
    "\n",
    "from utils import proputils as pu\n",
    "import main\n",
    "from names import GlobNames as gn"
   ]
  },
  {
   "cell_type": "code",
   "execution_count": null,
   "id": "ebe4f1e6-8feb-4e25-a0ec-48de4e60e8dd",
   "metadata": {},
   "outputs": [],
   "source": [
    "# download additional files (if necessary)\n",
    "\n",
    "import contextlib\n",
    "from urllib.request import urlretrieve\n",
    "\n",
    "def findfile(fname):\n",
    "    url = \"https://gitlab.tudelft.nl/cm/public/drive/-/raw/main/nonlinmodule/\" + fname + \"?inline=false\"\n",
    "    if not os.path.isfile(fname):\n",
    "        print(f\"Downloading {fname}...\")\n",
    "        urlretrieve(url, fname)\n",
    "        \n",
    "findfile(\"square.pro\")\n",
    "findfile(\"square.msh\")"
   ]
  },
  {
   "cell_type": "markdown",
   "id": "15bf6e94-1525-47cb-af34-f10de4cebef9",
   "metadata": {},
   "source": [
    "## $J_2$ (Von Mises) plasticity for a 2D square-shaped domain\n",
    "\n",
    "We will work with the following single element model in 2D\n",
    "\n",
    "<center><img src=\"https://raw.githubusercontent.com/ibcmrocha/public/main/square.png\" alt=\"mesh\" width=\"400\"/></center>\n",
    "\n",
    "We use a plasticity model that introduces nonlinearity in the stress-strain relation. \n",
    "\n",
    "For this two-dimensional model, we plot average displacements and forces at the right edge due to an applied load or displacement. Starting with a Neumann BC on the right, run the model below:"
   ]
  },
  {
   "cell_type": "markdown",
   "id": "61a59f46-1607-4564-a10c-4980adf0bbd7",
   "metadata": {},
   "source": [
    "<div style=\"background-color:#AABAB2; color: black; vertical-align: middle; padding:15px; margin: 10px; border-radius: 10px\">\n",
    "<p>\n",
    "<b>Task 1: Run the model as is and look at the resulting force-displacement diagram. </b>   \n",
    "    \n",
    "- Can you identify the increments that were taken in the incremental-iterative procedure?\n",
    "- Does this correspond to what is defined in the input file?\n",
    "\n",
    "**Tip:** In the input file, inputs are defined for more models than the number of models that is actually used in the simulation. We will make use of this additional input later. For now, look for the line with `models = [ ... ]` where it is specified which models are active. \n",
    "</p>\n",
    "</div>"
   ]
  },
  {
   "cell_type": "code",
   "execution_count": null,
   "id": "58304e22-6d0b-458d-817b-b1fa9afee322",
   "metadata": {},
   "outputs": [],
   "source": [
    "props = pu.parse_file('square.pro')\n",
    "\n",
    "globdat = main.jive(props)"
   ]
  },
  {
   "cell_type": "markdown",
   "id": "02aa8331-a061-4aea-b700-02aa04c2ba5c",
   "metadata": {},
   "source": [
    "## Exponential hardening\n",
    "\n",
    "As you can see, the material had linear hardening for the model above. This is associated with the `yield` property in the input file, where $\\kappa$ is a measure for the amount of plastic strain. Now let us try exponential hardening.\n",
    "\n",
    "<div style=\"background-color:#AABAB2; color: black; vertical-align: middle; padding:15px; margin: 10px; border-radius: 10px\">\n",
    "<p>\n",
    "<b>Task 2: Run the model with exponential hardening. </b>   \n",
    "\n",
    "- Change the `yield` property to define an exponential hardening function: $\\sigma_\\mathrm{y} = 120 - 80\\exp\\left(-\\frac{\\kappa}{0.015}\\right)$. \n",
    "- Run the model again and try to make sense of what happens.\n",
    "- Try to decrease time step size to see if that helps."
   ]
  },
  {
   "cell_type": "code",
   "execution_count": null,
   "id": "a7b0a267-32af-4e91-9633-9e7e2a7eef48",
   "metadata": {},
   "outputs": [],
   "source": [
    "props = pu.parse_file('square.pro')\n",
    "\n",
    "globdat = main.jive(props)"
   ]
  },
  {
   "cell_type": "markdown",
   "id": "ea9945fa-6d78-4642-8999-6f4df352da40",
   "metadata": {},
   "source": [
    "## Switching the loading scheme\n",
    "\n",
    "<div style=\"background-color:#AABAB2; color: black; vertical-align: middle; padding:15px; margin: 10px; border-radius: 10px\">\n",
    "<p>\n",
    "<b>Task 3: Switch to displacement control </b>   \n",
    "\n",
    "Try the same as above, but change `props['model']['models']` to contain `[solid, dispcontrol]`. This will disable the original Neumann BC and switch to a displacement control strategy. Run the simulation again and see how far you can trace the equilibrium path now.\n",
    "    \n",
    "</p>\n",
    "</div>"
   ]
  },
  {
   "cell_type": "code",
   "execution_count": null,
   "id": "601ed0b5-7d01-4740-b56d-988c07c65107",
   "metadata": {},
   "outputs": [],
   "source": [
    "props = pu.parse_file('square.pro')\n",
    "\n",
    "globdat = main.jive(props)"
   ]
  },
  {
   "cell_type": "markdown",
   "id": "6bb41011-536b-4d33-999d-afacf4803c20",
   "metadata": {},
   "source": [
    "## Modified Newton-Raphson in the NonlinModule\n",
    "\n",
    "<div style=\"background-color:#AABAB2; color: black; vertical-align: middle; padding:15px; margin: 10px; border-radius: 10px\">\n",
    "<p>\n",
    "<b>Task 4: Adapt the NonlinModule to perform modified Newton-Raphson </b>   \n",
    "\n",
    "- Open `nonlinmodule.py` and adapt it such that in every iteration, the first computed stifness matrix from the time step is used\n",
    "- What happens to the convergence in displacement control?\n",
    "- Go back to exponential hardening in load control and set `['nonlin']['itermax'] = 50000` and `['neumann']['values'] = [3.0]`. What happens to convergence?\n",
    "    \n",
    "**Tips**: \n",
    "- The `run` function of of the NonlinModule is called once per time step. The iterative procedure to find a solution to the nonlinear system of equations can be found inside the `run` function. \n",
    "- The action `GETMATRIX0` is used to compute both $K$ and $\\mathbf{f}_\\mathrm{int}$. Don't remove the action, because $\\mathbf{f}_\\mathrm{int}$ still needs to be computed in every iteration. Find another way to ensure that the old matrix remains to be used. \n",
    "    \n",
    "</p>\n",
    "</div>\n"
   ]
  },
  {
   "cell_type": "code",
   "execution_count": null,
   "id": "84f027ed-55cd-4433-bc8b-9e30775d11a5",
   "metadata": {},
   "outputs": [],
   "source": [
    "props = pu.parse_file('square.pro')\n",
    "\n",
    "globdat = main.jive(props)"
   ]
  }
 ],
 "metadata": {
  "kernelspec": {
   "display_name": "Python 3 (ipykernel)",
   "language": "python",
   "name": "python3"
  },
  "language_info": {
   "codemirror_mode": {
    "name": "ipython",
    "version": 3
   },
   "file_extension": ".py",
   "mimetype": "text/x-python",
   "name": "python",
   "nbconvert_exporter": "python",
   "pygments_lexer": "ipython3",
   "version": "3.11.5"
  }
 },
 "nbformat": 4,
 "nbformat_minor": 5
}
