{
 "cells": [
  {
   "cell_type": "markdown",
   "id": "5d29672e-515e-4603-bc2f-9e0d86e7b9f6",
   "metadata": {},
   "source": [
    "# Finite Difference Method\n",
    "\n",
    "The Finite Difference Method (FDM) is a fundamental and indispensable numerical approach, which plays a pivotal role in solving differential equations that govern physical phenomena. During your master's program, you will encounter some of the following equations, often solved with the FDM:\n",
    "\n",
    "- Heat conduction equation for materials: crucial for designing temperature control systems in buildings, predicting concrete curing, and analyzing the behavior of geothermal systems.\n",
    "- Stress-strain equation for structural loading: essential for designing safe buildings, bridges, etc., to withstand long-term environmental and operational loads.\n",
    "- Navier-Stokes equations for fluid flow: for designing water supply systems, drainage networks, and simulating groundwater flow in geotechnical engineering.\n",
    "- Advection-diffusion equation for pollutant dispersion: omnipresent in the analysis of civil contamination spread, design effective wastewater treatment systems, and assessment of environmental impact.\n",
    "- Wave equation: for modelling seismic waves and their effect on structures.\n",
    "- Finite Element Method (FEM): not an equation but a numerical technique closely related to the FDM. It is used for solving complex structural and thermal problems by dividing them into smaller, manageable elements and solving equations for each element.\n",
    "\n",
    "## Relevance to your master's program/track/discipline\n",
    "\n",
    "We have prepared this list to emphasize the relevance of the FDM to your program at TU Delft. You may or may not encounter some (or all) of these as this list is not exhaustive, you can find many more examples online.\n",
    "\n",
    "- Applied earth sciences: groundwater flow modelling, geothermal modelling, seismic wave propagation, atmosphere and climate modelling.\n",
    "- Structural engineering: stress-strain estimation in structures, heat conduction, vibration analysis.\n",
    "- Hydraulic engineering: simulating coastal and river hydrodynamics, sediment transport, erosion.\n",
    "- Transport engineering: simulating traffic flow, congestion patterns, optimizing traffic signals, public transport planning, pedestrian/bicycle flow.\n",
    "- Environmental engineering: dispersion of air pollutants in air and water, groundwater flow modelling, gas generation in landfills, environmental contamination, forecasting weather and extreme events, studying climate change and its impact.\n",
    "- Offshore engineering: wave and wind loading and often combined with the finite volume method (FVM) for more detailed fluid analysis, FEM for detailed structural analysis, and many times, a combination of FVM and FEM for fluid-structure interaction (FSI).\n",
    "- Sanitary engineering and urban water infrastructure: designing wastewater treatment plants, sewer system layout, water quality analysis, demand forecasting.\n",
    "\n",
    "To summarize, the FDM is omnipresent and essential for all tracks in civil engineering and geosciences. Even though you may not have to use it directly, you may encounter a computer code that is based on the FDM. In such a situation, a fundamental understanding of the FDM, especially the underlying mathematics, is essential for not using the code like a 'black box'.\n"
   ]
  },
  {
   "cell_type": "markdown",
   "id": "c46c57b8-b0c3-4dc6-b070-9fb51d9ef6cd",
   "metadata": {},
   "source": [
    "## Objective and suggestions for Week 1.6 FDE\n",
    "\n",
    "- The objective is to familiarize oneself with the discretization of differential equations, estimating relevant derivatives using the Taylor series and setting up a numerical solver.\n",
    "- The week involves mathematics, so while you navigate through the content, please remember that mathematics begins with a pen and paper.\n",
    "- The textbook provides simple details on the lecture’s content. Please use the recordings as the main source of information.\n",
    "- There is ample learning material available online (and in the library). We suggest using videos instead of books as they are more effective.\n"
   ]
  }
 ],
 "metadata": {
  "kernelspec": {
   "display_name": "Python 3 (ipykernel)",
   "language": "python",
   "name": "python3"
  },
  "language_info": {
   "codemirror_mode": {
    "name": "ipython",
    "version": 3
   },
   "file_extension": ".py",
   "mimetype": "text/x-python",
   "name": "python",
   "nbconvert_exporter": "python",
   "pygments_lexer": "ipython3",
   "version": "3.11.5"
  }
 },
 "nbformat": 4,
 "nbformat_minor": 5
}
