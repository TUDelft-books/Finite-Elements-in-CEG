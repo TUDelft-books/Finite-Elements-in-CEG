{
 "cells": [
  {
   "cell_type": "markdown",
   "id": "5c4ab726-52f8-4496-81af-3823e2bf5285",
   "metadata": {},
   "source": [
    "# Second-order ODE Solver\n",
    "\n",
    "**Important concepts:**\n",
    "\n",
    "- Understanding how to write a second-order ODE as a recursive solution using the Forward Euler formula.\n",
    "- Identification of stable and unstable solutions.\n",
    "- Understanding that the introduction of more non-linear terms (e.g., resistance) will tighter restrict timesteps for applying algorithms like the Forward Euler formula to solve ODEs.\n",
    "\n",
    "In the previous chapter, we discussed how one can use the Taylor series to solve an ordinary differential equation of the first order. In this chapter, we will extend the same method to solve the second-order differential equation that governs the motion of a simple pendulum, as shown in the figure below.\n",
    "\n",
    "![Pendulum](assets/pendulum.png)\n",
    "\n",
    "The string has a length $L$ and the bob has a mass $m$. The restoring force (the one that brings the pendulum to the central position) is the component of the gravitational force along the tangent to the pendulum’s trajectory. This is opposed (in the presence of air) by air resistance that is proportional to the instantaneous velocity of the bob. A summation of forces and the application of Newton’s second law leads to:\n",
    "\n",
    "$$\\underbrace{\\frac{d^2\\theta}{dt^2}}_{\\text{acceleration}} + \\overbrace{\\frac{k}{m}\\frac{d\\theta}{dt}}^{\\text{resistance}} + \\underbrace{\\frac{g}{L}\\sin\\theta}_{\\text{gravitational forces}} = 0$$\n",
    "\n",
    "Where $\\theta$ is the angular displacement, $g$ is the acceleration due to gravity, $t$ is the time, and $k$ is the coefficient of air resistance.\n",
    "\n",
    "## A simpler situation\n",
    "\n",
    "Let’s start with a simpler situation where the pendulum is in a vacuum (i.e., $k = 0$). To get the pendulum moving, one leaves it at an angular displacement $\\theta$ from rest. Therefore, the equation now reads:\n",
    "\n",
    "$$\\frac{d^2\\theta}{dt^2} + \\frac{g}{L}\\sin\\theta = 0$$\n",
    "\n",
    "With the initial conditions set, as an example, to:\n",
    "\n",
    "$$\\frac{d\\theta}{dt}(0) = 0 \\quad \\text{and} \\quad \\theta(0) = \\frac{\\pi}{3} \\quad (\\text{say})$$\n",
    "\n",
    "We can rewrite this second order differential equation into a system of two linear order differential equations by adding $\\dot{\\theta}$ defined as ${{d\\theta } \\over {dt}} = \\dot{\\theta}$:\n",
    "\n",
    "$$\\begin{cases}\n",
    "{{d\\dot{\\theta} } \\over {dt}} + {g \\over L}\\sin \\theta  = 0 \\\\\n",
    "{{d\\theta } \\over {dt}} = \\dot{\\theta} \\\\\n",
    "\\end{cases}$$\n",
    "\n",
    "with \n",
    "\n",
    "$${\\dot{\\theta}}(0) = 0 \\quad \\text{and} \\quad \\theta(0) = \\frac{\\pi}{3} \\quad (\\text{say})$$\n",
    "\n",
    "Discretizing these equation and applying the Forward Euler scheme gives:\n",
    "\n",
    "$$\\begin{cases}\n",
    "{{{\\dot{\\theta} _{n + 1}} - {\\dot{\\theta} _n}} \\over {\\Delta t}} + {g \\over L}\\sin \\theta_{n}  = 0 \\\\\n",
    "{{{\\theta _{n + 1}} - {\\theta _n}} \\over {\\Delta t}} = {\\dot{\\theta}_n}\n",
    "\\end{cases}$$\n",
    "\n",
    "One thus obtains a coupled system of equations governing the motion of the pendulum:\n",
    "\n",
    "$$\\begin{cases}\n",
    "\\dot{\\theta}_{n+1} = \\dot{\\theta}_n - \\Delta t\\dfrac{g}{L}\\sin\\theta_n \\\\\n",
    "\\theta_{n+1} = \\theta_n + \\dot{\\theta}_{n}\\Delta t\n",
    "\\end{cases}$$\n",
    "\n",
    "## A little complicated\n",
    "\n",
    "Now, let’s include air resistance:\n",
    "\n",
    "$$\\frac{d^2\\theta}{dt^2} + \\frac{k}{m}\\frac{d\\theta}{dt} + \\frac{g}{L}\\sin\\theta = 0$$\n",
    "\n",
    "With the initial conditions set, as an example, to:\n",
    "\n",
    "$$\\frac{d\\theta}{dt}(0) = 0 \\quad \\text{and} \\quad \\theta(0) = \\frac{\\pi}{3} \\quad (\\text{say})$$\n",
    "\n",
    "The formula does not change significantly:\n",
    "\n",
    "$$\\begin{cases}\n",
    "\\dot{\\theta}_{n+1} = \\dot{\\theta}_n - \\Delta t \\frac{k}{m}\\dot{\\theta}_n - \\Delta t \\frac{g}{L}\\sin\\theta_n  \\\\\n",
    "\\theta_{n+1} = \\theta_n + \\dot{\\theta}_{n+1}\\Delta t\n",
    "\\end{cases}$$\n",
    "\n",
    "However, it is important to mention that the exact (analytical) solution is more difficult to obtain.\n",
    "\n",
    "## Plotting the results\n",
    "\n",
    "From the above equations, it is apparent that the choice of time-step will determine the accuracy with which the trajectory of the pendulum will be resolved. Take a look at the results for time steps of $0.05$, $0.1$, $0.25$, $0.5$, and $1$. How will you decide which time step is ideal for this solver?\n",
    "\n",
    "The plot below shows the result for $L = 1 m$, $m = 1 kg$. We can vary $k$ and $\\Delta t$."
   ]
  },
  {
   "cell_type": "code",
   "execution_count": 1,
   "id": "6756039c-6a07-4ad5-8ae8-3aad6b65bf58",
   "metadata": {
    "tags": [
     "thebe-remove-input-init"
    ]
   },
   "outputs": [],
   "source": [
    "import numpy as np\n",
    "import matplotlib.pyplot as plt\n",
    "from ipywidgets import widgets, interact"
   ]
  },
  {
   "cell_type": "code",
   "execution_count": 23,
   "id": "b152c16a-f5a1-4f5f-abfa-c8333184fe8c",
   "metadata": {
    "tags": [
     "thebe-remove-input-init"
    ]
   },
   "outputs": [],
   "source": [
    "def plot(k,dt):\n",
    "    T = 5           # total duration of the simulation\n",
    "    N = int(T/dt)        # in how much sub pieces we should break a 1sec interval\n",
    "    #dt = T / N      # dt\n",
    "    g = 9.81        # acceleration of gravity\n",
    "    L = 1           # pendulum rope length\n",
    "    #k = 0.8         # air resistance coefficient\n",
    "    m = 1           # mass of the pendulum\n",
    "\n",
    "    theta = [np.pi / 3]     # initial angle\n",
    "    theta_dot = [0]         # initial angular velocity\n",
    "    t = [0]\n",
    "\n",
    "    for i in range(N * T):\n",
    "        theta.append(theta_dot[-1] * dt + theta[-1])\n",
    "        theta_dot.append(theta_dot[-1] - theta_dot[-1] * dt * k / m - np.sin(theta[-1]) * dt * g / L) \n",
    "        t.append((i + 1) * dt)\n",
    "\n",
    "    N = 100\n",
    "    dt = T / N\n",
    "    t2 = [0]\n",
    "    theta_ana = [np.pi / 3]     # initial angle\n",
    "    theta_dot_ana = [0]         # initial angular velocity\n",
    "    for i in range(N * T):\n",
    "        theta_ana.append(theta_dot_ana[-1] * dt + theta_ana[-1])\n",
    "        theta_dot_ana.append(theta_dot_ana[-1] - theta_dot_ana[-1] * dt * k / m - np.sin(theta_ana[-1]) * dt * g / L) \n",
    "        t2.append((i + 1) * dt)\n",
    "\n",
    "    plt.plot(t, theta, label=r'Numerical solution $\\theta$')\n",
    "    plt.plot(t, theta_dot, label=r'Numerical solution $\\dot \\theta$')\n",
    "    plt.plot(t2, theta_ana, label=r'Analytical solution $\\theta$')\n",
    "    plt.plot(t2, theta_dot_ana, label=r'Analytical solution $\\dot \\theta$')\n",
    "    plt.xlabel('Time, $t$')\n",
    "    plt.ylabel('Angular Displacement\\nAngular Velocity')\n",
    "    plt.legend()\n",
    "    plt.show()"
   ]
  },
  {
   "cell_type": "code",
   "execution_count": 24,
   "id": "4caf494e",
   "metadata": {
    "tags": [
     "thebe-remove-input-init"
    ]
   },
   "outputs": [
    {
     "data": {
      "application/vnd.jupyter.widget-view+json": {
       "model_id": "e5bef93aa5744522bfdb02f5e0f6f0b2",
       "version_major": 2,
       "version_minor": 0
      },
      "text/plain": [
       "interactive(children=(FloatSlider(value=0.8, description='Air resistance coefficient', layout=Layout(width='40…"
      ]
     },
     "metadata": {},
     "output_type": "display_data"
    }
   ],
   "source": [
    "interact(plot, k = widgets.FloatSlider(min=0, max=2, value=0.8, step=0.1, description='Air resistance coefficient',readout_format='.1f',style= {'description_width': '150px'},layout = {'width': '400px'}), \n",
    "         dt = widgets.FloatSlider(min=0.01, max=1, value=0.5, step=0.04, description='Time step',style= {'description_width': '150px'},layout = {'width': '400px'}));"
   ]
  },
  {
   "cell_type": "code",
   "execution_count": null,
   "id": "f9855f8d",
   "metadata": {
    "tags": [
     "auto-execute-page"
    ]
   },
   "outputs": [],
   "source": [
    "#"
   ]
  }
 ],
 "metadata": {
  "kernelspec": {
   "display_name": "Python 3 (ipykernel)",
   "language": "python",
   "name": "python3"
  },
  "language_info": {
   "codemirror_mode": {
    "name": "ipython",
    "version": 3
   },
   "file_extension": ".py",
   "mimetype": "text/x-python",
   "name": "python",
   "nbconvert_exporter": "python",
   "pygments_lexer": "ipython3",
   "version": "3.9.18"
  }
 },
 "nbformat": 4,
 "nbformat_minor": 5
}
