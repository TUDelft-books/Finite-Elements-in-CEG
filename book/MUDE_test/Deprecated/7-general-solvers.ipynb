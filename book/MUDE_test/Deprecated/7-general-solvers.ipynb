{
 "cells": [
  {
   "attachments": {},
   "cell_type": "markdown",
   "metadata": {},
   "source": [
    "## Advanced ODE Solvers"
   ]
  },
  {
   "attachments": {},
   "cell_type": "markdown",
   "metadata": {},
   "source": [
    "```{note}\n",
    "**Important things to retain from this block:**\n",
    "* Recognize the difference between\n",
    "    * Single and multi-stage algorithms\n",
    "    * Single and multi-step algorithms\n",
    "    * Explicit and implicit algorithms\n",
    "* Understand that higher order (and implicit) methods are often more stable (you can use a wider range of timesteps) than lower order methods \n",
    "```"
   ]
  },
  {
   "attachments": {},
   "cell_type": "markdown",
   "metadata": {},
   "source": [
    "### Abstract ODE formulation\n",
    "\n",
    "Let us start from a forward Euler formulation of an ODE to try to get to any other explicit solver. If we consider the following general initial value problem\n",
    "\n",
    "$$\\begin{gather}y'(t)=f(y,t)\\\\y(t_0)=y_0\\end{gather}$$\n",
    "\n",
    "We can directly write the equation using forward Euler method, such that\n",
    "\n",
    "$$y_{n+1}=y_n+\\Delta tf(y_n,t_n) + \\mathcal{O}(\\Delta t^2) = F_{FE}(y_n,t_n) + \\mathcal{O}(\\Delta t^2)$$\n",
    "\n",
    "where FE stands for Forward Euler.\n",
    "\n",
    "If we consider an additional midpoint between the ones considered in forward Euler formula, the result will be much more accurate and we get the so-called **midpoint variation formula**. This method, applied to solving ODEs, corresponds to the famous **Runge-Kutta method**. Using it, we can write\n",
    "\n",
    "$$y_{n+1}=y_n+\\Delta tf\\left(y_n+\\frac{\\Delta t}{2}f(y_n,t_n), t_n+\\frac{\\Delta t}{2}\\right) + \\mathcal{O}(\\Delta t^2) ) = F_{RK2}(y_n,t_n)+\\mathcal{O}(\\Delta t^2)$$\n",
    "\n",
    "where RK2 refers to Runge-Kutta 2 (with 2 representing the order of the approximation), the algorithm we are using to solve the ODE."
   ]
  },
  {
   "attachments": {},
   "cell_type": "markdown",
   "metadata": {},
   "source": [
    "### Higher order Runge-Kutta approximation"
   ]
  },
  {
   "attachments": {},
   "cell_type": "markdown",
   "metadata": {},
   "source": [
    "The Runge-Kutta 4 order method is derived as\n",
    "\n",
    "$$y_{n+1}=y_n+\\frac{\\Delta}{6}(k_1+2k_2+2k_3+k_4)+\\mathcal{O}(\\Delta t^5) = F_{RK4}(y_n,t_n)+\\mathcal{O}(\\Delta t^5)$$\n",
    "\n",
    "where we compute the coefficients as\n",
    "\n",
    "$$\\begin{cases}k_1 = f(y_n,t_n)\\\\k_2 = f(y_n+\\frac{\\Delta t}{2}k_1, t_n+\\frac{\\Delta t}{2})\\\\k_3 = f(y_n+\\frac{\\Delta t}{2}k_2, t_n+\\frac{\\Delta t}{2})\\\\k_4=f(y_n+\\Delta t k_3, t_n+\\Delta t)\\end{cases}$$"
   ]
  },
  {
   "attachments": {},
   "cell_type": "markdown",
   "metadata": {},
   "source": [
    "### Comparison between ODE solvers"
   ]
  },
  {
   "attachments": {},
   "cell_type": "markdown",
   "metadata": {},
   "source": [
    "#### One vs multi-stage algorithms"
   ]
  },
  {
   "attachments": {},
   "cell_type": "markdown",
   "metadata": {},
   "source": [
    "We can identify and separate the different methods used until here (forward Euler and Runge-Kutta) to trivially classify them as one and multi-stage algorithms. But how do they differ from each other?\n",
    "\n",
    "<img src=\"figs/onemulti.png\" width=750px></img>\n",
    "\n",
    "**But then, if RK4 always gives us more accurate solutions, why don't we use it always?**\n",
    "\n",
    "An imporved accuracy always requires using more points and, therefore, reduces the speed of the solution. However, they also allow for larger stable timesteps."
   ]
  },
  {
   "attachments": {},
   "cell_type": "markdown",
   "metadata": {},
   "source": [
    "#### One vs multi-step algorithgms\n",
    "\n",
    "We can also distinguish between one-step and multi-step algorithms. In fact, both Forward Euler and RK4 are one-step methods, as they only depend directly on $y_n$. On the other hand, explicit multi-step methods ould have dependencies on $y_n$, $y_{n-1}$, etc. depending on the number of steps considered!"
   ]
  },
  {
   "attachments": {},
   "cell_type": "markdown",
   "metadata": {},
   "source": [
    "#### Explicit vs implicit solvers"
   ]
  },
  {
   "attachments": {},
   "cell_type": "markdown",
   "metadata": {},
   "source": [
    "Both Forward Euler and Runge-Kutta 4 are **explicit solvers**, as they compute the state of a system at a later time from the state of the system at the current time. On the other hand, we can also identify **implicit solvers**, that find solutions by solving an equation involving both the current state of the system and the next one. An example of an implicit solver is the **backward Euler formula**:\n",
    "\n",
    "$$y_{n+1}=F_{BE}(y_n,y_{n+1})+\\mathcal{O}(\\Delta t^2)$$\n",
    "\n",
    "We can clearly see the difference in the inputs of this method, and it is an **unconditionally stable** method, i.e., larger timesteps can be used without risking nonsense results associated with numerical instabilities. But then, how can we summarize the differences between these two types of solvers?\n",
    "\n",
    "> Implicit is implicit... it means that iterations are needed to solve for $y_{n+1}$. But it also means better stability properties (e.g. as we have seen, the backward Euler method is unconditionally stable) and larger timesteps can be used"
   ]
  },
  {
   "attachments": {},
   "cell_type": "markdown",
   "metadata": {},
   "source": [
    "### Summary exercise: Simple ODE at different timesteps"
   ]
  },
  {
   "attachments": {},
   "cell_type": "markdown",
   "metadata": {},
   "source": [
    "Let us consider the same example we saw on the previous subchapter\n",
    "\n",
    "$$y'=-100(y-\\cos t)-\\sin t, \\hspace{10px} y(0)=0$$\n",
    "\n",
    "We will solve this same problem with both Forward Euler and Runge-Kutta 4 and compare the results and the errors linked with them. If we start by considering $\\Delta t = 0.01s$, we find pretty stable solutions for both algorithms, even though the errors for RK4 are already significantly lower:\n",
    "\n",
    "<img src=\"figs/comparison1.png\" width=800px></img>\n",
    "\n",
    "If we increase the timestep to $\\Delta t = 0.02s$:\n",
    "\n",
    "<img src=\"figs/comparison2.png\" width=800px></img>\n",
    "\n",
    "We can easily see that the forward Euler method became unstable, while RK4 kept its stability (even though it has trivially higher errors as a result of the timestep increase)"
   ]
  }
 ],
 "metadata": {
  "kernelspec": {
   "display_name": "Python 3 (ipykernel)",
   "language": "python",
   "name": "python3"
  },
  "language_info": {
   "codemirror_mode": {
    "name": "ipython",
    "version": 3
   },
   "file_extension": ".py",
   "mimetype": "text/x-python",
   "name": "python",
   "nbconvert_exporter": "python",
   "pygments_lexer": "ipython3",
   "version": "3.9.7"
  }
 },
 "nbformat": 4,
 "nbformat_minor": 2
}
