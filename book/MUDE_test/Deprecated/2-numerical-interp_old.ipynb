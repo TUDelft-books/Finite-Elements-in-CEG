{
 "cells": [
  {
   "attachments": {},
   "cell_type": "markdown",
   "metadata": {},
   "source": [
    "## Interpolation and Numerical Integration"
   ]
  },
  {
   "attachments": {},
   "cell_type": "markdown",
   "metadata": {},
   "source": [
    "```{note}\n",
    "**Important things to retain from this block:**\n",
    "* Understanding how to compute a polynomial reconstruction of a function given some points\n",
    "* Knowing how to apply different discrete integration techniques\n",
    "* Having a slight idea on how the truncation errors change from technique to technique (and keeping in mind the difference between their order of magnitude for Riemann integration and for the two other techniques)\n",
    "```"
   ]
  },
  {
   "attachments": {},
   "cell_type": "markdown",
   "metadata": {},
   "source": [
    "### Lagrange Interpolation"
   ]
  },
  {
   "attachments": {},
   "cell_type": "markdown",
   "metadata": {},
   "source": [
    "Imagine we have a function on the mesh, where we know $n$ points from it, such that\n",
    "\n",
    "$$f\\cong(f_1,f_2,...,f_n)$$\n",
    "\n",
    "where $f_k = f(x_k)$ with $k=1,2,...,n$. We can build a polynomial reconstruction of the function according to\n",
    "\n",
    "$$P_{n-1}(x) = \\sum_{k=1}^nf_k\\dfrac{(x-x_1)...(x-x_{k-1})(x-x_{k+1})...(x-x_n)}{(x_k-x_1)...(x_k-x_{k-1})(x_k-x_{k+1})...(x_k-x_n)}$$\n",
    "\n",
    "with interpolation errors given by\n",
    "\n",
    "$$f(x) - P_{n-1}(x,f) = \\frac{1}{n!}f^{(n)}(\\xi)(x-x_1)...(x-x_n)$$\n",
    "\n",
    "Of course, when we have more and more known points, we will only need lower orders of interpolation, as a linear fit to two really close points, for example, would usually fit quite well our data."
   ]
  },
  {
   "attachments": {},
   "cell_type": "markdown",
   "metadata": {},
   "source": [
    "### Discrete Integration"
   ]
  },
  {
   "attachments": {},
   "cell_type": "markdown",
   "metadata": {},
   "source": [
    "For an integration of a general arbitrary function $f(x)$ over an interval $(a,b)$, we can use polynomial representation. How does discrete integration work then?\n",
    "\n",
    "* First, we split the interval of integration (a,b) on several partial intervals, such that\n",
    "\n",
    "$$a=x_1<x_2<...<x_{n+1}=b$$\n",
    "\n",
    "* Then, we replace $f(x)$ by the interpolation polynomial that we got between two consecutive points $(x_i, x_{i+1})$ and calculate the integral over it (the area under the interpolation polynomial), $J(x_i,x_{i+1};f)$\n",
    "\n",
    "* We do this for all the consecutive partial intervals in which we have divided our integration region\n",
    "\n",
    "* Sum up all the contributions and find the value for $J(a,b;f)$!"
   ]
  },
  {
   "attachments": {},
   "cell_type": "markdown",
   "metadata": {},
   "source": [
    "#### Left Riemann Integration\n",
    "\n",
    "One of the possible ways of computing integration discretely is by computing the so-called Riemann integral. To do so, we can either do it by left or right Riemann integration. The differences are significantly easy to perceive, as the **left** integration basically assumes the value of the function in the lower end point of the partial interval under analysis, and the **right** does exactly the opposite.\n",
    "\n",
    "Therefore, we get the left Riemann integration formula given by\n",
    "\n",
    "$$J(a,b;f) = \\int_{a}^{b}f(x)dx = \\sum_{i=1}^nf(x_i)(x_{i+1}-x_i)$$\n",
    "\n",
    "#### Right Riemann Integration\n",
    "\n",
    "<img src=\"figs/right_riemann.png\" width=250px></img>\n",
    "\n",
    "In an analogous way, we can trivially get the formula for the right Riemann integration as (note the difference in the starting and end point of the summation):\n",
    "\n",
    "$$J(a,b;f) = \\int_{a}^{b}f(x)dx = \\sum_{i=2}^{n+1}f(x_i)(x_{i+1}-x_i)$$\n",
    "\n",
    "#### Midpoint Rule\n",
    "\n",
    "<img src=\"figs/midpoint.png\" width=250px></img>\n",
    "\n",
    "By the midpoint rule, as the name says, we get the value of the midpoint between the two end points of each partial interval, such that:\n",
    "\n",
    "$$J(a,b;f) = \\int_{a}^{b}f(x)dx = \\sum_{i=1}^{n}f\\left(x_i + \\frac{1}{2}(x_{i+1}-x_i)\\right)(x_{i+1}-x_i)$$\n",
    "\n",
    "#### Trapezoidal Rule\n",
    "\n",
    "<img src=\"figs/trapezoidal.png\" width=250px></img>\n",
    "\n",
    "As the name says, it consists in nothing more than computing the area of a trapezoid, where the bases are the values assumed by the function in the end points of each of the partial intervals, and its height is just the difference between two consecutive points. Therefore:\n",
    "\n",
    "$$J(a,b;f) = \\int_{x_1}^{x_{n+1}}f(x)dx = \\sum_{i=1}^{n}\\frac{f(x_{i+1})+f(x_i)}{2}(x_{i+1}-x_i)$$"
   ]
  },
  {
   "attachments": {},
   "cell_type": "markdown",
   "metadata": {},
   "source": [
    "### Truncation Errors\n",
    "\n",
    "Following the formula presented above for the truncation errors\n",
    "\n",
    "$$f(x)-P_{n-1}(x;f(x)) = \\frac{1}{n!}f^{(n)}(\\xi)(x-x_1)...(x-x_n)$$\n",
    "\n",
    "then the errors associated with each of the methods previously presented are given by:\n",
    "\n",
    "**Left Riemann Integration**\n",
    "$$|J(x_i,x_{i+1};f_i)-f(x_i)\\Delta x|\\leq\\frac{1}{2}|f'(x)|\\Delta x$$\n",
    "\n",
    "**Right Riemann Integration**\n",
    "$$|J(x_i,x_{i+1};f_i)-f(x_i)\\Delta x|\\leq\\frac{1}{2}|f'(x)|\\Delta x$$\n",
    "\n",
    "**Midpoint Rule**\n",
    "$$\\left|J(x_i,x_{i+1};f_i)-f\\left(x_i+\\frac{\\Delta x}{2}\\right)\\Delta x\\right|\\leq\\frac{1}{24}|f''(x)|\\Delta x^2$$\n",
    "\n",
    "**Trapezoidal Rule**\n",
    "$$\\left|J(x_i,x_{i+1};f_i)-\\frac{f(x_{i+1})+f(x_i)}{2}\\Delta x\\right|\\leq\\frac{1}{12}|f''(x)|\\Delta x^2$$\n",
    "\n",
    "As we can see, for the left and right Riemann integration techniques we find errors $\\sim \\dfrac{1}{n}$, while for the midpoint and trapezoidal rules, we find them $\\sim\\dfrac{1}{n^2}$"
   ]
  },
  {
   "attachments": {},
   "cell_type": "markdown",
   "metadata": {},
   "source": [
    "---\n",
    "\n",
    "### Example\n",
    "\n",
    "Consider we want to evaluate\n",
    "    \n",
    "$$\\int_{-1}^1\\sqrt{2+x^3}dx$$\n",
    "\n",
    "Let us do it using all the four methods listed before and, also, considering 5 and 50 points for our discrete integration. First, let us define both methods in code: "
   ]
  },
  {
   "cell_type": "code",
   "execution_count": 14,
   "metadata": {},
   "outputs": [],
   "source": [
    "import numpy as np\n",
    "\n",
    "# Define the function we want to numerically integrate\n",
    "def f(x):\n",
    "    return np.sqrt(2+x**3)\n",
    "\n",
    "# Left Riemann Integration\n",
    "def left_riemann(start, end, number):\n",
    "    x = np.linspace(start, end, number)\n",
    "    integral = 0\n",
    "    delta_x = x[1]-x[0]\n",
    "    \n",
    "    for i in range(len(x)-1):\n",
    "        integral += f(x[i])*delta_x\n",
    "        \n",
    "    return integral\n",
    "\n",
    "#Right Riemann Integration\n",
    "def right_riemann(start, end, number):\n",
    "    x = np.linspace(start, end, number)\n",
    "    integral = 0\n",
    "    delta_x = x[1]-x[0]\n",
    "    \n",
    "    for i in range(len(x)-1):\n",
    "        integral += f(x[i+1])*delta_x\n",
    "        \n",
    "    return integral\n",
    "\n",
    "#Midpoint Integration\n",
    "def midpoint(start, end, number):\n",
    "    x = np.linspace(start, end, number)\n",
    "    integral = 0\n",
    "    delta_x = x[1]-x[0]\n",
    "    \n",
    "    for i in range(len(x)-1):\n",
    "        integral += f(x[i]+delta_x/2)*delta_x\n",
    "        \n",
    "    return integral\n",
    "\n",
    "#Trapezoidal Integration\n",
    "def trapezoidal(start, end, number):\n",
    "    x = np.linspace(start, end, number)\n",
    "    integral = 0\n",
    "    delta_x = x[1]-x[0]\n",
    "    \n",
    "    for i in range(len(x)-1):\n",
    "        integral += (f(x[i+1])+f(x[i]))/2*delta_x\n",
    "        \n",
    "    return integral"
   ]
  },
  {
   "attachments": {},
   "cell_type": "markdown",
   "metadata": {},
   "source": [
    "Starting by analyzing the scenario with 5 points (and taking a look into how our discrete sum looks like for a left Riemann integrtion method in the figure below), we find:\n",
    "\n",
    "<img src=\"figs/left_riemann_5.png\" width=400px></img>\n",
    "\n",
    "And if we compute the values obtained for each of the methods, we find:"
   ]
  },
  {
   "cell_type": "code",
   "execution_count": 16,
   "metadata": {},
   "outputs": [
    {
     "name": "stdout",
     "output_type": "stream",
     "text": [
      "Integral with left Riemann sum = 2.620628964923668\n",
      "Integral with right Riemann sum = 2.9866543687081064\n",
      "Integral with Midpoint rule = 2.820438723768426\n",
      "Integral with Trapezoidal rule = 2.8036416668158877\n"
     ]
    }
   ],
   "source": [
    "print(\"Integral with left Riemann sum = \" + str(left_riemann(-1,1,5)))\n",
    "print(\"Integral with right Riemann sum = \" + str(right_riemann(-1,1,5)))\n",
    "print(\"Integral with Midpoint rule = \" + str(midpoint(-1,1,5)))\n",
    "print(\"Integral with Trapezoidal rule = \" + str(trapezoidal(-1,1,5)))"
   ]
  },
  {
   "attachments": {},
   "cell_type": "markdown",
   "metadata": {},
   "source": [
    "Using 50 points to compute the sum, we find:\n",
    "\n",
    "<img src=\"figs/left_riemann_50.png\" width=400px></img>"
   ]
  },
  {
   "cell_type": "code",
   "execution_count": 17,
   "metadata": {},
   "outputs": [
    {
     "name": "stdout",
     "output_type": "stream",
     "text": [
      "Integral with left Riemann sum = 2.8001868417331788\n",
      "Integral with right Riemann sum = 2.8300664665319086\n",
      "Integral with Midpoint rule = 2.815258484111038\n",
      "Integral with Trapezoidal rule = 2.8151266541325444\n"
     ]
    }
   ],
   "source": [
    "print(\"Integral with left Riemann sum = \" + str(left_riemann(-1,1,50)))\n",
    "print(\"Integral with right Riemann sum = \" + str(right_riemann(-1,1,50)))\n",
    "print(\"Integral with Midpoint rule = \" + str(midpoint(-1,1,50)))\n",
    "print(\"Integral with Trapezoidal rule = \" + str(trapezoidal(-1,1,50)))"
   ]
  },
  {
   "attachments": {},
   "cell_type": "markdown",
   "metadata": {},
   "source": [
    "The result we were aiming for was $\\approx 2.8152145$. As we can see, the results given by the four methods were getting trivially better and closer to the final correct result as the partial intervals of integration were getting finer and finer (this can be easily seen by the plots shown above as well). However, one should also note that the accuracy of midpoint and trapezoidal rules was much better, even when we were working with only 5 points.\n",
    "\n",
    "---"
   ]
  }
 ],
 "metadata": {
  "kernelspec": {
   "display_name": "Python 3 (ipykernel)",
   "language": "python",
   "name": "python3"
  },
  "language_info": {
   "codemirror_mode": {
    "name": "ipython",
    "version": 3
   },
   "file_extension": ".py",
   "mimetype": "text/x-python",
   "name": "python",
   "nbconvert_exporter": "python",
   "pygments_lexer": "ipython3",
   "version": "3.9.7"
  }
 },
 "nbformat": 4,
 "nbformat_minor": 2
}
