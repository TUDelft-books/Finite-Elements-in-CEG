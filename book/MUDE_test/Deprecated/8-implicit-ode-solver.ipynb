{
 "cells": [
  {
   "attachments": {},
   "cell_type": "markdown",
   "metadata": {},
   "source": [
    "## Nonlinear solver for ODE"
   ]
  },
  {
   "attachments": {},
   "cell_type": "markdown",
   "metadata": {},
   "source": [
    "```{note}\n",
    "**Important things to retain from this block:**\n",
    "* Bisection method is robust and slow, while Newton method is the fastest we can use, but requires a good initial guess to converge to the solution\n",
    "* Backward Euler requires nonlinear solution methods which can be achieved by Newton's\n",
    "* Large timesteps can compromise convergence of Newton's method\n",
    "\n",
    "**Things you do no need to know by heart:**\n",
    "* Any of the formulas here presented for Newton's or bisection method\n",
    "```"
   ]
  },
  {
   "attachments": {},
   "cell_type": "markdown",
   "metadata": {},
   "source": [
    "### Nonlinear problems\n",
    "\n",
    "We will now focus on understanding how to solve nonlinear problems. We will consider, first, a general scenario, where we want to find $x$, such that\n",
    "\n",
    "$$f(x)=0, \\hspace{15px} x\\in[a,b]$$\n",
    "\n",
    "As we know, the only way to assure that this is a unique solution is by having $f(x)$ continuous and monotone. But what is the smartest way to solve this problem?"
   ]
  },
  {
   "attachments": {},
   "cell_type": "markdown",
   "metadata": {},
   "source": [
    "#### Iterative Methods\n",
    "\n",
    "Imagine you are asked to solve $g(x)=a$. The first step that you should take is to put everything on the same side of the equation, getting a problem described as above, $f(x)=g(x)-a=0$.\n",
    "\n",
    "After that, we should start by the extreme points of the interval given to find the solution and start refining it, iteratively, such that the function evaluated on the lower extreme point of the interval and the function evaluated on the larger extreme point of the interval have different signs. This will help us getting a small interval where our solution is contained! This is the so-called **bisection method**:\n",
    "\n",
    "##### Bisection Method\n",
    "---\n",
    "\n",
    "Loop over $k$: $x_k=\\frac{a+b}{2}, k\\geq1$\n",
    "\n",
    "&nbsp; If $|f(x_k)|<\\epsilon$: break\n",
    "\n",
    "&nbsp; else\n",
    "\n",
    "&emsp; if $f(a)f(x_k)>0: a = x_k$\n",
    "\n",
    "&emsp; else $b=x_k$\n",
    "\n",
    "---\n",
    "\n",
    "where $\\epsilon$ represents the tolerance chosen to accept an approximate solution for the problem.\n",
    "\n",
    "##### Newton's Method\n",
    "\n",
    "Newton's Method can be described as a step-by-step recipe to apply:\n",
    "\n",
    "* Initialize $x_n$ for $n=1$\n",
    "* Calculate $\\dfrac{df(x-n)}{dx_n} and f(x_n)$\n",
    "* Calculate the update $\\delta x_n = \\left(\\dfrac{df(x_n)}{dx_n}\\right)^{-1}f(x_n)$\n",
    "* Update $x_{n+1}=x_n-\\delta x_n$\n",
    "* Check if $|f(x_n)|<\\epsilon$\n",
    "    * **If yes:** we have converged to the root!\n",
    "    * **If no:** then return to step 2!\n",
    "\n",
    "A visual image of how the process looks like can be seen here:\n",
    "\n",
    "<img src=\"figs/newton.png\" width=350px></img>"
   ]
  },
  {
   "attachments": {},
   "cell_type": "markdown",
   "metadata": {},
   "source": [
    "#### Exercise 1: simple nonlinear solution\n",
    "\n",
    "Find the square root of any positive number $a$ in the interval $[0,a]$ using bisection and Newton's method. Compare the convergence.\n",
    "\n",
    "To do so, we need to first define our problem and rewrite it as a problem to find the roots of a function:\n",
    "\n",
    "$$x=\\sqrt{a}\\Leftrightarrow x^2=a \\Leftrightarrow x^2-a=0$$\n",
    "\n",
    "After this, and defining, for example, $a=2$, we just need to apply both methods as shown before. To do so, in the bisection method we start applying the algorithm with $x_{left}=0$ and $x_{right}=2$ and, for Newton's method, we need to give an initial guess that we assume to be reasonable. Then, it is just a matter of applying the cyclic procedure for both methods until the root found satisfies the tolerance, $\\epsilon$, pre-established."
   ]
  },
  {
   "attachments": {},
   "cell_type": "markdown",
   "metadata": {},
   "source": [
    "#### Exercise 2: solution of a nonlinear ODE\n",
    "\n",
    "Let us look at the following nonlinear ODE\n",
    "\n",
    "$$\\dot{y}=\\sin y^2 + \\sin t, \\hspace{10px} y(0)=1$$\n",
    "\n",
    "If we rewrite the problem using both forward and backward Euler formulas, we find\n",
    "\n",
    "$$\\begin{gather}\\text{FE: } y_{n+1}=y_n+\\Delta t(\\sin y_n^3 + \\sin t_n)\\\\\\text{BE: } y_{n+1}=y_n+\\Delta t(\\sin y_{n+1}^3 + \\sin t_{n+1})\\end{gather}$$\n",
    "\n",
    "Now we can use this to rewrite our problem in its residual form\n",
    "\n",
    "```{warning}\n",
    "where does this come from?\n",
    "\n",
    "```\n",
    "\n",
    "$$f(y_{n+1})=y_{n+1}-y_n-\\Delta t(\\sin y_{n+1}^3 + \\sin t_{n+1})$$\n",
    "\n",
    "We are now able to apply Newton's method until we find a solution to our problem! We just need to run enough iterations for $k$ of\n",
    "\n",
    "$$y_{n+1,k+1}=y_{n+1,k}-\\frac{f(y_{n+1,k})}{f'(y_{n+1,k})}$$\n",
    "\n",
    "until we satisfy our stopping condition\n",
    "\n",
    "$$|f(y_{n+1})|>\\epsilon$$\n",
    "\n",
    "And then, how do our solutions look like?\n",
    "\n",
    "<img src=\"figs/comparison3.png\" width=800px></img>\n",
    "\n",
    "We can clearly see what we were (or, at least, you should) be expecting having in mind what we have seen in the last block! Significantly smaller timesteps don't show any difference between implicit and explicit models, but an increase of it to $\\Delta t = 0.3s$ only keeps the backward Euler (implicit) solution stable and nearly exact, as this is an unconditionally stable method. The explicit model shows oscillations.\n",
    "\n",
    "Finally, for a larger timestep $\\Delta t = 0.5s$, we see that the initial guess given is not enough to keep the solution approximately equal to the exact one."
   ]
  }
 ],
 "metadata": {
  "kernelspec": {
   "display_name": "Python 3 (ipykernel)",
   "language": "python",
   "name": "python3"
  },
  "language_info": {
   "codemirror_mode": {
    "name": "ipython",
    "version": 3
   },
   "file_extension": ".py",
   "mimetype": "text/x-python",
   "name": "python",
   "nbconvert_exporter": "python",
   "pygments_lexer": "ipython3",
   "version": "3.9.7"
  }
 },
 "nbformat": 4,
 "nbformat_minor": 2
}
