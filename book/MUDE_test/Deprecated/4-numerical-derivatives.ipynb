{
 "cells": [
  {
   "cell_type": "markdown",
   "metadata": {},
   "source": [
    "## Approximation of Numerical Derivatives"
   ]
  },
  {
   "cell_type": "markdown",
   "metadata": {},
   "source": [
    "```{note}\n",
    "**Important things to retain from this block:**\n",
    "* Be able to combine different Taylor series expansions to get different derivative approximations (Forward Euler, Backward Euler, Central Difference, or even approximations for the second derivative)\n",
    "```"
   ]
  },
  {
   "cell_type": "markdown",
   "metadata": {},
   "source": [
    "We can approximate the value of the derivative of a function by using a finite set of fixed points, with the so-called **finite difference** methods. Therefore, reminding what we have seen for Taylor series expansion, we have:\n",
    "\n",
    "$$\\begin{cases}\n",
    "f(x+h)=f(x)+hf'(x)+\\dfrac{h^2}{2}f''(x)+\\dfrac{h^3}{6}f^{(3)}(x) + \\mathcal{O}(h^4) \\Leftrightarrow f'(x) \\approx \\dfrac{f(x)-f(x-h)}{h}\\\\\n",
    "f(x-h)=f(x)-hf'(x)+\\dfrac{h^2}{2}f''(x)-\\dfrac{h^3}{6}f^{(3)}(x) + \\mathcal{O}(h^4) \\Leftrightarrow f'(x) \\approx \\dfrac{f(x+h)-f(x)}{h}\n",
    "\\end{cases}$$\n",
    "\n",
    "The formulas obtained above consist in the **backward Euler formula** and the **forward Euler formula**, respectively. Summing both we can also get the so-called **central difference** to approximate the value of a derivative with finite points\n",
    "\n",
    "$$f'(x) \\approx \\frac{f(x+h)-f(x-h)}{2h}$$\n",
    "\n",
    "and, finally, by subtracting one from the other, we can get an approximate result for the second derivative:\n",
    "\n",
    "$$f''(x) \\approx \\frac{f(x+h)-2f(x)+f(x-h)}{h^2}$$"
   ]
  },
  {
   "cell_type": "markdown",
   "metadata": {},
   "source": [
    "### Truncation Errors\n",
    "\n",
    "To understand how good our approximations are, we should always define the truncation errors linked with the approximations made. In order to find them, we just need to go back to the definitions coming from the Taylor expansions presented on the top of this page.\n",
    "\n",
    "#### Backward Euler formula\n",
    "\n",
    "$$f(x+h)=f(x)+hf'(x)+\\dfrac{h^2}{2}f''(x)+\\dfrac{h^3}{6}f^{(3)}(x) + \\mathcal{O}(h^4) \\Leftrightarrow f'(x) = \\frac{f(x)-f(x-h)}{h}+\\dfrac{h}{2}f''(x)+\\dfrac{h^2}{6}f^{(3)}(x) + \\mathcal{O}(h^3)$$\n",
    "\n",
    "and, from here, we take:\n",
    "\n",
    "$$\\left|f'(x)-\\frac{f(x)-f(x-h)}{h}\\right|\\leq\\frac{h}{2}|f''(x)|$$\n",
    "\n",
    "Now we can apply an analogous procedure to find the remaining truncation errors.\n",
    "\n",
    "#### Forward Euler formula\n",
    "\n",
    "$$\\left|f'(x)-\\frac{f(x+h)-f(x)}{h}\\right|\\leq\\frac{h}{2}|f''(x)|$$\n",
    "\n",
    "#### Central Difference\n",
    "\n",
    "$$\\left|f'(x)-\\frac{f(x+h)-f(x-h)}{2h}\\right|\\leq\\frac{h^2}{6}|f^{(3)}(x)|$$\n",
    "\n",
    "#### Second Derivative Approximation\n",
    "\n",
    "$$\\left|f''(x)-\\frac{f(x+h)-2f(x)+f(x-h)}{h^2}\\right|\\leq\\frac{h^2}{12}|f^{(4)}(x)|$$"
   ]
  }
 ],
 "metadata": {
  "kernelspec": {
   "display_name": "Python 3 (ipykernel)",
   "language": "python",
   "name": "python3"
  },
  "language_info": {
   "codemirror_mode": {
    "name": "ipython",
    "version": 3
   },
   "file_extension": ".py",
   "mimetype": "text/x-python",
   "name": "python",
   "nbconvert_exporter": "python",
   "pygments_lexer": "ipython3",
   "version": "3.9.7"
  }
 },
 "nbformat": 4,
 "nbformat_minor": 2
}
