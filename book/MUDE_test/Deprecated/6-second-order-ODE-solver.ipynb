{
 "cells": [
  {
   "attachments": {},
   "cell_type": "markdown",
   "metadata": {},
   "source": [
    "## Second order ODE solver"
   ]
  },
  {
   "attachments": {},
   "cell_type": "markdown",
   "metadata": {},
   "source": [
    "```{note}\n",
    "**Important things to retain from this block:**\n",
    "* Understand how to write a second order ODE as a recursive solution using forward Euler formula\n",
    "* Identification of stable and unstable solutions´\n",
    "* Understanding that the introduction of more non-linear terms (e.g. resistance) will tighter restrict timesteps for applying algorithms as forward Euler formula to solve ODEs\n",
    "```"
   ]
  },
  {
   "attachments": {},
   "cell_type": "markdown",
   "metadata": {},
   "source": [
    "### Example of a second order ODE: the pendulum\n",
    "\n",
    "Let us start by using the pendulum as an example of a simple and well-known example of a second order ODE. The angular displacement of the pendulum is described according to the following second order ODE:\n",
    "\n",
    "$$\\underbrace{\\frac{d^2\\theta}{dt^2}}_{\\text{acceleration}} + \\overbrace{\\frac{k}{m}\\frac{d\\theta}{dt}}^{\\text{resistance}} + \\underbrace{\\frac{g}{L}\\sin\\theta}_{\\text{gravitational forces}} = 0$$\n",
    "\n",
    "where\n",
    "\n",
    "* $\\theta$ - angular displacement\n",
    "* $g$ - gravitational acceleration\n",
    "* $t$ - time\n",
    "* $b$ - air resistance coefficient\n",
    "* $m$ - mass of the pendulum\n",
    "* $L$ - pendulum rope length\n",
    "\n",
    "<img src=\"figs/pendulum.png\" width=\"400px\"></img>"
   ]
  },
  {
   "attachments": {},
   "cell_type": "markdown",
   "metadata": {},
   "source": [
    "#### Solution for the pendulum equation (no air resistance)\n",
    "\n",
    "We start by ignoring the air resistance, i.e., by setting $k=0$. With this and assuming we know the initial position and the initial velocity, we can write the problem of the angular displacement of a pendulum with rope length $L$ as\n",
    "\n",
    "$$\\ddot{\\theta} + \\frac{g}{L}\\sin\\theta = 0, \\text{with} \\hspace{4px} \\dot{\\theta}(0)=0 \\hspace{4px} \\text{and} \\hspace{4px} \\theta(0)=\\frac{\\pi}{3}$$"
   ]
  },
  {
   "attachments": {},
   "cell_type": "markdown",
   "metadata": {},
   "source": [
    "If we rewrite the equation using the forward Euler formula (applying it to the second derivatives on the equation above), we get:\n",
    "\n",
    "$$\\frac{\\dot{\\theta}_{n+1}-\\dot{\\theta}_n}{\\Delta t}+\\frac{g}{L}\\sin\\theta_n=0$$\n",
    "\n",
    "and, additionally, if we consider the definition of the first time derivative of $\\theta$, also using forward Euler formula, we would write that\n",
    "\n",
    "$$\\frac{\\theta_{n+1}-\\theta_n}{\\Delta t}=\\dot{\\theta}_{n+1}$$"
   ]
  },
  {
   "attachments": {},
   "cell_type": "markdown",
   "metadata": {},
   "source": [
    "Rearranging both equations, we find that:\n",
    "\n",
    "$$\\begin{cases}\\dot{\\theta}_{n+1} = \\dot{\\theta}_n-\\Delta t\\dfrac{g}{L}\\sin\\theta\\\\\\theta_{n+1}=\\theta_n+\\dot{\\theta}_{n+1}\\Delta t\\end{cases}$$\n",
    "\n",
    "Now we have a condition defining $\\theta$ evolution and the evolution of its first derivative, the angular velocity, $\\dot{\\theta}$. To be able to solve this system, we can now input the initial conditions into the first equation. Doing this, and setting a fixed $\\Delta t$, we are able to solve the whole system."
   ]
  },
  {
   "attachments": {},
   "cell_type": "markdown",
   "metadata": {},
   "source": [
    "#### Numerical solution for different timesteps\n",
    "\n",
    "But how does our solution look like considering different timesteps?\n",
    "\n",
    "<img src=\"figs/selectyourside.png\" width=\"1000px\"></img>\n",
    "\n",
    "It is curious to see that we find nearly the same amplitude and the maximum and minimum positions at the same timestamp even when we increase $\\Delta t$ from $\\Delta t = 0.1s$ to $\\Delta t = 0.5s$. We find stable solutions for both these timesteps. On the other hand, we find exactly the opposite for $\\Delta t = 1s$, where the solution is not stable and the amplitude increases in an uncontrolled way."
   ]
  },
  {
   "attachments": {},
   "cell_type": "markdown",
   "metadata": {},
   "source": [
    "#### Solution for the pendulum equation (with air resistance)\n",
    "\n",
    "Considering the pendulum equation with air resistance, we find\n",
    "\n",
    "$$\\ddot{\\theta} + \\frac{k}{m}\\dot{\\theta} + \\frac{g}{L}\\sin\\theta = 0, \\text{with} \\hspace{4px} \\dot{\\theta}(0)=0 \\hspace{4px} \\text{and} \\hspace{4px} \\theta(0)=\\frac{\\pi}{3}$$\n",
    "\n",
    "Doing the same steps as before, we can rewrite the equation using the forward Euler formula, from where we find\n",
    "\n",
    "$$\\dot{\\theta}_{n+1} = \\dot{\\theta}_n - \\Delta t \\frac{k}{m}\\dot{\\theta}_n - \\Delta t \\frac{g}{L}\\sin\\theta_n$$\n",
    "\n",
    "$$\\theta_{n+1} = \\theta_n + \\dot{\\theta}_{n+1}\\Delta t$$"
   ]
  },
  {
   "attachments": {},
   "cell_type": "markdown",
   "metadata": {},
   "source": [
    "#### Numerical solution for different timesteps\n",
    "\n",
    "But how does our solution look like considering different timesteps? Considering $L=m=1$ and $k=0.8$, we get:\n",
    "\n",
    "<img src=\"figs/selectyourside2.png\" width=\"1000px\"></img>\n",
    "\n",
    "Here, we clearly see a damped oscillating movement (if we look at the graph that we got for the smallest timestamp, which mimics more correctly the exact behavior of the pendulum). However, as soon as we increase slightly the timestep (comparing the left and middle figures), we see that the second plot is not able to mimic correctly the amplitude of the movement of the pendulum even though it resembles quite nicely the inversion points in the movement. Once again, the right figure is completely wrong, as a timestamp of 1 second is not enough to register all the changes in the pendulum motion."
   ]
  }
 ],
 "metadata": {
  "kernelspec": {
   "display_name": "Python 3 (ipykernel)",
   "language": "python",
   "name": "python3"
  },
  "language_info": {
   "codemirror_mode": {
    "name": "ipython",
    "version": 3
   },
   "file_extension": ".py",
   "mimetype": "text/x-python",
   "name": "python",
   "nbconvert_exporter": "python",
   "pygments_lexer": "ipython3",
   "version": "3.9.7"
  }
 },
 "nbformat": 4,
 "nbformat_minor": 2
}
