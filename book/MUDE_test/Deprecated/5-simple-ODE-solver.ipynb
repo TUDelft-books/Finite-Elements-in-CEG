{
 "cells": [
  {
   "cell_type": "markdown",
   "metadata": {},
   "source": [
    "## Simple ODE Solver"
   ]
  },
  {
   "cell_type": "markdown",
   "metadata": {},
   "source": [
    "```{note}\n",
    "**Important things to retain from this block:**\n",
    "* Understand that numerical solutions for ODEs can be computed either by numerical integration or derivatives\n",
    "* Understand the stability criteria for the numerical solutions\n",
    "```"
   ]
  },
  {
   "cell_type": "markdown",
   "metadata": {},
   "source": [
    "### ODE Solver based on Numerical Integration\n",
    "\n",
    "The analytical solution at any point in time, $t$, can be found by integrating the above equation in time, which results in the following integral equation\n",
    "\n",
    "$$y(t)=y(t_0)+\\int_{t_0}^tf(\\tau,y(\\tau))d\\tau$$\n",
    "\n",
    "If we introduce intervals $[t_n, t_{n+1}]$ for the numerical integration:\n",
    "\n",
    "$$y(t_{n+1})=y(t_n)+\\int_{t_n}^{t_{n+1}}f(\\tau,y(\\tau))d\\tau$$\n",
    "\n",
    "Let us use now left Riemann integration techniques which will give us the following explicit approximation:\n",
    "\n",
    "$$y(t_{n+1})=y(t_n)+\\Delta tf(t_n, y(t_n))$$\n",
    "\n",
    "Similarly, we can use right Riemann integration for implicit approximation:\n",
    "\n",
    "$$y(t_{n+1})=y(t_n)+\\Delta tf(t_{n+1},y(t_{n+1}))$$"
   ]
  },
  {
   "cell_type": "markdown",
   "metadata": {},
   "source": [
    "### ODE Solver based on Numerical Derivatives\n",
    "\n",
    "Let us first imagine a general Cauchy problem (i.e. a problem described by a differential equation with a well-defined set of initial conditions) given by\n",
    "\n",
    "$$y'-f(t,y)=0$$\n",
    "\n",
    "subject to an initial condition given by $y(t_0)=y_0$. Introducing a uniformly spaced grid such that\n",
    "\n",
    "$$t_n = t_0 + nh, \\hspace{50px} y(t_n)=y_n$$\n",
    "\n",
    "then, for an enoughly small $h$, we get the Cauchy problem to be represented in a numerical form by forward Euler derivation as\n",
    "\n",
    "$$\\frac{y_{n+1}-y_n}{h} = f(t_n, y_n), \\hspace{50px} y(t_0)=y_0$$\n",
    "\n",
    "As we have seen in the previous section, the approximation error can be estimated based on the Taylor series expansions made to get ot the forward Euler derivation formula. Therefore:\n",
    "\n",
    "$$\\frac{y_{n+1}-y_n}{h} - f(t_n, y_n) = y'(t_n)+\\frac{h}{2}y''(t_n)+\\mathcal{O}(h^2)-f(t_n,y_n) = \\mathcal{O}(h)$$"
   ]
  },
  {
   "cell_type": "markdown",
   "metadata": {},
   "source": [
    "#### Stability of the ODE solution\n",
    "\n",
    "Let us loook into the explicit forward Euler approximation for $y' = -\\alpha y$, with $y(0)=1$ and $\\alpha>0$. We trivially know the solution for this equation to be\n",
    "\n",
    "$$y(t) = e^{-\\alpha t}$$\n",
    "\n",
    "If we apply forward Euler to this problem, it yields\n",
    "\n",
    "$$y_{n+1}=y_n-\\alpha hy_n = (1-\\alpha h)y_n = (1-\\alpha h)^2y_{n-1} = ... = (1-\\alpha h)^{n+1}y_0$$\n",
    "\n",
    "To prevent an implication of the error for each timestep $n$, we demand\n",
    "\n",
    "$$|1-\\alpha h|<1\\implies h<\\frac{2}{\\alpha}$$\n",
    "\n",
    "---\n",
    "\n",
    "On the other hand, if we decide to apply backward Euler approximation, we find:\n",
    "\n",
    "$$y_{n+1}=y_n-\\alpha hy_{n+1} \\implies y_{n+1}(1+\\alpha h)=y_n$$\n",
    "\n",
    "where similarly, as for forward Euler approximation, we find\n",
    "\n",
    "$$y_{n+1}=\\frac{1}{1+\\alpha h}y_n=\\left(\\frac{1}{1+\\alpha h}\\right)^2 y_{n-1} = ... = \\left(\\frac{1}{1+\\alpha h}\\right)^{n+1}y_0$$\n",
    "\n",
    "here, it is obvious that we only need to require $\\alpha$ and $h$ to fulfill the following condition for the solution to be **stable**\n",
    "\n",
    "$$\\left|\\frac{1}{1+\\alpha h}\\right|<1$$"
   ]
  },
  {
   "cell_type": "markdown",
   "metadata": {},
   "source": [
    "### Example: Solving a simple ODE\n",
    "\n",
    "Let us consider\n",
    "\n",
    "$$y'=-100(y-\\cos(t))-\\sin(t)=f(t,y(t))$$\n",
    "\n",
    "with initial conditions $y(0) = 0$\n",
    "\n",
    "This equation has an analytical solution given by $y(t)=\\cos(t)-e^{-100t}$. But if how do the numerical solutions for this problem look like? How accurate are they?\n",
    "\n",
    "<img src=\"figs/first_ode.png\" width=800px></img>\n",
    "\n",
    "And what if we consider a timestep relatively larger?\n",
    "\n",
    "<img src=\"figs/second_ode.png\" width=800px></img>"
   ]
  }
 ],
 "metadata": {
  "kernelspec": {
   "display_name": "Python 3 (ipykernel)",
   "language": "python",
   "name": "python3"
  },
  "language_info": {
   "codemirror_mode": {
    "name": "ipython",
    "version": 3
   },
   "file_extension": ".py",
   "mimetype": "text/x-python",
   "name": "python",
   "nbconvert_exporter": "python",
   "pygments_lexer": "ipython3",
   "version": "3.9.7"
  }
 },
 "nbformat": 4,
 "nbformat_minor": 2
}
