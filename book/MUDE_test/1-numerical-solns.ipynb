{
 "cells": [
  {
   "attachments": {},
   "cell_type": "markdown",
   "metadata": {},
   "source": [
    "## Introduction to Numerical Solutions"
   ]
  },
  {
   "attachments": {},
   "cell_type": "markdown",
   "metadata": {},
   "source": [
    "```{note}\n",
    "**Important things to retain from this block:**\n",
    "* Understanding how numerical and analytical solutions might differ as we get to more complex problems which need simplification\n",
    "* Concluding that for really complex parameters and observations only numerical solutions can lead us somewhere\n",
    "```"
   ]
  },
  {
   "attachments": {},
   "cell_type": "markdown",
   "metadata": {},
   "source": [
    "### Analytical vs Numerical Solutions"
   ]
  },
  {
   "attachments": {},
   "cell_type": "markdown",
   "metadata": {},
   "source": [
    "In this block, we will focus on the analysis and comparison between analytical and numerical solutions. Let us start with a few simple examples to see how accurate the numerical solutions can be. Therefore, consider:\n",
    "\n",
    "> Find solution $f(x) = 0$ in the interval $[a,b]$, with $f(x) = 3x-2$, $a=0$ and $b=1$\n",
    "\n",
    "**Analytical Solution**\n",
    "\n",
    "$$ f(x) = 0 \\Leftrightarrow 3x-2=0 \\Leftrightarrow x = \\frac{2}{3}$$\n",
    "\n",
    "**Numerical Solution**"
   ]
  },
  {
   "cell_type": "code",
   "execution_count": 1,
   "metadata": {},
   "outputs": [
    {
     "name": "stdout",
     "output_type": "stream",
     "text": [
      "Answer x =  0.667\n"
     ]
    }
   ],
   "source": [
    "def f(x):\n",
    "    return 3*x-2\n",
    "\n",
    "dx = 0.001\n",
    "for i in range(1000):\n",
    "    x = dx*i\n",
    "    if f(x) * f(x+dx) < 0:\n",
    "        break\n",
    "\n",
    "print(\"Answer x = \", x+dx)"
   ]
  },
  {
   "attachments": {},
   "cell_type": "markdown",
   "metadata": {},
   "source": [
    "Let us now look to another simple example:\n",
    "\n",
    "> Find solution $f(x) = 0$ in the interval $[a,b]$, with $f(x) = 3\\sin(x)-2$, $a=0$ and $b=1$\n",
    "\n",
    "**Analytical Solution**\n",
    "\n",
    "$$ f(x) = 0 \\Leftrightarrow 3\\sin(x)-2=0 \\Leftrightarrow x = \\arcsin\\left(\\frac{2}{3}\\right) = 0.73$$\n",
    "\n",
    "**Numerical Solution**"
   ]
  },
  {
   "cell_type": "code",
   "execution_count": 1,
   "metadata": {},
   "outputs": [
    {
     "name": "stdout",
     "output_type": "stream",
     "text": [
      "Answer x =  0.73\n"
     ]
    }
   ],
   "source": [
    "import math\n",
    "\n",
    "def f(x):\n",
    "    return 3*math.sin(x)-2\n",
    "\n",
    "dx = 0.001\n",
    "for i in range(1000):\n",
    "    x = dx*i\n",
    "    if f(x) * f(x+dx) < 0:\n",
    "        break\n",
    "\n",
    "print(\"Answer x = \", x+dx)"
   ]
  },
  {
   "attachments": {},
   "cell_type": "markdown",
   "metadata": {},
   "source": [
    "It is clear that in these two examples the results obtained with both analytical and numerical methods were identical, as we were dealing with simple problems that did not require any kind of approximations to be solved. However, this is not always the case, as we can see in the next couple examples."
   ]
  }
 ],
 "metadata": {
  "kernelspec": {
   "display_name": "Python 3 (ipykernel)",
   "language": "python",
   "name": "python3"
  },
  "language_info": {
   "codemirror_mode": {
    "name": "ipython",
    "version": 3
   },
   "file_extension": ".py",
   "mimetype": "text/x-python",
   "name": "python",
   "nbconvert_exporter": "python",
   "pygments_lexer": "ipython3",
   "version": "3.9.12"
  }
 },
 "nbformat": 4,
 "nbformat_minor": 2
}
