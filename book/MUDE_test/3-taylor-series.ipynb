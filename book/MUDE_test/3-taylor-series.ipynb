{
 "cells": [
  {
   "cell_type": "markdown",
   "metadata": {},
   "source": [
    "# Taylor Series Expansion"
   ]
  },
  {
   "cell_type": "markdown",
   "metadata": {},
   "source": [
    "```{note}\n",
    "**Important things to retain from this block:**\n",
    "* Understand how to compute Taylor series expansion of a given function around a given point\n",
    "* Understand how good Taylor series can be to mimic the behavior of a function **locally**\n",
    "\n",
    "**Things you do not need to know:**\n",
    "* Any kind of Taylor expansion of a function by heart\n",
    "```"
   ]
  },
  {
   "cell_type": "markdown",
   "metadata": {},
   "source": [
    "**Definition:**\n",
    "The Taylor series expansion of an arbitrary function $f(x)$ around $x=a$ is given by\n",
    "\n",
    "$$f(x) = \\sum_{i=0}^\\infty\\frac{f^{(i)}(a)}{i!}(x-a)^i = f(a) + f'(a)(x-a)+\\frac{f''(a)}{2!}(x-a)^2+\\frac{f^{(3)}(a)}{3!}(x-a)^3 + \\mathcal{O}((x-a)^4)$$\n",
    "\n",
    "This series is **exact** as long as we include all infinitely many terms. Since practically we can only compute a finite number of terms though, we will only consider truncated versions of Taylor series expansions, which would give us an approximation of the real value.\n",
    "\n",
    "Knowing the definition, let us now take a look into an example on how to compute Taylor series expansion of a specific function.\n",
    "\n",
    "---\n",
    "\n",
    "**Example:** Compute the $e^{0.2}$ using Taylor series expansion\n",
    "\n",
    "We trivially know the value of $f(x)=e^x$ for $x=0$, and we want to evaluate the value of the function in a point near $x=0$. Therefore, we can compute the Taylor series expansion of $e^x$\n",
    "\n",
    "$$e^x \\approx e^0 + xe^0 + \\frac{x^2}{2!}e^0 + \\frac{x^3}{3!}e^0 + \\frac{x^4}{4!}e^0 \\approx 1 + x + \\frac{x^2}{2} + \\frac{x^3}{6}$$\n",
    "\n",
    "And, therefore, we get:\n",
    "\n",
    "$$e^{0.2}\\approx 1 + 0.2 + 0.02 + 0.00133 = 1.22133$$\n",
    "\n",
    "---"
   ]
  },
  {
   "cell_type": "markdown",
   "metadata": {},
   "source": [
    "**Example:** Compute the Taylor series expansion for $f(x)=\\sin(x)$ around $x=0$\n",
    "\n",
    "Applying the formula presented in the definition in the beginning of this section:\n",
    "\n",
    "$$\\sin(x) \\approx \\sin(0) + x\\cos(0) - \\frac{x^2}{2}\\sin(0) - \\frac{x^3}{6}\\cos(0) + \\frac{x^4}{24}\\sin(0) + \\frac{x^5}{120}\\cos(0) = x+\\frac{x^3}{6}+\\frac{x^5}{120}$$\n",
    "\n",
    "---\n",
    "\n",
    "But how good is this approximation? And how better can the result be if we continue extending more and more the degree of our expansion? Let us take a deeper look by considering a different example:\n",
    "\n",
    "---\n",
    "\n",
    "**Example:** Compute the Taylor expansion of $f(x)=\\ln(x)$ around $x=1$\n",
    "\n",
    "The Taylor series expansion of $f(x) = \\ln(x)$ is given by \n",
    "\n",
    "$$f(x) \\approx (x-1)-\\frac{1}{2}(x-1)^2+\\frac{1}{3}(x-1)^3-\\frac{1}{4}(x-1)^4$$\n",
    "\n",
    "And how good are these approximations?"
   ]
  },
  {
   "cell_type": "code",
   "execution_count": 2,
   "metadata": {
    "tags": [
     "thebe-remove-input-init"
    ]
   },
   "outputs": [],
   "source": [
    "import numpy as np\n",
    "import matplotlib.pyplot as plt\n",
    "from ipywidgets import widgets, interact"
   ]
  },
  {
   "cell_type": "code",
   "execution_count": 3,
   "metadata": {
    "tags": [
     "thebe-remove-input-init"
    ]
   },
   "outputs": [],
   "source": [
    "def taylor_plt(order_aprox):\n",
    "\n",
    "    x = np.linspace(-2*np.pi,2*np.pi,100)\n",
    "\n",
    "    plt.plot(x, np.sin(x), label=\"sin(x)\")\n",
    "    if order_aprox == '1st order':\n",
    "        plt.plot(x, x, label = \"1st order approximation\")\n",
    "    elif order_aprox == '2nd order':\n",
    "        plt.plot(x, x-(1/6*x**3), label = \"2nd order approximation\")\n",
    "    elif order_aprox == '3rd order':\n",
    "        plt.plot(x, x-(1/6*x**3)+(1/120*x**5), label = \"3rd order approximation\")\n",
    "    elif order_aprox == '4th order':\n",
    "        plt.plot(x, x-(1/6*x**3)+(1/120*x**5)-(1/5040*(x)**7), label = \"4th order approximation\")\n",
    "    plt.ylim(-5,5)\n",
    "    plt.axis('off')\n",
    "    plt.legend()\n",
    "    plt.show();"
   ]
  },
  {
   "cell_type": "code",
   "execution_count": 4,
   "metadata": {
    "tags": [
     "thebe-remove-input-init"
    ]
   },
   "outputs": [
    {
     "data": {
      "application/vnd.jupyter.widget-view+json": {
       "model_id": "16a4410359e84605925bca41b0d1fe61",
       "version_major": 2,
       "version_minor": 0
      },
      "text/plain": [
       "interactive(children=(ToggleButtons(description='order_aprox', options=('1st order', '2nd order', '3rd order',…"
      ]
     },
     "metadata": {},
     "output_type": "display_data"
    }
   ],
   "source": [
    "interact(taylor_plt, order_aprox = widgets.ToggleButtons(options=['1st order', '2nd order', '3rd order','4th order']));"
   ]
  },
  {
   "cell_type": "markdown",
   "metadata": {},
   "source": [
    "**The Taylor series expansion for a function of two variables to the second order:**\n",
    "\n",
    "$$\n",
    "\\begin{align*}\n",
    "f(x, y) \\approx f(a, b) &+ \\frac{\\partial f}{\\partial x}(a, b)(x - a) + \\frac{\\partial f}{\\partial y}(a, b)(y - b)\\\\\n",
    "& + \\frac{1}{2!}\\left(\\frac{\\partial^2 f}{\\partial x^2}(a, b)(x - a)^2 + 2\\frac{\\partial^2 f}{\\partial x \\partial y}(a, b)(x - a)(y - b) + \\frac{\\partial^2 f}{\\partial y^2}(a, b)(y - b)^2\\right) \\\\\n",
    "&+ \\ldots\n",
    "\\end{align*}\n",
    "$$"
   ]
  },
  {
   "cell_type": "markdown",
   "metadata": {},
   "source": [
    "**The Taylor series expansion for a function of two variables to the third order:**\n",
    "\n",
    "$$\n",
    "\\begin{align*}\n",
    "f(x, y) \\approx f(a, b) &+ \\frac{\\partial f}{\\partial x}(a, b)(x - a) + \\frac{\\partial f}{\\partial y}(a, b)(y - b) \\\\\n",
    "& + \\frac{1}{2!}\\left(\\frac{\\partial^2 f}{\\partial x^2}(a, b)(x - a)^2 + 2\\frac{\\partial^2 f}{\\partial x \\partial y}(a, b)(x - a)(y - b) + \\frac{\\partial^2 f}{\\partial y^2}(a, b)(y - b)^2\\right) \\\\\n",
    "& + \\frac{1}{3!}\\left(\\frac{\\partial^3 f}{\\partial x^3}(a, b)(x - a)^3 + 3\\frac{\\partial^3 f}{\\partial x^2 \\partial y}(a, b)(x - a)^2(y - b) + 3\\frac{\\partial^3 f}{\\partial x \\partial y^2}(a, b)(x - a)(y - b)^2 + \\frac{\\partial^3 f}{\\partial y^3}(a, b)(y - b)^3\\right) \\\\\n",
    "& + \\ldots\n",
    "\\end{align*}\n",
    "$$"
   ]
  },
  {
   "cell_type": "code",
   "execution_count": null,
   "metadata": {
    "tags": [
     "auto-execute-page"
    ]
   },
   "outputs": [],
   "source": [
    "#"
   ]
  },
  {
   "cell_type": "markdown",
   "metadata": {},
   "source": []
  }
 ],
 "metadata": {
  "kernelspec": {
   "display_name": "Python 3 (ipykernel)",
   "language": "python",
   "name": "python3"
  },
  "language_info": {
   "codemirror_mode": {
    "name": "ipython",
    "version": 3
   },
   "file_extension": ".py",
   "mimetype": "text/x-python",
   "name": "python",
   "nbconvert_exporter": "python",
   "pygments_lexer": "ipython3",
   "version": "3.11.4"
  }
 },
 "nbformat": 4,
 "nbformat_minor": 2
}
