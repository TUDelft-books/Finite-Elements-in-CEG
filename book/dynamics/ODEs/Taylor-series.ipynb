{
 "cells": [
  {
   "cell_type": "markdown",
   "metadata": {},
   "source": [
    "# Taylor Series"
   ]
  },
  {
   "cell_type": "markdown",
   "metadata": {},
   "source": [
    "Before going into more details on how to find a numerical approximation, let's start by refreshing some theory about **[Taylor series](https://en.wikipedia.org/wiki/Taylor_series)**. \n",
    "\n",
    "> *the **Taylor series** of a function is an infinite sum of terms that are expressed in terms of the function's derivatives at a single point.*\n",
    "\n",
    "That is:\n",
    "\n",
    "$$ f(x)=\\sum_{i=0}^\\infty\\frac{f^{(i)}(a)}{i!}(x-a)^i. $$\n",
    "\n",
    "The series is exact for an arbitrary function as long as we include infinite terms in the sum. However, here we are interested on an approximation that includes only the first $r$ terms of the expansion: \n",
    "\n",
    "$$ f_r(x)=\\sum_{i=0}^r\\frac{f^{(i)}(a)}{i!}(x-a)^i\\approx f(x). $$\n",
    "\n",
    "Let's see how this work in a practical example. We consider here the function $f(x)=\\sin(x)$ and we want to approximate this function knowing the function value and its derivatives at the point $a=0$. Using five terms in the expansion, $r=5$, we have that \n",
    "\n",
    "$$\\begin{align*}f_5(x) &= \\sin(0) + x\\cos(0) - \\frac{x^2}{2}\\sin(0) - \\frac{x^3}{6}\\cos(0) + \\frac{x^4}{24}\\sin(0) + \\frac{x^5}{120}\\cos(0)\\\\\n",
    "                      &= x - \\frac{x^3}{6} + \\frac{x^5}{120}.\n",
    "\\end{align*} $$\n",
    "\n",
    "We now can do a first coding exercise with this example and see how this approximation looks like for different values of $r$. To do so, we explicitly define the approximated functions."
   ]
  },
  {
   "cell_type": "code",
   "execution_count": null,
   "metadata": {},
   "outputs": [],
   "source": [
    "import numpy as np\n",
    "\n",
    "n = 200 # Gives smoother functions than standard n=50 linspace\n",
    "x = np.linspace(-2*np.pi,2*np.pi,n)\n",
    "a_0 = 0\n",
    "a = a_0*np.ones(len(x)) # Lower \n",
    "\n",
    "def f(x):\n",
    "  return np.sin(x)\n",
    "def f0(x):\n",
    "  return np.sin(a)\n",
    "def f1(x):\n",
    "  return f0(x) + (x-a)*np.cos(a)\n",
    "def f2(x):\n",
    "  return f1(x) - (x-a)**2/2 * np.sin(a)\n",
    "def f3(x):\n",
    "  return f2(x) - (x-a)**3/6 * np.cos(a)\n",
    "def f4(x):\n",
    "  return f3(x) + (x-a)**4/24 * np.sin(a)\n",
    "def f5(x):\n",
    "  return f4(x) + (x-a)**5/120 * np.cos(a)"
   ]
  },
  {
   "cell_type": "markdown",
   "metadata": {},
   "source": [
    "Let's plot all these functions:"
   ]
  },
  {
   "cell_type": "code",
   "execution_count": null,
   "metadata": {},
   "outputs": [],
   "source": [
    "import matplotlib.pyplot as plt\n",
    "%matplotlib inline\n",
    "\n",
    "plt.plot(x,f(x),label=\"sin(x)\")\n",
    "plt.plot(x,f0(x),label=\"f_0(x)\",ls=\":\")\n",
    "plt.plot(x,f1(x),label=\"f_1(x)\")\n",
    "plt.plot(x,f2(x),label=\"f_2(x)\",ls=(0, (5, 10)))\n",
    "plt.plot(x,f3(x),label=\"f_3(x)\")\n",
    "plt.plot(x,f4(x),label=\"f_4(x)\",ls=\"dashed\")\n",
    "plt.plot(x,f5(x),label=\"f_5(x)\")\n",
    "\n",
    "plt.xlabel(\"x\")\n",
    "plt.ylabel(\"f(x)\"),\n",
    "plt.xlim((-2*np.pi,2*np.pi))\n",
    "plt.ylim((-1.5,1.5))\n",
    "plt.legend();"
   ]
  },
  {
   "cell_type": "markdown",
   "metadata": {},
   "source": [
    "\n",
    "<center><img src=\"Figures/Taylor-series-sin.png\" width=400px></img></center>\n",
    "\n",
    "We see that as we increase the number of terms, the approximation gets closer to the analytical expression. Note also that for this particular example, there is no gain for $r=2$ and $r=4$ with respect to $r=1$ and $r=3$. This is caused by the fact that $\\sin(a)=0$ at the approximation point $a=0$.\n",
    "\n",
    "We can go further and evaluate and plot the error of the approximation for different values of $m$.\n",
    "\n",
    "$$ e_m(x)=|f(x)-f_m(x)|,\\qquad r=1,...,5$$"
   ]
  },
  {
   "cell_type": "code",
   "execution_count": null,
   "metadata": {},
   "outputs": [],
   "source": [
    "e0 = abs(f(x)-f0(x))\n",
    "e1 = abs(f(x)-f1(x))\n",
    "e2 = abs(f(x)-f2(x))\n",
    "e3 = abs(f(x)-f3(x))\n",
    "e4 = abs(f(x)-f4(x))\n",
    "e5 = abs(f(x)-f5(x))\n",
    "\n",
    "plt.plot(x,np.log10(e0),label=\"$e_0(x)$\",ls=\":\")\n",
    "plt.plot(x,np.log10(e1),label=\"$e_1(x)$\")\n",
    "plt.plot(x,np.log10(e2),label=\"$e_2(x)$\",ls=(0, (5, 10)))\n",
    "plt.plot(x,np.log10(e3),label=\"$e_3(x)$\")\n",
    "plt.plot(x,np.log10(e4),label=\"$e_4(x)$\",ls=\"dashed\")\n",
    "plt.plot(x,np.log10(e5),label=\"$e_5(x)$\")\n",
    "\n",
    "plt.xlabel(\"x\")\n",
    "plt.ylabel(\"log10(e(x))\")\n",
    "plt.xlim((-2*np.pi,2*np.pi))\n",
    "plt.ylim((10**(-20), 2))\n",
    "plt.yscale(\"log\")\n",
    "plt.legend();\n",
    "\n",
    "plt.savefig(\"Taylor-series-sin.png\")"
   ]
  },
  {
   "cell_type": "markdown",
   "metadata": {},
   "source": [
    "<center><img src=\"Figures/Taylor-series-sin-error.png\" width=400px></img></center>\n",
    "\n",
    "As it is seen in the previous figure, close to the evaluation point $a$, the approximation error decreases as we increase the number of terms in the expansion.\n",
    "\n",
    "## Examples\n",
    "\n",
    "**Example 1:** Compute the $e^{0.2}$ using Taylor series expansion\n",
    "\n",
    "We trivially know the value of $f(x)=e^x$ for $x=0$, and we want to evaluate the value of the function in a point near $x=0$. Therefore, we can compute the Taylor series expansion of $e^x$\n",
    "\n",
    "$$e^x \\approx e^0 + xe^0 + \\frac{x^2}{2!}e^0 + \\frac{x^3}{3!}e^0 + \\frac{x^4}{4!}e^0 \\approx 1 + x + \\frac{x^2}{2} + \\frac{x^3}{6}$$\n",
    "\n",
    "And, therefore, we get:\n",
    "\n",
    "$$e^{0.2}\\approx 1 + 0.2 + 0.02 + 0.00133 = 1.22133$$\n",
    "\n",
    "---"
   ]
  },
  {
   "cell_type": "markdown",
   "metadata": {},
   "source": [
    "**Example 2:** Compute the Taylor expansion of $f(x)=\\ln(x)$ around $x=1$\n",
    "\n",
    "The Taylor series expansion of $f(x) = \\ln(x)$ is given by \n",
    "\n",
    "$$f(x) \\approx (x-1)-\\frac{1}{2}(x-1)^2+\\frac{1}{3}(x-1)^3-\\frac{1}{4}(x-1)^4$$\n",
    "\n",
    "---"
   ]
  },
  {
   "cell_type": "code",
   "execution_count": 2,
   "metadata": {
    "tags": [
     "thebe-remove-input-init"
    ]
   },
   "outputs": [],
   "source": [
    "import numpy as np\n",
    "import matplotlib.pyplot as plt\n",
    "from ipywidgets import widgets, interact"
   ]
  },
  {
   "cell_type": "code",
   "execution_count": 3,
   "metadata": {
    "tags": [
     "thebe-remove-input-init"
    ]
   },
   "outputs": [],
   "source": [
    "def taylor_plt(order_aprox):\n",
    "\n",
    "    x = np.linspace(-2*np.pi,2*np.pi,100)\n",
    "\n",
    "    plt.plot(x, np.sin(x), label=\"sin(x)\")\n",
    "    if order_aprox == '1st order':\n",
    "        plt.plot(x, x, label = \"1st order approximation\")\n",
    "    elif order_aprox == '2nd order':\n",
    "        plt.plot(x, x-(1/6*x**3), label = \"2nd order approximation\")\n",
    "    elif order_aprox == '3rd order':\n",
    "        plt.plot(x, x-(1/6*x**3)+(1/120*x**5), label = \"3rd order approximation\")\n",
    "    elif order_aprox == '4th order':\n",
    "        plt.plot(x, x-(1/6*x**3)+(1/120*x**5)-(1/5040*(x)**7), label = \"4th order approximation\")\n",
    "    plt.ylim(-5,5)\n",
    "    plt.axis('off')\n",
    "    plt.legend()\n",
    "    plt.show();"
   ]
  },
  {
   "cell_type": "code",
   "execution_count": 4,
   "metadata": {
    "tags": [
     "thebe-remove-input-init"
    ]
   },
   "outputs": [
    {
     "data": {
      "application/vnd.jupyter.widget-view+json": {
       "model_id": "16a4410359e84605925bca41b0d1fe61",
       "version_major": 2,
       "version_minor": 0
      },
      "text/plain": [
       "interactive(children=(ToggleButtons(description='order_aprox', options=('1st order', '2nd order', '3rd order',…"
      ]
     },
     "metadata": {},
     "output_type": "display_data"
    }
   ],
   "source": [
    "interact(taylor_plt, order_aprox = widgets.ToggleButtons(options=['1st order', '2nd order', '3rd order','4th order']));"
   ]
  },
  {
   "cell_type": "markdown",
   "metadata": {},
   "source": [
    "## Additional material\n",
    "In practise, one can use tools that facilitate the derivation of Taylor series of functions. Primarily these all use the same structure as shown above, however the different functions are created in a loop that more closely resembles the mathematical formulation using factorials. The symbolic basis of the used derivatives is most often done with the [`Sympy package`](https://docs.sympy.org/latest/modules/series/series.html).\n",
    "\n",
    "A Similar tool exists for Julia, another scientific programming language that we will look into later in the unit. Then we use the package [`TaylorSeries.jl`](https://juliadiff.org/TaylorSeries.jl/stable/), which is a Julia package for Taylor expansions in one or more independent variables.\n",
    "\n",
    "Here we only focused on functions of one variable, but the same procedure applies for multivariate functions:\n",
    "\n",
    "**The Taylor series expansion for a function of two variables to the second order:**\n",
    "\n",
    "$$\n",
    "\\begin{align*}\n",
    "f(x, y) \\approx f(a, b) &+ \\frac{\\partial f}{\\partial x}(a, b)(x - a) + \\frac{\\partial f}{\\partial y}(a, b)(y - b)\\\\\n",
    "& + \\frac{1}{2!}\\left(\\frac{\\partial^2 f}{\\partial x^2}(a, b)(x - a)^2 + 2\\frac{\\partial^2 f}{\\partial x \\partial y}(a, b)(x - a)(y - b) + \\frac{\\partial^2 f}{\\partial y^2}(a, b)(y - b)^2\\right) \\\\\n",
    "&+ \\ldots\n",
    "\\end{align*}\n",
    "$$"
   ]
  },
  {
   "cell_type": "markdown",
   "metadata": {},
   "source": [
    "**The Taylor series expansion for a function of two variables to the third order:**\n",
    "\n",
    "$$\n",
    "\\begin{align*}\n",
    "f(x, y) \\approx f(a, b) &+ \\frac{\\partial f}{\\partial x}(a, b)(x - a) + \\frac{\\partial f}{\\partial y}(a, b)(y - b) \\\\\n",
    "& + \\frac{1}{2!}\\left(\\frac{\\partial^2 f}{\\partial x^2}(a, b)(x - a)^2 + 2\\frac{\\partial^2 f}{\\partial x \\partial y}(a, b)(x - a)(y - b) + \\frac{\\partial^2 f}{\\partial y^2}(a, b)(y - b)^2\\right) \\\\\n",
    "& + \\frac{1}{3!}\\left(\\frac{\\partial^3 f}{\\partial x^3}(a, b)(x - a)^3 + 3\\frac{\\partial^3 f}{\\partial x^2 \\partial y}(a, b)(x - a)^2(y - b) + 3\\frac{\\partial^3 f}{\\partial x \\partial y^2}(a, b)(x - a)(y - b)^2 + \\frac{\\partial^3 f}{\\partial y^3}(a, b)(y - b)^3\\right) \\\\\n",
    "& + \\ldots\n",
    "\\end{align*}\n",
    "$$"
   ]
  },
  {
   "cell_type": "code",
   "execution_count": null,
   "metadata": {
    "tags": [
     "auto-execute-page"
    ]
   },
   "outputs": [],
   "source": [
    "#"
   ]
  },
  {
   "cell_type": "markdown",
   "metadata": {},
   "source": []
  }
 ],
 "metadata": {
  "kernelspec": {
   "display_name": "Python 3 (ipykernel)",
   "language": "python",
   "name": "python3"
  },
  "language_info": {
   "codemirror_mode": {
    "name": "ipython",
    "version": 3
   },
   "file_extension": ".py",
   "mimetype": "text/x-python",
   "name": "python",
   "nbconvert_exporter": "python",
   "pygments_lexer": "ipython3",
   "version": "3.11.4"
  }
 },
 "nbformat": 4,
 "nbformat_minor": 2
}
