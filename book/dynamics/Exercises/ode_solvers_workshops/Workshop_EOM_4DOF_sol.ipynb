{
 "cells": [
  {
   "attachments": {},
   "cell_type": "markdown",
   "metadata": {},
   "source": [
    "# Solution (Workshop 5): Deriving the EOM of a 4DOF floating wind turbine\n",
    "In this tutorial you will learn to derive the Equations of Motion of a floating offshore wind turbine. The tutorial is quite elaborate, but contains large portions of example code to fully understand so that it can be applied in other offshore application projects\n",
    "\n",
    "<center><img src=\"https://github.com/rdeke/ComModHOS_double/blob/main/book/images/Module2/w2_t4_floatingturbine.png?raw=true\" width=\"400\" /></center>\n",
    "\n",
    "We will schematize the floating wind turbine as follows:\n",
    "- A rigid body, assumed rectangular, for all floaters together\n",
    "    - $L$ = 50 m, $B$ = 50m, $H$ = 10 m, average density $\\rho$ = 500 kg/m3\n",
    "    - With horizontal anchor stiffness of 10 MN/m, and no vertical/rotational anchor stiffness. The anchor is attatched at the centre of the floater.\n",
    "    - With 3 DOF: surge, heave, roll\n",
    "- A turbine point mass connected via a rigid beam (assumed of negligible mass) and a rotational spring\n",
    "    - $L_{tower}$ = 200 m, $m_{turbine}$ = 12.000 kg\n",
    "    - A rotational spring of stiffness 15 GNm/rad\n",
    "    - Located at 3/4 from the left of the substructure.\n",
    "- Loaded by\n",
    "    - Wind\n",
    "    - Waves\n",
    "\n",
    "Assume seawater of $\\rho_{water}$ = 1025 kg/m3. The full system is without damping.\n",
    "We also assume small displacements. Additionally this means that the water forces are not dependent on the ship position in time.\n",
    "\n",
    "<center><img src=\"https://github.com/rdeke/ComModHOS_double/blob/main/book/images/Module2/w2_t4_floatingturbine_sketch.png?raw=true\" width=\"400\" /></center>"
   ]
  },
  {
   "attachments": {},
   "cell_type": "markdown",
   "metadata": {},
   "source": [
    "## Part 1: Kinematic equations\n",
    "\n",
    "We first start by defining the variables."
   ]
  },
  {
   "cell_type": "code",
   "execution_count": null,
   "metadata": {},
   "outputs": [],
   "source": [
    "import numpy as np\n",
    "import matplotlib.pyplot as plt\n",
    "from scipy.integrate import solve_ivp\n",
    "from sympy import *\n",
    "\n",
    "var(\"t x_s z_s phi_s phi_t\")      \n",
    "# x_s substructure surge, z_s heave, phi_s roll, phi_t tower angle (to vertical)\n",
    "x_s = Function(\"x_s\")(t)\n",
    "z_s = Function(\"z_s\")(t)\n",
    "phi_s = Function(\"phi_s\")(t)\n",
    "phi_t = Function(\"phi_t\")(t)\n"
   ]
  },
  {
   "cell_type": "code",
   "execution_count": null,
   "metadata": {},
   "outputs": [],
   "source": [
    "# Define the kinematic relations here\n",
    "\n",
    "# contants needed\n",
    "var(\"x_st z_st L_t\")\n",
    "# dx_st hotizontal distance substructure centre to tower base\n",
    "# dz_st vertica distance, L_t tower length\n",
    "\n",
    "# positions of nacelle\n",
    "x_t = x_s + x_st*cos(phi_s) - z_st*sin(phi_s) - L_t*sin(phi_t)\n",
    "z_t = z_s + x_st*sin(phi_s) + z_st*cos(phi_s) + L_t*cos(phi_t)\n",
    "\n",
    "# for energy relations later\n",
    "phi_st = phi_s - phi_t"
   ]
  },
  {
   "attachments": {},
   "cell_type": "markdown",
   "metadata": {},
   "source": [
    "The velocities can then be obtained using:"
   ]
  },
  {
   "cell_type": "code",
   "execution_count": null,
   "metadata": {},
   "outputs": [],
   "source": [
    "# Compute/define the velocities here\n",
    "x_s_dot = diff(x_s, t)\n",
    "z_s_dot = diff(z_s, t)\n",
    "phi_s_dot = diff(phi_s, t)\n",
    "x_t_dot = diff(x_t, t)\n",
    "z_t_dot = diff(z_t, t)\n",
    "phi_t_dot = diff(phi_t, t) # will not be sued for point masses\n",
    "phi_st_dot = diff(phi_st, t) # velocity will not be used"
   ]
  },
  {
   "attachments": {},
   "cell_type": "markdown",
   "metadata": {},
   "source": [
    "## Part 2: Energy equations\n",
    "### Kinetic energy:\n",
    "There are 2 masses in this system. The substructure also has some rotational inertia."
   ]
  },
  {
   "cell_type": "code",
   "execution_count": null,
   "metadata": {},
   "outputs": [],
   "source": [
    "var(\"rho_s B_s H_s W_s m_t\")\n",
    "# substructure density, breadth, height, width; turbine mass\n",
    "\n",
    "# Define the kinetic energy here (T)\n",
    "m_s = rho_s*B_s*H_s*W_s\n",
    "J_s = 1/12*m_s*(B_s**2 + H_s**2)\n",
    "T_s = 1/2*m_s*(x_s_dot**2 + z_s_dot**2) + 1/2*J_s*(phi_s_dot**2)\n",
    "T_t = 1/2*m_t*(x_t_dot**2 + z_t_dot**2) + 1/2*0*(phi_t_dot**2) # point mass so J_t = 0\n",
    "T = T_s+T_t"
   ]
  },
  {
   "attachments": {},
   "cell_type": "markdown",
   "metadata": {},
   "source": [
    "### Potential energy:"
   ]
  },
  {
   "cell_type": "code",
   "execution_count": null,
   "metadata": {},
   "outputs": [],
   "source": [
    "var(\"rho_w g kr_st k_h\")\n",
    "# water density, rotational spring stiffness\n",
    "# Define the potential energy here (V)\n",
    "\n",
    "k_s = B_s*W_s*rho_w\n",
    "\n",
    "draft_s = (B_s*W_s*H_s*rho_s)/(B_s*W_s*rho_w)\n",
    "KB_s = draft_s/2 # COB, due to constant shape\n",
    "nabla_s = B_s*W_s*draft_s # Submerged volume, taken in neutral position\n",
    "J_sub = 1/12*W_s*B_s**3\n",
    "BM_s = J_sub/nabla_s\n",
    "KG_s = H_s/2 # COG, due to uniform weight\n",
    "GM_s = KB_s + BM_s - KG_s\n",
    "kr_s = rho_w*g*nabla_s*GM_s # Nm/rad\n",
    "\n",
    "V_s = m_s*g*z_s + 1/2*k_h*x_s**2 + 1/2*k_s*z_s**2 + 1/2*kr_s*phi_s**2\n",
    "V_t = m_t*g*z_t + 1/2*kr_st*phi_st**2 # need relative angle for this spring\n",
    "V = V_s + V_t"
   ]
  },
  {
   "attachments": {},
   "cell_type": "markdown",
   "metadata": {},
   "source": [
    "### Work by external force\n",
    "The work done by an external force working in the horizontal directio. The forces act on block 1 and 2 respectively"
   ]
  },
  {
   "cell_type": "code",
   "execution_count": null,
   "metadata": {},
   "outputs": [],
   "source": [
    "F_wave = Function(\"F_wave\")(t)\n",
    "M_wave = Function(\"M_wave\")(t)\n",
    "F_wind = Function(\"F_wind\")(t)\n",
    "\n",
    "# Define your external work here (W)\n",
    "W = F_wave*z_s + M_wave*phi_s + F_wind*x_t"
   ]
  },
  {
   "attachments": {},
   "cell_type": "markdown",
   "metadata": {},
   "source": [
    "## Step 3: Construct the Lagrangian"
   ]
  },
  {
   "cell_type": "code",
   "execution_count": null,
   "metadata": {},
   "outputs": [],
   "source": [
    "# Define your Lagrangian here (L)\n",
    "L = T - V - W"
   ]
  },
  {
   "attachments": {},
   "cell_type": "markdown",
   "metadata": {},
   "source": [
    "## Step 4: Obtaining the EoM\n",
    "\n",
    "In order to obtain the EoMs we have to take derivatives w.r.t. $x_1$ and its velocity, as well as $x_2$. "
   ]
  },
  {
   "cell_type": "code",
   "execution_count": null,
   "metadata": {},
   "outputs": [],
   "source": [
    "# Compute the EOM here\n",
    "EOM_x_s = diff( diff(L, x_s_dot), t) - diff(L, x_s)\n",
    "EOM_z_s = diff( diff(L, z_s_dot), t) - diff(L, z_s)\n",
    "EOM_phi_s = diff( diff(L, phi_s_dot), t) - diff(L, phi_s)\n",
    "EOM_phi_t = diff( diff(L, phi_t_dot), t) - diff(L, phi_t)"
   ]
  },
  {
   "attachments": {},
   "cell_type": "markdown",
   "metadata": {},
   "source": [
    "The equations are nonlinear since they depend on the cosines and sindes of the angles. We want to obtain a linear function, so let's linearize. We consider a perturbation around the point we want to linearize. \n",
    "\n",
    "On a technical note: Using SymPy for function substitution can be tricky, hence we will use temporary symbols called `tmp` in order to do the substitution."
   ]
  },
  {
   "cell_type": "code",
   "execution_count": null,
   "metadata": {},
   "outputs": [],
   "source": [
    "# dictionaries for substitution\n",
    "var(\"x_s_0 x_s_epsilon\")\n",
    "tmp1_x_s = symbols(\"tmp1_x_s\")\n",
    "psi_x_s = Function(\"psi_x_s\")(t) # perturbation function\n",
    "tmp2_x_s = symbols(\"tmp2_x_s\")\n",
    "\n",
    "var(\"z_s_0 z_s_epsilon\")\n",
    "psi_z_s = Function(\"psi_z_s\")(t) # perturbation function\n",
    "tmp1_z_s = symbols(\"tmp1_z_s\")\n",
    "tmp2_z_s = symbols(\"tmp2_z_s\")\n",
    "\n",
    "var(\"phi_s_0 phi_s_epsilon\")\n",
    "psi_phi_s = Function(\"psi_phi_s\")(t) # perturbation function\n",
    "tmp1_phi_s = symbols(\"tmp1_phi_s\")\n",
    "tmp2_phi_s = symbols(\"tmp2_phi_s\")\n",
    "\n",
    "var(\"phi_t_0 phi_t_epsilon\")\n",
    "psi_phi_t = Function(\"psi_phi_t\")(t) # perturbation function\n",
    "tmp1_phi_t = symbols(\"tmp1_phi_t\")\n",
    "tmp2_phi_t = symbols(\"tmp2_phi_t\")\n",
    "\n",
    "subs1_dict = {x_s: tmp1_x_s, z_s: tmp1_z_s, phi_s: tmp1_phi_s, phi_t: tmp1_phi_t}\n",
    "subs2_dict = {tmp1_x_s: x_s_0 + x_s_epsilon*psi_x_s,\n",
    "              tmp1_z_s: z_s_0 + z_s_epsilon*psi_z_s,\n",
    "              tmp1_phi_s: phi_s_0 + phi_s_epsilon*psi_phi_s,\n",
    "              tmp1_phi_t: phi_t_0 + phi_t_epsilon*psi_phi_t}\n",
    "subs3_dict = {diff(x_s, (t, 2)): tmp2_x_s, x_s: tmp1_x_s,\n",
    "              diff(z_s, (t, 2)): tmp2_z_s, z_s: tmp1_z_s,\n",
    "              diff(phi_s, (t, 2)): tmp2_phi_s, phi_s: tmp1_phi_s,\n",
    "              diff(phi_t, (t, 2)): tmp2_phi_t, phi_t: tmp1_phi_t}\n",
    "subs4_dict = {tmp2_x_s: diff(x_s_0 + x_s_epsilon*psi_x_s, (t, 2)), tmp1_x_s: x_s_0 + x_s_epsilon*psi_x_s,\n",
    "              tmp2_z_s: diff(z_s_0 + z_s_epsilon*psi_z_s, (t, 2)), tmp1_z_s: z_s_0 + z_s_epsilon*psi_z_s,\n",
    "              tmp2_phi_s: diff(phi_s_0 + phi_s_epsilon*psi_phi_s, (t, 2)), tmp1_phi_s: phi_s_0 + phi_s_epsilon*psi_phi_s,\n",
    "              tmp2_phi_t: diff(phi_t_0 + phi_t_epsilon*psi_phi_t, (t, 2)), tmp1_phi_t: phi_t_0 + phi_t_epsilon*psi_phi_t}\n",
    "epsilons_dict = {x_s_epsilon: 1, z_s_epsilon: 1, phi_s_epsilon: 1, phi_t_epsilon: 1}\n",
    "\n",
    "\n",
    "startpos_dict = {x_s_0: 0, z_s_0: 0, phi_s_0: 0, phi_t_0: 0}"
   ]
  },
  {
   "cell_type": "code",
   "execution_count": null,
   "metadata": {},
   "outputs": [],
   "source": [
    "# x_s\n",
    "EOM_psi_x_s = EOM_x_s.evalf(subs=subs1_dict)\n",
    "EOM_psi_x_s = EOM_psi_x_s.evalf(subs=subs2_dict)\n",
    "EOM_lin_x_s = series(EOM_psi_x_s, x_s_epsilon, n=2)\n",
    "\n",
    "EOM_psi2_x_s = EOM_x_s.evalf(subs=subs3_dict)\n",
    "EOM_psi2_x_s = EOM_psi2_x_s.evalf(subs=subs4_dict)\n",
    "EOM_lin_x_s = series(EOM_psi2_x_s, x_s_epsilon, n=2)\n",
    "\n",
    "EOM_lin_x_s = EOM_lin_x_s.removeO().evalf(subs=epsilons_dict)\n",
    "EOM_lin_x_s_simplified = EOM_lin_x_s.evalf(subs=startpos_dict) # makes symbolic calcs easier\n",
    "EOM_lin_x_s_iso = solve(EOM_lin_x_s_simplified, diff(psi_x_s, (t, 2)))\n",
    "\n",
    "x_s_dotdot = EOM_lin_x_s_iso[0].evalf(subs=startpos_dict)"
   ]
  },
  {
   "cell_type": "code",
   "execution_count": null,
   "metadata": {},
   "outputs": [],
   "source": [
    "# z_s\n",
    "EOM_psi_z_s = EOM_z_s.evalf(subs=subs1_dict)\n",
    "EOM_psi_z_s = EOM_psi_z_s.evalf(subs=subs2_dict)\n",
    "EOM_lin_z_s = series(EOM_psi_z_s, z_s_epsilon, n=2)\n",
    "\n",
    "EOM_psi2_z_s = EOM_z_s.evalf(subs=subs3_dict)\n",
    "EOM_psi2_z_s = EOM_psi2_z_s.evalf(subs=subs4_dict)\n",
    "EOM_lin_z_s = series(EOM_psi2_z_s, z_s_epsilon, n=2)\n",
    "\n",
    "EOM_lin_z_s = EOM_lin_z_s.removeO().evalf(subs=epsilons_dict)\n",
    "EOM_lin_z_s_simplified = EOM_lin_z_s.evalf(subs=startpos_dict) # makes symbolic calcs easier\n",
    "EOM_lin_z_s_iso = solve(EOM_lin_z_s_simplified, diff(psi_z_s, (t, 2)))\n",
    "\n",
    "z_s_dotdot = EOM_lin_z_s_iso[0].evalf(subs=startpos_dict)"
   ]
  },
  {
   "cell_type": "code",
   "execution_count": null,
   "metadata": {},
   "outputs": [],
   "source": [
    "# phi_s\n",
    "\n",
    "EOM_psi_phi_s = EOM_phi_s.evalf(subs=subs1_dict)\n",
    "EOM_psi_phi_s = EOM_psi_phi_s.evalf(subs=subs2_dict)\n",
    "EOM_lin_phi_s = series(EOM_psi_phi_s, phi_s_epsilon, n=2)\n",
    "\n",
    "EOM_psi2_phi_s = EOM_phi_s.evalf(subs=subs3_dict)\n",
    "EOM_psi2_phi_s = EOM_psi2_phi_s.evalf(subs=subs4_dict)\n",
    "EOM_lin_phi_s = series(EOM_psi2_phi_s, phi_s_epsilon, n=2)\n",
    "\n",
    "EOM_lin_phi_s = EOM_lin_phi_s.removeO().evalf(subs=epsilons_dict)\n",
    "EOM_lin_phi_s_simplified = EOM_lin_phi_s.evalf(subs=startpos_dict) # makes symbolic calcs easier\n",
    "EOM_lin_phi_s_iso = solve(EOM_lin_phi_s_simplified, diff(psi_phi_s, (t, 2)))\n",
    "\n",
    "phi_s_dotdot = EOM_lin_phi_s_iso[0].evalf(subs=startpos_dict)"
   ]
  },
  {
   "cell_type": "code",
   "execution_count": null,
   "metadata": {},
   "outputs": [],
   "source": [
    "# phi_t\n",
    "\n",
    "EOM_psi_phi_t = EOM_phi_t.evalf(subs=subs1_dict)\n",
    "EOM_psi_phi_t = EOM_psi_phi_t.evalf(subs=subs2_dict)\n",
    "EOM_lin_phi_t = series(EOM_psi_phi_t, phi_t_epsilon, n=2)\n",
    "\n",
    "EOM_psi2_phi_t = EOM_phi_t.evalf(subs=subs3_dict)\n",
    "EOM_psi2_phi_t = EOM_psi2_phi_t.evalf(subs=subs4_dict)\n",
    "EOM_lin_phi_t = series(EOM_psi2_phi_t, phi_t_epsilon, n=2)\n",
    "\n",
    "EOM_lin_phi_t = EOM_lin_phi_t.removeO().evalf(subs=epsilons_dict)\n",
    "EOM_lin_phi_t_simplified = EOM_lin_phi_t.evalf(subs=startpos_dict) # makes symbolic calcs easier\n",
    "EOM_lin_phi_t_iso = solve(EOM_lin_phi_t_simplified, diff(psi_phi_t, (t, 2)))\n",
    "\n",
    "phi_t_dotdot = EOM_lin_phi_t_iso[0].evalf(subs=startpos_dict)"
   ]
  },
  {
   "attachments": {},
   "cell_type": "markdown",
   "metadata": {},
   "source": [
    "Now we isolate it for the acceleration. Then we convert the EOM to matrices for easier interpretation. "
   ]
  },
  {
   "cell_type": "code",
   "execution_count": null,
   "metadata": {},
   "outputs": [],
   "source": [
    "var(\"acc1 acc2 acc3 acc4 vel1 vel2 vel3 vel4\")\n",
    "\n",
    "dict_values = { Derivative(psi_x_s, (t,2)): acc1,\n",
    "                Derivative(psi_z_s, (t,2)): acc2,\n",
    "                Derivative(psi_phi_s, (t,2)): acc3,\n",
    "                Derivative(psi_phi_t, (t,2)): acc4,\n",
    "                Derivative(psi_x_s, t): vel1,\n",
    "                Derivative(psi_z_s, t): vel2,\n",
    "                Derivative(psi_phi_s, t): vel3,\n",
    "                Derivative(psi_phi_t, t): vel4}\n",
    "\n",
    "EOM_1 = EOM_lin_x_s_simplified.evalf(subs=dict_values)\n",
    "EOM_2 = EOM_lin_z_s_simplified.evalf(subs=dict_values)\n",
    "EOM_3 = EOM_lin_phi_s_simplified.evalf(subs=dict_values)\n",
    "EOM_4 = EOM_lin_phi_t_simplified.evalf(subs=dict_values)\n",
    "\n",
    "MTRX = linear_eq_to_matrix([EOM_1, EOM_2, EOM_3, EOM_4],\n",
    "                           [acc1, acc2, acc3, acc4])\n",
    "# Note: The results per line are the same af from for example EOM_lin_phi_t_iso\n",
    "\n",
    "M = MTRX[0]\n",
    "F = MTRX[1]"
   ]
  },
  {
   "cell_type": "code",
   "execution_count": null,
   "metadata": {},
   "outputs": [],
   "source": [
    "M"
   ]
  },
  {
   "cell_type": "code",
   "execution_count": null,
   "metadata": {},
   "outputs": [],
   "source": [
    "F"
   ]
  },
  {
   "attachments": {},
   "cell_type": "markdown",
   "metadata": {},
   "source": [
    "As one can see, this system is already linearized. We can therefore immediately start solving the system. In case of a non-linear example, the linearization must be performed for each EOM separately."
   ]
  },
  {
   "attachments": {},
   "cell_type": "markdown",
   "metadata": {},
   "source": [
    "## Step 4: Solve the equation\n",
    "\n",
    "**For students looking for a challenge**\n",
    "\n",
    "The student is invited to try and plot a 100s trace of the horizontal and vertical nacelle movement. All relevant info can be find in the previous tutorial on how to use solve_ivp for multiple DOF, and on how to plot the relevant output.\n",
    "The floater is subjected to the following force (in MN):\n",
    "\n",
    "$$ F_h(t) = 1.25 \\cos(0.1 t) + 0.5 \\cos(0.5 t - 0.75) + 0.1 \\cos(1.3 t + 2.28) $$\n",
    "\n",
    "\n",
    "*Hint*: Think about how the nacelle moves. Which DOF contribute to its movement? <br>\n",
    "*Hint*: Looking at the force in 1 direction (for the horizontal DOF), which movements do you excpect? Are the DOF coupled? How could one see that in the DOF-matrices?\n",
    "\n",
    "In practice an irregular wave consits of waves generated from a spectrum, each with their respective amplitude, frequency and/or phase difference. [More information is given here](w2_t5.ipynb). Ask yourself then: \n",
    "- Which forces act on the structure? \n",
    "- Assuming small deformations, how does a water wave result in a force and moment in time on the structure \n",
    "Think about wave potentials, their pressures, and integration over the area on which the water acts"
   ]
  },
  {
   "cell_type": "code",
   "execution_count": null,
   "metadata": {},
   "outputs": [],
   "source": [
    "# Filling in values\n",
    "\n",
    "L = 50\n",
    "B = 50\n",
    "H = 10\n",
    "rho_ship = 400\n",
    "L_tower = 200\n",
    "m_turbine = 12e3\n",
    "k_r = 15e9\n",
    "x_r = L/4 # Distance from centre of floater\n",
    "z_r = H/2\n",
    "rho_water = 1025\n",
    "g_val = 9.81\n",
    "k_anchor = 10e6\n",
    "\n",
    "def F_h(t):\n",
    "    return (1.25 * cos(0.1*t) + 0.5*cos(0.5*t - 0.75) + 0.1*cos(1.3*t + 2.28))*10e3\n",
    "\n",
    "dict_fillin = {B_s: L, H_s:H, W_s:B, m_t: m_turbine, z_st: z_r, x_st: x_r,\n",
    "               L_t: L_tower, rho_s: rho_ship, g: g_val, rho_w: rho_water,\n",
    "               F_wind: 0, kr_st: k_r, M_wave: 0, k_h: k_anchor}"
   ]
  },
  {
   "cell_type": "code",
   "execution_count": null,
   "metadata": {},
   "outputs": [],
   "source": [
    "M_filled = M.evalf(subs=dict_fillin)\n",
    "M_filled"
   ]
  },
  {
   "cell_type": "code",
   "execution_count": null,
   "metadata": {},
   "outputs": [],
   "source": [
    "F_filled = F.evalf(subs=dict_fillin)\n",
    "F_filled"
   ]
  },
  {
   "cell_type": "code",
   "execution_count": null,
   "metadata": {},
   "outputs": [],
   "source": [
    "# Initial conditions and solve_ivp\n",
    "q0 = np.zeros(8)\n",
    "\n",
    "def qdot(t,q):\n",
    "\n",
    "    print(t)\n",
    "    \n",
    "    vt = q[int(len(q)/2):]\n",
    "\n",
    "    F_x_s = F_h(t)\n",
    "\n",
    "    dict_values = { psi_x_s: q[0], psi_z_s: q[1],psi_phi_s: q[2], psi_phi_t: q[3], \n",
    "                    vel1: q[4], vel2: q[4], vel3: q[6], vel4: q[7],\n",
    "                    F_wave: F_x_s}  \n",
    "    Mass_matr =  M_filled.evalf(subs=dict_values)\n",
    "    Force_vect = F_filled.evalf(subs=dict_values)\n",
    "    at = Mass_matr.inv()*Force_vect\n",
    "\n",
    "    return list(vt) + list(np.transpose(at)[0])\n",
    "\n",
    "sol = solve_ivp(fun=qdot,t_span=[0,100],y0=q0) # Takes around 6 minutes to run 100 seconds of simulation"
   ]
  },
  {
   "cell_type": "code",
   "execution_count": null,
   "metadata": {},
   "outputs": [],
   "source": [
    "# Plot\n",
    "# From earlier: x_t = x_s + x_st*cos(phi_s) - z_st*sin(phi_s) - L_t*sin(phi_t)\n",
    "# To see changes: do -x_r\n",
    "x_s = sol.y[0]\n",
    "phi_s = sol.y[2]\n",
    "phi_t = sol.y[3]\n",
    "move_nacelle = x_s + x_r*np.cos(phi_s) - z_r*np.sin(phi_s) - L_tower*np.sin(phi_t) - x_r\n",
    "\n",
    "plt.plot(sol.t,move_nacelle, label=\"Nacelle movement at 3 frequencies\")\n",
    "plt.xlabel(\"Time [s]\")\n",
    "plt.ylabel(\"Excursion from initial position [m]\")\n",
    "plt.title(\"Nacelle from Lagrangian equations\")\n",
    "plt.legend();"
   ]
  }
 ],
 "metadata": {
  "kernelspec": {
   "display_name": "Python 3",
   "language": "python",
   "name": "python3"
  },
  "language_info": {
   "codemirror_mode": {
    "name": "ipython",
    "version": 3
   },
   "file_extension": ".py",
   "mimetype": "text/x-python",
   "name": "python",
   "nbconvert_exporter": "python",
   "pygments_lexer": "ipython3",
   "version": "3.10.11"
  },
  "vscode": {
   "interpreter": {
    "hash": "cbd884b27ce8a521f14a4395d2fc856cd6c799b684d9efdb8253cb562c6eeba0"
   }
  }
 },
 "nbformat": 4,
 "nbformat_minor": 4
}
