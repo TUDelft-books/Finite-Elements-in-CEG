{
 "cells": [
  {
   "cell_type": "markdown",
   "id": "0a32ce6d-0db8-44c9-9b0b-09879b22ad4c",
   "metadata": {},
   "source": [
    "# PyJive workshop: Time-dependent analysis\n",
    "    \n",
    "In this notebook, usage of the `ExplicitTimeModule` and `NewmarkModule` for time-dependent analysis of structures is explored. These modules are for solving dynamics problems in the time domain. The first of these is for explicit analysis with the central difference scheme, the second for implicit analysis with Newmark time integration. \n",
    "\n",
    "In the notebook, we will also use the `AccelerationModule` for recording accelerations and velocities as additional output to the analysis. There is also an `NLNewmarkModule` in `pyjive` for implicit analysis of nonlinear dynamics problems, but we will not use it here."
   ]
  },
  {
   "cell_type": "code",
   "execution_count": null,
   "id": "5f565865-c484-43a9-a3e8-dfe902ab1037",
   "metadata": {},
   "outputs": [],
   "source": [
    "import numpy as np\n",
    "import matplotlib.pyplot as plt\n",
    "\n",
    "import contextlib\n",
    "import os\n",
    "from urllib.request import urlretrieve\n",
    "\n",
    "import sys\n",
    "pyjivepath = '../../../pyjive/'\n",
    "sys.path.append(pyjivepath)\n",
    "\n",
    "if not os.path.isfile(pyjivepath + 'utils/proputils.py'):\n",
    "    print('\\n\\n**pyjive cannot be found, adapt \"pyjivepath\" above or move notebook to appropriate folder**\\n\\n')\n",
    "    raise Exception('pyjive not found')\n",
    "\n",
    "import main\n",
    "from utils import proputils as pu\n",
    "from names import GlobNames as gn\n",
    "\n",
    "%load_ext autoreload\n",
    "%autoreload 2\n",
    "\n",
    "%matplotlib widget"
   ]
  },
  {
   "cell_type": "code",
   "execution_count": null,
   "id": "82d51334-7e1e-4f7d-b52b-7502e61f0752",
   "metadata": {},
   "outputs": [],
   "source": [
    "# define a function we will use for plotting force and displacement signals\n",
    "def plotForceDisp(globdat):\n",
    "    plt.figure(figsize=(8,3))\n",
    "    plt.subplot(1,2,1)\n",
    "    plt.plot(globdat['lodi']['left']['load']['dx'])\n",
    "    plt.plot(globdat['lodi']['right']['load']['dx'])\n",
    "    plt.legend(['left','right'])\n",
    "    plt.ylabel('F')\n",
    "    plt.xlabel('time step')\n",
    "    plt.subplot(1,2,2)\n",
    "    plt.plot(globdat['lodi']['left']['disp']['dx'])\n",
    "    plt.plot(globdat['lodi']['right']['disp']['dx'])\n",
    "    plt.legend(['left','right'])\n",
    "    plt.ylabel('u')\n",
    "    plt.xlabel('time step')\n",
    "    plt.show()\n",
    "\n",
    "# download input files (if necessary)\n",
    "def findfile(fname):\n",
    "    url = \"https://gitlab.tudelft.nl/cm/public/drive/-/raw/main/transient/\" + fname + \"?inline=false\"\n",
    "    if not os.path.isfile(fname):\n",
    "        print(f\"Downloading {fname}...\")\n",
    "        urlretrieve(url, fname)\n",
    "\n",
    "findfile(\"bar_explicit.pro\")\n",
    "findfile(\"bar_implicit.pro\")\n",
    "findfile(\"bar_harmonic.pro\")\n",
    "findfile(\"bar.geom\")\n",
    "    "
   ]
  },
  {
   "cell_type": "markdown",
   "id": "73503ab5-1d4b-41f4-af25-b52c892fada4",
   "metadata": {},
   "source": [
    "### Analysis 1: Wave propagation in a bar, explicit\n",
    "The first case concerns wave propagation in a bar. It is a bar problem, we have three models that can solve bar problems, the `BarModel`, the `SolidModel`, and the `FrameModel`. We use the last of these for its dedicated postprocessing routines, specifically its option to plot the normal force distribution. We first run the case with the explicit time module. \n",
    "\n",
    "<div style=\"background-color:#AABAB2; color: black; vertical-align: middle; padding:15px; margin: 10px; border-radius: 10px\">\n",
    "<p>\n",
    "<b>Task 1: Explicit analysis</b>   \n",
    "\n",
    "Look at the code\n",
    "- The `ExplicitTimeModule` applies central difference scheme. Can you spot a difference with the equation from the lecture where we had $\\hat{\\mathbf{M}}\\mathbf{a}_{n+1} = \\hat{\\mathbf{f}}_n\\quad$ with $\\quad\\hat{\\mathbf{M}} = \\frac{1}{\\Delta t^2}\\mathbf{M} + \\frac{1}{2\\Delta t}\\mathbf{C}\\quad$ and $\\quad \\hat{\\mathbf{f}}_n =\\frac{1}{\\Delta t^2}\\mathbf{M}\\left(2\\mathbf{a}_n-\\mathbf{a}_{n-1}\\right) + \\frac{1}{2\\Delta t}\\mathbf{C}\\mathbf{a}_{n-1} - \\mathbf{K}\\mathbf{a}_n+\\mathbf{f}_n$? How does this difference affect the functionality?\n",
    "\n",
    "Look at the input files\n",
    "- What are the geometry and boundary conditions?\n",
    "\n",
    "Run the cell and inspect the results \n",
    "- There are no time-dependent boundary conditions, yet this is a dynamics problem. What makes the problem time-dependent?\n",
    "    \n",
    "Investigate stability\n",
    "- Change the time step size and rerun. What is the critical time step size for stability?\n",
    "</p>\n",
    "</div>\n"
   ]
  },
  {
   "cell_type": "code",
   "execution_count": null,
   "id": "09aecd49-1dc7-4865-8cee-cef47a343630",
   "metadata": {
    "tags": []
   },
   "outputs": [],
   "source": [
    "props = pu.parse_file('bar_explicit.pro')\n",
    "globdat = main.jive(props)\n",
    "plotForceDisp(globdat)"
   ]
  },
  {
   "cell_type": "markdown",
   "id": "7bff0773-e53a-4256-8d7d-1b2ec31c9c23",
   "metadata": {
    "tags": []
   },
   "source": [
    "### Analysis 2: Wave propagation in a bar, implicit\n",
    "\n",
    "Another input file is provided for implicit analysis with the `NewmarkModule`. \n",
    "\n",
    "\n",
    "<div style=\"background-color:#AABAB2; color: black; vertical-align: middle; padding:15px; margin: 10px; border-radius: 10px\">\n",
    "<p>\n",
    "<b>Task 2: Implicit analysis</b>   \n",
    "\n",
    "- Run the cell and inspect the results\n",
    "- What happens if you increase the time step size?\n",
    "- What happens if you add numerical damping (increase $\\gamma$ adapt $\\beta$ to maintain $\\beta=\\gamma/2$)? \n",
    "- The behavior in the first time steps is fundamentally different from that in explicit dynamics. What is the numerical source for this? \n",
    "</p>\n",
    "</div>\n"
   ]
  },
  {
   "cell_type": "code",
   "execution_count": null,
   "id": "d9d6e324-c50c-47d2-902c-1c3c5c3c2bcb",
   "metadata": {
    "tags": []
   },
   "outputs": [],
   "source": [
    "props = pu.parse_file('bar_implicit.pro')\n",
    "\n",
    "# run code with output suppressed\n",
    "print('running pyjive with output suppressed...')\n",
    "with contextlib.redirect_stdout(open(os.devnull, \"w\")):\n",
    "    globdat = main.jive(props)\n",
    "    \n",
    "plotForceDisp(globdat)"
   ]
  },
  {
   "cell_type": "markdown",
   "id": "0cd770db-5f81-4031-ac93-3f6e314c1a0c",
   "metadata": {
    "tags": []
   },
   "source": [
    "### Analysis 3: Harmonically loaded bar\n",
    "Now, instead of a constant load we apply an harmonic load. \n",
    "\n",
    "<div style=\"background-color:#AABAB2; color: black; vertical-align: middle; padding:15px; margin: 10px; border-radius: 10px\">\n",
    "<p>\n",
    "<b>Task 3: Harmonic loading</b>   \n",
    "\n",
    "Run the first cell below.\n",
    "- Check how time-dependent boundary conditions are applied\n",
    "- Inspect the resulting velocity and accelerations\n",
    "    \n",
    "Run the second cell below. \n",
    "- What is changed in the case definition?\n",
    "- Would it be possible to obtain this result with the `ExplicitTimeModule`?\n",
    "\n",
    "</p>\n",
    "</div>\n",
    "\n",
    "\n",
    "Check the input file how this is done."
   ]
  },
  {
   "cell_type": "code",
   "execution_count": null,
   "id": "9f8a4f08-8563-4f41-a586-cc336f342733",
   "metadata": {},
   "outputs": [],
   "source": [
    "props = pu.parse_file('bar_harmonic.pro')\n",
    "\n",
    "print('running pyjive with output suppressed...')\n",
    "with contextlib.redirect_stdout(open(os.devnull, \"w\")):\n",
    "    globdat = main.jive(props)\n",
    "plotForceDisp(globdat)\n",
    "\n",
    "# plot acceleration and velocity at the loaded end\n",
    "plt.figure()\n",
    "plt.plot(globdat['acc']['right']['disp']['dx'])\n",
    "plt.plot(globdat['acc']['right']['velo']['dx'])\n",
    "plt.plot(globdat['acc']['right']['accel']['dx'])\n",
    "plt.legend(['disp','velo','accel'])\n",
    "plt.ylabel('u/v/a')\n",
    "plt.xlabel('time step')\n",
    "plt.show()"
   ]
  },
  {
   "cell_type": "code",
   "execution_count": null,
   "id": "f369fa3d-2e7f-4176-ad01-a8751383d9b1",
   "metadata": {},
   "outputs": [],
   "source": [
    "props = pu.parse_file('bar_harmonic.pro')\n",
    "props['model']['neum']['deltaTime'] = 1;\n",
    "props['stepper']['deltaTime'] = 1;\n",
    "props['model']['neum']['timeSignal']  = 'np.sin(0.01*t)**2'\n",
    "\n",
    "print('running pyjive with output suppressed...')\n",
    "with contextlib.redirect_stdout(open(os.devnull, \"w\")):\n",
    "    globdat = main.jive(props)\n",
    "    \n",
    "plotForceDisp(globdat)"
   ]
  },
  {
   "cell_type": "code",
   "execution_count": null,
   "id": "3a145c5a-624a-4f2b-bab7-e5bbe39878ed",
   "metadata": {},
   "outputs": [],
   "source": []
  }
 ],
 "metadata": {
  "kernelspec": {
   "display_name": "Python 3 (ipykernel)",
   "language": "python",
   "name": "python3"
  },
  "language_info": {
   "codemirror_mode": {
    "name": "ipython",
    "version": 3
   },
   "file_extension": ".py",
   "mimetype": "text/x-python",
   "name": "python",
   "nbconvert_exporter": "python",
   "pygments_lexer": "ipython3",
   "version": "3.10.12"
  }
 },
 "nbformat": 4,
 "nbformat_minor": 5
}
