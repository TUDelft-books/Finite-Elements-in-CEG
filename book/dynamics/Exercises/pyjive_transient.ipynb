{
 "cells": [
  {
   "cell_type": "markdown",
   "id": "0a32ce6d-0db8-44c9-9b0b-09879b22ad4c",
   "metadata": {},
   "source": [
    "# PyJive workshop: Time-dependent analysis\n",
    "    \n",
    "In this notebook, usage of the `ExplicitTimeModule` and `NewmarkModule` for time-dependent analysis of structures is explored. This is for solving dynamics problems in the time domain. The first of these is for explicit analysis with the central difference scheme, the second for implicit analysis with Newmark time integration. \n",
    "    \n",
    "There is also an `NLNewmarkModule` for implicit analysis of nonlinear problems, but we will not use it here."
   ]
  },
  {
   "cell_type": "code",
   "execution_count": null,
   "id": "5f565865-c484-43a9-a3e8-dfe902ab1037",
   "metadata": {},
   "outputs": [],
   "source": [
    "import numpy as np\n",
    "import matplotlib.pyplot as plt\n",
    "\n",
    "import contextlib\n",
    "import os\n",
    "from urllib.request import urlretrieve\n",
    "\n",
    "import sys\n",
    "pyjivepath = '../../../pyjive/'\n",
    "sys.path.append(pyjivepath)\n",
    "\n",
    "if not os.path.isfile(pyjivepath + 'utils/proputils.py'):\n",
    "    print('\\n\\n**pyjive cannot be found, adapt \"pyjivepath\" above or move notebook to appropriate folder**\\n\\n')\n",
    "    raise Exception('pyjive not found')\n",
    "\n",
    "import main\n",
    "from utils import proputils as pu\n",
    "from names import GlobNames as gn\n",
    "\n",
    "%load_ext autoreload\n",
    "%autoreload 2\n",
    "\n",
    "%matplotlib widget"
   ]
  },
  {
   "cell_type": "code",
   "execution_count": null,
   "id": "82d51334-7e1e-4f7d-b52b-7502e61f0752",
   "metadata": {},
   "outputs": [],
   "source": [
    "# define a function we will use for plotting force and displacement signals\n",
    "def plotForceDisp(globdat):\n",
    "    plt.figure(figsize=(12,4))\n",
    "    plt.subplot(1,2,1)\n",
    "    plt.plot(globdat['lodi']['left']['load']['dx'])\n",
    "    plt.plot(globdat['lodi']['right']['load']['dx'])\n",
    "    plt.legend(['left','right'])\n",
    "    plt.ylabel('F')\n",
    "    plt.subplot(1,2,2)\n",
    "    plt.plot(globdat['lodi']['left']['disp']['dx'])\n",
    "    plt.plot(globdat['lodi']['right']['disp']['dx'])\n",
    "    plt.legend(['left','right'])\n",
    "    plt.ylabel('u')\n",
    "    plt.show()\n",
    "\n",
    "def plotDispVeloAccel(globdat):\n",
    "    plt.figure()\n",
    "    plt.plot(globdat['acc']['right']['disp']['dx'])\n",
    "    plt.plot(globdat['acc']['right']['velo']['dx'])\n",
    "    plt.plot(globdat['acc']['right']['accel']['dx'])\n",
    "    plt.legend(['disp','velo','accel'])\n",
    "    plt.ylabel('a')\n",
    "    plt.show()\n",
    "\n",
    "# download input files (if necessary)\n",
    "def findfile(fname):\n",
    "    url = \"https://gitlab.tudelft.nl/cm/public/drive/-/raw/main/transient/\" + fname + \"?inline=false\"\n",
    "    if not os.path.isfile(fname):\n",
    "        print(f\"Downloading {fname}...\")\n",
    "        urlretrieve(url, fname)\n",
    "\n",
    "findfile(\"bar_explicit.pro\")\n",
    "findfile(\"bar_implicit.pro\")\n",
    "findfile(\"bar_harmonic.pro\")\n",
    "findfile(\"beam.geom\")\n",
    "    "
   ]
  },
  {
   "cell_type": "markdown",
   "id": "73503ab5-1d4b-41f4-af25-b52c892fada4",
   "metadata": {},
   "source": [
    "### Analysis 1: Wave propagation in a bar, explicit\n",
    "The first case concerns wave propagation in a bar. It is a bar problem, we have three models that can solve bar problems, the `BarModel`, the `SolidModel`, and the `FrameModel`. We use the last of these for its dedicated postprocessing routines. \n",
    "\n",
    "We first run the case with the explicit time module. Run the analysis below and have a look at force and displacement signals. "
   ]
  },
  {
   "cell_type": "code",
   "execution_count": null,
   "id": "09aecd49-1dc7-4865-8cee-cef47a343630",
   "metadata": {
    "tags": []
   },
   "outputs": [],
   "source": [
    "props = pu.parse_file('bar_explicit.pro')\n",
    "globdat = main.jive(props)\n"
   ]
  },
  {
   "cell_type": "code",
   "execution_count": null,
   "id": "6391c85a-27b5-42f6-9635-fd012b7ede8f",
   "metadata": {
    "tags": []
   },
   "outputs": [],
   "source": [
    "plotForceDisp(globdat)"
   ]
  },
  {
   "cell_type": "markdown",
   "id": "7bff0773-e53a-4256-8d7d-1b2ec31c9c23",
   "metadata": {
    "tags": []
   },
   "source": [
    "### Analysis 2: Wave propagation in a bar, implicit\n",
    "\n",
    "Now the same case is analyzed with the NewmarkModule. Check again what happens when you change the time step size. \n",
    "\n",
    "What happens when you add numerical damping? \n"
   ]
  },
  {
   "cell_type": "code",
   "execution_count": null,
   "id": "d9d6e324-c50c-47d2-902c-1c3c5c3c2bcb",
   "metadata": {
    "tags": []
   },
   "outputs": [],
   "source": [
    "props = pu.parse_file('bar_implicit.pro')\n",
    "globdat = main.jive(props)\n"
   ]
  },
  {
   "cell_type": "code",
   "execution_count": null,
   "id": "942118f1-e055-4e1c-bf85-9f089912d76b",
   "metadata": {
    "tags": []
   },
   "outputs": [],
   "source": [
    "plotForceDisp(globdat)"
   ]
  },
  {
   "cell_type": "markdown",
   "id": "0cd770db-5f81-4031-ac93-3f6e314c1a0c",
   "metadata": {
    "tags": []
   },
   "source": [
    "### Analysis 3: Harmonically loaded bar\n",
    "Now, instead of a constant load we apply an harmonic load. Check the input file how this is done."
   ]
  },
  {
   "cell_type": "code",
   "execution_count": null,
   "id": "9f8a4f08-8563-4f41-a586-cc336f342733",
   "metadata": {},
   "outputs": [],
   "source": [
    "props = pu.parse_file('bar_harmonic.pro')\n",
    "globdat = main.jive(props)"
   ]
  },
  {
   "cell_type": "code",
   "execution_count": null,
   "id": "280127a8-a235-4385-894a-dca92a0aaf2e",
   "metadata": {},
   "outputs": [],
   "source": [
    "plotDispVeloAccel(globdat)"
   ]
  },
  {
   "cell_type": "markdown",
   "id": "74ab1858-ee11-4205-b1ac-90b54ac6d2a8",
   "metadata": {},
   "source": [
    "What happens if you make the frequency of the harmonic load much lower? Try with a 100 times, don't forget to adapt deltaTime at two places in the properties."
   ]
  },
  {
   "cell_type": "code",
   "execution_count": null,
   "id": "f369fa3d-2e7f-4176-ad01-a8751383d9b1",
   "metadata": {},
   "outputs": [],
   "source": [
    "props['model']['neum']['deltaTime'] = 1;\n",
    "props['stepper']['deltaTime'] = 1;\n",
    "props['model']['neum']['timeSignal']  = 'np.sin(0.01*t)**2'\n",
    "globdat = main.jive(props)"
   ]
  },
  {
   "cell_type": "code",
   "execution_count": null,
   "id": "cb5687bf-9df5-4da0-9d91-25c3032204a6",
   "metadata": {},
   "outputs": [],
   "source": [
    "plotForceDisp(globdat)"
   ]
  },
  {
   "cell_type": "markdown",
   "id": "84cf1b2e-3130-4fd0-bf04-4f8782cb50dd",
   "metadata": {},
   "source": [
    "Can you also get this result with the `ExplicitTimeModule`?"
   ]
  },
  {
   "cell_type": "code",
   "execution_count": null,
   "id": "d0658258-ad17-468f-9139-00674858fc0e",
   "metadata": {},
   "outputs": [],
   "source": [
    "props = pu.parse_file('bigM.pro')\n",
    "\n",
    "globdat = main.jive(props)"
   ]
  },
  {
   "cell_type": "code",
   "execution_count": null,
   "id": "91d0d9eb-7fdc-4446-81f0-c23700f82614",
   "metadata": {},
   "outputs": [],
   "source": []
  }
 ],
 "metadata": {
  "kernelspec": {
   "display_name": "Python 3 (ipykernel)",
   "language": "python",
   "name": "python3"
  },
  "language_info": {
   "codemirror_mode": {
    "name": "ipython",
    "version": 3
   },
   "file_extension": ".py",
   "mimetype": "text/x-python",
   "name": "python",
   "nbconvert_exporter": "python",
   "pygments_lexer": "ipython3",
   "version": "3.10.12"
  }
 },
 "nbformat": 4,
 "nbformat_minor": 5
}
