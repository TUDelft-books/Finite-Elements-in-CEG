{
 "cells": [
  {
   "cell_type": "markdown",
   "id": "0a32ce6d-0db8-44c9-9b0b-09879b22ad4c",
   "metadata": {},
   "source": [
    "# PyJive workshop: modal analysis\n",
    "    \n",
    "In this notebook, the use of the `ModeShapeModule` for analysis of the free vibration of structures is demonstrated. It is explored how the same module can work with different models."
   ]
  },
  {
   "cell_type": "code",
   "execution_count": null,
   "id": "1c1c982a-3f5a-4f01-9d2a-f3e7a4a0530e",
   "metadata": {},
   "outputs": [],
   "source": [
    "import numpy as np\n",
    "\n",
    "import os\n",
    "from urllib.request import urlretrieve\n",
    "\n",
    "import sys\n",
    "pyjivepath = '../../../pyjive/'\n",
    "sys.path.append(pyjivepath)\n",
    "\n",
    "if not os.path.isfile(pyjivepath + 'utils/proputils.py'):\n",
    "    print('\\n\\n**pyjive cannot be found, adapt \"pyjivepath\" above or move notebook to appropriate folder**\\n\\n')\n",
    "    raise Exception('pyjive not found')\n",
    "\n",
    "import main\n",
    "from utils import proputils as pu\n",
    "from names import GlobNames as gn\n",
    "\n",
    "%matplotlib widget"
   ]
  },
  {
   "cell_type": "code",
   "execution_count": 1,
   "id": "307ee9f5-c00f-4f11-8b34-06826a1f249b",
   "metadata": {},
   "outputs": [
    {
     "ename": "NameError",
     "evalue": "name 'os' is not defined",
     "output_type": "error",
     "traceback": [
      "\u001b[1;31m---------------------------------------------------------------------------\u001b[0m",
      "\u001b[1;31mNameError\u001b[0m                                 Traceback (most recent call last)",
      "Cell \u001b[1;32mIn [1], line 9\u001b[0m\n\u001b[0;32m      6\u001b[0m         \u001b[38;5;28mprint\u001b[39m(\u001b[38;5;124mf\u001b[39m\u001b[38;5;124m\"\u001b[39m\u001b[38;5;124mDownloading \u001b[39m\u001b[38;5;132;01m{\u001b[39;00mfname\u001b[38;5;132;01m}\u001b[39;00m\u001b[38;5;124m...\u001b[39m\u001b[38;5;124m\"\u001b[39m)\n\u001b[0;32m      7\u001b[0m         urlretrieve(url, fname)\n\u001b[1;32m----> 9\u001b[0m \u001b[43mfindfile\u001b[49m\u001b[43m(\u001b[49m\u001b[38;5;124;43m\"\u001b[39;49m\u001b[38;5;124;43mbeam_frequency.pro\u001b[39;49m\u001b[38;5;124;43m\"\u001b[39;49m\u001b[43m)\u001b[49m\n\u001b[0;32m     10\u001b[0m findfile(\u001b[38;5;124m\"\u001b[39m\u001b[38;5;124msolid_frequency.pro\u001b[39m\u001b[38;5;124m\"\u001b[39m)\n\u001b[0;32m     11\u001b[0m findfile(\u001b[38;5;124m\"\u001b[39m\u001b[38;5;124mbeam.geom\u001b[39m\u001b[38;5;124m\"\u001b[39m)\n",
      "Cell \u001b[1;32mIn [1], line 5\u001b[0m, in \u001b[0;36mfindfile\u001b[1;34m(fname)\u001b[0m\n\u001b[0;32m      3\u001b[0m \u001b[38;5;28;01mdef\u001b[39;00m \u001b[38;5;21mfindfile\u001b[39m(fname):\n\u001b[0;32m      4\u001b[0m     url \u001b[38;5;241m=\u001b[39m \u001b[38;5;124m\"\u001b[39m\u001b[38;5;124mhttps://gitlab.tudelft.nl/cm/public/drive/-/raw/main/frequency/\u001b[39m\u001b[38;5;124m\"\u001b[39m \u001b[38;5;241m+\u001b[39m fname \u001b[38;5;241m+\u001b[39m \u001b[38;5;124m\"\u001b[39m\u001b[38;5;124m?inline=false\u001b[39m\u001b[38;5;124m\"\u001b[39m\n\u001b[1;32m----> 5\u001b[0m     \u001b[38;5;28;01mif\u001b[39;00m \u001b[38;5;129;01mnot\u001b[39;00m \u001b[43mos\u001b[49m\u001b[38;5;241m.\u001b[39mpath\u001b[38;5;241m.\u001b[39misfile(fname):\n\u001b[0;32m      6\u001b[0m         \u001b[38;5;28mprint\u001b[39m(\u001b[38;5;124mf\u001b[39m\u001b[38;5;124m\"\u001b[39m\u001b[38;5;124mDownloading \u001b[39m\u001b[38;5;132;01m{\u001b[39;00mfname\u001b[38;5;132;01m}\u001b[39;00m\u001b[38;5;124m...\u001b[39m\u001b[38;5;124m\"\u001b[39m)\n\u001b[0;32m      7\u001b[0m         urlretrieve(url, fname)\n",
      "\u001b[1;31mNameError\u001b[0m: name 'os' is not defined"
     ]
    }
   ],
   "source": [
    "# download input files (if necessary)\n",
    "\n",
    "def findfile(fname):\n",
    "    url = \"https://gitlab.tudelft.nl/cm/public/drive/-/raw/main/frequency/\" + fname + \"?inline=false\"\n",
    "    if not os.path.isfile(fname):\n",
    "        print(f\"Downloading {fname}...\")\n",
    "        urlretrieve(url, fname)\n",
    "\n",
    "findfile(\"beam_frequency.pro\")\n",
    "findfile(\"solid_frequency.pro\")\n",
    "findfile(\"beam.geom\")\n",
    "findfile(\"solid.msh\")"
   ]
  },
  {
   "cell_type": "markdown",
   "id": "73503ab5-1d4b-41f4-af25-b52c892fada4",
   "metadata": {
    "tags": []
   },
   "source": [
    "## Case 1: Simply supported beam as 1D object\n",
    "The first case is to analyze the natural frequencies of a simply supported extensible beam where it is modeled with extensible Timoshenko beam elements. "
   ]
  },
  {
   "cell_type": "markdown",
   "id": "25b324fc-2859-423d-b59b-0b69163ffa00",
   "metadata": {},
   "source": [
    "\n",
    "<div style=\"background-color:#AABAB2; color: black; vertical-align: middle; padding:15px; margin: 10px; border-radius: 10px\">\n",
    "<p>\n",
    "<b>Task 1.1: Run the 1D model and inspect results</b>   \n",
    "\n",
    "Use the provided `beam_frequency.pro` and `beam.geom` files to compute the natural frequencies of a simply supported beam. The first eigenfrequency is reported in the text output of the simulation and multiple modes are visualized. \n",
    "\n",
    "- Look at `modeshapemodule.py` to find out where in `globdat` the natural frequencies are stored. Print the first 5 values that come from the analysis.\n",
    "</p>\n",
    "</div>"
   ]
  },
  {
   "cell_type": "code",
   "execution_count": null,
   "id": "09aecd49-1dc7-4865-8cee-cef47a343630",
   "metadata": {},
   "outputs": [],
   "source": [
    "props = pu.parse_file('beam_frequency.pro')\n",
    "globdat = main.jive(props)"
   ]
  },
  {
   "cell_type": "markdown",
   "id": "a62596e0-1c34-4970-ac87-a32e73eccaf9",
   "metadata": {},
   "source": [
    "<div style=\"background-color:#AABAB2; color: black; vertical-align: middle; padding:15px; margin: 10px; border-radius: 10px\">\n",
    "<p>\n",
    "<b>Task 1.2: Natural frequencies for kinematically indeterminate systems</b>   \n",
    "\n",
    "The beam has three constraints, making the problem that you just solved a kinematically and statically determinate structure. \n",
    "- What happens if one of the constraints is removed (do this by overwriting the part of the input associated with the `DirichletModel`)? Pay attention to the order of magnitude of the natural frequencies and look at the vibration modes.\n",
    "- And what if all three are removed (do this by removing the `DirichletModel` altogether)? \n",
    "\n",
    "</p>\n",
    "</div>\n"
   ]
  },
  {
   "cell_type": "code",
   "execution_count": null,
   "id": "96299da0-d8e5-4285-b492-4221881e8ffb",
   "metadata": {},
   "outputs": [],
   "source": []
  },
  {
   "cell_type": "markdown",
   "id": "0cd770db-5f81-4031-ac93-3f6e314c1a0c",
   "metadata": {},
   "source": [
    "## Case 2: Simply supported beam as 2D solid\n",
    "Now the same beam is modeled as a two-dimensional solid. Inputs are equivalent to those from Case 1. "
   ]
  },
  {
   "cell_type": "markdown",
   "id": "f7cf016f-ea54-4efc-adb4-3d72bdd27177",
   "metadata": {},
   "source": [
    "<div style=\"background-color:#AABAB2; color: black; vertical-align: middle; padding:15px; margin: 10px; border-radius: 10px\">\n",
    "<p>\n",
    "<b>Task 2.1: Run the 2D model and check the results </b>   \n",
    "\n",
    "- Compare the material and geometry inputs from `solid_frequency.pro` and `solid.msh` to those from `beam_frequency.pro` and `beam.geom` and assert that they are equivalent.  \n",
    "- Look at the first natural frequencies and corresponding modes and compare them to the output from the beam analysis. What similarities and differences do you observe? \n",
    "- Look at the highest natural frequencies and corresponding modes. What determines the number of natural frequencies that is being computed? \n",
    "</p>\n",
    "</div>\n"
   ]
  },
  {
   "cell_type": "code",
   "execution_count": null,
   "id": "9f8a4f08-8563-4f41-a586-cc336f342733",
   "metadata": {},
   "outputs": [],
   "source": [
    "props = pu.parse_file('solid_frequency.pro')\n",
    "globdat = main.jive(props)"
   ]
  },
  {
   "cell_type": "markdown",
   "id": "b9bb1e56-13e0-43bb-bbd0-23126ec9b9ee",
   "metadata": {},
   "source": [
    "<div style=\"background-color:#AABAB2; color: black; vertical-align: middle; padding:15px; margin: 10px; border-radius: 10px\">\n",
    "<p>\n",
    "<b>Task 2.2: Reconstruct the missing mode</b>   \n",
    "\n",
    "In the previous task, you may have observed that the second mode obtained when the beam was modeled as 1D extensible Timoshenko beam is not present in results of the 2D solid analysis. \n",
    "    \n",
    "- Adapt the 2D solid model such that you find a solution close to the second mode from the beam analysis\n",
    "\n",
    "**Tip**: with the `maxStep` option from the `ViewModule`, you can limit the number of modes that is used for the interactive plot, to get better control over the slider. Additionally, the `plot` option of the `ViewModule` controls for which degree of freedom type the field is plotted. \n",
    "</p>\n",
    "</div>\n"
   ]
  },
  {
   "cell_type": "code",
   "execution_count": null,
   "id": "daf66e3d-e1de-43a2-a262-9075ceb23d74",
   "metadata": {},
   "outputs": [],
   "source": []
  }
 ],
 "metadata": {
  "kernelspec": {
   "display_name": "Python 3 (ipykernel)",
   "language": "python",
   "name": "python3"
  },
  "language_info": {
   "codemirror_mode": {
    "name": "ipython",
    "version": 3
   },
   "file_extension": ".py",
   "mimetype": "text/x-python",
   "name": "python",
   "nbconvert_exporter": "python",
   "pygments_lexer": "ipython3",
   "version": "3.9.13"
  }
 },
 "nbformat": 4,
 "nbformat_minor": 5
}
