{
 "cells": [
  {
   "cell_type": "markdown",
   "id": "49d321e3-10cc-4a8d-9d81-3fad147f71b1",
   "metadata": {
    "tags": []
   },
   "source": [
    "# Pyjive workshop: Poisson and diffusion problems\n",
    "    \n",
    "In this workshop, we simulate diffusion problems with `pyJive`. We will solve the steady state solution with the `PoissonModel` and then a transient problem with the `DiffusionModel`. Note that we use object-oriented programming here to relate the `DiffusionModel` to the `PoissonModel` implementation. `DiffusionModel` inherits functionality from `PoissonModel` and adds to it. \n"
   ]
  },
  {
   "cell_type": "markdown",
   "id": "3a0e38bc-b0a4-4112-98c6-5781b34e3de2",
   "metadata": {},
   "source": [
    "## Preliminiaries"
   ]
  },
  {
   "cell_type": "code",
   "execution_count": 2,
   "id": "37137436-d483-41ff-bcf5-1687b1c2b565",
   "metadata": {
    "tags": []
   },
   "outputs": [
    {
     "name": "stdout",
     "output_type": "stream",
     "text": [
      "The autoreload extension is already loaded. To reload it, use:\n",
      "  %reload_ext autoreload\n"
     ]
    }
   ],
   "source": [
    "%load_ext autoreload\n",
    "%autoreload 2\n",
    "%matplotlib widget\n",
    "\n",
    "import contextlib\n",
    "import os\n",
    "from urllib.request import urlretrieve\n",
    "\n",
    "import matplotlib.pyplot as plt\n",
    "import numpy as np\n",
    "\n",
    "import sys\n",
    "pyjivepath = '../../../pyjive/'\n",
    "sys.path.append(pyjivepath)\n",
    "\n",
    "if not os.path.isfile(pyjivepath + 'utils/proputils.py'):\n",
    "    print('\\n\\n**pyjive cannot be found, adapt \"pyjivepath\" above or move notebook to appropriate folder**\\n\\n')\n",
    "    raise Exception('pyjive not found')\n",
    "\n",
    "import main\n",
    "from utils import proputils as pu\n",
    "from names import GlobNames as gn\n",
    "\n"
   ]
  },
  {
   "cell_type": "code",
   "execution_count": null,
   "id": "5788e88a-f519-4ee5-b3fb-5cebc83bfaf3",
   "metadata": {},
   "outputs": [],
   "source": [
    "# download input files (if necessary)\n",
    "\n",
    "def findfile(fname):\n",
    "    url = \"https://gitlab.tudelft.nl/cm/public/drive/-/raw/main/diffusion/\" + fname + \"?inline=false\"\n",
    "    if not os.path.isfile(fname):\n",
    "        print(f\"Downloading {fname}...\")\n",
    "        urlretrieve(url, fname)\n",
    "\n",
    "findfile(\"poisson.pro\")\n",
    "findfile(\"mesh.msh\")\n",
    "findfile(\"diffusion.pro\")"
   ]
  },
  {
   "cell_type": "markdown",
   "id": "650c32a3-a9d2-47ba-b21a-5ea301e75ddc",
   "metadata": {},
   "source": [
    "## 1. Poisson problem"
   ]
  },
  {
   "cell_type": "markdown",
   "id": "656f36b3-7e90-40b2-b203-84d246c79a9e",
   "metadata": {},
   "source": [
    "First, solve a Poisson problem, which is the steady-state solution of a diffusion problem. A Poisson problem is specified in `poisson.pro`."
   ]
  },
  {
   "cell_type": "markdown",
   "id": "2a6d6690-c6e8-43de-8901-056390417f90",
   "metadata": {
    "tags": []
   },
   "source": [
    "\n",
    "<div style=\"background-color:#AABAB2; color: black; vertical-align: middle; padding:15px; margin: 10px; border-radius: 10px\">\n",
    "<p>\n",
    "<b>Task 1.1: Run code block and inspect results</b>   \n",
    "\n",
    "Use the provided `poisson.pro` and `mesh.msh` files to solve a Poisson problem with pyJive. Inspect the input file and the solution. What are the boundary conditions at the four edges of the square domain? And what about interior boundary around the holes?\n",
    "\n",
    "</p>\n",
    "</div>"
   ]
  },
  {
   "cell_type": "code",
   "execution_count": null,
   "id": "eb699c43-352b-4260-8956-68bbe087e1d6",
   "metadata": {},
   "outputs": [],
   "source": [
    "# parse input file and run analysis in a single line\n",
    "\n",
    "globdat = main.jive(pu.parse_file('poisson.pro'))"
   ]
  },
  {
   "cell_type": "markdown",
   "id": "eb31ad06-99ab-4e49-b67b-748f93c45265",
   "metadata": {
    "tags": []
   },
   "source": [
    "## 2. Diffusion problem"
   ]
  },
  {
   "cell_type": "markdown",
   "id": "2de7fad2-5ab2-4f7c-97cb-e11b7feeb8db",
   "metadata": {
    "jp-MarkdownHeadingCollapsed": true,
    "tags": []
   },
   "source": [
    "We will analyze the time-dependent problem visualized below, where boundary conditions change over time. \n",
    "\n",
    "<center><img src=\"https://raw.githubusercontent.com/ibcmrocha/public/main/diffmesh.png\" alt=\"mesh\" width=\"500\"/></center>\n",
    "\n"
   ]
  },
  {
   "cell_type": "markdown",
   "id": "1622aa5a-a0be-457c-904e-d021083762fb",
   "metadata": {
    "jp-MarkdownHeadingCollapsed": true,
    "tags": []
   },
   "source": [
    "\n",
    "<div style=\"background-color:#AABAB2; color: black; vertical-align: middle; padding:15px; margin: 10px; border-radius: 10px\">\n",
    "<p>\n",
    "<b>Task 2.1: Inspect the input file for the diffusion problem</b>   \n",
    "\n",
    "Next, we will use the provided `diffusion.pro` and `mesh.msh` files to run the diffusion problem with pyJive. In the problem as provided, we run the problem for $200$ time steps with $\\Delta t = 0.01$, with a total time of $T=2$. \n",
    "\n",
    "- Compared to `poisson.pro`, the input file `diffusion.pro` a different model is specified under `pde` and a different module under `solver`. In both parts, additional inputs are specified. What is the meaning of these? \n",
    "- Can you figure out from `diffusion.pro` what should to the boundary condition on the right for $t>1$?\n",
    "    \n",
    "</p>\n",
    "</div>"
   ]
  },
  {
   "cell_type": "markdown",
   "id": "85a3fa1b-f5d5-496b-a372-13bcb0247c0a",
   "metadata": {},
   "source": [
    "Now we can run the code and inspect the results as visualized by the `viewmodule`. For that, you can use the slider to move back and forth in time."
   ]
  },
  {
   "cell_type": "code",
   "execution_count": null,
   "id": "b2e21f09-2c3a-4885-a20e-e8d2a7c0046c",
   "metadata": {
    "tags": []
   },
   "outputs": [],
   "source": [
    "globdat = main.jive(pu.parse_file('diffusion.pro'))"
   ]
  },
  {
   "cell_type": "markdown",
   "id": "1773ca8b-77c5-4bfd-bb84-3b2a5192edd5",
   "metadata": {},
   "source": [
    "\n",
    "<div style=\"background-color:#AABAB2; color: black; vertical-align: middle; padding:15px; margin: 10px; border-radius: 10px\">\n",
    "<p>\n",
    "<b>Task 2.2: Where is the $\\mathbf{K}-matrix evaluated?</b>\n",
    "\n",
    "If you look at the file `diffusionmodel.py`, you see the $\\mathbf{M}$-matrix is assembled there. However, the $\\mathbf{K}$-matrix is not. Looking at `trapezoidalmodule.py`, you can see that both the $\\mathbf{M}$ and $\\mathbf{K}$ matrix are needed. \n",
    "\n",
    "- What are the respetive actions for assembly of $\\mathbf{K}$ and $\\mathbf{M}$?\n",
    "- How often are the matrices assembled in the entire simulation?\n",
    "- How and where is the $\\mathbf{K}$-matrix assembled? \n",
    "   \n",
    "</p>\n",
    "</div>"
   ]
  },
  {
   "cell_type": "markdown",
   "id": "c19a9ffe-a4f8-4027-af2c-d0d0d4ccde81",
   "metadata": {
    "tags": []
   },
   "source": [
    "\n",
    "<div style=\"background-color:#AABAB2; color: black; vertical-align: middle; padding:15px; margin: 10px; border-radius: 10px\">\n",
    "<p>\n",
    "<b>Task 2.3: Investigate time step dependence </b>\n",
    "\n",
    "In the code block below some additional lines of code are provided for adapting the time step size. We will investigate the behavior of the finite element solver for increased time step size: \n",
    "    \n",
    "- Modify the time step size from $0.01$ to $0.02$ and see what happens\n",
    "- Find the largest time step size for which the results are still good\n",
    "- Then set `props['solver']['theta'] = 1.0` and repeat this exercise\n",
    "- With $\\theta=1$ is is possible to run the simulation long enough to approach the steady state solution. Can you get a result that is close to the one obtained earlier with the Poisson equation?\n",
    "\n",
    "Note: for compactness, from now on we wrap our `main.jive()` call in an environment that supresses the long printed output of the time stepper.\n",
    "</p>\n",
    "</div>"
   ]
  },
  {
   "cell_type": "code",
   "execution_count": null,
   "id": "afb8b5ed-5301-49e2-bc85-f83cf5919bf5",
   "metadata": {
    "tags": []
   },
   "outputs": [],
   "source": [
    "# define time increment and number of time steps\n",
    "total_time = 2.0\n",
    "delta_time = ??\n",
    "nsteps = total_time / delta_time\n",
    "\n",
    "# read input file\n",
    "props = pu.parse_file('diffusion.pro')\n",
    "\n",
    "# overwrite values related to the time increment\n",
    "props['solver']['nsteps'] = nsteps\n",
    "props['solver']['deltaTime'] = delta_time\n",
    "props['model']['neum']['deltaTime'] = delta_time\n",
    "\n",
    "# run code with output suppressed\n",
    "with contextlib.redirect_stdout(open(os.devnull, \"w\")):\n",
    "    globdat = main.jive(props)"
   ]
  },
  {
   "cell_type": "markdown",
   "id": "1d4cbd42-6333-4536-87d5-74d4230bb457",
   "metadata": {
    "tags": []
   },
   "source": [
    "\n",
    "<div style=\"background-color:#AABAB2; color: black; vertical-align: middle; padding:15px; margin: 10px; border-radius: 10px\">\n",
    "<p>\n",
    "<b>Task 2.4: Perform a convergence study </b>\n",
    "\n",
    "In the code block below additional lines of code are provided for repeating the simulation with different time step sizes (and the same final $t$). With  this we can investigate what time step size gives good accuracy. Suppose we are interested in the averaged temperature over the domain at $t=2$, then we need to choose $\\Delta t$ sufficiently small to get accurate results. Even if the time-integration scheme is stable, accuracy can be an issue.\n",
    "    \n",
    "- Complete the code block to perform a time-step convergence study. \n",
    "- Repeat this convergence study for different values of $\\theta$.\n",
    "    \n",
    "**TIP**: You can plot your results with matplotlib, with `num_steps` as x-axis. \n",
    "    \n",
    "**ADVANCED TIP**: Make a log-log plot of the error and compare the convergence behavior values of $\\theta$ in a single graph\n",
    "    \n",
    "</p>\n",
    "</div>\n"
   ]
  },
  {
   "cell_type": "code",
   "execution_count": null,
   "id": "5307c230-e632-43eb-80ad-f265e712b60d",
   "metadata": {},
   "outputs": [],
   "source": [
    "def run_model(props):\n",
    "    \n",
    "    with contextlib.redirect_stdout(open(os.devnull, \"w\")):\n",
    "        globdat = main.jive(props)\n",
    "    \n",
    "    return np.average(globdat[gn.STATE0])\n",
    "\n",
    "total_time = 2\n",
    "\n",
    "num_steps = [ 1,2,3,4,5,6,7,8,9,10,20,30,50,100 ]\n",
    "\n",
    "vals = []\n",
    "\n",
    "for step in num_steps:\n",
    "    step_size = total_time / step\n",
    "    \n",
    "    props = pu.parse_file('diffusion.pro')\n",
    "    \n",
    "    # remove the 'view' part because it will generate too much output\n",
    "    props.pop('view')\n",
    "\n",
    "    # adapt inputs between different runs\n",
    "    props['solver']['theta'] = 1.0\n",
    "    props['solver']['nsteps'] = step\n",
    "    props['solver']['deltaTime'] = step_size\n",
    "    props['model']['neum']['deltaTime'] = step_size\n",
    "    \n",
    "    vals.append (run_model(props))\n",
    "\n"
   ]
  },
  {
   "cell_type": "code",
   "execution_count": null,
   "id": "00df3257-41f7-4355-a89a-f7865dd7805c",
   "metadata": {},
   "outputs": [],
   "source": []
  }
 ],
 "metadata": {
  "kernelspec": {
   "display_name": "Python 3 (ipykernel)",
   "language": "python",
   "name": "python3"
  },
  "language_info": {
   "codemirror_mode": {
    "name": "ipython",
    "version": 3
   },
   "file_extension": ".py",
   "mimetype": "text/x-python",
   "name": "python",
   "nbconvert_exporter": "python",
   "pygments_lexer": "ipython3",
   "version": "3.10.12"
  }
 },
 "nbformat": 4,
 "nbformat_minor": 5
}
