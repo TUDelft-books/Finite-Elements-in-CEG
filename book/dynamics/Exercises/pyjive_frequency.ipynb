{
 "cells": [
  {
   "cell_type": "markdown",
   "id": "0a32ce6d-0db8-44c9-9b0b-09879b22ad4c",
   "metadata": {},
   "source": [
    "# PyJive workshop: modal analysis\n",
    "    \n",
    "In this notebook, the `ModeShapeModule` is demonstrated. Two different cases are analyzed with the `FrameModel`. Finally, one case is setup with the `SolidModel`, but this one does not run properly. In this workshop, we aim to make it work. "
   ]
  },
  {
   "cell_type": "code",
   "execution_count": null,
   "id": "1c1c982a-3f5a-4f01-9d2a-f3e7a4a0530e",
   "metadata": {},
   "outputs": [],
   "source": [
    "import numpy as np\n",
    "\n",
    "import os\n",
    "from urllib.request import urlretrieve\n",
    "\n",
    "import sys\n",
    "pyjivepath = '../../../pyjive/'\n",
    "sys.path.append(pyjivepath)\n",
    "\n",
    "if not os.path.isfile(pyjivepath + 'utils/proputils.py'):\n",
    "    print('\\n\\n**pyjive cannot be found, adapt \"pyjivepath\" above or move notebook to appropriate folder**\\n\\n')\n",
    "    raise Exception('pyjive not found')\n",
    "\n",
    "import main\n",
    "from utils import proputils as pu\n",
    "from names import GlobNames as gn\n",
    "\n",
    "%matplotlib widget"
   ]
  },
  {
   "cell_type": "code",
   "execution_count": null,
   "id": "307ee9f5-c00f-4f11-8b34-06826a1f249b",
   "metadata": {},
   "outputs": [],
   "source": [
    "# download input files (if necessary)\n",
    "\n",
    "def findfile(fname):\n",
    "    url = \"https://gitlab.tudelft.nl/cm/public/drive/-/raw/main/frequency/\" + fname + \"?inline=false\"\n",
    "    if not os.path.isfile(fname):\n",
    "        print(f\"Downloading {fname}...\")\n",
    "        urlretrieve(url, fname)\n",
    "\n",
    "findfile(\"beam_frequency.pro\")\n",
    "findfile(\"solid_frequency.pro\")\n",
    "findfile(\"beam.geom\")\n",
    "findfile(\"solid.msh\")"
   ]
  },
  {
   "cell_type": "markdown",
   "id": "73503ab5-1d4b-41f4-af25-b52c892fada4",
   "metadata": {
    "tags": []
   },
   "source": [
    "### Case 1: Simply supported beam\n",
    "The first case is to do get the natural frequencies of a simply supported extensible beam. The first eigenfrequency is reported in the text output of the simulation and multiple modes are visualized. Can you find in the code how to access the higher eigenfrequencies? Inputs are computed with $E=20$ GPa, $A=0.4$ m$^2$, $I=0.1333$ m$^4$, $\\rho=2500$ kg/m$^3$."
   ]
  },
  {
   "cell_type": "markdown",
   "id": "25b324fc-2859-423d-b59b-0b69163ffa00",
   "metadata": {},
   "source": [
    "\n",
    "<div style=\"background-color:#AABAB2; color: black; vertical-align: middle; padding:15px; margin: 10px; border-radius: 10px\">\n",
    "<p>\n",
    "<b>Task 1.1: Run code block and inspect results</b>   \n",
    "\n",
    "Use the provided `beam_frequency.pro` and `beam.geom` files to compute the natural frequencies of a simply supported beam. \n",
    "\n",
    "- Look at `modeshapemodule.py` to find out where in `globdat` the natural frequencies are stored. Print the first 5 values that come from the analysis.\n",
    "</p>\n",
    "</div>"
   ]
  },
  {
   "cell_type": "code",
   "execution_count": null,
   "id": "09aecd49-1dc7-4865-8cee-cef47a343630",
   "metadata": {},
   "outputs": [],
   "source": [
    "props = pu.parse_file('beam_frequency.pro')\n",
    "globdat = main.jive(props)\n",
    "print(globdat[gn.EIGENFREQS][:10])"
   ]
  },
  {
   "cell_type": "markdown",
   "id": "a62596e0-1c34-4970-ac87-a32e73eccaf9",
   "metadata": {},
   "source": [
    "<div style=\"background-color:#AABAB2; color: black; vertical-align: middle; padding:15px; margin: 10px; border-radius: 10px\">\n",
    "<p>\n",
    "<b>Task 1.2: Natural frequencies for kinematically indeterminate systems</b>   \n",
    "\n",
    "The beam has three constraints, making it a statically determinate system. \n",
    "- What happens if one of the constraints is removed (do this by overwriting the part of the input associated with the `DirichletModel`)? \n",
    "- And what if all three are removed (do this by removing the `DirichletModel` altogether)? \n",
    "\n",
    "</p>\n",
    "</div>\n"
   ]
  },
  {
   "cell_type": "code",
   "execution_count": null,
   "id": "96299da0-d8e5-4285-b492-4221881e8ffb",
   "metadata": {},
   "outputs": [],
   "source": []
  },
  {
   "cell_type": "markdown",
   "id": "0cd770db-5f81-4031-ac93-3f6e314c1a0c",
   "metadata": {},
   "source": [
    "### Case 2: Simply supported beam modeled as solid\n",
    "Now the same beam is modeled as a two-dimensional solid. Inputs are equivalent to those from Case 1. "
   ]
  },
  {
   "cell_type": "markdown",
   "id": "f7cf016f-ea54-4efc-adb4-3d72bdd27177",
   "metadata": {},
   "source": [
    "<div style=\"background-color:#AABAB2; color: black; vertical-align: middle; padding:15px; margin: 10px; border-radius: 10px\">\n",
    "<p>\n",
    "<b>Task 2.1: Repeat the analysis with the SolidModel</b>   \n",
    "\n",
    "Investigate the equivalence:\n",
    "\n",
    "- Compare the inputs from `solid_frequency.pro` and `solid.msh` to those from `beam_frequency.pro` and check that they are equivalent.  \n",
    "- Look at the first natural frequencies and corresponding modes and compare them to the output from the beam analysis. What similarities and differences do you observe? \n",
    "- Look at the highest natural frequencies and corresponding modes. What determines the number of natural frequencies that is being computed? \n",
    "</p>\n",
    "</div>\n"
   ]
  },
  {
   "cell_type": "code",
   "execution_count": null,
   "id": "9f8a4f08-8563-4f41-a586-cc336f342733",
   "metadata": {},
   "outputs": [],
   "source": [
    "props = pu.parse_file('solid_frequency.pro')\n",
    "globdat = main.jive(props)\n",
    "\n",
    "print(globdat[gn.EIGENFREQS][:10])"
   ]
  },
  {
   "cell_type": "markdown",
   "id": "b9bb1e56-13e0-43bb-bbd0-23126ec9b9ee",
   "metadata": {},
   "source": [
    "<div style=\"background-color:#AABAB2; color: black; vertical-align: middle; padding:15px; margin: 10px; border-radius: 10px\">\n",
    "<p>\n",
    "<b>Task 2.2: Reconstruct the missing mode</b>   \n",
    "\n",
    "In the previous task, you may have observed that the second mode obtained when the beam was modeled as 1D extensible Timoshenko beam is not present in results of the 2D solid analysis. \n",
    "    \n",
    "- Adapt the 2D solid model such that you find a solution close to the second mode from the beam analysis\n",
    "\n",
    "**Tips on the ViewModule**: with the `maxStep` option from the `ViewModule`, you can limit the number of modes that is used for the interactive plot, to get better control over the slider. Additionally, the `plot` option controls for which degree of freedom type the field is plotted. \n",
    "</p>\n",
    "</div>\n"
   ]
  },
  {
   "cell_type": "code",
   "execution_count": null,
   "id": "daf66e3d-e1de-43a2-a262-9075ceb23d74",
   "metadata": {},
   "outputs": [],
   "source": [
    "props = pu.parse_file('solid_frequency_alt.pro')\n",
    "globdat = main.jive(props)\n",
    "\n",
    "print(globdat[gn.EIGENFREQS][:10])"
   ]
  },
  {
   "cell_type": "code",
   "execution_count": null,
   "id": "abb32758-8af7-4de2-bb8a-2ff13d904737",
   "metadata": {},
   "outputs": [],
   "source": []
  }
 ],
 "metadata": {
  "kernelspec": {
   "display_name": "Python 3 (ipykernel)",
   "language": "python",
   "name": "python3"
  },
  "language_info": {
   "codemirror_mode": {
    "name": "ipython",
    "version": 3
   },
   "file_extension": ".py",
   "mimetype": "text/x-python",
   "name": "python",
   "nbconvert_exporter": "python",
   "pygments_lexer": "ipython3",
   "version": "3.10.12"
  }
 },
 "nbformat": 4,
 "nbformat_minor": 5
}
