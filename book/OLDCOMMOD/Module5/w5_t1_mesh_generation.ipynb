{
 "cells": [
  {
   "attachments": {},
   "cell_type": "markdown",
   "metadata": {},
   "source": [
    "# Tutorial 5.1: Using external packages to generate a Finite Element mesh\n",
    "In this tutorial you will learn how to generate a mesh using the [`Gmsh`](https://gmsh.info/) package."
   ]
  },
  {
   "attachments": {},
   "cell_type": "markdown",
   "metadata": {},
   "source": [
    "In this tutorial we will see a simple example on how to use this software through the python interface. For more details on how to use this software, including the graphic interface, please go to the documentation [page](https://gmsh.info/#Documentation)"
   ]
  },
  {
   "attachments": {},
   "cell_type": "markdown",
   "metadata": {},
   "source": [
    "You can install the package calling the command: `pip install --upgrade gmsh`"
   ]
  },
  {
   "attachments": {},
   "cell_type": "markdown",
   "metadata": {},
   "source": [
    "## 1. Generate the mesh\n",
    "\n",
    "### 1.1. Initialize the model\n",
    "We first import the gmsh package and initialize the geometry model."
   ]
  },
  {
   "cell_type": "code",
   "execution_count": 1,
   "metadata": {},
   "outputs": [],
   "source": [
    "import gmsh\n",
    "gmsh.initialize()\n",
    "gmsh.model.add(\"plate\")"
   ]
  },
  {
   "attachments": {},
   "cell_type": "markdown",
   "metadata": {},
   "source": [
    "### 1.2. Create the geometry"
   ]
  },
  {
   "cell_type": "code",
   "execution_count": 2,
   "metadata": {},
   "outputs": [],
   "source": [
    "H = 10.0\n",
    "B = 5.0\n",
    "t= 0.5\n",
    "# Outer rectangle (last entry is the tag)\n",
    "gmsh.model.occ.addRectangle(0.0,0.0,0.0,B,H,2)\n",
    "# Inner rectangle (last entry is the tag)\n",
    "gmsh.model.occ.addRectangle(t,t,0.0,B-2*t,H-2*t,3)\n",
    "# Subtract inner from outer (notation: (dimension,tag)) \n",
    "structure = gmsh.model.occ.cut([(2,2)], [(2,3)], 4, True, True)"
   ]
  },
  {
   "attachments": {},
   "cell_type": "markdown",
   "metadata": {},
   "source": [
    "### 1.3. Assign entities\n",
    "\n",
    "The `Gmsh` model contains several geometrical entities of different dimension:\n",
    "\n",
    "- Nodes: dimension 0\n",
    "- Lines: dimension 1\n",
    "- Surfaces: dimension 2\n",
    "\n",
    "We can see the entities of our model calling the function `getEntities()`. If we send `-1` as argument, it will return all the entities in a tuple with dimension and entity tag `(dim,tag)`."
   ]
  },
  {
   "cell_type": "code",
   "execution_count": 3,
   "metadata": {},
   "outputs": [
    {
     "name": "stdout",
     "output_type": "stream",
     "text": [
      "[(0, 1), (0, 2), (0, 3), (0, 4), (0, 5), (0, 6), (0, 7), (0, 8), (1, 1), (1, 2), (1, 3), (1, 4), (1, 5), (1, 6), (1, 7), (1, 8), (2, 4)]\n"
     ]
    }
   ],
   "source": [
    "\n",
    "print(gmsh.model.occ.getEntities(-1))"
   ]
  },
  {
   "attachments": {},
   "cell_type": "markdown",
   "metadata": {},
   "source": [
    "The problem that we have now is that if we do not know which entity belongs to each part of the geometry. We can either use the `Gmsh` graphic interface to identify entities, or select them based on their position through the `getEntitiesInBoundingBox()` function."
   ]
  },
  {
   "cell_type": "code",
   "execution_count": 4,
   "metadata": {},
   "outputs": [],
   "source": [
    "inner_boundary_line = gmsh.model.occ.getEntitiesInBoundingBox(t/2,t/2,-0.1,B-t/2,H-t/2,0.1,1)\n",
    "inner_boundary_point = gmsh.model.occ.getEntitiesInBoundingBox(t/2,t/2,-0.1,B-t/2,H-t/2,0.1,0)\n",
    "right_boundary_line = gmsh.model.occ.getEntitiesInBoundingBox(B-t/2,-0.1,-0.1,B+t/2,H+t/2,0.1,1)\n",
    "right_boundary_point = gmsh.model.occ.getEntitiesInBoundingBox(B-t/2,-0.1,-0.1,B+t/2,H+t/2,0.1,0)\n",
    "left_boundary_line = gmsh.model.occ.getEntitiesInBoundingBox(-t/2,-0.1,-0.1,t/2,H+t/2,0.1,1)\n",
    "left_boundary_point = gmsh.model.occ.getEntitiesInBoundingBox(-t/2,-0.1,-0.1,t/2,H+t/2,0.1,0)\n",
    "top_boundary_line = gmsh.model.occ.getEntitiesInBoundingBox(-t/2,H-t/2,-0.1,B+t/2,H+t/2,0.1,1)\n",
    "bottom_boundary_line = gmsh.model.occ.getEntitiesInBoundingBox(-t/2,-t/2,-0.1,B+t/2,t/2,0.1,1)\n",
    "\n",
    "# Get the tags only\n",
    "inner_boundary_line_tags = [dim_tags[1] for dim_tags in inner_boundary_line]\n",
    "inner_boundary_point_tags = [dim_tags[1] for dim_tags in inner_boundary_point]\n",
    "right_boundary_line_tags = [dim_tags[1] for dim_tags in right_boundary_line]\n",
    "right_boundary_point_tags = [dim_tags[1] for dim_tags in right_boundary_point]\n",
    "left_boundary_line_tags = [dim_tags[1] for dim_tags in left_boundary_line]\n",
    "left_boundary_point_tags = [dim_tags[1] for dim_tags in left_boundary_point]\n",
    "top_boundary_line_tags = [dim_tags[1] for dim_tags in top_boundary_line]\n",
    "bottom_boundary_line_tags = [dim_tags[1] for dim_tags in bottom_boundary_line]"
   ]
  },
  {
   "attachments": {},
   "cell_type": "markdown",
   "metadata": {},
   "source": [
    "Once we have the entity tags identified, we can assign them to physical groups, with the corresponding tag, so later they are propagated to the mesh properties."
   ]
  },
  {
   "cell_type": "code",
   "execution_count": 5,
   "metadata": {},
   "outputs": [
    {
     "data": {
      "text/plain": [
       "5"
      ]
     },
     "execution_count": 5,
     "metadata": {},
     "output_type": "execute_result"
    }
   ],
   "source": [
    "gmsh.model.addPhysicalGroup(0,inner_boundary_point_tags,1,\"inner\")\n",
    "gmsh.model.addPhysicalGroup(1,inner_boundary_line_tags,1,\"inner\")\n",
    "gmsh.model.addPhysicalGroup(0,right_boundary_point_tags,2,\"right\")\n",
    "gmsh.model.addPhysicalGroup(1,right_boundary_line_tags,2,\"right\")\n",
    "gmsh.model.addPhysicalGroup(0,left_boundary_point_tags,3,\"left\")\n",
    "gmsh.model.addPhysicalGroup(1,left_boundary_line_tags,3,\"left\")\n",
    "gmsh.model.addPhysicalGroup(1,top_boundary_line_tags,4,\"top\")\n",
    "gmsh.model.addPhysicalGroup(1,bottom_boundary_line_tags,5,\"bottom\")\n",
    "gmsh.model.addPhysicalGroup(2,[4],5,\"interior\")"
   ]
  },
  {
   "attachments": {},
   "cell_type": "markdown",
   "metadata": {},
   "source": [
    "We just need to generate the mesh. Before doing this we syncronize the geometry model."
   ]
  },
  {
   "cell_type": "code",
   "execution_count": 6,
   "metadata": {},
   "outputs": [],
   "source": [
    "# Synchronize\n",
    "gmsh.model.occ.synchronize()\n",
    "gmsh.model.geo.synchronize()"
   ]
  },
  {
   "attachments": {},
   "cell_type": "markdown",
   "metadata": {},
   "source": [
    "### 1.4. Create the mesh and write to file\n",
    "Finally we can generate the mesh with the `generate()` function."
   ]
  },
  {
   "cell_type": "code",
   "execution_count": 7,
   "metadata": {},
   "outputs": [],
   "source": [
    "gmsh.model.mesh.generate()"
   ]
  },
  {
   "attachments": {},
   "cell_type": "markdown",
   "metadata": {},
   "source": [
    "Let's store the mesh and finalize the model."
   ]
  },
  {
   "cell_type": "code",
   "execution_count": 8,
   "metadata": {},
   "outputs": [],
   "source": [
    "gmsh.write(\"mesh.msh\")\n",
    "# gmsh.finalize() # Uncomment this line to finalize the model if we just want to create the mesh. Here we will continue to get the data."
   ]
  },
  {
   "attachments": {},
   "cell_type": "markdown",
   "metadata": {},
   "source": [
    "## 2. Read the mesh\n",
    "\n",
    "Once we have generated the mesh, we need to get the quantities that we need for our Finite Element solver. That is, the list of nodal coordinates and the list of elemental connectivities. In addition, we want also to identify nodes in different boundaries to apply different boundary conditions.\n",
    "\n",
    "From a mesh in `Gmsh` format (\".msh\"), we can also use the `gmsh` package to obtain the information through the `gmsh.open()` function. In that case, since we already have the model, we will not have to do this step.\n",
    "\n",
    "We can get the list of nodes with the `getNodes()` function. Sending `-1` as argument will ensure we get the nodes from entities in all dimensions."
   ]
  },
  {
   "cell_type": "code",
   "execution_count": 9,
   "metadata": {},
   "outputs": [],
   "source": [
    "nodes = gmsh.model.mesh.getNodes(-1)"
   ]
  },
  {
   "attachments": {},
   "cell_type": "markdown",
   "metadata": {},
   "source": [
    "Since we are in 2D and the geometry is 3D, we remove the $z$ coordinate."
   ]
  },
  {
   "cell_type": "code",
   "execution_count": 10,
   "metadata": {},
   "outputs": [],
   "source": [
    "import numpy as np\n",
    "coords3D = nodes[1]\n",
    "NoN = len(nodes[0])\n",
    "NL = np.zeros([NoN,2])\n",
    "for i in range(0,NoN):\n",
    "    NL[i] = [coords3D[i*3], coords3D[i*3+1]]"
   ]
  },
  {
   "attachments": {},
   "cell_type": "markdown",
   "metadata": {},
   "source": [
    "The next step is to get the elements with the local to global node ids. Here we will only get the elements of dimension $2$. We will not use elements of lower dimension in this tutorial."
   ]
  },
  {
   "cell_type": "code",
   "execution_count": 11,
   "metadata": {},
   "outputs": [],
   "source": [
    "elements = gmsh.model.mesh.getElements(2)"
   ]
  },
  {
   "attachments": {},
   "cell_type": "markdown",
   "metadata": {},
   "source": [
    "The first entry is the list of element types. In that case we only have one type: $2$, which is the 3-node triangle."
   ]
  },
  {
   "cell_type": "code",
   "execution_count": 12,
   "metadata": {},
   "outputs": [
    {
     "name": "stdout",
     "output_type": "stream",
     "text": [
      "Element type:  D2TR3N\n"
     ]
    }
   ],
   "source": [
    "if elements[0][0] == 2:\n",
    "    element_type = 'D2TR3N'\n",
    "    NPE = 3\n",
    "print(\"Element type: \",element_type)"
   ]
  },
  {
   "attachments": {},
   "cell_type": "markdown",
   "metadata": {},
   "source": [
    "The second entry is the element tags, not relevant for this specific tutorial, but it could be useful when dealing with problems with multiple materials, for example."
   ]
  },
  {
   "cell_type": "code",
   "execution_count": 13,
   "metadata": {},
   "outputs": [
    {
     "name": "stdout",
     "output_type": "stream",
     "text": [
      "Number of Elements:  54\n"
     ]
    }
   ],
   "source": [
    "element_tags = elements[1][0]\n",
    "NoE = len(element_tags)\n",
    "print(\"Number of Elements: \",NoE)"
   ]
  },
  {
   "attachments": {},
   "cell_type": "markdown",
   "metadata": {},
   "source": [
    "Finally the third entry is the elemental node tags. Here we reshape it to be an array of two dimensions instead of a list."
   ]
  },
  {
   "cell_type": "code",
   "execution_count": 14,
   "metadata": {},
   "outputs": [],
   "source": [
    "EL = np.reshape(elements[2][0],[NoE,NPE])"
   ]
  },
  {
   "attachments": {},
   "cell_type": "markdown",
   "metadata": {},
   "source": [
    "## 3. Solve the linear elastic problem using Finite Element method\n",
    "\n",
    "### 3.1 Discretize the geometry\n",
    "\n",
    "Now that we have the discretized geometry, we can proceed as in the previous tutorial."
   ]
  },
  {
   "cell_type": "code",
   "execution_count": 15,
   "metadata": {},
   "outputs": [],
   "source": [
    "import math\n",
    "import matplotlib.pyplot as plt"
   ]
  },
  {
   "attachments": {},
   "cell_type": "markdown",
   "metadata": {},
   "source": [
    "We can plot the mesh with the corresponding node and element identifiers:"
   ]
  },
  {
   "cell_type": "code",
   "execution_count": 16,
   "metadata": {},
   "outputs": [
    {
     "data": {
      "image/png": "[encoded data removed]",
      "text/plain": [
       "<Figure size 640x480 with 1 Axes>"
      ]
     },
     "metadata": {},
     "output_type": "display_data"
    }
   ],
   "source": [
    "NoN = np.size(NL, 0)\n",
    "NoE = np.size(EL, 0)\n",
    "\n",
    "plt.figure(1)\n",
    "\n",
    "count = 1\n",
    "for i in range(0, NoN):\n",
    "    plt.annotate(count, xy = (NL[i,0],NL[i,1]))\n",
    "    count += 1\n",
    "\n",
    "if element_type == 'D2QU4N':\n",
    "    count2 = 1\n",
    "    for j in range(0, NoE):\n",
    "        plt.annotate(count2, xy = ((NL[EL[j,0]-1,0]+NL[EL[j,1]-1,0]+NL[EL[j,2]-1,0]+NL[EL[j,3]-1,0])/4,\n",
    "                                   (NL[EL[j,0]-1,1]+NL[EL[j,1]-1,1]+NL[EL[j,2]-1,1]+NL[EL[j,3]-1,1])/4),\n",
    "                                  c = 'blue')\n",
    "        count2 += 1\n",
    "\n",
    "    # Plot lines\n",
    "    x0, y0 = NL[EL[:,0]-1,0], NL[EL[:,0]-1,1]\n",
    "    x1, y1 = NL[EL[:,1]-1,0], NL[EL[:,1]-1,1]\n",
    "    x2, y2 = NL[EL[:,2]-1,0], NL[EL[:,2]-1,1]\n",
    "    x3, y3 = NL[EL[:,3]-1,0], NL[EL[:,3]-1,1]\n",
    "    plt.plot(np.array([x0,x1]), np.array([y0,y1]), 'red', lw=3)\n",
    "    plt.plot(np.array([x1,x2]), np.array([y1,y2]), 'red', lw=3)\n",
    "    plt.plot(np.array([x2,x3]), np.array([y2,y3]), 'red', lw=3)\n",
    "    plt.plot(np.array([x3,x0]), np.array([y3,y0]), 'red', lw=3)\n",
    "\n",
    "\n",
    "if element_type == 'D2TR3N':\n",
    "\n",
    "    count2 = 1\n",
    "    for j in range(0, NoE):\n",
    "        plt.annotate(count2, xy = ((NL[int(EL[j,0]-1),0]+NL[int(EL[j,1]-1),0]+NL[int(EL[j,2]-1),0])/3,\n",
    "                                   (NL[int(EL[j,0]-1),1]+NL[int(EL[j,1]-1),1]+NL[int(EL[j,2]-1),1])/3),\n",
    "                                  c = 'blue')\n",
    "        count2 += 1\n",
    "\n",
    "    # Plot lines\n",
    "    x0, y0 = NL[EL[:,0]-1,0], NL[EL[:,0]-1,1]\n",
    "    x1, y1 = NL[EL[:,1]-1,0], NL[EL[:,1]-1,1]\n",
    "    x2, y2 = NL[EL[:,2]-1,0], NL[EL[:,2]-1,1]\n",
    "    plt.plot(np.array([x0,x1]), np.array([y0,y1]), 'red', lw=3)\n",
    "    plt.plot(np.array([x1,x2]), np.array([y1,y2]), 'red', lw=3)\n",
    "    plt.plot(np.array([x2,x0]), np.array([y2,y0]), 'red', lw=3)"
   ]
  },
  {
   "attachments": {},
   "cell_type": "markdown",
   "metadata": {},
   "source": [
    "### 3.2. Define the shape functions\n",
    "The second step in our Finite Element recipie consists on defining the shape functions and their derivatives. Here we will make use of the **isoparametric map** and **numerical integration** to re-use as much information as possible. \n",
    "\n",
    "Before defining the shape functions we first define the quadrature rule that will be used to integrate. Here we need to specify the location of the quadrature points and the corresponding weights. In this example we consider a $1$-point quadrature rule for the triangular elements. For the quadrilateral elements we define a $1$-point and $4$-point ($2\\times2$) quadrature rule. See below an explanation about the reason why we need more quadrature points for quadrilaterals.\n",
    "\n",
    "The function `GaussPoint` returns the coordinates $(\\xi, \\eta)$ of the quadrature point `gp` in the reference element, together with the corresponding weight $\\alpha_{gp}$.\n",
    "\n",
    "$$\\int f(\\xi,\\eta) d\\Omega_{ref} = \\sum_{gp=1}^{GPE}f(\\xi_{gp},\\eta_{gp})\\alpha_{gp}$$ "
   ]
  },
  {
   "cell_type": "code",
   "execution_count": 17,
   "metadata": {},
   "outputs": [],
   "source": [
    "def GaussPoint(NPE, GPE, gp): # Gaussian point theory needed\n",
    "    if NPE == 3:\n",
    "        if GPE == 1:\n",
    "            if gp == 1:\n",
    "                xi, eta, alpha = 1/3, 1/3, 1\n",
    "    if NPE == 4:\n",
    "        if GPE == 1:\n",
    "            if gp == 1:\n",
    "                xi, eta, alpha = 0, 0, 4\n",
    "        if GPE == 4:\n",
    "            if gp == 1:\n",
    "                xi, eta, alpha = -1/math.sqrt(3), -1/math.sqrt(3), 1\n",
    "            if gp == 2:\n",
    "                xi, eta, alpha = 1/math.sqrt(3), -1/math.sqrt(3), 1\n",
    "            if gp == 3:\n",
    "                xi, eta, alpha = 1/math.sqrt(3), 1/math.sqrt(3), 1\n",
    "            if gp == 4:\n",
    "                xi, eta, alpha = -1/math.sqrt(3), 1/math.sqrt(3), 1\n",
    "\n",
    "    return (xi, eta, alpha)"
   ]
  },
  {
   "attachments": {},
   "cell_type": "markdown",
   "metadata": {},
   "source": [
    "Using linear polynomials, we will have the following shape functions for triangular elements:\n",
    "\n",
    "$$N_1(\\xi,\\eta)=\\xi,\\qquad N_2(\\xi,\\eta)=\\eta, \\qquad N_3(\\xi,\\eta)=1-\\xi-\\eta,$$\n",
    "\n",
    "and the following shape functions for quadrilaterals:\n",
    "\n",
    "$$N_1(\\xi,\\eta)=\\frac{(1-\\xi)}{2}\\frac{(1-\\eta)}{2},\\qquad N_2(\\xi,\\eta)=\\frac{(1+\\xi)}{2}\\frac{(1-\\eta)}{2}, \\qquad N_3(\\xi,\\eta)=\\frac{(1+\\xi)}{2}\\frac{(1+\\eta)}{2}, \\qquad N_4(\\xi,\\eta)=\\frac{(1-\\xi)}{2}\\frac{(1+\\eta)}{2},$$\n",
    "\n",
    "The function `grad_N_nat` returns the gradient of the shape functions evaluated at given point $(ξ,η)$. Using index notation, the returned value is:\n",
    "\n",
    "$$\\text{result[i,j]}=\\frac{∂N_j}{∂ξ_i}.$$\n",
    "\n",
    "Note that for the linear elastic problem we do not need to define shape functions if the external distributed load is zero."
   ]
  },
  {
   "cell_type": "code",
   "execution_count": 18,
   "metadata": {},
   "outputs": [],
   "source": [
    "def grad_N_nat(NPE, xi, eta):\n",
    "\n",
    "    PD = 2\n",
    "    result = np.zeros([PD, NPE])\n",
    "\n",
    "    if NPE == 3:\n",
    "        result[0,0] = 1\n",
    "        result[0,1] = 0\n",
    "        result[0,2] = -1\n",
    "        result[1,0] = 0\n",
    "        result[1,1] = 1\n",
    "        result[1,2] = -1\n",
    "    if NPE == 4:\n",
    "        result[0,0] = -1/4*(1-eta)\n",
    "        result[0,1] = 1/4*(1-eta)\n",
    "        result[0,2] = 1/4*(1+eta)\n",
    "        result[0,3] = -1/4*(1+eta)\n",
    "        result[1,0] = -1/4*(1-xi)\n",
    "        result[1,1] = -1/4*(1+xi)\n",
    "        result[1,2] = 1/4*(1+xi)\n",
    "        result[1,3] = 1/4*(1-xi)\n",
    "    \n",
    "    return result "
   ]
  },
  {
   "attachments": {},
   "cell_type": "markdown",
   "metadata": {},
   "source": [
    "### 3.3. Elemental matrices\n",
    "Once we have the shape functions defined, we can proceed with the integration of the elemental matrices. The elemental stiffness matrix can be defined as:\n",
    "\n",
    "$$K_{aibk}=\\int_Ω C_{ijkl}\\frac{∂N_a}{∂x_j}\\frac{∂N_b}{∂x_l}\\ dΩ$$"
   ]
  },
  {
   "attachments": {},
   "cell_type": "markdown",
   "metadata": {},
   "source": [
    "We first define a function to construct the constitutive tensor $C_{ijkl}$."
   ]
  },
  {
   "cell_type": "code",
   "execution_count": 19,
   "metadata": {},
   "outputs": [],
   "source": [
    "def constitutive(i, j, k, l):\n",
    "\n",
    "    E = 8/3\n",
    "    nu = 1/3\n",
    "    C = (E/(2*(1+nu))) * (delta(i, l)*delta(j,k)) + delta(i,k)*delta(j,l) + (\n",
    "                            E*nu)/(1-nu**2) * delta(i,j)*delta(k,l)\n",
    "    \n",
    "    return C\n",
    "\n",
    "def delta(i,j):\n",
    "    if i == j:\n",
    "        delta = 1\n",
    "    else:\n",
    "        delta = 0\n",
    "    return delta"
   ]
  },
  {
   "attachments": {},
   "cell_type": "markdown",
   "metadata": {},
   "source": [
    "The function `element_stiffness` computes the elemental stiffness matrix for a given local node list `nl` with the indices of the global nodes within an element. The function uses the array `NL` to retrieve the coordinates of the elemental nodes."
   ]
  },
  {
   "cell_type": "code",
   "execution_count": 20,
   "metadata": {},
   "outputs": [],
   "source": [
    "def element_stiffness(nl, NL):\n",
    "    \n",
    "    NPE = np.size(nl,0)\n",
    "    PD = np.size(NL,1)\n",
    "\n",
    "    x = np.zeros([NPE,PD])\n",
    "    x[0:NPE, 0:PD] = NL[nl[0:NPE]-1, 0:PD]\n",
    "\n",
    "    K = np.zeros([NPE*PD, NPE*PD])\n",
    "    coor = x.T\n",
    "\n",
    "    if NPE == 3:\n",
    "        GPE = 1\n",
    "    if NPE == 4:\n",
    "        GPE = 4\n",
    "\n",
    "    # Loop over test nodes\n",
    "    for i in range(1, NPE+1):\n",
    "        # Loop over solution nodes\n",
    "        for j in range(1, NPE+1):\n",
    "\n",
    "            # Local stiffness matrix ()\n",
    "            k = np.zeros([PD,PD])\n",
    "            for gp in range(1,GPE+1):\n",
    "                J = np.zeros([PD,PD])\n",
    "                grad = np.zeros([PD, NPE])\n",
    "                (xi, eta, alpha) = GaussPoint(NPE, GPE, gp)\n",
    "                grad_nat = grad_N_nat(NPE, xi, eta)\n",
    "                J = coor @ grad_nat.T\n",
    "                grad = np.linalg.inv(J).T @ grad_nat\n",
    "\n",
    "                if NPE == 3:\n",
    "                    for a in range(1, PD+1):\n",
    "                        for c in range(1, PD+1):\n",
    "                            for b in range(1, PD+1):\n",
    "                                for d in range(1, PD+1):\n",
    "                                    k[a-1,c-1] = k[a-1,c-1] + grad[b-1,i-1] * constitutive(\n",
    "                                                    a,b,c,d) * grad[d-1,j-1] * np.linalg.det(J) * alpha*0.5\n",
    "                if NPE == 4:\n",
    "                    for a in range(1, PD+1):\n",
    "                        for c in range(1, PD+1):\n",
    "                            for b in range(1, PD+1):\n",
    "                                for d in range(1, PD+1):\n",
    "                                    k[a-1,c-1] = k[a-1,c-1] + grad[b-1,i-1] * constitutive(\n",
    "                                                    a,b,c,d) * grad[d-1,j-1] * np.linalg.det(J) * alpha\n",
    "                \n",
    "                # Fill the global stiffness matrix\n",
    "                K[((i-1)*PD+1)-1:i*PD, ((j-1)*PD+1)-1:j*PD] = k\n",
    "\n",
    "    return K\n"
   ]
  },
  {
   "attachments": {},
   "cell_type": "markdown",
   "metadata": {},
   "source": [
    "### 3.4. Assemble the global system\n",
    "\n",
    "Once we have the elemental contributions we can assemble the global system. The function `assemble_stiffness` assembles the contribution of the elemental stiffness into the global matrix according to local-to-global nodal map. For this purpose we define an auxiliar array, `ENL`, with inforation about the coordinates, Dirichlet/Neumann boundary conditions and local-to-global degree of freedom numbering.\n",
    "\n",
    "The `ENL` array is created calling the function `assign_BCs` with appropriate `BC_flag` and `defV` values."
   ]
  },
  {
   "cell_type": "code",
   "execution_count": 21,
   "metadata": {},
   "outputs": [],
   "source": [
    "def assemble_stiffness(ENL, EL, NL):\n",
    "\n",
    "    NoE = np.size(EL, 0)\n",
    "    NPE = np.size(EL, 1)\n",
    "    NoN = np.size(NL, 0)\n",
    "    PD = np.size(NL, 1)\n",
    "\n",
    "    K = np.zeros([NoN*PD, NoN*PD])\n",
    "\n",
    "    for i in range(1, NoE):\n",
    "        nl = EL[i-1,0:NPE]\n",
    "        k = element_stiffness(nl, NL)\n",
    "        for r in range(0, NPE):\n",
    "            for p in range(0, PD):\n",
    "                for q in range(0, NPE):\n",
    "                    for s in range(0,PD):\n",
    "                        row = ENL[int(nl[r]-1), p+3*PD]\n",
    "                        column = ENL[int(nl[q]-1), s+3*PD]\n",
    "                        value = k[r*PD+p, q*PD+s]\n",
    "                        K[int(row)-1,int(column)-1] = K[int(row)-1,int(column)-1] + value\n",
    "        \n",
    "    return K\n"
   ]
  },
  {
   "attachments": {},
   "cell_type": "markdown",
   "metadata": {},
   "source": [
    "In this tutorial we will take advantage of the node tagging capabilities of `Gmsh` and use the function `getNodesForPhysicalGroup()` to extract the nodes at different boundaries. "
   ]
  },
  {
   "cell_type": "code",
   "execution_count": 22,
   "metadata": {},
   "outputs": [
    {
     "name": "stdout",
     "output_type": "stream",
     "text": [
      "[ 5  6  7  8 33 34 35 36 37 38 39 40 41 42 43 44 45 46 47 48 49 50 51 52\n",
      " 53 54]\n"
     ]
    }
   ],
   "source": [
    "\n",
    "print(gmsh.model.mesh.getNodesForPhysicalGroup(1,1)[0])\n",
    "\n",
    "def assign_BCs(NL):\n",
    "\n",
    "    NoN = np.size(NL, 0)\n",
    "    PD = np.size(NL, 1)\n",
    "    # Extended node list, to fill in all \"values\" related to each node\n",
    "    # 0-1 names NL, 2-3 xx, 4-5 xx, 6-7 xx, 8-9 displacements, 10-11 forces\n",
    "    # Dirichlet bounds have positive \"value\" or are \"free\" using -1 -- column 8-9\n",
    "    # Neumann bounds are \"free\" using 0 -- column 10-11\n",
    "\n",
    "    ENL = np.zeros([NoN, 6*PD])\n",
    "    ENL[:,0:PD] = NL\n",
    "\n",
    "    # Loop over dimensions (vertices and lines):\n",
    "    for idim in range(0,2):\n",
    "        # Nodes of the inner boundary: (Free traction)\n",
    "        inner_nodes = gmsh.model.mesh.getNodesForPhysicalGroup(idim,1)[0]\n",
    "        for i in inner_nodes:\n",
    "            i = int(i-1)\n",
    "            ENL[i,2] = 1\n",
    "            ENL[i,3] = 1\n",
    "            ENL[i,10] = 0\n",
    "            ENL[i,11] = 0\n",
    "        # Nodes of the right boundary: (Negative horizontal load)\n",
    "        right_nodes = gmsh.model.mesh.getNodesForPhysicalGroup(idim,2)[0]\n",
    "        for i in right_nodes:\n",
    "            i = int(i-1)\n",
    "            ENL[i,2] = 1\n",
    "            ENL[i,3] = 1\n",
    "            ENL[i,10] = -1.0e-2\n",
    "            ENL[i,11] = 0\n",
    "        # Nodes of the left boundary: (Fixed zero displacement)\n",
    "        left_nodes = gmsh.model.mesh.getNodesForPhysicalGroup(idim,3)[0]\n",
    "        for i in left_nodes:\n",
    "            i = int(i-1)\n",
    "            ENL[i,2] = -1\n",
    "            ENL[i,3] = -1\n",
    "            ENL[i,8] = 0\n",
    "            ENL[i,9] = 0\n",
    "        # Nodes of the top boundary: (Free traction)\n",
    "        top_nodes = gmsh.model.mesh.getNodesForPhysicalGroup(idim,4)[0]\n",
    "        for i in top_nodes:\n",
    "            i = int(i-1)\n",
    "            ENL[i,2] = 1\n",
    "            ENL[i,3] = 1\n",
    "            ENL[i,10] = 0\n",
    "            ENL[i,11] = 0\n",
    "        # Nodes of the bottom boundary: (Fixed zero displacement)\n",
    "        bottom_nodes = gmsh.model.mesh.getNodesForPhysicalGroup(idim,5)[0]\n",
    "        for i in bottom_nodes:\n",
    "            i = int(i-1)\n",
    "            ENL[i,2] = -1\n",
    "            ENL[i,3] = -1\n",
    "            ENL[i,8] = 0\n",
    "            ENL[i,9] = 0\n",
    "    \n",
    "    DOFs = 0\n",
    "    DOCs = 0\n",
    "    for i in range(0, NoN):\n",
    "        for j in range(0, PD):\n",
    "            if ENL[i,PD+j] == -1: # if it is a Dirichlet bound\n",
    "                DOCs -= 1 # it is a degree of constraint -- Global name\n",
    "                ENL[i,2*PD+j] = DOCs # assign global DOC \"name\" to it\n",
    "            else:\n",
    "                DOFs += 1\n",
    "                ENL[i,2*PD+j] = DOFs\n",
    "    for i in range(0, NoN):\n",
    "        for j in range(0, PD):\n",
    "            if ENL[i,2*PD+j] < 0: # if it is a Neumann bound\n",
    "                ENL[i,3*PD+j] = abs(ENL[i,2*PD+j])+DOFs\n",
    "            else:\n",
    "                ENL[i,3*PD+j] = abs(ENL[i,2*PD+j])\n",
    "    DOCs = abs(DOCs)\n",
    "\n",
    "    return (ENL, DOFs, DOCs)"
   ]
  },
  {
   "attachments": {},
   "cell_type": "markdown",
   "metadata": {},
   "source": [
    "We can use the function `assemble_forces` to apply Neumann type boundary conditions (traction at a boundary)."
   ]
  },
  {
   "cell_type": "code",
   "execution_count": 23,
   "metadata": {},
   "outputs": [],
   "source": [
    "def assemble_forces(ENL, NL):\n",
    "    \n",
    "    PD = np.size(NL, 1)\n",
    "    NoN = np.size(NL, 0)\n",
    "    DOF = 0\n",
    "\n",
    "    Fp = []\n",
    "    for i in range(0, NoN):\n",
    "        for j in range(0, PD):\n",
    "            if ENL[i,PD+j] == 1: # if fixed node\n",
    "                DOF += 1\n",
    "                Fp.append(ENL[i,5*PD+j]) \n",
    "    Fp = np.vstack([Fp]).reshape(-1,1)\n",
    "    return Fp"
   ]
  },
  {
   "attachments": {},
   "cell_type": "markdown",
   "metadata": {},
   "source": [
    "The function `assemble_displacement` prescribes the displacement at the Dirichlet boundary conditions."
   ]
  },
  {
   "cell_type": "code",
   "execution_count": 24,
   "metadata": {},
   "outputs": [],
   "source": [
    "def assemble_displacement(ENL, NL):\n",
    "    \n",
    "    PD = np.size(NL, 1)\n",
    "    NoN = np.size(NL, 0)\n",
    "    DOC = 0\n",
    "\n",
    "    Up = []\n",
    "    for i in range(0, NoN):\n",
    "        for j in range(0, PD):\n",
    "            if ENL[i,PD+j] == -1: # if fixed node\n",
    "                DOC += 1\n",
    "                Up.append(ENL[i,4*PD+j]) \n",
    "    Up = np.vstack([Up]).reshape(-1,1)\n",
    "    return Up\n",
    "\n",
    "def update_nodes(ENL, Uu, NL, Fu):\n",
    "\n",
    "    PD = np.size(NL, 1)\n",
    "    NoN = np.size(NL, 0)\n",
    "\n",
    "    DOFs = 0\n",
    "    DOCs = 0\n",
    "    for i in range(0, NoN):\n",
    "        for j in range(0, PD):\n",
    "            if ENL[i,PD+j] == 1:\n",
    "                DOFs += 1\n",
    "                ENL[i,4*PD+j] = Uu[DOFs-1] # update the displacement\n",
    "            else:\n",
    "                DOCs += 1\n",
    "                ENL[i,5*PD+j] = Fu[DOCs-1]\n",
    "\n",
    "    return ENL"
   ]
  },
  {
   "attachments": {},
   "cell_type": "markdown",
   "metadata": {},
   "source": [
    "## Main computation driver\n",
    "We can use the functions defined above in the following main simulation driver:"
   ]
  },
  {
   "cell_type": "code",
   "execution_count": 25,
   "metadata": {},
   "outputs": [],
   "source": [
    "# Computations\n",
    "(ENL, DOFs, DOCs) = assign_BCs(NL)\n",
    "# print(DOFs, DOCs)\n",
    "\n",
    "K = assemble_stiffness(ENL, EL, NL)\n",
    "Fp = assemble_forces(ENL, NL)\n",
    "Up = assemble_displacement(ENL, NL)\n",
    "\n",
    "K_reduced = K[0:DOFs, 0:DOFs] # K_UU\n",
    "K_UP = K[0:DOFs, DOFs:DOFs+DOCs]\n",
    "K_PU = K[DOFs:DOFs+DOCs, 0:DOFs]\n",
    "K_PP = K[DOFs:DOFs+DOCs, DOFs:DOFs+DOCs]\n",
    "\n",
    "F = Fp - (K_UP @ Up)\n",
    "Uu = np.linalg.solve(K_reduced, F)\n",
    "Fu = (K_PU @ Uu) + (K_PP @ Up)\n",
    "\n",
    "ENL = update_nodes(ENL, Uu, NL, Fu)"
   ]
  },
  {
   "cell_type": "code",
   "execution_count": 26,
   "metadata": {},
   "outputs": [
    {
     "data": {
      "text/plain": [
       "(80, 28)"
      ]
     },
     "execution_count": 26,
     "metadata": {},
     "output_type": "execute_result"
    }
   ],
   "source": [
    "np.shape(K_UP)"
   ]
  },
  {
   "attachments": {},
   "cell_type": "markdown",
   "metadata": {},
   "source": [
    "# Post-processing"
   ]
  },
  {
   "cell_type": "code",
   "execution_count": 27,
   "metadata": {},
   "outputs": [],
   "source": [
    "def element_post_process(NL, EL, ENL):\n",
    "\n",
    "    PD = np.size(NL, 1)\n",
    "    NoE = np.size(EL, 0)\n",
    "    NPE = np.size(EL, 1)\n",
    "    if NPE == 3:\n",
    "        GPE = 1\n",
    "    if NPE == 4:\n",
    "        GPE = 4\n",
    "    # NoE = specified element\n",
    "    # NPE = specified node in this element\n",
    "    # PD = specifies x and y components\n",
    "    # 1 = added to make the structure clear\n",
    "    # Stress should be plotted using Gauss points\n",
    "\n",
    "    disp = np.zeros([NoE, NPE, PD, 1]) \n",
    "    stress = np.zeros([NoE,GPE,PD,PD])\n",
    "    strain = np.zeros([NoE,GPE,PD,PD])\n",
    "\n",
    "    for e in range(1, NoE+1):\n",
    "        nl = EL[e-1,0:NPE]\n",
    "\n",
    "        # assign displacements to nodes\n",
    "        for i in range(1,NPE+1):\n",
    "            for j in range(1,PD+1):\n",
    "                disp[e-1,i-1,j-1,0] = ENL[int(nl[i-1]-1),4*PD+j-1]\n",
    "        \n",
    "        # specify corners\n",
    "        x = np.zeros([NPE,PD])\n",
    "        x[0:NPE,0:PD] = NL[nl[0:NPE]-1,0:PD]\n",
    "    \n",
    "        # specify corner displacement\n",
    "        u = np.zeros([PD, NPE])\n",
    "        for i in range(1,NPE+1):\n",
    "            for j in range(1,PD+1):\n",
    "                u[j-1,i-1] = ENL[int(nl[i-1]-1),4*PD+j-1]\n",
    "        \n",
    "        # Do Gaus interpolation\n",
    "        coor = x.T\n",
    "        for gp in range(1,GPE+1):\n",
    "\n",
    "            epsilon = np.zeros([PD,PD])\n",
    "            for i in range(1, NPE+1):\n",
    "                J = np.zeros([PD,PD])\n",
    "                grad = np.zeros([PD, NPE])\n",
    "                (xi, eta, alpha) = GaussPoint(NPE, GPE, gp)\n",
    "                grad_nat = grad_N_nat(NPE, xi, eta)\n",
    "                J = coor @ grad_nat.T\n",
    "                grad = np.linalg.inv(J).T @ grad_nat\n",
    "\n",
    "                # Calculate strain\n",
    "                epsilon = epsilon + 1/2*(dyad(grad[:,i-1],u[:,i-1]\n",
    "                                            ) + dyad(u[:,i-1],grad[:,i-1]))\n",
    "            \n",
    "            # Calculate stress\n",
    "            sigma = np.zeros([PD,PD])\n",
    "            for a in range(1,PD+1):\n",
    "                for b in range(1,PD+1):\n",
    "                    for c in range(1,PD+1):\n",
    "                        for d in range(1,PD+1):\n",
    "                            sigma[a-1,b-1] = sigma[a-1,b-1] + constitutive(a,b,c,d\n",
    "                                                    ) * epsilon[c-1,d-1]\n",
    "            for a in range(1,PD+1):\n",
    "                for b in range(1,PD+1):\n",
    "                    strain[e-1,gp-1,a-1,b-1] = epsilon[a-1,b-1]\n",
    "                    stress[e-1,gp-1,a-1,b-1] = sigma[a-1,b-1] \n",
    "\n",
    "    return disp, stress, strain\n",
    "\n",
    "def post_process(NL, EL, ENL):\n",
    "\n",
    "    PD = np.size(NL, 1)\n",
    "    NoE = np.size(EL, 0)\n",
    "    NPE = np.size(EL, 1)\n",
    "    scale = 0.1 # magnify deflection - here low E so not really needed\n",
    "\n",
    "    disp, stress, strain = element_post_process(NL, EL, ENL)\n",
    "\n",
    "    stress_xx = np.zeros([NPE,NoE])\n",
    "    stress_xy = np.zeros([NPE,NoE])\n",
    "    stress_yx = np.zeros([NPE,NoE])\n",
    "    stress_yy = np.zeros([NPE,NoE])\n",
    "\n",
    "    strain_xx = np.zeros([NPE,NoE])\n",
    "    strain_xy = np.zeros([NPE,NoE])\n",
    "    strain_yx = np.zeros([NPE,NoE])\n",
    "    strain_yy = np.zeros([NPE,NoE])\n",
    "\n",
    "    disp_x = np.zeros([NPE,NoE])\n",
    "    disp_y = np.zeros([NPE,NoE])\n",
    "\n",
    "    X = np.zeros([NPE,NoE])\n",
    "    Y = np.zeros([NPE,NoE])\n",
    "\n",
    "    if NPE in [3,4]:\n",
    "\n",
    "        X = ENL[EL-1,0] + scale*ENL[EL-1,4*PD]\n",
    "        Y = ENL[EL-1,1] + scale*ENL[EL-1,4*PD+1]\n",
    "        X = X.T\n",
    "        Y = Y.T\n",
    "\n",
    "        stress_xx = stress[:,:,0,0].T\n",
    "        stress_xy = stress[:,:,0,1].T\n",
    "        stress_yx = stress[:,:,1,0].T\n",
    "        stress_yy = stress[:,:,1,1].T\n",
    "\n",
    "        strain_xx = strain[:,:,0,0].T\n",
    "        strain_xy = strain[:,:,0,1].T\n",
    "        strain_yx = strain[:,:,1,0].T\n",
    "        strain_yy = strain[:,:,1,1].T\n",
    "\n",
    "        disp_x = disp[:,:,0,0].T\n",
    "        disp_y = disp[:,:,0,0].T\n",
    "\n",
    "        stress_xx = stress[:,:,0,0].T\n",
    "        stress_xx = stress[:,:,1,0].T\n",
    "\n",
    "    return (stress_xx, stress_xy,  stress_yx, stress_yy, strain_xx, strain_xy,\n",
    "            strain_yx, strain_yy, disp_x, disp_y, X, Y)\n",
    "\n",
    "def dyad(u,v):\n",
    "    u = u.reshape(len(v),1)\n",
    "    v = v.reshape(len(v),1)\n",
    "    A = u @ v.T\n",
    "    return A"
   ]
  },
  {
   "cell_type": "code",
   "execution_count": 28,
   "metadata": {},
   "outputs": [],
   "source": [
    "# Post-processing and plotting\n",
    "(stress_xx, stress_xy, stress_yx, stress_yy, strain_xx, strain_xy,\n",
    " strain_yx, strain_yy, disp_x, disp_y, X, Y) = post_process(NL, EL, ENL)\n",
    "\n",
    "disp_xNormalized = (disp_x - disp_x.min()) / (disp_x.max() - disp_x.min())\n",
    "\n",
    "import matplotlib.colors as mcolors\n",
    "def truncate_colormap(cmap, minval=0.0, maxval=1.0, n=-1):\n",
    "    if n == -1:\n",
    "        n = cmap.N\n",
    "    new_cmap = mcolors.LinearSegmentedColormap.from_list(\n",
    "        'trunc({name},{a:.2f},{b:.2f})'.format(name=cmap.name, a=minval, b=maxval),\n",
    "        cmap(np.linspace(minval,maxval,n)))\n",
    "    return new_cmap"
   ]
  },
  {
   "cell_type": "code",
   "execution_count": 29,
   "metadata": {},
   "outputs": [
    {
     "data": {
      "image/png": "[encoded data removed]",
      "text/plain": [
       "<Figure size 640x480 with 2 Axes>"
      ]
     },
     "metadata": {},
     "output_type": "display_data"
    }
   ],
   "source": [
    "fig_1 =  plt.figure(1)\n",
    "plt.title('Displacement X')\n",
    "axdisp_x = fig_1.add_subplot(111)\n",
    "\n",
    "for i in range(np.size(EL,0)):\n",
    "    x = X[:,i]\n",
    "    y = Y[:,i]\n",
    "    c = disp_xNormalized[:,i]\n",
    "    # gouraud smoothes the results\n",
    "    cmap = truncate_colormap(plt.get_cmap('jet'),c.min(),c.max())\n",
    "    t = axdisp_x.tripcolor( x,y,c,cmap=cmap, shading='gouraud')\n",
    "    p = axdisp_x.plot(x,y,'k-',lw=0.5)\n"
   ]
  },
  {
   "attachments": {},
   "cell_type": "markdown",
   "metadata": {},
   "source": [
    "## Exercise\n",
    "\n",
    "Modify the geometry of the problem and boundary conditions to solve the following cantiliver beam with hollow cross section.\n",
    "\n",
    "<center><img src=\"https://github.com/TUDelft-CITG/ComModHOS/blob/main/book/images/Module5/exercise.png?raw=true\" width=\"400\" /></center>"
   ]
  },
  {
   "attachments": {},
   "cell_type": "markdown",
   "metadata": {},
   "source": []
  }
 ],
 "metadata": {
  "kernelspec": {
   "display_name": "Python 3",
   "language": "python",
   "name": "python3"
  },
  "language_info": {
   "codemirror_mode": {
    "name": "ipython",
    "version": 3
   },
   "file_extension": ".py",
   "mimetype": "text/x-python",
   "name": "python",
   "nbconvert_exporter": "python",
   "pygments_lexer": "ipython3",
   "version": "3.10.11"
  },
  "vscode": {
   "interpreter": {
    "hash": "cbd884b27ce8a521f14a4395d2fc856cd6c799b684d9efdb8253cb562c6eeba0"
   }
  }
 },
 "nbformat": 4,
 "nbformat_minor": 2
}
