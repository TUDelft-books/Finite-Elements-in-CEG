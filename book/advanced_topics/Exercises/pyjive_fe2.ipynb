{
 "cells": [
  {
   "cell_type": "markdown",
   "id": "d36f341c-9c28-4db3-bbbc-73f718ad961f",
   "metadata": {},
   "source": [
    "### Preliminaries"
   ]
  },
  {
   "cell_type": "code",
   "execution_count": null,
   "id": "c796dda8-d59e-4009-bdf0-49c733c0cc52",
   "metadata": {},
   "outputs": [],
   "source": [
    "import sys\n",
    "import numpy as np\n",
    "sys.path.append('../..')\n",
    "\n",
    "import main\n",
    "from utils import proputils as pu\n",
    "from names import GlobNames as gn\n",
    "\n",
    "%matplotlib widget"
   ]
  },
  {
   "cell_type": "markdown",
   "id": "de042132-00b5-45f9-b73c-73e49f81d644",
   "metadata": {},
   "source": [
    "### Read macro input file"
   ]
  },
  {
   "cell_type": "code",
   "execution_count": null,
   "id": "49a4d10d-7d90-4ea2-9084-bca0eae9d73b",
   "metadata": {},
   "outputs": [],
   "source": [
    "props = pu.parse_file('macro.pro')\n"
   ]
  },
  {
   "cell_type": "markdown",
   "id": "b3e6ade9-eb22-4261-904c-006376fd9495",
   "metadata": {},
   "source": [
    "### Solve two-scale problem"
   ]
  },
  {
   "cell_type": "code",
   "execution_count": null,
   "id": "bc19c9d2-8930-466c-b8b2-9f086d248ee0",
   "metadata": {},
   "outputs": [],
   "source": [
    "globdat = main.jive(props)"
   ]
  },
  {
   "cell_type": "markdown",
   "id": "41197c9e-650c-4409-993c-77c4dab5057a",
   "metadata": {},
   "source": [
    "### Visualize macro-scale results"
   ]
  },
  {
   "cell_type": "code",
   "execution_count": null,
   "id": "f9e6d929",
   "metadata": {},
   "outputs": [],
   "source": [
    "viewmodule = globdat[gn.MODULEFACTORY].get_module('View','view')\n",
    "\n",
    "viewprops = { 'view': {}}\n",
    "viewprops['view']['plot'] = 'solution[dx]'\n",
    "viewprops['view']['interactive'] = 'True'\n",
    "viewprops['view']['constantLevels'] = 'False'\n",
    "viewprops['view']['constantTicks'] = 'True'\n",
    "viewprops['view']['step0'] = 4\n",
    "viewprops['view']['ncolors'] = 10\n",
    "\n",
    "viewmodule.init(viewprops, globdat)\n",
    "viewmodule.plot(globdat)"
   ]
  },
  {
   "cell_type": "markdown",
   "id": "63ca2004-c82e-4045-9944-6f6201eb48d5",
   "metadata": {},
   "source": [
    "### Visualize microscale results"
   ]
  },
  {
   "cell_type": "code",
   "execution_count": null,
   "id": "453805cc-f155-4793-a589-9182c7b01742",
   "metadata": {},
   "outputs": [],
   "source": [
    "microglobdats = globdat[gn.MODEL]._models[0]._mat._globdats"
   ]
  },
  {
   "cell_type": "code",
   "execution_count": null,
   "id": "76abf9db-9822-456d-8f09-9322939fbc7f",
   "metadata": {},
   "outputs": [],
   "source": [
    "viewmodule.init(viewprops, microglobdats[0])\n",
    "viewmodule.plot(microglobdats[0])"
   ]
  },
  {
   "cell_type": "code",
   "execution_count": null,
   "id": "80b54130-ee61-4643-90f5-4dfe88324af4",
   "metadata": {},
   "outputs": [],
   "source": []
  }
 ],
 "metadata": {
  "kernelspec": {
   "display_name": "Python 3 (ipykernel)",
   "language": "python",
   "name": "python3"
  },
  "language_info": {
   "codemirror_mode": {
    "name": "ipython",
    "version": 3
   },
   "file_extension": ".py",
   "mimetype": "text/x-python",
   "name": "python",
   "nbconvert_exporter": "python",
   "pygments_lexer": "ipython3",
   "version": "3.10.12"
  },
  "vscode": {
   "interpreter": {
    "hash": "2f56e53acab938e533261baa35aac2c581caa9f2f4a01ed69448e50e809c0ddc"
   }
  }
 },
 "nbformat": 4,
 "nbformat_minor": 5
}
