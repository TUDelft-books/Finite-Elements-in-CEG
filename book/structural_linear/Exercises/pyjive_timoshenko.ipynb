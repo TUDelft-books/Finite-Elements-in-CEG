{
 "cells": [
  {
   "cell_type": "markdown",
   "id": "fcb2dc0d",
   "metadata": {},
   "source": [
    "# TimoshenkoModel: mesh-refinement study"
   ]
  },
  {
   "cell_type": "code",
   "execution_count": null,
   "id": "c74ddbfd",
   "metadata": {
    "tags": []
   },
   "outputs": [],
   "source": [
    "import sys\n",
    "import os \n",
    "import matplotlib.pyplot as plt\n",
    "import numpy as np\n",
    "\n",
    "pyjivepath = '../../../pyjive/'\n",
    "sys.path.append(pyjivepath)\n",
    "\n",
    "if not os.path.isfile(pyjivepath + 'utils/proputils.py'):\n",
    "    print('\\n\\n**pyjive cannot be found, adapt \"pyjivepath\" above or move notebook to appropriate folder**\\n\\n')\n",
    "    raise Exception('pyjive not found')\n",
    "\n",
    "from utils import proputils as pu\n",
    "import main\n",
    "from names import GlobNames as gn"
   ]
  },
  {
   "cell_type": "code",
   "execution_count": null,
   "id": "a64dd914-547e-4600-84e0-65f9e8b05fdb",
   "metadata": {},
   "outputs": [],
   "source": [
    "import contextlib\n",
    "from urllib.request import urlretrieve\n",
    "\n",
    "def findfile(fname):\n",
    "    url = \"https://gitlab.tudelft.nl/cm/public/drive/-/raw/main/structural/\" + fname + \"?inline=false\"\n",
    "    if not os.path.isfile(fname):\n",
    "        print(f\"Downloading {fname}...\")\n",
    "        urlretrieve(url, fname)\n",
    "\n",
    "findfile(\"timoshenko.mesh\")\n",
    "findfile(\"timoshenko.pro\")"
   ]
  },
  {
   "cell_type": "markdown",
   "id": "ec3ab11c-4691-40ae-97ba-8b8e2aaf8347",
   "metadata": {},
   "source": [
    "### Cantilever beam example\n",
    "\n",
    "Consider the following model of a cantilever beam:\n",
    "\n",
    "<center><img src=\"https://raw.githubusercontent.com/fmeer/public-files/main/5123/cantilever.png\" alt=\"cantilever beam\" width=\"300\"/></center>\n",
    "\n",
    "with $EI=2\\cdot 10^4\\,\\mathrm{Nm}^2$, $GA_\\mathrm{s} = 10^5\\,\\mathrm{N}$ and $P=1\\,\\mathrm{N}$.\n",
    "\n",
    "The goal here is to examine the response of the finite element solution by considering the vertical displacement $w$ under the point of application of the load $P$ and compare it with the analytical solution:\n",
    "\n",
    "$$w(L)=\\frac{PL^3}{3EI}+\\frac{PL}{GA_\\mathrm{s}}$$\n",
    "\n",
    "Run the example with input file and mesh file given below and compare your results to the analytical solution."
   ]
  },
  {
   "cell_type": "code",
   "execution_count": null,
   "id": "adb30f49-9a44-4107-9eec-6ea29add85f9",
   "metadata": {
    "tags": []
   },
   "outputs": [],
   "source": [
    "props = pu.parse_file('timoshenko.pro')\n",
    "globdat = main.jive(props)"
   ]
  },
  {
   "cell_type": "markdown",
   "id": "a9beef22-2159-404f-8f56-d176fb02b58b",
   "metadata": {},
   "source": [
    "<div style=\"background-color:#AABAB2; color: black; vertical-align: middle; padding:15px; margin: 10px; border-radius: 10px\">\n",
    "<p>\n",
    "<b>Task 1: Run code block above and inspect results</b>   \n",
    "    \n",
    "- The solution vector is stored in `globdat[gn.STATE0]`. This contains values for all DOFs. Investigate which entry is the displacement at the loaded point and compare its value to the analytical solution. \n",
    "\n",
    "- Plot the vertical displacement $w$ as function of $x$. Find the values from `globdat[gn.STATE0]`, construct an array with $x$-values (e.g. with `np.linspace`), and use `matplotlib` to create a plot. Can you do the same for rotations?\n",
    "</p>\n",
    "</div>"
   ]
  },
  {
   "cell_type": "markdown",
   "id": "6a63a5b1-21e7-4ffe-9234-2914237868c8",
   "metadata": {},
   "source": [
    "### Mesh-refinement study\n",
    "\n",
    "Now we will perform an investigation in how the mesh affects the solution. We can expect the solution to become more accurate when using more elements. Since we have an analytical solution for the end displacement, we can assess how the difference between FEM solution and the exact solution changes when increasing the number of elements. Additionally, we can look at the solution $w(x)$ for different mesh sizes. \n",
    "\n",
    "An almost complete code block is provided below. \n",
    "\n",
    "<div style=\"background-color:#AABAB2; color: black; vertical-align: middle; padding:15px; margin: 10px; border-radius: 10px\">\n",
    "<p>\n",
    "<b>Task 2: Perform the mesh-refinement study</b>   \n",
    "\n",
    "Compare the end-displacement for different meshes. The comparisons should be made by producing numerical results with **1, 2, 4, 8, 16 and 32 elements** and drawing conclusions in terms of accuracy and convergence behavior for the two distinct scenarios below. \n",
    "    \n",
    "- Compute the error as the absolute difference between the simulation result and the analytical solution for $w(L)$. Note that `w_exact` is already computed in the notebook. \n",
    "- After running the cell results in two figures. One shows $w(x)$ for the different meshes. What is in the other plot? \n",
    "    \n",
    "</p>\n",
    "</div>\n",
    "    "
   ]
  },
  {
   "cell_type": "code",
   "execution_count": null,
   "id": "c934f381-3c77-404e-b1c0-ed9bb69d8f94",
   "metadata": {},
   "outputs": [],
   "source": [
    "# function that creates the mesh file\n",
    "def mesher(L,n):\n",
    "    dx = L / n\n",
    "    with open('newmesh.mesh', 'w') as fmesh:\n",
    "        fmesh.write('nodes (ID, x, [y], [z])\\n')\n",
    "        for i in range(n + 1):\n",
    "            fmesh.write('%d %f\\n' % (i, i * dx))\n",
    "        fmesh.write('elements (node#1, node#2, [node#3, ...])\\n')\n",
    "        for i in range(n):\n",
    "            fmesh.write('%d %d\\n' % (i, i + 1))\n",
    "    return globdat   \n",
    "\n",
    "# initializations\n",
    "number_elements = [1, 2, 4, 8, 16, 32];\n",
    "L = 10\n",
    "P = 1\n",
    "EI = float(props['model']['timoshenko']['EI'])\n",
    "GA = float(props['model']['timoshenko']['GAs'])\n",
    "w_exact = P*L**3/3/EI + P*L/GA\n",
    "props['init']['mesh']['file'] = 'newmesh.mesh'\n",
    "plt.figure()\n",
    "errors = []\n",
    "\n",
    "# loop over different mesh sizes\n",
    "for ne in number_elements:\n",
    "    print('\\n\\nRunning model with',ne,'elements')\n",
    "    mesher(L,ne)\n",
    "    globdat = main.jive(props) \n",
    "    solution = globdat[gn.STATE0]\n",
    "    plt.plot(np.linspace(0,L,ne+1),solution[ne+1:],label=str(ne) + ' elements')\n",
    "    err =  1# evaluate the error here \n",
    "    errors.append(err)\n",
    "\n",
    "plt.xlabel('Position [m]')\n",
    "plt.ylabel('Displacement [m]')\n",
    "plt.legend()\n",
    "plt.show()\n",
    "\n",
    "plt.figure()\n",
    "plt.loglog(number_elements,errors)\n",
    "plt.xlabel('Number of elements')\n",
    "plt.ylabel('Error [m]')\n",
    "plt.show()"
   ]
  },
  {
   "cell_type": "markdown",
   "id": "74c8855c",
   "metadata": {},
   "source": [
    "### Improve the convergence\n",
    "The analysis shown above suffers from shear locking. Recall from the lecture how this can be fixed and try to improve the convergence behavior of the beam. \n",
    "\n",
    "<div style=\"background-color:#AABAB2; color: black; vertical-align: middle; padding:15px; margin: 10px; border-radius: 10px\">\n",
    "<p>\n",
    "<b>Task 3: Demonstrate the influence of removing shear locking</b>   \n",
    "\n",
    "Repeat the mesh-refinement study with a modification to your model and compare the accuracy with the results above.\n",
    "- Overwrite one of the entries in `props` to use a locking-free element. Make the change in the notebook rather than in `timoshenko.pro` to keep the ability to rerun previous cells.\n",
    "- How is the convergence of the finite element solution to the exact solution affected?\n",
    "</p>\n",
    "</div>"
   ]
  },
  {
   "cell_type": "code",
   "execution_count": null,
   "id": "13775d1e-880d-4ffa-87d7-069d2d290508",
   "metadata": {},
   "outputs": [],
   "source": [
    "# initializations\n",
    "plt.figure()\n",
    "errors_new = []\n",
    "\n",
    "# loop over different mesh sizes\n",
    "for ne in number_elements:\n",
    "    print('\\n\\nRunning model with',ne,'elements')\n",
    "    mesher(L,ne)\n",
    "    globdat = main.jive(props) \n",
    "    solution = globdat[gn.STATE0]\n",
    "    plt.plot(np.linspace(0,L,ne+1),solution[ne+1:],label=str(ne) + ' elements')\n",
    "    err = abs(globdat[gn.STATE0][-1]-w_exact)  # evaluate the error here\n",
    "    errors_new.append(err)\n",
    "\n",
    "plt.xlabel('Position [m]')\n",
    "plt.ylabel('Displacement [m]')\n",
    "plt.legend()\n",
    "plt.show()\n",
    "\n",
    "plt.figure()\n",
    "plt.loglog(number_elements,errors,label='old')\n",
    "plt.loglog(number_elements,errors_new,label='new')\n",
    "plt.xlabel('Number of elements')\n",
    "plt.ylabel('Error [m]')\n",
    "plt.legend()\n",
    "plt.show()"
   ]
  },
  {
   "cell_type": "markdown",
   "id": "4f91d123-9fd2-4cc8-af84-a9fd247622e5",
   "metadata": {},
   "source": [
    "### Slenderness and shear locking\n",
    "\n",
    "<div style=\"background-color:#AABAB2; color: black; vertical-align: middle; padding:15px; margin: 10px; border-radius: 10px\">\n",
    "<p>\n",
    "<b>Task 4: Repeat with different slenderness</b>\n",
    "\n",
    "Change $EI$ and/or $GA_\\mathrm{s}$ in the input file to change the slenderness of the beam. You can check with the analytical solution how big the influence of shear deformation is on the total deflection for any given pair of inputs. Setting $GA_\\mathrm{s}$ very high, you will approach the slender limit. Setting $EI$ very high will make the problem into a shear-dominated problem. \n",
    "    \n",
    "This notebook has been designed such that the exact solution is updated when you change $EI$ and $GA_\\mathrm{s}$ in `timoshenko.pro`. So you can just change the settings and rerun the complete notebook.\n",
    "</p>\n",
    "</div>"
   ]
  },
  {
   "cell_type": "code",
   "execution_count": null,
   "id": "91b2c3f9-ebb0-435f-b410-1cc48abccecb",
   "metadata": {},
   "outputs": [],
   "source": []
  }
 ],
 "metadata": {
  "kernelspec": {
   "display_name": "Python 3 (ipykernel)",
   "language": "python",
   "name": "python3"
  },
  "language_info": {
   "codemirror_mode": {
    "name": "ipython",
    "version": 3
   },
   "file_extension": ".py",
   "mimetype": "text/x-python",
   "name": "python",
   "nbconvert_exporter": "python",
   "pygments_lexer": "ipython3",
   "version": "3.10.12"
  }
 },
 "nbformat": 4,
 "nbformat_minor": 5
}
