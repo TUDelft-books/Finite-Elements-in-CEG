{
 "cells": [
  {
   "cell_type": "markdown",
   "id": "f88c7dcb-4480-478a-8d37-8387a4b8bf28",
   "metadata": {},
   "source": [
    "# Pyjive workshop: FrameModel"
   ]
  },
  {
   "cell_type": "code",
   "execution_count": null,
   "id": "2e95ee22-111e-4405-97a0-89e7cd35ed9f",
   "metadata": {},
   "outputs": [],
   "source": [
    "import sys\n",
    "import os \n",
    "import matplotlib.pyplot as plt\n",
    "\n",
    "pyjivepath = '../../../pyjive/'\n",
    "sys.path.append(pyjivepath)\n",
    "\n",
    "if not os.path.isfile(pyjivepath + 'utils/proputils.py'):\n",
    "    print('\\n\\n**pyjive cannot be found, adapt \"pyjivepath\" above or move notebook to appropriate folder**\\n\\n')\n",
    "    raise Exception('pyjive not found')\n",
    "\n",
    "from utils import proputils as pu\n",
    "import main\n",
    "from names import GlobNames as gn"
   ]
  },
  {
   "cell_type": "code",
   "execution_count": null,
   "id": "2b502230-8b44-402a-a436-84ce9aae9322",
   "metadata": {},
   "outputs": [],
   "source": [
    "import contextlib\n",
    "from urllib.request import urlretrieve\n",
    "\n",
    "def findfile(fname):\n",
    "    url = \"https://gitlab.tudelft.nl/cm/public/drive/-/raw/main/structural/\" + fname + \"?inline=false\"\n",
    "    if not os.path.isfile(fname):\n",
    "        print(f\"Downloading {fname}...\")\n",
    "        urlretrieve(url, fname)\n",
    "\n",
    "findfile(\"vierendeel.geom\")\n",
    "findfile(\"vierendeel.pro\")\n",
    "findfile(\"frame.geom\")\n",
    "findfile(\"frame.pro\")"
   ]
  },
  {
   "cell_type": "markdown",
   "id": "689c47c0-1d41-442b-821c-896949e984a3",
   "metadata": {},
   "source": [
    "<div style=\"background-color:#AABAB2; color: black; vertical-align: middle; padding:15px; margin: 10px; border-radius: 10px\">\n",
    "<p>\n",
    "<b>Task 1: Run predefined problems</b>   \n",
    "\n",
    "Familiarize yourself with the `FrameModel` and the `FrameViewModule` with the two problems for which input files are provided.\n",
    "</p>\n",
    "</div>"
   ]
  },
  {
   "cell_type": "markdown",
   "id": "301119da-5235-4e48-8c02-aa5fc4fdefae",
   "metadata": {},
   "source": [
    "### Simple frame analysis"
   ]
  },
  {
   "cell_type": "markdown",
   "id": "b01a646b-0666-4b67-af94-adf1fcea895a",
   "metadata": {},
   "source": [
    "We first analyze a simple frame structure with a point load. Two input files are used: \n",
    "- `frame.pro`: The usual input file for pyjive specifying all problem settings\n",
    "- `frame.geo`: Instead of a mesh file, a higher level geometry file is used for frame structures. In this file the frame geometry is defined, as well as the number of elements per structural member from which the finite element mesh is created by the `InitModule`."
   ]
  },
  {
   "cell_type": "code",
   "execution_count": null,
   "id": "3565a207-1684-4522-b8d6-df77bccc7bcc",
   "metadata": {},
   "outputs": [],
   "source": [
    "plt.close('all')\n",
    "props = pu.parse_file('frame.pro')\n",
    "globdat = main.jive(props)\n"
   ]
  },
  {
   "cell_type": "markdown",
   "id": "looking-moisture",
   "metadata": {},
   "source": [
    "### Vierendeel beam\n",
    "Next, we perform analysis on a vierendeel beam"
   ]
  },
  {
   "cell_type": "code",
   "execution_count": null,
   "id": "successful-phrase",
   "metadata": {
    "scrolled": true
   },
   "outputs": [],
   "source": [
    "plt.close('all')\n",
    "props = pu.parse_file('vierendeel.pro')\n",
    "globdat = main.jive(props)"
   ]
  },
  {
   "cell_type": "markdown",
   "id": "sensitive-grove",
   "metadata": {},
   "source": [
    "To inspect some more results, we can create a new `FrameViewModule` with properties that are defined in the notebook rather than in the `.pro` file. Below we will plot normal force and moment lines in the undeformed mesh. "
   ]
  },
  {
   "cell_type": "code",
   "execution_count": null,
   "id": "metallic-backing",
   "metadata": {},
   "outputs": [],
   "source": [
    "fv = globdat[gn.MODULEFACTORY].get_module('FrameView','fv')\n",
    "\n",
    "props['fv'] = {}\n",
    "props['fv']['plotStress'] = 'N'\n",
    "props['fv']['deform'] = 0\n",
    "props['fv']['interactive'] = 'False'\n",
    "props['fv']['step0'] = 0\n",
    "\n",
    "fv.init(props, globdat)\n",
    "status = fv.run(globdat)\n",
    "fv.shutdown(globdat)\n",
    "\n",
    "props['fv']['plotStress'] = 'M'\n",
    "fv.init(props, globdat)\n",
    "status = fv.run(globdat)\n",
    "fv.shutdown(globdat)\n",
    "\n"
   ]
  },
  {
   "cell_type": "markdown",
   "id": "a085b432-5242-43fb-a066-609421e69875",
   "metadata": {},
   "source": [
    "### House-shaped frame\n",
    "\n",
    "<div style=\"background-color:#AABAB2; color: black; vertical-align: middle; padding:15px; margin: 10px; border-radius: 10px\">\n",
    "<p>\n",
    "<b>Task 2: Set up your own problem</b>   \n",
    "\n",
    "Next, define a set of input files (`.pro` and `.geom`) to perform linear analysis of the frame given below. Not all parameters in the figure are relevant for the linear problem. This case will be revisited in other exercises.\n",
    "\n",
    "</p>\n",
    "</div>\n",
    "\n",
    "<center><img src=\"https://raw.githubusercontent.com/fmeer/public-files/main/5123/stabilityFrame.png\" alt=\"beam\" width=\"250\"/></center>\n"
   ]
  },
  {
   "cell_type": "code",
   "execution_count": null,
   "id": "stock-joyce",
   "metadata": {},
   "outputs": [],
   "source": []
  }
 ],
 "metadata": {
  "kernelspec": {
   "display_name": "Python 3 (ipykernel)",
   "language": "python",
   "name": "python3"
  },
  "language_info": {
   "codemirror_mode": {
    "name": "ipython",
    "version": 3
   },
   "file_extension": ".py",
   "mimetype": "text/x-python",
   "name": "python",
   "nbconvert_exporter": "python",
   "pygments_lexer": "ipython3",
   "version": "3.10.12"
  }
 },
 "nbformat": 4,
 "nbformat_minor": 5
}
