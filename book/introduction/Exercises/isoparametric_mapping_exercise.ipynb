{
 "cells": [
  {
   "cell_type": "markdown",
   "id": "e9d1ff8c",
   "metadata": {},
   "source": [
    "# Coding isoparametric mapping\n",
    "\n",
    "In this notebook an implementation is provided of numerical integration with isoparametric mapping. At the end some tasks are defined for exploring how isoparametric mapping works. Try to look at the code and understands what happens at the various steps. Go back over to the theory provided in the earlier pages if you cannot follow along. \n",
    "\n",
    "After you have been over the whole page, you can test yourself by building the function `numerical_integration` with the functions implemented. \n",
    "\n",
    "In this exercise the following codeblocks are used as a basis for the function `numerical_integration`:\n",
    "- the physical coordinates of one of the integration points\n",
    "- the shape function derivatives, first $\\frac{dN}{dx}$  and $\\frac{dN}{dy}$\n",
    "- the jacobian matrix\n",
    "- the stiffness matrix for 2D poisson, using codes from previous blocks\n",
    "\n",
    "Then an example is shown using the function `numerical_integration` for a quadrilateral element in 2D for Poisson. This element is also plotted using the physical and reference coordinates.\n",
    "\n",
    "After you have seen the implementation, it is up to you to answer some questions. The solutions are provided as well.\n",
    "\n",
    "$\\newcommand{\\pder}[2]{\\frac{\\partial #1}{\\partial #2}}$\n",
    "$\\newcommand{\\hpder}[2]{\\displaystyle\\frac{\\partial #1}{\\partial #2}}$\n"
   ]
  },
  {
   "cell_type": "code",
   "execution_count": null,
   "id": "d46bf5b4",
   "metadata": {
    "tags": [
     "auto-execute-page",
     "thebe-remove-input-init"
    ]
   },
   "outputs": [],
   "source": [
    "# Import dependencies\n",
    "import numpy as np\n",
    "import matplotlib.pyplot as plt"
   ]
  },
  {
   "cell_type": "markdown",
   "id": "6d1d2042",
   "metadata": {},
   "source": [
    "## Physical coordinates\n",
    "\n",
    "For two natural coordinates $\\xi$ and $\\eta$, the reference quad is defined over the domain $(\\xi\\in[-1,1],\\eta\\in[-1,1])$ and its physical counterpart is arbitrarily positioned in 2D space with nodal coordinates $(x_i,y_i),\\ i=1\\ldots4$. Shape functions are defined for  the reference element as:\n",
    "\n",
    "$$\n",
    "N_1 = \\frac14(1-\\xi)(1-\\eta) \\\\\n",
    "N_2 = \\frac14(1+\\xi)(1-\\eta) \\\\\n",
    "N_3 = \\frac14(1+\\xi)(1+\\eta) \\\\\n",
    "N_4 = \\frac14(1-\\xi)(1+\\eta) \\\\\n",
    "$$\n",
    "\n",
    "The $(\\xi,\\eta)$-coordinates of any point inside the reference element are mapped to $(x,y)$-coordinates in physical space through a mapping:\n",
    "\n",
    "$$\n",
    "x(\\xi,\\eta) = \\sum_iN_i(\\xi,\\eta)x_i \\\\\n",
    "y(\\xi,\\eta) = \\sum_iN_i(\\xi,\\eta)y_i\n",
    "$$\n",
    "\n",
    "The implementation of this can be seen in the code below. Node that the coordinates are first extracted from a coordinate list using a coords function."
   ]
  },
  {
   "cell_type": "code",
   "execution_count": null,
   "id": "4bf48a57",
   "metadata": {
    "tags": [
     "thebe-init"
    ]
   },
   "outputs": [],
   "source": [
    "def coords(coordinates):\n",
    "        \n",
    "        # Nodal coordinates of the quadrilateral element\n",
    "        x1, y1 = coordinates[0]\n",
    "        x2, y2 = coordinates[1]\n",
    "        x3, y3 = coordinates[2]\n",
    "        x4, y4 = coordinates[3]\n",
    "        \n",
    "        x_coords = np.array([x1, x2, x3, x4])\n",
    "        y_coords = np.array([y1, y2, y3, y4])\n",
    "        \n",
    "        return x_coords, y_coords\n",
    "\n",
    "def physical_coordinates(coordinates, xi, eta):\n",
    "        \n",
    "        # Extract coordinates\n",
    "        x_coords, y_coords = coords(coordinates)\n",
    "\n",
    "        # Shape functions for a quadrilateral element\n",
    "        N_1 = 1/4 * (1 - xi) * (1 - eta)\n",
    "        N_2 = 1/4 * (1 + xi) * (1 - eta)\n",
    "        N_3 = 1/4 * (1 + xi) * (1 + eta)\n",
    "        N_4 = 1/4 * (1 - xi) * (1 + eta)\n",
    "            \n",
    "        # Calculate physical coordinates (x, y)\n",
    "        x = N_1 * x_coords[0] + N_2 * x_coords[1] + N_3 * x_coords[2] + N_4 * x_coords[3]\n",
    "        y = N_1 * y_coords[0] + N_2 * y_coords[1] + N_3 * y_coords[2] + N_4 * y_coords[3]\n",
    "        \n",
    "        return x, y"
   ]
  },
  {
   "cell_type": "markdown",
   "id": "dcc1e617",
   "metadata": {},
   "source": [
    "$\\renewcommand{\\pder}[2]{\\frac{\\partial #1}{\\partial #2}}$\n",
    "$\\renewcommand{\\hpder}[2]{\\displaystyle\\frac{\\partial #1}{\\partial #2}}$\n",
    "\n",
    "## Derivatives shape functions\n",
    "\n",
    "In order to create the Jacobian matrix, we first need to create the derivatives of the shape functions with respect to $\\xi$ and $\\eta$, which are $\\pder{N_i}{\\xi}$ and $\\pder{N_i}{\\eta} $."
   ]
  },
  {
   "cell_type": "code",
   "execution_count": null,
   "id": "84e573ac",
   "metadata": {
    "tags": [
     "thebe-init"
    ]
   },
   "outputs": [],
   "source": [
    "def shape_functions_derivatives(xi, eta):\n",
    "        \n",
    "        # Derivatives of shape functions with respect to xi\n",
    "        dN_dxi_1 = -1/4 * (1 - eta)\n",
    "        dN_dxi_2 = 1/4 * (1 - eta)\n",
    "        dN_dxi_3 = 1/4 * (1 + eta)\n",
    "        dN_dxi_4 = -1/4 * (1 + eta)\n",
    "\n",
    "        # Derivatives of shape functions with respect to eta\n",
    "        dN_deta_1 = -1/4 * (1 - xi)\n",
    "        dN_deta_2 = -1/4 * (1 + xi)\n",
    "        dN_deta_3 = 1/4 * (1 + xi)\n",
    "        dN_deta_4 = 1/4 * (1 - xi)\n",
    "        \n",
    "        ref_derivatives = np.array([[dN_dxi_1, dN_dxi_2, dN_dxi_3, dN_dxi_4],\n",
    "                                [dN_deta_1, dN_deta_2, dN_deta_3, dN_deta_4]])\n",
    "        \n",
    "        return ref_derivatives"
   ]
  },
  {
   "cell_type": "markdown",
   "id": "b66a101d",
   "metadata": {},
   "source": [
    "$\\renewcommand{\\pder}[2]{\\frac{\\partial #1}{\\partial #2}}$\n",
    "$\\renewcommand{\\hpder}[2]{\\displaystyle\\frac{\\partial #1}{\\partial #2}}$\n",
    "\n",
    "## Jacobian\n",
    "\n",
    "The Jacobian imatrix can now be defined as derivatives of physical coordinates with respect to natural coordinates:\n",
    "\n",
    "$$\n",
    "\\mathbf{J} = \\begin{bmatrix} \\hpder{x}{\\xi} & \\hpder{y}{\\xi} \\\\ \\hpder{x}{\\eta} & \\hpder{y}{\\eta} \\end{bmatrix} \\quad \\text{with} \\quad \\pder{x}{\\xi} = \\sum_i\\pder{N_i}{\\xi}x_i \\quad \\text{etc.}\n",
    "$$\n",
    "\n",
    "Note that not only $J$ but also the determinant of $J$ is returned."
   ]
  },
  {
   "cell_type": "code",
   "execution_count": null,
   "id": "e3326533",
   "metadata": {
    "tags": [
     "thebe-init"
    ]
   },
   "outputs": [],
   "source": [
    "def Jacobian(coordinates, ref_derivatives):\n",
    "        \n",
    "        # Extract coordinates\n",
    "        x_coords, y_coords = coords(coordinates) \n",
    "        \n",
    "        J = np.array([\n",
    "                [np.dot(ref_derivatives[0,:], x_coords),\n",
    "                 np.dot(ref_derivatives[0,:], y_coords)],\n",
    "                [np.dot(ref_derivatives[1,:], x_coords),\n",
    "                 np.dot(ref_derivatives[1,:], y_coords)]\n",
    "                ])\n",
    "        \n",
    "        return J"
   ]
  },
  {
   "cell_type": "markdown",
   "id": "812d64f6",
   "metadata": {},
   "source": [
    "$\\renewcommand{\\pder}[2]{\\frac{\\partial #1}{\\partial #2}}$\n",
    "$\\renewcommand{\\hpder}[2]{\\displaystyle\\frac{\\partial #1}{\\partial #2}}$\n",
    "\n",
    "We also would like to have the shape function derivatives with respect to $x$ and $y$. Thefore we need the inverse of the Jacobian matrix $J$.\n",
    "\n",
    "$$\n",
    "\\begin{bmatrix} \\hpder{N_i}{x} \\\\ \\hpder{N_i}{y} \\end{bmatrix} = \\mathbf{J}^{-1}\\begin{bmatrix} \\hpder{N_i}{\\xi} \\\\ \\hpder{N_i}{\\eta} \\end{bmatrix}\n",
    "$$"
   ]
  },
  {
   "cell_type": "code",
   "execution_count": null,
   "id": "f80019e3",
   "metadata": {
    "tags": [
     "thebe-init"
    ]
   },
   "outputs": [],
   "source": [
    "def shape_functions_xy(J, ref_derivatives):\n",
    "        \n",
    "        # Calculate the inverse of the Jacobian matrix\n",
    "        J_inv = np.linalg.inv(J)\n",
    "\n",
    "        # Derivatives of shape functions with respect to x and y\n",
    "        dN_dx = J_inv[0, 0] * ref_derivatives[0,:] + \\\n",
    "                J_inv[0, 1] * ref_derivatives[1,:]\n",
    "    \n",
    "        dN_dy = J_inv[1, 0] * ref_derivatives[0,:] + \\\n",
    "                J_inv[1, 1] * ref_derivatives[1,:]\n",
    "\n",
    "        return dN_dx, dN_dy"
   ]
  },
  {
   "cell_type": "markdown",
   "id": "c6c6609e",
   "metadata": {},
   "source": [
    "$\\renewcommand{\\pder}[2]{\\frac{\\partial #1}{\\partial #2}}$\n",
    "$\\renewcommand{\\hpder}[2]{\\displaystyle\\frac{\\partial #1}{\\partial #2}}$\n",
    "\n",
    "## Poisson in 2D\n",
    "\n",
    "For Poisson it has been learned that\n",
    "\n",
    "$$\n",
    "\\mathbf{Ku} = \\mathbf{f}\n",
    "$$\n",
    "\n",
    "in which:\n",
    "\n",
    "$$\n",
    "\\mathbf{K} = \\int_\\Omega \\mathbf{B}^T\\nu \\mathbf{B}\\,d\\Omega\n",
    "$$\n",
    "\n",
    "where:\n",
    "\n",
    "$$\n",
    "\\mathbf{B} = \\begin{bmatrix} \\frac{\\partial N_1}{\\partial x}, \\frac{\\partial N_2}{\\partial x}, \\ldots, \\frac{\\partial N_{n}}{\\partial x} \\\\ \\frac{\\partial N_1}{\\partial y}, \\frac{\\partial N_2}{\\partial y}, \\ldots, \\frac{\\partial N_{n}}{\\partial y} \\end{bmatrix}\n",
    "$$\n",
    "\n",
    "For the element matrix $\\mathbf{K}_e$ the matrices need to be evaluated at the different integration points and then summed whilst incorporating their different weights:\n",
    "\n",
    "$$ \\mathbf{K}_e = \\int_{Ω^ε}\\ f(x,y)dΩ   \\approx  \\sum_{i=1}^{n_{ip}} w_i f(x_i,y_i) $$"
   ]
  },
  {
   "cell_type": "code",
   "execution_count": null,
   "id": "7b42366d",
   "metadata": {
    "tags": [
     "thebe-init"
    ]
   },
   "outputs": [],
   "source": [
    "def B_element_matrix(dN_dx, dN_dy):\n",
    "    \n",
    "    B = np.zeros((2, len(dN_dx)))\n",
    "    \n",
    "    for i in range(len(dN_dx)):\n",
    "        B[0,i] = dN_dx[i]\n",
    "        B[1,i] = dN_dy[i]\n",
    "        \n",
    "    return B"
   ]
  },
  {
   "cell_type": "code",
   "execution_count": null,
   "id": "42d40df4",
   "metadata": {
    "tags": [
     "thebe-init"
    ]
   },
   "outputs": [],
   "source": [
    "def K_element_matrix(B, nu, J):\n",
    "    \n",
    "    detJ = np.linalg.det(J)\n",
    "    K = nu * np.dot(B.T, B) * detJ\n",
    "    \n",
    "    return K"
   ]
  },
  {
   "cell_type": "markdown",
   "id": "5a9bffc0",
   "metadata": {},
   "source": [
    "## Quadrilateral element in 2D for Poisson\n",
    "\n",
    "All the steps necessary to get to the element stiffness matrix $ \\mathbf{K}_{e} $ matrix can now be used. The only thing left for us to do is to combine it all in a logical order in a function. This has been implemented below in the function `numerical_integration`. The function needs as input the physical coordinates of the corner points of the element, poisson's ratio and the number of integration points. It returns the Jacobians at the different integration points, the $\\xi$- and $\\eta$-coordinates in the reference configuration of these integration points, and the corresponding weights of the element function. It also returns the physical coordinates of the integration points and the $ \\mathbf{K}_{e} $ matrix.\n",
    "\n",
    "```{Note}\n",
    "The number specified for $n_{ip}$ is the number of integration points for each axis. This means that for $n_{ip} = 2$, we actually have $2 \\cdot 2 = 4$ integration points. And for $n_{ip} = 7$ we have $7 \\cdot 7 = 49$ integration points.\n",
    "```"
   ]
  },
  {
   "cell_type": "code",
   "execution_count": null,
   "id": "5ecbd19a",
   "metadata": {
    "tags": [
     "thebe-init"
    ]
   },
   "outputs": [],
   "source": [
    "def numerical_integration(coordinates, nu, n_ip):\n",
    "    \n",
    "    x, w = np.polynomial.legendre.leggauss(n_ip)\n",
    "\n",
    "    gauss_pts = np.array(np.meshgrid(x,x,indexing='ij')).reshape(2,-1).T\n",
    "    xi_coords = np.zeros(len(gauss_pts))\n",
    "    eta_coords = np.zeros(len(gauss_pts))\n",
    "    weights = (w*w[:,None]).ravel()\n",
    "    K_element = np.zeros((4,4))\n",
    "    \n",
    "    x_coords = np.zeros(len(xi_coords))\n",
    "    y_coords = np.zeros(len(eta_coords))\n",
    "    Jacobians = np.zeros((len(weights), 2, 2))\n",
    "\n",
    "    for i in range(len(gauss_pts)):\n",
    "        xi_coords[i] = gauss_pts[i, 0]\n",
    "        eta_coords[i] = gauss_pts[i, 1]\n",
    "\n",
    "    for i in range(len(weights)):\n",
    "        xi = xi_coords[i]\n",
    "        eta = eta_coords[i]\n",
    "        weight = weights[i]\n",
    "        \n",
    "        x_coords[i], y_coords[i] = physical_coordinates(coordinates, xi, eta)\n",
    "        ref_derivatives = shape_functions_derivatives(xi, eta)\n",
    "        J = Jacobian(coordinates, ref_derivatives)\n",
    "        Jacobians[i] = J\n",
    "        dN_dx, dN_dy = shape_functions_xy(J, ref_derivatives)\n",
    "    \n",
    "        B_integration_point = B_element_matrix(dN_dx, dN_dy)\n",
    "        K_integration_point = K_element_matrix(B_integration_point, nu, J)\n",
    "        \n",
    "        K_element += weight * K_integration_point          \n",
    "\n",
    "    return Jacobians, xi_coords, eta_coords, x_coords, y_coords, K_element"
   ]
  },
  {
   "cell_type": "markdown",
   "id": "1ffa32bb",
   "metadata": {},
   "source": [
    "We can run the code when we define the input. Consider a distorted quadrilateral element with physical nodal coordinates:\n",
    "\n",
    "$\\mathbf{x}_1 = (0,0), \\quad\\mathbf{x}_2=(4,0), \\quad\\mathbf{x}_3 = (6,2), \\quad\\mathbf{x}_4 = (0,5)$, \n",
    "\n",
    "$\\nu = 0.2$, and 2 integration points."
   ]
  },
  {
   "cell_type": "code",
   "execution_count": null,
   "id": "7e41d078",
   "metadata": {
    "tags": [
     "thebe-init"
    ]
   },
   "outputs": [],
   "source": [
    "coordinates = [(0, 0), (4, 0), (6, 2), (0, 5)]\n",
    "nu = 0.2\n",
    "n_ip = 2\n",
    "\n",
    "Jacobians, xi_coords, eta_coords, x_coords, y_coords, K_element = numerical_integration(coordinates, nu, n_ip)"
   ]
  },
  {
   "cell_type": "markdown",
   "id": "351f4f00",
   "metadata": {},
   "source": [
    "Now we can plot the obtained results. Below you can see the results. Note that the boxes around the element are also plotted."
   ]
  },
  {
   "cell_type": "code",
   "execution_count": null,
   "id": "0dfff816",
   "metadata": {
    "tags": [
     "hide-input"
    ]
   },
   "outputs": [],
   "source": [
    "x_box, y_box = coords(coordinates)\n",
    "x_box = np.append(x_box, x_box[0])\n",
    "y_box = np.append(y_box, y_box[0])\n",
    "\n",
    "xi_box = np.array([-1, -1, 1, 1, -1])\n",
    "eta_box = np.array([-1, 1, 1, -1, -1])\n",
    "\n",
    "plt.figure(figsize=(16, 8))\n",
    "plt.subplot(1,2,1)\n",
    "plt.plot(x_box, y_box)\n",
    "plt.plot(x_coords, y_coords, marker='x', linestyle='')\n",
    "\n",
    "# Annotate each point with a label\n",
    "for i in range(len(x_coords)):\n",
    "    label = f'{i}: ({x_coords[i]:.2f}, {y_coords[i]:.2f})'\n",
    "    plt.text(x_coords[i], y_coords[i], label, fontsize=8, ha='left')\n",
    "    \n",
    "plt.title('Physical coordinates')\n",
    "plt.xlabel('x-coordinate')\n",
    "plt.ylabel('y-coordinate')\n",
    "\n",
    "plt.subplot(1,2,2)\n",
    "plt.plot(xi_box, eta_box)\n",
    "plt.plot(xi_coords, eta_coords, marker='x', linestyle='')\n",
    "\n",
    "# Annotate each point with a label\n",
    "for i in range(len(xi_coords)):\n",
    "    label = f'{i}: ({xi_coords[i]:.2f}, {eta_coords[i]:.2f})'\n",
    "    plt.text(xi_coords[i], eta_coords[i], label, fontsize=8, ha='left')\n",
    "    \n",
    "plt.title('Reference coordinates')\n",
    "plt.xlabel('\\u03BE-coordinate')\n",
    "plt.ylabel('\\u03B7-coordinate');"
   ]
  },
  {
   "cell_type": "markdown",
   "id": "987d9742",
   "metadata": {
    "vscode": {
     "languageId": "html"
    }
   },
   "source": [
    "<div style=\"background-color:#AABAB2; color: black; vertical-align: middle; padding:15px; margin: 10px; border-radius: 10px\">\n",
    "<p>\n",
    "<b>Task 1: Jacobian</b>   \n",
    "\n",
    "The Jacobian matrix below has been found in a previous exercise (see [Isoparametric mapping](../introduction/isoparametric_mapping.md)) as a function of $\\xi$ and $\\eta$. Print the Jacobian of the left bottom coordinate (index 0) and fill in the matrix below. Check if it matches.\n",
    "\n",
    "$$\n",
    "\\mathbf{J} = \\begin{bmatrix}\n",
    "\\frac12(5+\\eta) & -\\frac34(1+\\eta) \\\\\n",
    "\\frac12(1+\\xi) & \\frac14(7-3\\xi)\n",
    "\\end{bmatrix}\n",
    "$$\n",
    "\n",
    "</p>\n",
    "</div>"
   ]
  },
  {
   "cell_type": "code",
   "execution_count": null,
   "id": "33b87821",
   "metadata": {},
   "outputs": [],
   "source": [
    "# YOUR_CODE_HERE"
   ]
  },
  {
   "cell_type": "markdown",
   "id": "4e3286a3",
   "metadata": {},
   "source": [
    "```{admonition} Solution\n",
    ":class: tip, dropdown\n",
    "The following code is an example how to do so:\n",
    "\n",
    "    print(f'The function will give the following Jacobian:')\n",
    "    print(Jacobians[0])\n",
    "\n",
    "    xi = -0.58\n",
    "    eta = -0.58\n",
    "    \n",
    "    print(f'The bottom left point ({xi}, {eta}) will give the following Jacobian:')\n",
    "    J = np.array([[1/2*(5+eta), -3/4*(1+eta)],\n",
    "        [1/2*(1+xi), 1/4*(7-xi)]])\n",
    "    print(J)\n",
    "```"
   ]
  },
  {
   "cell_type": "markdown",
   "id": "8a2d513d",
   "metadata": {},
   "source": [
    "<div style=\"background-color:#AABAB2; color: black; vertical-align: middle; padding:15px; margin: 10px; border-radius: 10px\">\n",
    "<p>\n",
    "<b>Task 2: Weights for numerical integration</b>   \n",
    "\n",
    "For integration in 2D on a reference element, the weights at which the numerical integration has been performed should sum up to a certain value. For a 1D reference element, the sum of weights is equal to 2. What number do you expect for 2D? Can you reason why? First use 3 and then 8 integration points (n_ip). Does this matter for the sum of the weights? Print the sum of the weights for both cases and come up with a reasonable explanation. Rewatch the YouTube video on numerical integration if you have to.\n",
    "</p>\n",
    "</div>"
   ]
  },
  {
   "cell_type": "code",
   "execution_count": null,
   "id": "978db8ed",
   "metadata": {},
   "outputs": [],
   "source": [
    "# YOUR_CODE_HERE"
   ]
  },
  {
   "cell_type": "markdown",
   "id": "2396af09",
   "metadata": {},
   "source": [
    "```{admonition} Solution\n",
    ":class: tip, dropdown\n",
    "For 2D the weights should sum up to 4. This can be explained by the integral below, that should equal the area of the reference element (which is 2x2, as both $\\xi$ and $\\eta$ are in [-1, 1]) Note that the number of integration points does not matter for the individual weights.\n",
    "\n",
    "$$\n",
    "\\sum_{i=1}^{n_{ip}} w_i = \\int_{\\Omega^e} 1\\,d\\Omega = A^e\n",
    "$$\n",
    "\n",
    "The following lines of code will show this:\n",
    "\n",
    "    n_ip = 3\n",
    "    x, w = np.polynomial.legendre.leggauss(n_ip)\n",
    "    weights = (w*w[:,None]).ravel()\n",
    "    print(f'Sum weights = {np.sum(weights):.3f}')\n",
    "```"
   ]
  },
  {
   "cell_type": "markdown",
   "id": "612a44ec",
   "metadata": {},
   "source": [
    "<div style=\"background-color:#AABAB2; color: black; vertical-align: middle; padding:15px; margin: 10px; border-radius: 10px\">\n",
    "<p>\n",
    "<b>Task 3: Differences Jacobian for rectangular and distorted elements</b>   \n",
    "\n",
    "Take a rectangular elements, for example:\n",
    "\n",
    "$\\mathbf{x}_1 = (0,0), \\quad\\mathbf{x}_2=(4,0), \\quad\\mathbf{x}_3 = (4,4), \\quad\\mathbf{x}_4 = (0,4)$\n",
    "\n",
    "Now take a distorted element, for example: \n",
    "\n",
    "$\\mathbf{x}_1 = (0,0), \\quad\\mathbf{x}_2=(6,0), \\quad\\mathbf{x}_3 = (20,4), \\quad\\mathbf{x}_4 = (10,4)$\n",
    "\n",
    "If you increase the number of integration points, the Jacobian will not change for rectangular elements. However, for distorted elements, the Jacobian will change. Can you explain why this is the case? Use the `numerical_integration` \n",
    "function multiple times to output the results for both cases, in which you vary the number of integration points. Hint: think of the mapping between $(\\xi, \\eta)$ and $(x, y)$ and its implications for the Jacobian, which is a set of derivatives.\n",
    "</p>\n",
    "</div>"
   ]
  },
  {
   "cell_type": "code",
   "execution_count": null,
   "id": "f7c5c860",
   "metadata": {},
   "outputs": [],
   "source": [
    "#YOUR_CODE_HERE"
   ]
  },
  {
   "cell_type": "markdown",
   "id": "95089cbe",
   "metadata": {},
   "source": [
    "```{admonition} Solution\n",
    ":class: tip, dropdown\n",
    "You can use the code below in order to look at the results and see that the above statement is true. For rectangular elements, the mapping between the local coordinates (natural coordinates) and global coordinates is linear. This means that the Jacobian matrix, which contains the partial derivatives of the global coordinates with respect to the local coordinates, is constant across the element. For distorted elements, the mapping between the local and global coordinates is generally non-linear. The shape functions used in isoparametric elements describe a more complex relationship, which can vary within the element.\n",
    "\n",
    "If  you increase the number of integration points in an element, the location of the integration points will change. Since for rectangular elements the Jacobian is constant and irrespective of the integration point location across the element, it will not change. Since the mapping is non-linear, the Jacobian changes depending on the location within the element.\n",
    "\n",
    "    print('Rectangular element')\n",
    "    coordinates = [(0, 0), (4, 0), (4, 4), (0, 4)]\n",
    "    nu = 0.2\n",
    "    n_ip_list = np.array([1, 2, 3, 4])\n",
    "\n",
    "    for i in range(len(n_ip_list)):\n",
    "        n_ip = n_ip_list[i]\n",
    "        Jacobians, xi_coords, eta_coords, x_coords, y_coords, K_element = numerical_integration(coordinates, nu, n_ip)\n",
    "        print(n_ip)\n",
    "        print(Jacobians[0])\n",
    "\n",
    "    print('Distorted element')\n",
    "    coordinates_dist = [(0, 0), (6, 0), (20, 4), (10, 4)]\n",
    "\n",
    "    for i in range(len(n_ip_list)):\n",
    "        n_ip = n_ip_list[i]\n",
    "        Jacobians, xi_coords, eta_coords, x_coords, y_coords, K_element = numerical_integration(coordinates_dist, nu, n_ip)\n",
    "        print(n_ip)\n",
    "        print(Jacobians[0])\n",
    "\n",
    "```"
   ]
  },
  {
   "cell_type": "markdown",
   "id": "08396e1e",
   "metadata": {},
   "source": [
    "<div style=\"background-color:#AABAB2; color: black; vertical-align: middle; padding:15px; margin: 10px; border-radius: 10px\">\n",
    "<p>\n",
    "<b>Task 4: Build the numerical integration function yourself</b>   \n",
    "\n",
    "To get you started, some code has already been written. Good luck!\n",
    "</p>\n",
    "</div>"
   ]
  },
  {
   "cell_type": "code",
   "execution_count": null,
   "id": "8baa8c30",
   "metadata": {},
   "outputs": [],
   "source": [
    "def numerical_integration(coordinates, nu, n_ip):\n",
    "    \n",
    "    x, w = np.polynomial.legendre.leggauss(n_ip)\n",
    "\n",
    "    gauss_pts = np.array(np.meshgrid(x,x,indexing='ij')).reshape(2,-1).T\n",
    "    weights = (w*w[:,None]).ravel()\n",
    "    \n",
    "    # --------------\n",
    "    # YOUR_CODE_HERE\n",
    "    # --------------\n",
    "\n",
    "    for i in range(len(gauss_pts)):\n",
    "        # --------------\n",
    "        # YOUR_CODE_HERE\n",
    "        # --------------\n",
    "\n",
    "    for i in range(len(weights)):\n",
    "        # --------------\n",
    "        # YOUR_CODE_HERE\n",
    "        # --------------\n",
    "\n",
    "    return Jacobians, xi_coords, eta_coords, x_coords, y_coords, K_element"
   ]
  }
 ],
 "metadata": {
  "kernelspec": {
   "display_name": "Python 3 (ipykernel)",
   "language": "python",
   "name": "python3"
  },
  "language_info": {
   "codemirror_mode": {
    "name": "ipython",
    "version": 3
   },
   "file_extension": ".py",
   "mimetype": "text/x-python",
   "name": "python",
   "nbconvert_exporter": "python",
   "pygments_lexer": "ipython3",
   "version": "3.10.12"
  },
  "latex_envs": {
   "LaTeX_envs_menu_present": true,
   "autoclose": false,
   "autocomplete": true,
   "bibliofile": "biblio.bib",
   "cite_by": "apalike",
   "current_citInitial": 1,
   "eqLabelWithNumbers": true,
   "eqNumInitial": 1,
   "hotkeys": {
    "equation": "Ctrl-E",
    "itemize": "Ctrl-I"
   },
   "labels_anchors": false,
   "latex_user_defs": false,
   "report_style_numbering": false,
   "user_envs_cfg": false
  },
  "widgets": {
   "application/vnd.jupyter.widget-state+json": {
    "state": {},
    "version_major": 2,
    "version_minor": 0
   }
  }
 },
 "nbformat": 4,
 "nbformat_minor": 5
}
