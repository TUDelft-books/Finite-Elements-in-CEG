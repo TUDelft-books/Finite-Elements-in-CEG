{
 "cells": [
  {
   "cell_type": "markdown",
   "id": "e9d1ff8c",
   "metadata": {},
   "source": [
    "# Rod with elastic support\n"
   ]
  },
  {
   "cell_type": "markdown",
   "id": "d7378715-48ab-461f-ab06-2ad980e7f987",
   "metadata": {},
   "source": [
    "In this chapter, the finite element derivation and implementation of rod extension (the 1D Poisson equation) is presented. A simple single purpose python implementation has also been given on the [Finite element implementation](../matrix.ipynb) page. In this exercise, you are asked to do the same for a slightly different problem.\n",
    "\n",
    "## A modification to the PDE: continuous elastic support\n",
    "\n",
    "<p align=\"center\">\n",
    "<img src=\"https://raw.githubusercontent.com/fmeer/public-files/main/barDefinition-2.png\" width=\"400\"/>\n",
    "</p>\n",
    "\n",
    "For this exercise we still consider a 1D rod. However, now the rod is elastically supported. An example of this would be a foundation pile in soil. \n",
    "\n",
    "The problem of an elastically supported rod can be described with the following differential equation:\n",
    "\n",
    "$$ -EA \\frac{\\partial^2 u}{\\partial x^2} + ku = f $$\n",
    "\n",
    "with:\n",
    "\n",
    "$$\n",
    "u = 0, \\quad \\text{at} \\quad x = 0 \\\\\n",
    "EA\\frac{\\partial u}{{\\partial x}} = F, \\quad \\text{at} \\quad x = L\n",
    "$$\n",
    "\n",
    "This differential equation is the inhomogeneous Helmholtz equation, which also has applications in dynamics and electromagnetics. The additional term with respect to the case without elastic support is the second term on the left hand side: $ku$. \n",
    "\n",
    "The finite element discretized version of this PDE can be obtained following the same steps as shown for the unsupported rod in the book. Note that there are no derivatives in the $ku$ which means that integration by parts does not need to be applied on this term. Using Neumann boundary condition (i.e. an applied load) at $x=L$ and a constant distributed load $f(x)=q$, the following expression is found for the discretized form:\n",
    "\n",
    "$$\\left[\\int \\mathbf{B}^T EA \\mathbf{B} + \\mathbf{N}^T k \\mathbf{N} \\,dx\\right]\\mathbf{u} = \\int \\mathbf{N}^T q \\,d x + \\mathbf{N}^T F \\Bigg|_{x=L} $$"
   ]
  },
  {
   "cell_type": "markdown",
   "id": "nonprofit-solution",
   "metadata": {
    "tags": []
   },
   "source": [
    "<div style=\"background-color:#AABAB2; color: black; vertical-align: middle; padding:15px; margin: 10px; border-radius: 10px\">\n",
    "<p>\n",
    "<b>Task 1: Derive the discrete form</b>   \n",
    "\n",
    "Derive the discrete form of the PDE given above. You can follow the same steps as in the book for the term with $EA$ and the right hand side, but now carrying along the additional term $ku$ from the PDE. Show that this term leads to the $\\int\\mathbf{N}^Tk\\mathbf{N}\\,dx$ term in the $\\mathbf{K}$-matrix. \n",
    "</p>\n",
    "</div>"
   ]
  },
  {
   "cell_type": "markdown",
   "id": "6240afb2-28a3-49c4-b3d2-fb53ea110b99",
   "metadata": {},
   "source": [
    "## Modification to the FE implementation\n",
    "\n",
    "The only change with respect to the procedure as implemented in the book is the formulation of the $\\mathbf{K}$-matrix, which now consists of two terms:\n",
    "\n",
    "$$ \\mathbf{K} = \\int \\mathbf{B}^TEA\\mathbf{B} + \\mathbf{N}^Tk\\mathbf{N}\\,dx $$\n",
    "\n",
    "To calculate the integral exactly we must use two integration points.\n",
    "\n",
    "$$ \\mathbf{K_e} = \\sum_{i=1}^{n_\\mathrm{ip}} \\left(\\mathbf{B}^T(x_i)EA\\mathbf{B}(x_i) + \\mathbf{N}^T(x_i) k\\mathbf{N}(x_i) \\right) w_i$$"
   ]
  },
  {
   "cell_type": "markdown",
   "id": "f247cc75-caa2-47b7-8fe8-80f8521f7d8c",
   "metadata": {},
   "source": [
    "<div style=\"background-color:#AABAB2; color: black; vertical-align: middle; padding:15px; margin: 10px; border-radius: 10px\">\n",
    "<p>\n",
    "<b>Task 2: Code implementation</b>   \n",
    "\n",
    "The only change needed with respect to the implementation of the book is in the calculation of the element stiffness matrix. Copy the code from the [finite element implementation](../matrix.ipynb) page and add the term related to the distributed support in the right position. \n",
    "    \n",
    "Use the following parameters: $L=3$ m, $EA=1000$ N, $F=10$ N, $q=0$ N/m (all values are the same as in the book, except for $q$). Additionally, use $k=1000$ N/m$^2$.\n",
    "\n",
    "Remarks:\n",
    "<ol>\n",
    "    <li>The function <code>evaluate_N</code> is already present in the code in the book</li>\n",
    "    <li>The <code>get_element_matrix</code> function already included a loop over two integration points</li>\n",
    "    <li>You need to define $k$ somewhere. To allow for varying $k$ as required below, it is convenient to make $k$ a second argument of the <code>simulate</code> function and pass it on to lower level functions from there (cf. how $EA$ is passed on)\n",
    "</ol>\n",
    "\n",
    "Check the influence of the distributed support on the solution:\n",
    "<ol>\n",
    "    <li>First use $q=0$ N/m and $k=1000$ N/mm$^2$</li>\n",
    "    <li>Then set $k$ to zero and compare the results</li>\n",
    "    <li>Does the influence of the supported spring on the solution make sense?</li>\n",
    "</p>\n",
    "\n",
    "</div>\n",
    "\n"
   ]
  },
  {
   "cell_type": "code",
   "execution_count": 1,
   "id": "retired-cartoon",
   "metadata": {},
   "outputs": [],
   "source": [
    "# YOUR_CODE_HERE"
   ]
  },
  {
   "cell_type": "markdown",
   "id": "20bcac74-1918-4c5e-bd17-148829c7ef8f",
   "metadata": {},
   "source": [
    "<div style=\"background-color:#AABAB2; color: black; vertical-align: middle; padding:15px; margin: 10px; border-radius: 10px\">\n",
    "<p>\n",
    "\n",
    "<b> Task 3: Investigate the influence of discretization on the quality of the solution </b>\n",
    "<ol>\n",
    "    <li>How many elements do you need to get a good solution?</li>\n",
    "    <li>How about when the stiffness of the distributed support is increased to $k=10^6$ N/m$^2$</li>\n",
    "</p>\n",
    "\n",
    "</div>"
   ]
  },
  {
   "cell_type": "code",
   "execution_count": 2,
   "id": "e35e64ac-5e72-4575-bbb1-371fa524a747",
   "metadata": {},
   "outputs": [],
   "source": [
    "# YOUR_CODE_HERE"
   ]
  },
  {
   "cell_type": "markdown",
   "id": "aad895cc",
   "metadata": {},
   "source": [
    "**End of notebook.**\n",
    "\n",
    "&copy; Copyright 2023 <a rel=\"MUDE Team\" href=\"https://studiegids.tudelft.nl/a101_displayCourse.do?course_id=65595\">MUDE Teaching Team</a> TU Delft. This work is licensed under a <a rel=\"license\" href=\"http://creativecommons.org/licenses/by-nc-sa/4.0/\">Creative Commons Attribution-NonCommercial-ShareAlike 4.0 International License</a>."
   ]
  },
  {
   "cell_type": "code",
   "execution_count": null,
   "id": "b6c1455b-5d97-48b2-97eb-9116568a43e8",
   "metadata": {},
   "outputs": [],
   "source": []
  }
 ],
 "metadata": {
  "kernelspec": {
   "display_name": "Python 3 (ipykernel)",
   "language": "python",
   "name": "python3"
  },
  "language_info": {
   "codemirror_mode": {
    "name": "ipython",
    "version": 3
   },
   "file_extension": ".py",
   "mimetype": "text/x-python",
   "name": "python",
   "nbconvert_exporter": "python",
   "pygments_lexer": "ipython3",
   "version": "3.10.12"
  },
  "latex_envs": {
   "LaTeX_envs_menu_present": true,
   "autoclose": false,
   "autocomplete": true,
   "bibliofile": "biblio.bib",
   "cite_by": "apalike",
   "current_citInitial": 1,
   "eqLabelWithNumbers": true,
   "eqNumInitial": 1,
   "hotkeys": {
    "equation": "Ctrl-E",
    "itemize": "Ctrl-I"
   },
   "labels_anchors": false,
   "latex_user_defs": false,
   "report_style_numbering": false,
   "user_envs_cfg": false
  },
  "widgets": {
   "application/vnd.jupyter.widget-state+json": {
    "state": {},
    "version_major": 2,
    "version_minor": 0
   }
  }
 },
 "nbformat": 4,
 "nbformat_minor": 5
}
