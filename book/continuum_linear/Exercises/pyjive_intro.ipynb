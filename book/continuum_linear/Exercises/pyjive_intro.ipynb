{
 "cells": [
  {
   "cell_type": "markdown",
   "id": "8245e395-352e-4ec1-ae07-dabea68abce5",
   "metadata": {
    "tags": []
   },
   "source": [
    "# Workshop: Introduction to pyJive"
   ]
  },
  {
   "cell_type": "markdown",
   "id": "b2e1120a-28de-41f1-ab60-9edde0598001",
   "metadata": {},
   "source": [
    "## Preliminaries\n",
    "\n",
    "To start working, we add the main pyJive folder to `path` and make some imports. We use `autoreload` to ensure changes made to the code take effect without restarting the kernel."
   ]
  },
  {
   "cell_type": "code",
   "execution_count": null,
   "id": "5c2c0eb0-92a2-45aa-890b-9cc0420de8ef",
   "metadata": {},
   "outputs": [],
   "source": [
    "%load_ext autoreload\n",
    "%autoreload 2\n",
    "\n",
    "import matplotlib.pyplot as plt\n",
    "\n",
    "import os\n",
    "import sys\n",
    "\n",
    "pyjivepath = '../../../pyjive/'\n",
    "sys.path.append(pyjivepath)\n",
    "\n",
    "if not os.path.isfile(pyjivepath + 'utils/proputils.py'):\n",
    "    print('\\n\\n**pyjive cannot be found, adapt \"pyjivepath\" above or move notebook to appropriate folder**\\n\\n')\n",
    "    raise Exception('pyjive not found')\n",
    "\n",
    "from utils import proputils as pu\n",
    "import main\n",
    "from names import GlobNames as gn"
   ]
  },
  {
   "cell_type": "markdown",
   "id": "d494092f-e299-4b81-a067-bb4b1c194f95",
   "metadata": {},
   "source": [
    "Additionally, the necessary input files are are downloaded to the present path (if they are not there yet). "
   ]
  },
  {
   "cell_type": "code",
   "execution_count": null,
   "id": "685943d6-f726-46ae-a015-5bc7e6818bd3",
   "metadata": {},
   "outputs": [],
   "source": [
    "import contextlib\n",
    "from urllib.request import urlretrieve\n",
    "\n",
    "def findfile(fname):\n",
    "    url = \"https://gitlab.tudelft.nl/cm/public/drive/-/raw/main/pyjiveintro/\" + fname + \"?inline=false\"\n",
    "    if not os.path.isfile(fname):\n",
    "        print(f\"Downloading {fname}...\")\n",
    "        urlretrieve(url, fname)\n",
    "\n",
    "findfile(\"bar.mesh\")\n",
    "findfile(\"bar.pro\")\n",
    "findfile(\"solid.msh\")\n",
    "findfile(\"solid.pro\")"
   ]
  },
  {
   "cell_type": "markdown",
   "id": "0fb3d201-207f-4837-9e6d-21572ac0df07",
   "metadata": {
    "tags": []
   },
   "source": [
    "## Case 1: a simple bar model (1D)"
   ]
  },
  {
   "cell_type": "markdown",
   "id": "42ef89b1-43fe-4dce-a879-ada50070b5ec",
   "metadata": {
    "tags": []
   },
   "source": [
    "### Run the model as given\n",
    "\n",
    "To start off, we run the following simple rod (or 'bar') problem:\n",
    "\n",
    "<center>\n",
    "  <figure>\n",
    "    <IMG SRC=\"https://raw.githubusercontent.com/ibcmrocha/public/main/3elmbar.png\" WIDTH=300>\n",
    "  </figure>\n",
    "</center>\n",
    "    \n",
    "We have a `bar.pro` file ready that describes this model. Take a look at it and try to see how things are being set up.\n",
    "    \n",
    "We now use pyJive to run it as is:"
   ]
  },
  {
   "cell_type": "code",
   "execution_count": null,
   "id": "72c01e54-2e0b-4774-8027-c10fe3c7b73f",
   "metadata": {},
   "outputs": [],
   "source": [
    "# read input file and store information in dict called 'props'\n",
    "props = pu.parse_file('bar.pro')\n",
    "\n",
    "# run the program with 'props' as input\n",
    "globdat = main.jive(props)"
   ]
  },
  {
   "cell_type": "markdown",
   "id": "123949a9-e268-427f-abd2-8f8a181fa850",
   "metadata": {},
   "source": [
    "We can then use `globdat` to interact with model results. For instance, we can look at the nodal displacement values:"
   ]
  },
  {
   "cell_type": "code",
   "execution_count": null,
   "id": "e6cc8f2b-2894-47af-b5d0-4e7fd5a48981",
   "metadata": {},
   "outputs": [],
   "source": [
    "print(globdat[gn.STATE0])"
   ]
  },
  {
   "cell_type": "markdown",
   "id": "415ae8ab-da8f-45fc-a93d-4742c0d1a972",
   "metadata": {},
   "source": [
    "<div style=\"background-color:#AABAB2; color: black; vertical-align: middle; padding:15px; margin: 10px; border-radius: 10px\">\n",
    "<p>\n",
    "<b>Task 1.1: Run code block and inspect results</b>   \n",
    "    \n",
    "Do the obtained values make sense? Check `bar.pro` and `bar.mesh` to see which values are used for the $EA$ of the bar and the length of the domain and derive a solution for this problem by hand.\n",
    "</p>\n",
    "</div>"
   ]
  },
  {
   "cell_type": "markdown",
   "id": "ce63a5f4-5e25-4650-8aa5-aae246d59b60",
   "metadata": {},
   "source": [
    "### Change the model from the notebook\n",
    "\n",
    "We can look at what `parse_file` read from `bar.pro`, make modifications and run the model again:"
   ]
  },
  {
   "cell_type": "code",
   "execution_count": null,
   "id": "af3a61b1-222e-4065-a44d-663b25236081",
   "metadata": {},
   "outputs": [],
   "source": [
    "# overwrite one of the values in props\n",
    "props['model']['bar']['EA'] = 1000\n",
    "\n",
    "# run the program with the updated input\n",
    "globdat = main.jive(props)\n",
    "\n",
    "# print the result\n",
    "print(globdat[gn.STATE0])"
   ]
  },
  {
   "cell_type": "markdown",
   "id": "fedf0cc5-8784-4576-95a0-b17efd9064b2",
   "metadata": {},
   "source": [
    "<div style=\"background-color:#AABAB2; color: black; vertical-align: middle; padding:15px; margin: 10px; border-radius: 10px\">\n",
    "<p>\n",
    "<b>Task 1.2: Modify/overwrite values and inspect results</b>   \n",
    "  \n",
    "In the code block above, one of the inputs is overwritten and the problem is solved again. \n",
    "\n",
    "- Do the new results make sense? \n",
    "    \n",
    "Use the code block below to try it for yourself:\n",
    "\n",
    "- Change the Dirichlet boundary condition on the left from $0$ to $1$\n",
    "- Change the Neumann boundary condition on the right from $1$ to $10$\n",
    "    \n",
    "Can you achieve the same by changing the .pro file? \n",
    "</p>\n",
    "</div>\n"
   ]
  },
  {
   "cell_type": "markdown",
   "id": "71305547-aa06-4b8e-8f16-afe16096e954",
   "metadata": {},
   "source": [
    "Rather than inspecting the complete solution vector, we can make use of `DofSpace` to directly look at the displacement at a certain node, e.g. at the right-end node:"
   ]
  },
  {
   "cell_type": "code",
   "execution_count": null,
   "id": "60e20a5a-cd44-457a-98e2-fd9cb39bf3f8",
   "metadata": {},
   "outputs": [],
   "source": [
    "# get the index of the first node in nodegroup 'right' (there is only one node in the nodegroup in this case)\n",
    "node = globdat[gn.NGROUPS]['right'][0]\n",
    "\n",
    "# get the degree-of-freedom index of the displacement in x-direction at that node\n",
    "dof = globdat[gn.DOFSPACE].get_dof(node,'dx')\n",
    "\n",
    "# print the solution for the selected degree of freedom\n",
    "print('Displacement of node',node,'with DOF index',dof,':',globdat[gn.STATE0][dof])"
   ]
  },
  {
   "cell_type": "markdown",
   "id": "68516520-376d-4d0a-a4b7-d483148934f6",
   "metadata": {},
   "source": [
    "### Inspect the flow of the program\n",
    "\n",
    "The idea of working with pyJive in this course is not that you understand every detail of the code, but that you can get an overview of the flow of a finite element simulation and that you can see how the concepts that are discussed in class are translated to code. In different workshops we will point out different parts of the code and ask you to inspect them. \n",
    "\n",
    "The main model in the case analyzed above is the `barmodel`. \n",
    "\n",
    "<div style=\"background-color:#AABAB2; color: black; vertical-align: middle; padding:15px; margin: 10px; border-radius: 10px\">\n",
    "<p>\n",
    "<b>Task 1.3: Modify/overwrite values and inspect results</b>   \n",
    "\n",
    "Find the file `barmodel.py` and the function `takeAction`. Use print statements to find out in which order the different actions are called. Answer the following questions\n",
    "- Which action(s) are implemented in the `barmodel`? \n",
    "- Which action(s) are ignored?\n",
    "- Which other models do you expect to act on the actions that `barmodel` ignores?\n",
    "\n",
    "Look at the `get_matrix` function. You should recognize the code in this function as implementing the finite element stiffness matrix assembly for the bar problem:\n",
    "- How many integration points are used for numerical integration of the stiffness matrix? Use print statements to confirm that the code follows the instructions from the input file.\n",
    "\n",
    "</p>\n",
    "</div>\n"
   ]
  },
  {
   "cell_type": "code",
   "execution_count": null,
   "id": "c3afbe6f-04d5-4e31-b427-f95caa32d2f0",
   "metadata": {},
   "outputs": [],
   "source": [
    "# read input file and run program\n",
    "\n",
    "props = pu.parse_file('bar.pro')\n",
    "globdat = main.jive(props)"
   ]
  },
  {
   "cell_type": "markdown",
   "id": "db18a13f-3152-471a-b3c3-5b4f6f66119b",
   "metadata": {
    "tags": []
   },
   "source": [
    "## Case 2: simply supported beam (2D)"
   ]
  },
  {
   "cell_type": "markdown",
   "id": "15d7c763-f796-4cfa-a838-57dea62afeb5",
   "metadata": {},
   "source": [
    "### Problem definition\n",
    "\n",
    "In this notebook we model a beam with two-dimensional elastostatics. Consider the following beam:\n",
    "\n",
    "<center><img src=\"https://raw.githubusercontent.com/fmeer/public-files/main/5123/beam.png\" alt=\"beam\" width=\"500\"/></center>\n",
    "\n",
    "We would like to model this with linear triangles using pyJive. You will start from the provided `beam.pro` property file, which uses the provided `SolidModel`. We first run the model with a point load at midspan and look at the deformations.\n",
    "\n"
   ]
  },
  {
   "cell_type": "markdown",
   "id": "bb9ebdb1-fbd3-4f8e-bff5-6b55736ccbd1",
   "metadata": {
    "tags": []
   },
   "source": [
    "### Run the model with a point load\n",
    "\n",
    "Use the provided `solid.pro` and `solid.msh` to run a 2D problem. Note that `solid.pro` also specifies a `ViewModule` to be created which will visualize the displacement field."
   ]
  },
  {
   "cell_type": "code",
   "execution_count": null,
   "id": "b2e21f09-2c3a-4885-a20e-e8d2a7c0046c",
   "metadata": {},
   "outputs": [],
   "source": [
    "# read input file and run program\n",
    "\n",
    "props = pu.parse_file('solid.pro')\n",
    "globdat = main.jive(props)"
   ]
  },
  {
   "cell_type": "markdown",
   "id": "efd6d40c-19ac-4229-9dbf-f8a3935815b9",
   "metadata": {
    "tags": []
   },
   "source": [
    "<div style=\"background-color:#AABAB2; color: black; vertical-align: middle; padding:15px; margin: 10px; border-radius: 10px\">\n",
    "<p>\n",
    "<b>Task 2.1: Modify/overwrite inputs and inspect results</b>   \n",
    "\n",
    "- Run the model as is and assert that there are no deformations\n",
    "- Add a NeumannModel by extending the input in `solid.pro` or directly in `props` in order to add a point load to the model\n",
    "- Compare the maximum displacement in the beam with the analytical solution $\\Delta=\\frac{FL^3}{48EI}$. Can you think of an explanation for the difference you see?\n",
    "\n",
    "\n",
    "**TIP**: For checking the maximum displacement you can either look at the field plotted by the viewmodule or get the value directly from `globdat[gn.STATE0]` using `globdat[gn.DOFSPACE]`.\n",
    "</p>\n",
    "</div>"
   ]
  },
  {
   "cell_type": "markdown",
   "id": "1d4cbd42-6333-4536-87d5-74d4230bb457",
   "metadata": {},
   "source": [
    "### Run the model with a body load\n",
    "\n",
    "Now we **remove the point load**, and the goal becomes to run the model with a body force $\\mathbf{b} = \\rho\\mathbf{g}=[0,-1]^\\mathrm{T}$. The case to be solves is visualized as:\n",
    "\n",
    "<center><img src=\"https://raw.githubusercontent.com/fmeer/public-files/main/5123/beam-body-force.png\" alt=\"beam\" width=\"500\"/></center>\n",
    "\n"
   ]
  },
  {
   "cell_type": "markdown",
   "id": "cfb95efa-8639-423e-bcb0-960b703bda5e",
   "metadata": {},
   "source": [
    "<div style=\"background-color:#AABAB2; color: black; vertical-align: middle; padding:15px; margin: 10px; border-radius: 10px\">\n",
    "<p>\n",
    "<b>Task 2.2: Run the model with a body load</b>   \n",
    "\n",
    "We start from the properties stored in `beam.pro`. If you added the point load there, you will have to set it to zero again. We need to set up additional properties. The material already has a $\\rho$ parameter, yet the previous analysis did not account for self weight. This is because `solidmodel.py` has a switch for evaluating body loads that was not set. \n",
    "    \n",
    "- Look up in `solidmodel.py` how to switch on the gravity. \n",
    "    \n",
    "- Now compare the **midpoint deflection** with the analytical solution for a beam with distributed load $\\Delta=\\frac{5qL^4}{384EI}$ \n",
    "\n",
    "</p>\n",
    "</div>\n",
    "    "
   ]
  },
  {
   "cell_type": "code",
   "execution_count": null,
   "id": "94577ec9-4381-43e3-b38e-18012a7c3a98",
   "metadata": {
    "tags": []
   },
   "outputs": [],
   "source": [
    "# read input file and run program\n",
    "\n",
    "props = pu.parse_file('solid.pro')\n",
    "globdat = main.jive(props)"
   ]
  },
  {
   "cell_type": "code",
   "execution_count": null,
   "id": "cacab6ec-0f04-43d7-b7c7-199e7bae38e5",
   "metadata": {},
   "outputs": [],
   "source": []
  }
 ],
 "metadata": {
  "kernelspec": {
   "display_name": "Python 3 (ipykernel)",
   "language": "python",
   "name": "python3"
  },
  "language_info": {
   "codemirror_mode": {
    "name": "ipython",
    "version": 3
   },
   "file_extension": ".py",
   "mimetype": "text/x-python",
   "name": "python",
   "nbconvert_exporter": "python",
   "pygments_lexer": "ipython3",
   "version": "3.10.12"
  }
 },
 "nbformat": 4,
 "nbformat_minor": 5
}
